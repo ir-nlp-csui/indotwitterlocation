{
 "cells": [
  {
   "cell_type": "markdown",
   "id": "171bdaac",
   "metadata": {},
   "source": [
    "## Library import"
   ]
  },
  {
   "cell_type": "code",
   "execution_count": 2,
   "id": "3f8a1897",
   "metadata": {
    "ExecuteTime": {
     "end_time": "2022-03-13T14:07:18.505830Z",
     "start_time": "2022-03-13T14:07:18.502801Z"
    }
   },
   "outputs": [],
   "source": [
    "import os\n",
    "import pandas as pd \n",
    "import numpy as np\n",
    "import time \n",
    "import matplotlib.pyplot as plt\n",
    "\n",
    "import keras\n",
    "from keras.preprocessing.text import Tokenizer\n",
    "from keras.preprocessing.sequence import pad_sequences"
   ]
  },
  {
   "cell_type": "markdown",
   "id": "19b052c3",
   "metadata": {},
   "source": [
    "## Prepare dataset"
   ]
  },
  {
   "cell_type": "code",
   "execution_count": 3,
   "id": "ad3e24ee",
   "metadata": {
    "ExecuteTime": {
     "end_time": "2022-03-13T14:07:43.846797Z",
     "start_time": "2022-03-13T14:07:43.844443Z"
    }
   },
   "outputs": [],
   "source": [
    "userPATH ='revision_dataset/'\n",
    "tweetPATH ='revision_dataset/'"
   ]
  },
  {
   "cell_type": "code",
   "execution_count": 4,
   "id": "5a3cc86c",
   "metadata": {
    "ExecuteTime": {
     "end_time": "2022-03-13T14:07:44.366640Z",
     "start_time": "2022-03-13T14:07:44.356204Z"
    }
   },
   "outputs": [],
   "source": [
    "userlvltrain = pd.read_csv(userPATH+'/userlvltrain.csv')\n",
    "userlvltest = pd.read_csv(userPATH+'/userlvltest.csv')\n",
    "userlvlval = pd.read_csv(userPATH+'/userlvlval.csv')"
   ]
  },
  {
   "cell_type": "code",
   "execution_count": 5,
   "id": "13a6b40b",
   "metadata": {
    "ExecuteTime": {
     "end_time": "2022-03-13T14:07:45.397138Z",
     "start_time": "2022-03-13T14:07:44.924083Z"
    }
   },
   "outputs": [],
   "source": [
    "train_df = pd.read_csv(tweetPATH+'/train_df.csv')\n",
    "test_df = pd.read_csv(tweetPATH+'/test_df.csv')\n",
    "val_df = pd.read_csv(tweetPATH+'/val_df.csv')"
   ]
  },
  {
   "cell_type": "code",
   "execution_count": 6,
   "id": "5f1b75c9",
   "metadata": {
    "ExecuteTime": {
     "end_time": "2022-03-13T14:07:57.458108Z",
     "start_time": "2022-03-13T14:07:57.440408Z"
    }
   },
   "outputs": [],
   "source": [
    "tweets_xtrain_df = pd.DataFrame()\n",
    "tweets_xtest_df = pd.DataFrame()\n",
    "tweets_xval_df = pd.DataFrame()\n",
    "\n",
    "tweets_xtrain_df['text'] = train_df.text.copy()\n",
    "tweets_xtrain_df['label'] = train_df.Lvalue.copy()\n",
    "tweets_xval_df['text'] = val_df.text.copy()\n",
    "tweets_xval_df['label'] = val_df.Lvalue.copy()\n",
    "tweets_xtest_df['text'] = test_df.text.copy()\n",
    "tweets_xtest_df['label'] = test_df.Lvalue.copy()"
   ]
  },
  {
   "cell_type": "code",
   "execution_count": 7,
   "id": "0536661b",
   "metadata": {
    "ExecuteTime": {
     "end_time": "2022-03-13T14:08:16.346850Z",
     "start_time": "2022-03-13T14:08:14.294541Z"
    }
   },
   "outputs": [
    {
     "name": "stdout",
     "output_type": "stream",
     "text": [
      "94654 vocab size\n",
      "282 max len\n",
      "400 embedding dim\n",
      "128 batch size\n"
     ]
    }
   ],
   "source": [
    "tokenizer = Tokenizer(oov_token=True)\n",
    "tokenizer.fit_on_texts(tweets_xtrain_df.text)\n",
    "word_index = tokenizer.word_index\n",
    "\n",
    "# The maximum number of words to be used. \n",
    "vocab_size = len(word_index) + 1 \n",
    "# Max number of words in each tweets.  \n",
    "maxlen = tweets_xtrain_df.text.str.len().max() \n",
    "# This is fixed.\n",
    "embedding_size = 400\n",
    "batch_size = 128\n",
    "\n",
    "print(vocab_size, \"vocab size\")\n",
    "print(maxlen, \"max len\")\n",
    "print(embedding_size, \"embedding dim\")\n",
    "print(batch_size, \"batch size\")"
   ]
  },
  {
   "cell_type": "code",
   "execution_count": 8,
   "id": "32763c5b",
   "metadata": {
    "ExecuteTime": {
     "end_time": "2022-03-13T14:08:23.710887Z",
     "start_time": "2022-03-13T14:08:23.360219Z"
    }
   },
   "outputs": [
    {
     "data": {
      "text/plain": [
       "array(['bali dan nusa tenggara', 'jabodetabek', 'jawa barat dan banten',\n",
       "       'jawa tengah dan yogyakarta', 'jawa timur', 'kalimantan',\n",
       "       'maluku dan papua', 'sulawesi', 'sumatera'], dtype=object)"
      ]
     },
     "execution_count": 8,
     "metadata": {},
     "output_type": "execute_result"
    }
   ],
   "source": [
    "Y_train = tweets_xtrain_df.label\n",
    "Y_test = tweets_xtest_df.label\n",
    "Y_valid = tweets_xval_df.label\n",
    "\n",
    "from sklearn import preprocessing\n",
    "le = preprocessing.LabelEncoder()\n",
    "le.fit(userlvltrain.userLocation)\n",
    "label_names = le.classes_\n",
    "label_names"
   ]
  },
  {
   "cell_type": "code",
   "execution_count": 9,
   "id": "c484aa70",
   "metadata": {
    "ExecuteTime": {
     "end_time": "2022-03-13T14:08:40.245078Z",
     "start_time": "2022-03-13T14:08:38.091981Z"
    }
   },
   "outputs": [],
   "source": [
    "# tokenizer and padding\n",
    "X_train = tokenizer.texts_to_sequences(tweets_xtrain_df.text.values)\n",
    "X_train = pad_sequences(X_train, maxlen=maxlen)\n",
    "X_test = tokenizer.texts_to_sequences(tweets_xtest_df.text.values) \n",
    "X_test = pad_sequences(X_test, maxlen=maxlen)\n",
    "X_valid = tokenizer.texts_to_sequences(tweets_xval_df.text.values) \n",
    "X_valid = pad_sequences(X_valid, maxlen=maxlen)"
   ]
  },
  {
   "cell_type": "markdown",
   "id": "06aa85f4",
   "metadata": {},
   "source": [
    "## Word2Vec"
   ]
  },
  {
   "cell_type": "code",
   "execution_count": 10,
   "id": "e94cb2a0",
   "metadata": {
    "ExecuteTime": {
     "end_time": "2022-03-13T14:09:27.212716Z",
     "start_time": "2022-03-13T14:09:01.685477Z"
    }
   },
   "outputs": [],
   "source": [
    "if not os.path.exists('Word2Vec_400dim.txt'):\n",
    "  os.system('gdown https://drive.google.com/uc?id=1L6vzEGcojvEecWt_Ide357THYwMRycGv')\n",
    "\n",
    "# Ambil word2vec setiap kata\n",
    "# https://github.com/vijayaiitk/NLP-text-classification-model/issues/1\n",
    "# https://github.com/RaRe-Technologies/gensim/wiki/Migrating-from-Gensim-3.x-to-4\n",
    "import gensim\n",
    "\n",
    "modelword2vec = gensim.models.KeyedVectors.load_word2vec_format(\"Word2Vec_400dim.txt\", binary=False)\n",
    "\n",
    "w2v = dict(zip(modelword2vec.index_to_key, modelword2vec.vectors))\n",
    "\n",
    "\n",
    "class MeanEmbeddingVectorizer(object):\n",
    "    def __init__(self, word2vec):\n",
    "        self.word2vec = word2vec\n",
    "        self.dim = len(word2vec['dan'])\n",
    "        \n",
    "    def tokenize(self, sentences):\n",
    "        return [sentence.lower().split(\" \") for sentence in sentences]\n",
    "\n",
    "    \n",
    "    def transform(self, X):\n",
    "        # Ambil kata-katanya lalu rata-rata\n",
    "        return np.array([\n",
    "            np.mean([self.word2vec[w] for w in words if w in self.word2vec]\n",
    "                    or [np.zeros(self.dim)], axis=0)\n",
    "            for words in X\n",
    "        ])\n",
    "    \n",
    "vectorizer = MeanEmbeddingVectorizer(w2v)"
   ]
  },
  {
   "cell_type": "code",
   "execution_count": 11,
   "id": "5513b016",
   "metadata": {
    "ExecuteTime": {
     "end_time": "2022-03-13T14:10:38.971833Z",
     "start_time": "2022-03-13T14:10:28.289644Z"
    }
   },
   "outputs": [
    {
     "name": "stdout",
     "output_type": "stream",
     "text": [
      "Found 129391 word vectors.\n",
      "Embedding matrix 94654\n"
     ]
    }
   ],
   "source": [
    "embeddings_index = {}\n",
    "f = open(os.path.join('', 'Word2Vec_400dim.txt'))\n",
    "for line in f:\n",
    "  values = line.split()\n",
    "  word = values[0]\n",
    "  coefs = np.asarray(values[1:], dtype='float32')\n",
    "  embeddings_index[word] = coefs\n",
    "f.close()\n",
    "print('Found %s word vectors.' % len(embeddings_index))\n",
    "\n",
    "embedding_matrix = np.zeros((vocab_size, embedding_size))\n",
    "for word, i in word_index.items():\n",
    "  embedding_vector = embeddings_index.get(word)\n",
    "  if embedding_vector is not None:\n",
    "    # words not found in embedding index will be all-zeros.\n",
    "    embedding_matrix[i] = embedding_vector\n",
    "print('Embedding matrix', len(embedding_matrix))"
   ]
  },
  {
   "cell_type": "markdown",
   "id": "84f79b32",
   "metadata": {},
   "source": [
    "## LSTM "
   ]
  },
  {
   "cell_type": "code",
   "execution_count": 12,
   "id": "dce239f0",
   "metadata": {
    "ExecuteTime": {
     "end_time": "2022-03-13T14:11:52.234965Z",
     "start_time": "2022-03-13T14:11:52.231856Z"
    }
   },
   "outputs": [],
   "source": [
    "def summarize_keras_trainable_variables(model, message):\n",
    "  s = sum(map(lambda x: x.sum(), model.get_weights()))\n",
    "  print(\"summary of trainable variables %s: %.13f\" % (message, s))\n",
    "  return s"
   ]
  },
  {
   "cell_type": "markdown",
   "id": "beb92b15",
   "metadata": {},
   "source": [
    "### LSTM training and Evaluation"
   ]
  },
  {
   "cell_type": "code",
   "execution_count": 13,
   "id": "6b3ed301",
   "metadata": {
    "ExecuteTime": {
     "end_time": "2022-03-13T14:11:56.521170Z",
     "start_time": "2022-03-13T14:11:56.511300Z"
    }
   },
   "outputs": [],
   "source": [
    "LSTM_X_train = X_train \n",
    "LSTM_X_test = X_test \n",
    "LSTM_X_valid = X_valid \n",
    "LSTM_Y_train = pd.get_dummies(Y_train).values\n",
    "LSTM_Y_test = pd.get_dummies(Y_test).values\n",
    "LSTM_Y_valid = pd.get_dummies(Y_valid).values"
   ]
  },
  {
   "cell_type": "code",
   "execution_count": 14,
   "id": "424d4b0a",
   "metadata": {
    "ExecuteTime": {
     "end_time": "2022-03-13T14:14:44.447665Z",
     "start_time": "2022-03-13T14:12:01.021980Z"
    }
   },
   "outputs": [
    {
     "name": "stdout",
     "output_type": "stream",
     "text": [
      "summary of trainable variables before training: 55063.7746362686157\n",
      "Model: \"sequential\"\n",
      "_________________________________________________________________\n",
      " Layer (type)                Output Shape              Param #   \n",
      "=================================================================\n",
      " embedding (Embedding)       (None, None, 400)         37861600  \n",
      "                                                                 \n",
      " lstm (LSTM)                 (None, 128)               270848    \n",
      "                                                                 \n",
      " dense (Dense)               (None, 512)               66048     \n",
      "                                                                 \n",
      " dropout (Dropout)           (None, 512)               0         \n",
      "                                                                 \n",
      " dense_1 (Dense)             (None, 9)                 4617      \n",
      "                                                                 \n",
      "=================================================================\n",
      "Total params: 38,203,113\n",
      "Trainable params: 341,513\n",
      "Non-trainable params: 37,861,600\n",
      "_________________________________________________________________\n",
      "Epoch 1/30\n",
      "668/668 [==============================] - 27s 35ms/step - loss: 1.9357 - accuracy: 0.2796 - val_loss: 2.0546 - val_accuracy: 0.2319\n",
      "Epoch 2/30\n",
      "668/668 [==============================] - 22s 33ms/step - loss: 1.7856 - accuracy: 0.3436 - val_loss: 1.9804 - val_accuracy: 0.2865\n",
      "Epoch 3/30\n",
      "668/668 [==============================] - 22s 33ms/step - loss: 1.6972 - accuracy: 0.3821 - val_loss: 1.9660 - val_accuracy: 0.2854\n",
      "Epoch 4/30\n",
      "668/668 [==============================] - 22s 33ms/step - loss: 1.6470 - accuracy: 0.4019 - val_loss: 1.9640 - val_accuracy: 0.2916\n",
      "Epoch 5/30\n",
      "668/668 [==============================] - 23s 34ms/step - loss: 1.6085 - accuracy: 0.4171 - val_loss: 1.9859 - val_accuracy: 0.2830\n",
      "Epoch 6/30\n",
      "668/668 [==============================] - 22s 33ms/step - loss: 1.5567 - accuracy: 0.4384 - val_loss: 2.0258 - val_accuracy: 0.2861\n",
      "Epoch 7/30\n",
      "668/668 [==============================] - 22s 33ms/step - loss: 1.5199 - accuracy: 0.4497 - val_loss: 2.1168 - val_accuracy: 0.2853\n",
      "summary of trainable variables after training: 53772.4462838917971\n"
     ]
    },
    {
     "data": {
      "image/png": "[encoded data removed]",
      "text/plain": [
       "<Figure size 432x288 with 1 Axes>"
      ]
     },
     "metadata": {
      "needs_background": "light"
     },
     "output_type": "display_data"
    }
   ],
   "source": [
    "from __future__ import print_function\n",
    "from numpy.random import seed\n",
    "import random\n",
    "import tensorflow as tf\n",
    "\n",
    "import os\n",
    "os.environ['PYTHONHASHSEED'] = '0'\n",
    "os.environ['TF_DETERMINISTIC_OPS'] = '1'\n",
    "os.environ['TF_CUDNN_DETERMINISTIC'] = '1'\n",
    "os.environ[\"CUDA_VISIBLE_DEVICES\"]=\"3\"\n",
    "os.environ['TF_CPP_MIN_LOG_LEVEL'] = '2'\n",
    "\n",
    "\n",
    "seed(42)\n",
    "random.seed(12345)\n",
    "\n",
    "session_conf = tf.compat.v1.ConfigProto(intra_op_parallelism_threads=1, inter_op_parallelism_threads=1)\n",
    "\n",
    "from tensorflow.python.keras import backend as K\n",
    "tf.random.set_seed(1234)\n",
    "sess = tf.compat.v1.Session(graph=tf.compat.v1.get_default_graph(), config=session_conf)\n",
    "K.set_session(sess)\n",
    "\n",
    "from tensorflow.keras.models import Sequential \n",
    "from tensorflow.keras.layers import Embedding, SpatialDropout1D, LSTM, Dropout, Dense\n",
    "from tensorflow.keras.optimizers import Adam\n",
    "from tensorflow.keras.callbacks import EarlyStopping\n",
    "\n",
    "lstm_w2v = Sequential()\n",
    "lstm_w2v.add(Embedding(input_dim= vocab_size, output_dim=embedding_size, weights=[embedding_matrix], trainable=False))\n",
    "lstm_w2v.add(LSTM(128)) \n",
    "lstm_w2v.add(Dense(4*128, activation='relu'))\n",
    "lstm_w2v.add(Dropout(0.25))\n",
    "lstm_w2v.add(Dense(9, activation='softmax'))\n",
    "lstm_w2v.compile(loss='categorical_crossentropy', optimizer=Adam(learning_rate=5e-3), metrics=['accuracy'])\n",
    "\n",
    "summarize_keras_trainable_variables(lstm_w2v, \"before training\")\n",
    "lstm_w2v.summary()\n",
    "\n",
    "epochs = 30\n",
    "\n",
    "history = lstm_w2v.fit(LSTM_X_train, LSTM_Y_train, \n",
    "                    epochs=epochs, \n",
    "                    batch_size=batch_size,\n",
    "                    validation_data=(LSTM_X_valid, LSTM_Y_valid),\n",
    "                    callbacks=[EarlyStopping(monitor='val_loss', patience=3, min_delta=0.0001, restore_best_weights=True\n",
    ")])\n",
    "\n",
    "summarize_keras_trainable_variables(lstm_w2v, \"after training\")\n",
    "\n",
    "plt.title('Loss')\n",
    "plt.plot(history.history['loss'], label='train')\n",
    "plt.plot(history.history['val_loss'], label='test')\n",
    "plt.legend()\n",
    "plt.show();"
   ]
  },
  {
   "cell_type": "code",
   "execution_count": 15,
   "id": "9e7a08db",
   "metadata": {
    "ExecuteTime": {
     "end_time": "2022-03-13T14:16:06.078320Z",
     "start_time": "2022-03-13T14:15:58.079263Z"
    }
   },
   "outputs": [
    {
     "name": "stdout",
     "output_type": "stream",
     "text": [
      "accuracy 0.38\n",
      "                            precision    recall  f1-score   support\n",
      "\n",
      "    bali dan nusa tenggara       0.70      0.27      0.39        26\n",
      "               jabodetabek       0.67      0.07      0.13        28\n",
      "     jawa barat dan banten       0.62      0.31      0.42        32\n",
      "jawa tengah dan yogyakarta       0.60      0.33      0.43        36\n",
      "                jawa timur       0.20      0.91      0.33        34\n",
      "                kalimantan       0.67      0.18      0.29        22\n",
      "          maluku dan papua       0.79      0.65      0.71        23\n",
      "                  sulawesi       0.71      0.25      0.37        20\n",
      "                  sumatera       0.71      0.34      0.47        29\n",
      "\n",
      "                  accuracy                           0.38       250\n",
      "                 macro avg       0.63      0.37      0.39       250\n",
      "              weighted avg       0.61      0.38      0.39       250\n",
      "\n"
     ]
    }
   ],
   "source": [
    "from sklearn.metrics import accuracy_score\n",
    "from sklearn.metrics import classification_report\n",
    "\n",
    "newy_pred= lstm_w2v.predict(LSTM_X_test) \n",
    "newy_pred_df = pd.DataFrame(newy_pred)\n",
    "ypred = newy_pred_df.idxmax(axis=1)\n",
    "\n",
    "pred = test_df[['screen_name']].copy()\n",
    "pred['Lpredict'] = ypred\n",
    "y_pred = pred.groupby(['screen_name'], sort=False).agg(lambda x:x.value_counts().index[0])\n",
    "\n",
    "print('accuracy %s' % round(accuracy_score(userlvltest.Lvalue, y_pred),2 ))\n",
    "print(classification_report(userlvltest.Lvalue, y_pred,target_names=label_names))"
   ]
  },
  {
   "cell_type": "code",
   "execution_count": 16,
   "id": "cbcf807a",
   "metadata": {
    "ExecuteTime": {
     "end_time": "2022-03-13T14:16:35.121902Z",
     "start_time": "2022-03-13T14:16:35.116169Z"
    }
   },
   "outputs": [],
   "source": [
    "y_pred.to_csv('lstm_result/lstm_majority_vote_word2vec.csv')"
   ]
  }
 ],
 "metadata": {
  "kernelspec": {
   "display_name": "Python 3",
   "language": "python",
   "name": "python3"
  },
  "language_info": {
   "codemirror_mode": {
    "name": "ipython",
    "version": 3
   },
   "file_extension": ".py",
   "mimetype": "text/x-python",
   "name": "python",
   "nbconvert_exporter": "python",
   "pygments_lexer": "ipython3",
   "version": "3.8.10"
  },
  "toc": {
   "base_numbering": 1,
   "nav_menu": {},
   "number_sections": true,
   "sideBar": true,
   "skip_h1_title": false,
   "title_cell": "Table of Contents",
   "title_sidebar": "Contents",
   "toc_cell": false,
   "toc_position": {},
   "toc_section_display": true,
   "toc_window_display": false
  },
  "varInspector": {
   "cols": {
    "lenName": 16,
    "lenType": 16,
    "lenVar": 40
   },
   "kernels_config": {
    "python": {
     "delete_cmd_postfix": "",
     "delete_cmd_prefix": "del ",
     "library": "var_list.py",
     "varRefreshCmd": "print(var_dic_list())"
    },
    "r": {
     "delete_cmd_postfix": ") ",
     "delete_cmd_prefix": "rm(",
     "library": "var_list.r",
     "varRefreshCmd": "cat(var_dic_list()) "
    }
   },
   "types_to_exclude": [
    "module",
    "function",
    "builtin_function_or_method",
    "instance",
    "_Feature"
   ],
   "window_display": false
  }
 },
 "nbformat": 4,
 "nbformat_minor": 5
}
