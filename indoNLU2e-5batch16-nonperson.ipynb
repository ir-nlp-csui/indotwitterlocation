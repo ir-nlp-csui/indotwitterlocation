{
 "cells": [
  {
   "cell_type": "markdown",
   "id": "bf39260a",
   "metadata": {},
   "source": [
    "# Library import"
   ]
  },
  {
   "cell_type": "code",
   "execution_count": 21,
   "id": "76fcfbfc",
   "metadata": {
    "ExecuteTime": {
     "end_time": "2022-03-22T06:21:22.621859Z",
     "start_time": "2022-03-22T06:21:22.617938Z"
    }
   },
   "outputs": [],
   "source": [
    "import pandas as pd\n",
    "import os\n",
    "import torch\n",
    "from torch.utils.data import Dataset, DataLoader, RandomSampler, SequentialSampler\n",
    "from torch import optim\n",
    "import torch.nn.functional as F\n",
    "from tqdm import tqdm\n",
    "from transformers import BertForSequenceClassification, BertConfig, BertTokenizer"
   ]
  },
  {
   "cell_type": "code",
   "execution_count": 22,
   "id": "3a02556d",
   "metadata": {
    "ExecuteTime": {
     "end_time": "2022-03-22T06:21:22.626383Z",
     "start_time": "2022-03-22T06:21:22.623931Z"
    },
    "scrolled": true
   },
   "outputs": [],
   "source": [
    "userPATH ='revision_dataset/'\n",
    "tweetPATH = 'revision_dataset/tweetAgg/'"
   ]
  },
  {
   "cell_type": "code",
   "execution_count": 23,
   "id": "5ffc7ab9",
   "metadata": {
    "ExecuteTime": {
     "end_time": "2022-03-22T06:21:22.639356Z",
     "start_time": "2022-03-22T06:21:22.628318Z"
    }
   },
   "outputs": [],
   "source": [
    "userlvltrain = pd.read_csv(userPATH+'/userlvltrain.csv')\n",
    "userlvltest = pd.read_csv(userPATH+'/userlvltest.csv')\n",
    "userlvlval = pd.read_csv(userPATH+'/userlvlval.csv')"
   ]
  },
  {
   "cell_type": "code",
   "execution_count": 24,
   "id": "425ef103",
   "metadata": {
    "ExecuteTime": {
     "end_time": "2022-03-22T06:21:22.646959Z",
     "start_time": "2022-03-22T06:21:22.641325Z"
    }
   },
   "outputs": [],
   "source": [
    "## matching nonperson only\n",
    "nonpersontrain = userlvltrain[userlvltrain['isaPerson']==\"nonperson\"]\n",
    "nonpersontest = userlvltest[userlvltest['isaPerson']==\"nonperson\"]\n",
    "nonpersonval = userlvlval[userlvlval['isaPerson']==\"nonperson\"]"
   ]
  },
  {
   "cell_type": "code",
   "execution_count": 25,
   "id": "ed2ad9a0",
   "metadata": {
    "ExecuteTime": {
     "end_time": "2022-03-22T06:21:22.744188Z",
     "start_time": "2022-03-22T06:21:22.648727Z"
    }
   },
   "outputs": [],
   "source": [
    "train_df = pd.read_csv(tweetPATH+'aggtrain_df.csv')\n",
    "train_df['screen_name'] = userlvltrain.screen_name\n",
    "train_df['userLocation'] = userlvltrain.userLocation\n",
    "\n",
    "test_df = pd.read_csv(tweetPATH+'aggtest_df.csv')\n",
    "test_df['screen_name'] = userlvltest.screen_name\n",
    "test_df['userLocation'] = userlvltest.userLocation\n",
    "\n",
    "val_df = pd.read_csv(tweetPATH+'aggval_df.csv')\n",
    "val_df['screen_name'] = userlvlval.screen_name\n",
    "val_df['userLocation'] = userlvlval.userLocation"
   ]
  },
  {
   "cell_type": "code",
   "execution_count": 26,
   "id": "ff2ad72f",
   "metadata": {
    "ExecuteTime": {
     "end_time": "2022-03-22T06:21:22.761241Z",
     "start_time": "2022-03-22T06:21:22.746403Z"
    }
   },
   "outputs": [
    {
     "name": "stdout",
     "output_type": "stream",
     "text": [
      "set()\n",
      "set()\n",
      "set()\n"
     ]
    },
    {
     "data": {
      "text/html": [
       "<div>\n",
       "<style scoped>\n",
       "    .dataframe tbody tr th:only-of-type {\n",
       "        vertical-align: middle;\n",
       "    }\n",
       "\n",
       "    .dataframe tbody tr th {\n",
       "        vertical-align: top;\n",
       "    }\n",
       "\n",
       "    .dataframe thead th {\n",
       "        text-align: right;\n",
       "    }\n",
       "</style>\n",
       "<table border=\"1\" class=\"dataframe\">\n",
       "  <thead>\n",
       "    <tr style=\"text-align: right;\">\n",
       "      <th></th>\n",
       "      <th>text</th>\n",
       "      <th>screen_name</th>\n",
       "      <th>userLocation</th>\n",
       "    </tr>\n",
       "  </thead>\n",
       "  <tbody>\n",
       "    <tr>\n",
       "      <th>2</th>\n",
       "      <td>selamat tretan semoga harapanharapan terwujud ...</td>\n",
       "      <td>MaduraUnitedFC</td>\n",
       "      <td>jawa timur</td>\n",
       "    </tr>\n",
       "    <tr>\n",
       "      <th>3</th>\n",
       "      <td>selamat pagi apakabar hi hi kak dimana nih yuk...</td>\n",
       "      <td>waterbombali</td>\n",
       "      <td>bali dan nusa tenggara</td>\n",
       "    </tr>\n",
       "    <tr>\n",
       "      <th>4</th>\n",
       "      <td>pantauan arus lalin terkini ruas jalan simpang...</td>\n",
       "      <td>dishub_jabar</td>\n",
       "      <td>jawa barat dan banten</td>\n",
       "    </tr>\n",
       "  </tbody>\n",
       "</table>\n",
       "</div>"
      ],
      "text/plain": [
       "                                                text     screen_name  \\\n",
       "2  selamat tretan semoga harapanharapan terwujud ...  MaduraUnitedFC   \n",
       "3  selamat pagi apakabar hi hi kak dimana nih yuk...    waterbombali   \n",
       "4  pantauan arus lalin terkini ruas jalan simpang...    dishub_jabar   \n",
       "\n",
       "             userLocation  \n",
       "2              jawa timur  \n",
       "3  bali dan nusa tenggara  \n",
       "4   jawa barat dan banten  "
      ]
     },
     "execution_count": 26,
     "metadata": {},
     "output_type": "execute_result"
    }
   ],
   "source": [
    "train_df = train_df[train_df['screen_name'].isin(nonpersontrain['screen_name'])]\n",
    "print(set(train_df.screen_name)-set(nonpersontrain.screen_name))\n",
    "\n",
    "test_df = test_df[test_df['screen_name'].isin(nonpersontest['screen_name'])]\n",
    "print(set(test_df.screen_name)-set(nonpersontest.screen_name))\n",
    "\n",
    "val_df = val_df[val_df['screen_name'].isin(nonpersonval['screen_name'])]\n",
    "print(set(val_df.screen_name)-set(nonpersonval.screen_name))\n",
    "\n",
    "train_df.head(3)"
   ]
  },
  {
   "cell_type": "code",
   "execution_count": 27,
   "id": "dda8191a",
   "metadata": {
    "ExecuteTime": {
     "end_time": "2022-03-22T06:21:22.769231Z",
     "start_time": "2022-03-22T06:21:22.763566Z"
    },
    "code_folding": []
   },
   "outputs": [
    {
     "name": "stdout",
     "output_type": "stream",
     "text": [
      "{'bali dan nusa tenggara': 0, 'jabodetabek': 1, 'jawa barat dan banten': 2, 'jawa tengah dan yogyakarta': 3, 'jawa timur': 4, 'kalimantan': 5, 'maluku dan papua': 6, 'sulawesi': 7, 'sumatera': 8}\n",
      "{0: 'bali dan nusa tenggara', 1: 'jabodetabek', 2: 'jawa barat dan banten', 3: 'jawa tengah dan yogyakarta', 4: 'jawa timur', 5: 'kalimantan', 6: 'maluku dan papua', 7: 'sulawesi', 8: 'sumatera'}\n"
     ]
    }
   ],
   "source": [
    "## prepare data for BERT training and save in newdata/\n",
    "if not os.path.exists('nonpersondata/'): \n",
    "    os.mkdir('nonpersondata/')\n",
    "    train_df.to_csv('nonpersondata/train.csv', index=False)\n",
    "    test_df.to_csv('nonpersondata/test.csv', index=False)\n",
    "    val_df.to_csv('nonpersondata/dev.csv', index=False)\n",
    "\n",
    "possible_labels = train_df.userLocation.unique()\n",
    "possible_labels.sort()\n",
    "label_dict = {}\n",
    "for index, possible_label in enumerate(possible_labels):\n",
    "    label_dict[possible_label] = index\n",
    "print(label_dict)\n",
    "inv_label_dict = {v: k for k, v in label_dict.items()}\n",
    "print(inv_label_dict)"
   ]
  },
  {
   "cell_type": "markdown",
   "id": "405025d2",
   "metadata": {},
   "source": [
    "## Setting Cuda"
   ]
  },
  {
   "cell_type": "code",
   "execution_count": 28,
   "id": "3806ade6",
   "metadata": {
    "ExecuteTime": {
     "end_time": "2022-03-22T06:21:24.248453Z",
     "start_time": "2022-03-22T06:21:22.771379Z"
    }
   },
   "outputs": [
    {
     "name": "stdout",
     "output_type": "stream",
     "text": [
      "Tue Mar 22 06:21:23 2022       \n",
      "+-----------------------------------------------------------------------------+\n",
      "| NVIDIA-SMI 418.126.02   Driver Version: 418.126.02   CUDA Version: 11.4     |\n",
      "|-------------------------------+----------------------+----------------------+\n",
      "| GPU  Name        Persistence-M| Bus-Id        Disp.A | Volatile Uncorr. ECC |\n",
      "| Fan  Temp  Perf  Pwr:Usage/Cap|         Memory-Usage | GPU-Util  Compute M. |\n",
      "|===============================+======================+======================|\n",
      "|   0  Tesla V100-SXM2...  On   | 00000000:06:00.0 Off |                    0 |\n",
      "| N/A   36C    P0    57W / 300W |  19642MiB / 32480MiB |      0%      Default |\n",
      "+-------------------------------+----------------------+----------------------+\n",
      "|   1  Tesla V100-SXM2...  On   | 00000000:07:00.0 Off |                    0 |\n",
      "| N/A   46C    P0   166W / 300W |  16646MiB / 32480MiB |     91%      Default |\n",
      "+-------------------------------+----------------------+----------------------+\n",
      "|   2  Tesla V100-SXM2...  On   | 00000000:0A:00.0 Off |                    0 |\n",
      "| N/A   59C    P0   177W / 300W |  14346MiB / 32480MiB |     32%      Default |\n",
      "+-------------------------------+----------------------+----------------------+\n",
      "|   3  Tesla V100-SXM2...  On   | 00000000:0B:00.0 Off |                    0 |\n",
      "| N/A   65C    P0   235W / 300W |  13398MiB / 32480MiB |     93%      Default |\n",
      "+-------------------------------+----------------------+----------------------+\n",
      "|   4  Tesla V100-SXM2...  On   | 00000000:85:00.0 Off |                    0 |\n",
      "| N/A   39C    P0    58W / 300W |  15746MiB / 32480MiB |      0%      Default |\n",
      "+-------------------------------+----------------------+----------------------+\n",
      "|   5  Tesla V100-SXM2...  On   | 00000000:86:00.0 Off |                    0 |\n",
      "| N/A   41C    P0    59W / 300W |  13463MiB / 32480MiB |      0%      Default |\n",
      "+-------------------------------+----------------------+----------------------+\n",
      "|   6  Tesla V100-SXM2...  On   | 00000000:89:00.0 Off |                    0 |\n",
      "| N/A   41C    P0    44W / 300W |     11MiB / 32480MiB |      0%      Default |\n",
      "+-------------------------------+----------------------+----------------------+\n",
      "|   7  Tesla V100-SXM2...  On   | 00000000:8A:00.0 Off |                    0 |\n",
      "| N/A   38C    P0    56W / 300W |  15597MiB / 32480MiB |      0%      Default |\n",
      "+-------------------------------+----------------------+----------------------+\n",
      "                                                                               \n",
      "+-----------------------------------------------------------------------------+\n",
      "| Processes:                                                       GPU Memory |\n",
      "|  GPU       PID   Type   Process name                             Usage      |\n",
      "|=============================================================================|\n",
      "+-----------------------------------------------------------------------------+\n"
     ]
    }
   ],
   "source": [
    "!nvidia-smi"
   ]
  },
  {
   "cell_type": "code",
   "execution_count": 29,
   "id": "aed002e1",
   "metadata": {
    "ExecuteTime": {
     "end_time": "2022-03-22T06:21:24.255708Z",
     "start_time": "2022-03-22T06:21:24.250575Z"
    }
   },
   "outputs": [
    {
     "data": {
      "text/plain": [
       "7"
      ]
     },
     "execution_count": 29,
     "metadata": {},
     "output_type": "execute_result"
    }
   ],
   "source": [
    "torch.cuda.set_device(7)\n",
    "device = torch.device('cuda:7' if torch.cuda.is_available() else 'cpu')\n",
    "device_idx = \"cuda:7\"\n",
    "torch.cuda.current_device()"
   ]
  },
  {
   "cell_type": "code",
   "execution_count": 30,
   "id": "63848cd5",
   "metadata": {
    "ExecuteTime": {
     "end_time": "2022-03-22T06:21:24.277689Z",
     "start_time": "2022-03-22T06:21:24.257968Z"
    },
    "code_folding": [
     3,
     9,
     15,
     19,
     25,
     60,
     136,
     149
    ]
   },
   "outputs": [],
   "source": [
    "import random \n",
    "import numpy as np\n",
    "\n",
    "def set_seed(seed):\n",
    "    random.seed(seed)\n",
    "    np.random.seed(seed)\n",
    "    torch.manual_seed(seed)\n",
    "    torch.cuda.manual_seed(seed)\n",
    "    \n",
    "def count_param(module, trainable=False):\n",
    "    if trainable:\n",
    "        return sum(p.numel() for p in module.parameters() if p.requires_grad)\n",
    "    else:\n",
    "        return sum(p.numel() for p in module.parameters())\n",
    "    \n",
    "def get_lr(optimizer):\n",
    "    for param_group in optimizer.param_groups:\n",
    "        return param_group['lr']\n",
    "\n",
    "def metrics_to_string(metric_dict):\n",
    "    string_list = []\n",
    "    for key, value in metric_dict.items():\n",
    "        string_list.append('{}:{:.2f}'.format(key, value))\n",
    "    return ' '.join(string_list)\n",
    "\n",
    "def location_prediction_metrics(list_hyp, list_label):\n",
    "    metrics = {}\n",
    "    metrics[\"ACC\"] = accuracy_score(list_label, list_hyp)\n",
    "    metrics[\"F1\"] = f1_score(list_label, list_hyp, average='macro')\n",
    "    metrics[\"REC\"] = recall_score(list_label, list_hyp, average='macro')\n",
    "    metrics[\"PRE\"] = precision_score(list_label, list_hyp, average='macro')\n",
    "    return metrics\n",
    "\n",
    "\n",
    "class LocationPredictionDataset(Dataset):\n",
    "    # Static constant variable\n",
    "    LABEL2INDEX = label_dict\n",
    "    INDEX2LABEL = inv_label_dict\n",
    "    NUM_LABELS = 9\n",
    "    \n",
    "    def load_dataset(self, path): \n",
    "        df = pd.read_csv(path, sep=',')\n",
    "        # df.columns = ['screenName','tweets','userLocation', 'mentionedLocation','label', 'final_feat']\n",
    "        df['userLocation'] = df['userLocation'].apply(lambda lab: self.LABEL2INDEX[lab])\n",
    "        return df\n",
    "    \n",
    "    def __init__(self, dataset_path, tokenizer, no_special_token=False, *args, **kwargs):\n",
    "        self.data = self.load_dataset(dataset_path)\n",
    "        self.tokenizer = tokenizer\n",
    "        self.no_special_token = no_special_token\n",
    "    \n",
    "    def __getitem__(self, index):\n",
    "        data = self.data.loc[index,:]\n",
    "        tweets, labels = data['text'], data['userLocation']\n",
    "        subwords = self.tokenizer.encode(tweets, add_special_tokens=not self.no_special_token)\n",
    "        return np.array(subwords), np.array(labels), data['text']\n",
    "    \n",
    "    def __len__(self):\n",
    "        return len(self.data)    \n",
    "        \n",
    "class LocationPredictionDataLoader(DataLoader):\n",
    "    def __init__(self, max_seq_len=512, *args, **kwargs):\n",
    "        super(LocationPredictionDataLoader, self).__init__(*args, **kwargs)\n",
    "        self.collate_fn = self._collate_fn\n",
    "        self.max_seq_len = max_seq_len\n",
    "        \n",
    "    def _collate_fn(self, batch):\n",
    "        batch_size = len(batch)\n",
    "        max_seq_len = max(map(lambda x: len(x[0]), batch))\n",
    "        max_seq_len = min(self.max_seq_len, max_seq_len)\n",
    "        \n",
    "        subword_batch = np.zeros((batch_size, max_seq_len), dtype=np.int64)\n",
    "        mask_batch = np.zeros((batch_size, max_seq_len), dtype=np.float32)\n",
    "        class_batch = np.zeros((batch_size, 1), dtype=np.int64)\n",
    "        \n",
    "        seq_list = []\n",
    "        for i, (subwords, tagging, raw_seq) in enumerate(batch):\n",
    "            subwords = subwords[:max_seq_len]\n",
    "            subword_batch[i,:len(subwords)] = subwords\n",
    "            mask_batch[i,:len(subwords)] = 1\n",
    "            class_batch[i,0] = tagging\n",
    "            \n",
    "            seq_list.append(raw_seq)\n",
    "            \n",
    "        return subword_batch, mask_batch, class_batch, seq_list\n",
    "\n",
    "# Forward function for sequence classification\n",
    "def forward_sequence_classification(model, batch_data, i2w, is_test=False, device='cpu', **kwargs):\n",
    "    # Unpack batch data\n",
    "    if len(batch_data) == 3:\n",
    "        (subword_batch, mask_batch, label_batch) = batch_data\n",
    "        token_type_batch = None\n",
    "    elif len(batch_data) == 4:\n",
    "        (subword_batch, mask_batch, token_type_batch, label_batch) = batch_data\n",
    "    \n",
    "    # Prepare input & label\n",
    "    subword_batch = torch.LongTensor(subword_batch)\n",
    "    mask_batch = torch.FloatTensor(mask_batch)\n",
    "    token_type_batch = torch.LongTensor(token_type_batch) if token_type_batch is not None else None\n",
    "    label_batch = torch.LongTensor(label_batch)\n",
    "            \n",
    "    if device == device_idx:\n",
    "        subword_batch = subword_batch.cuda()\n",
    "        mask_batch = mask_batch.cuda()\n",
    "        token_type_batch = token_type_batch.cuda() if token_type_batch is not None else None\n",
    "        label_batch = label_batch.cuda()\n",
    "\n",
    "    # Forward model\n",
    "    outputs = model(subword_batch, attention_mask=mask_batch, token_type_ids=token_type_batch, labels=label_batch)\n",
    "    loss, logits = outputs[:2]\n",
    "    \n",
    "    # generate prediction & label list\n",
    "    list_hyp = []\n",
    "    list_label = []\n",
    "    hyp = torch.topk(logits, 1)[1]\n",
    "    for j in range(len(hyp)):\n",
    "        list_hyp.append(i2w[hyp[j].item()])\n",
    "        list_label.append(i2w[label_batch[j][0].item()])\n",
    "        \n",
    "    return loss, list_hyp, list_label\n",
    "\n",
    "# Save and Load Functions\n",
    "\n",
    "# pada fungsi ini dilakukan penyimpanan model, optimizer, dan validation loss\n",
    "def save_checkpoint(save_path, model, optimizer, valid_loss):\n",
    "\n",
    "    if save_path == None:\n",
    "        return\n",
    "    \n",
    "    state_dict = {'model_state_dict': model.state_dict(),\n",
    "                  'optimizer_state_dict': optimizer.state_dict(),\n",
    "                  'valid_loss': valid_loss}\n",
    "    \n",
    "    torch.save(state_dict, save_path)\n",
    "\n",
    "# untuk meload loss yang telah disimpan\n",
    "def load_checkpoint(load_path, model, optimizer):\n",
    "\n",
    "    if load_path==None:\n",
    "        return\n",
    "    \n",
    "    state_dict = torch.load(load_path, map_location=device)\n",
    "    \n",
    "    model.load_state_dict(state_dict['model_state_dict'])\n",
    "    optimizer.load_state_dict(state_dict['optimizer_state_dict'])\n",
    "    \n",
    "    return state_dict['valid_loss']\n",
    "\n",
    "# pada fungsi ini accuracy dan loss disimpan \n",
    "def save_metrics(save_path, train_acc_list, train_loss_list, valid_acc_list, valid_loss_list, epochs):\n",
    "\n",
    "    if save_path == None:\n",
    "        return\n",
    "    \n",
    "    state_dict = {'train_acc_list': train_acc_list,\n",
    "                  'train_loss_list': train_loss_list,\n",
    "                  'valid_acc_list': valid_acc_list,\n",
    "                  'valid_loss_list': valid_loss_list,\n",
    "                  'epochs_list': epochs}\n",
    "    \n",
    "    torch.save(state_dict, save_path)\n",
    "    # print(f'Model saved to ==> {save_path}')\n",
    "\n",
    "# fungsi untuk melakukan load accuracy dan loss \n",
    "def load_metrics(load_path): \n",
    "\n",
    "    if load_path==None:\n",
    "        return\n",
    "    state_dict = torch.load(load_path)    \n",
    "    \n",
    "    return state_dict['train_acc_list'],state_dict['train_loss_list'], state_dict['valid_acc_list'], state_dict['valid_loss_list'], state_dict['epochs_list']"
   ]
  },
  {
   "cell_type": "markdown",
   "id": "c221564c",
   "metadata": {},
   "source": [
    "## Prepare Dataset"
   ]
  },
  {
   "cell_type": "code",
   "execution_count": 31,
   "id": "a1a9df68",
   "metadata": {
    "ExecuteTime": {
     "end_time": "2022-03-22T06:21:35.347666Z",
     "start_time": "2022-03-22T06:21:24.279721Z"
    },
    "scrolled": true
   },
   "outputs": [
    {
     "name": "stderr",
     "output_type": "stream",
     "text": [
      "Some weights of BertForSequenceClassification were not initialized from the model checkpoint at indobenchmark/indobert-base-p1 and are newly initialized: ['classifier.weight', 'classifier.bias']\n",
      "You should probably TRAIN this model on a down-stream task to be able to use it for predictions and inference.\n"
     ]
    }
   ],
   "source": [
    "set_seed(42)\n",
    "\n",
    "#Load Tokenizer and Config\n",
    "tokenizer = BertTokenizer.from_pretrained('indobenchmark/indobert-base-p1')\n",
    "config = BertConfig.from_pretrained('indobenchmark/indobert-base-p1',\n",
    "                                    attention_probs_dropout_prob=0.3,\n",
    "                                    hidden_dropout_prob=0.3)\n",
    "config.num_labels = LocationPredictionDataset.NUM_LABELS\n",
    "\n",
    "# Instantiate model\n",
    "model = BertForSequenceClassification.from_pretrained('indobenchmark/indobert-base-p1', \n",
    "                                                      config=config)\n",
    "\n",
    "train_dataset = LocationPredictionDataset(\"nonpersondata/train.csv\", tokenizer, lowercase=True)\n",
    "valid_dataset = LocationPredictionDataset(\"nonpersondata/dev.csv\", tokenizer, lowercase=True)\n",
    "test_dataset = LocationPredictionDataset(\"nonpersondata/test.csv\", tokenizer, lowercase=True)\n",
    "\n",
    "\n",
    "learning_rate = 2e-5\n",
    "batch_size = 16\n",
    "epochs = 7\n",
    "\n",
    "train_loader = LocationPredictionDataLoader(dataset=train_dataset, max_seq_len=512, batch_size=batch_size, num_workers=16, shuffle=True)  \n",
    "valid_loader = LocationPredictionDataLoader(dataset=valid_dataset, max_seq_len=512, batch_size=batch_size, num_workers=16, shuffle=False)  \n",
    "test_loader = LocationPredictionDataLoader(dataset=test_dataset, max_seq_len=512, batch_size=batch_size, num_workers=16, shuffle=False)"
   ]
  },
  {
   "cell_type": "code",
   "execution_count": 32,
   "id": "93deaa87",
   "metadata": {
    "ExecuteTime": {
     "end_time": "2022-03-22T06:21:35.354731Z",
     "start_time": "2022-03-22T06:21:35.350016Z"
    },
    "scrolled": true
   },
   "outputs": [
    {
     "name": "stdout",
     "output_type": "stream",
     "text": [
      "{'bali dan nusa tenggara': 0, 'jabodetabek': 1, 'jawa barat dan banten': 2, 'jawa tengah dan yogyakarta': 3, 'jawa timur': 4, 'kalimantan': 5, 'maluku dan papua': 6, 'sulawesi': 7, 'sumatera': 8} \n",
      " {0: 'bali dan nusa tenggara', 1: 'jabodetabek', 2: 'jawa barat dan banten', 3: 'jawa tengah dan yogyakarta', 4: 'jawa timur', 5: 'kalimantan', 6: 'maluku dan papua', 7: 'sulawesi', 8: 'sumatera'}\n"
     ]
    }
   ],
   "source": [
    "w2i, i2w = LocationPredictionDataset.LABEL2INDEX, LocationPredictionDataset.INDEX2LABEL\n",
    "print(w2i, '\\n', i2w)"
   ]
  },
  {
   "cell_type": "markdown",
   "id": "592ffe50",
   "metadata": {},
   "source": [
    "## Fine Tuning and Evaluation"
   ]
  },
  {
   "cell_type": "code",
   "execution_count": 33,
   "id": "b4b53fc5",
   "metadata": {
    "ExecuteTime": {
     "end_time": "2022-03-22T06:21:35.468352Z",
     "start_time": "2022-03-22T06:21:35.357452Z"
    }
   },
   "outputs": [],
   "source": [
    "torch.cuda.empty_cache()\n",
    "optimizer = optim.AdamW(model.parameters(), lr=learning_rate)\n",
    "model = model.to(device)"
   ]
  },
  {
   "cell_type": "code",
   "execution_count": 34,
   "id": "c085b2f3",
   "metadata": {
    "ExecuteTime": {
     "end_time": "2022-03-22T06:21:35.472616Z",
     "start_time": "2022-03-22T06:21:35.470160Z"
    }
   },
   "outputs": [],
   "source": [
    "file_path = 'nonperson_saved_model'"
   ]
  },
  {
   "cell_type": "markdown",
   "id": "dd349790",
   "metadata": {},
   "source": [
    "### training"
   ]
  },
  {
   "cell_type": "code",
   "execution_count": 35,
   "id": "a2972f4e",
   "metadata": {
    "ExecuteTime": {
     "end_time": "2022-03-22T06:24:03.075331Z",
     "start_time": "2022-03-22T06:21:35.474553Z"
    }
   },
   "outputs": [
    {
     "name": "stderr",
     "output_type": "stream",
     "text": [
      "(Epoch 1) TRAIN LOSS:2.2207 LR:0.00002000: 100%|██████████| 30/30 [00:17<00:00,  1.74it/s]\n"
     ]
    },
    {
     "name": "stdout",
     "output_type": "stream",
     "text": [
      "(Epoch 1) TRAIN LOSS:2.2207 ACC:0.15 F1:0.13 REC:0.14 PRE:0.15 LR:0.00002000\n"
     ]
    },
    {
     "name": "stderr",
     "output_type": "stream",
     "text": [
      "  0%|          | 0/3 [00:00<?, ?it/s]/opt/conda/lib/python3.8/site-packages/sklearn/metrics/_classification.py:1248: UndefinedMetricWarning: Precision is ill-defined and being set to 0.0 in labels with no predicted samples. Use `zero_division` parameter to control this behavior.\n",
      "  _warn_prf(average, modifier, msg_start, len(result))\n",
      "VALID LOSS:2.1785 ACC:0.06 F1:0.04 REC:0.12 PRE:0.03:  33%|███▎      | 1/3 [00:01<00:03,  1.67s/it]/opt/conda/lib/python3.8/site-packages/sklearn/metrics/_classification.py:1248: UndefinedMetricWarning: Precision is ill-defined and being set to 0.0 in labels with no predicted samples. Use `zero_division` parameter to control this behavior.\n",
      "  _warn_prf(average, modifier, msg_start, len(result))\n",
      "VALID LOSS:2.1226 ACC:0.12 F1:0.05 REC:0.15 PRE:0.03:  67%|██████▋   | 2/3 [00:01<00:00,  1.27it/s]/opt/conda/lib/python3.8/site-packages/sklearn/metrics/_classification.py:1248: UndefinedMetricWarning: Precision is ill-defined and being set to 0.0 in labels with no predicted samples. Use `zero_division` parameter to control this behavior.\n",
      "  _warn_prf(average, modifier, msg_start, len(result))\n",
      "VALID LOSS:2.0898 ACC:0.15 F1:0.05 REC:0.11 PRE:0.03: 100%|██████████| 3/3 [00:02<00:00,  1.44it/s]\n",
      "/opt/conda/lib/python3.8/site-packages/sklearn/metrics/_classification.py:1248: UndefinedMetricWarning: Precision is ill-defined and being set to 0.0 in labels with no predicted samples. Use `zero_division` parameter to control this behavior.\n",
      "  _warn_prf(average, modifier, msg_start, len(result))\n"
     ]
    },
    {
     "name": "stdout",
     "output_type": "stream",
     "text": [
      "(Epoch 1) VALID LOSS:2.0898 ACC:0.15 F1:0.05 REC:0.11 PRE:0.03\n"
     ]
    },
    {
     "name": "stderr",
     "output_type": "stream",
     "text": [
      "(Epoch 2) TRAIN LOSS:1.8378 LR:0.00002000: 100%|██████████| 30/30 [00:16<00:00,  1.81it/s]\n"
     ]
    },
    {
     "name": "stdout",
     "output_type": "stream",
     "text": [
      "(Epoch 2) TRAIN LOSS:1.8378 ACC:0.41 F1:0.39 REC:0.39 PRE:0.46 LR:0.00002000\n"
     ]
    },
    {
     "name": "stderr",
     "output_type": "stream",
     "text": [
      "VALID LOSS:1.3588 ACC:0.81 F1:0.81 REC:0.85 PRE:0.84:  33%|███▎      | 1/3 [00:01<00:03,  1.65s/it]/opt/conda/lib/python3.8/site-packages/sklearn/metrics/_classification.py:1248: UndefinedMetricWarning: Recall is ill-defined and being set to 0.0 in labels with no true samples. Use `zero_division` parameter to control this behavior.\n",
      "  _warn_prf(average, modifier, msg_start, len(result))\n",
      "VALID LOSS:1.3159 ACC:0.75 F1:0.65 REC:0.68 PRE:0.69: 100%|██████████| 3/3 [00:02<00:00,  1.45it/s]\n"
     ]
    },
    {
     "name": "stdout",
     "output_type": "stream",
     "text": [
      "(Epoch 2) VALID LOSS:1.3159 ACC:0.75 F1:0.65 REC:0.68 PRE:0.69\n"
     ]
    },
    {
     "name": "stderr",
     "output_type": "stream",
     "text": [
      "(Epoch 3) TRAIN LOSS:1.0148 LR:0.00002000: 100%|██████████| 30/30 [00:16<00:00,  1.83it/s]\n"
     ]
    },
    {
     "name": "stdout",
     "output_type": "stream",
     "text": [
      "(Epoch 3) TRAIN LOSS:1.0148 ACC:0.82 F1:0.81 REC:0.81 PRE:0.82 LR:0.00002000\n"
     ]
    },
    {
     "name": "stderr",
     "output_type": "stream",
     "text": [
      "VALID LOSS:0.8757 ACC:0.81 F1:0.81 REC:0.83 PRE:0.81:  33%|███▎      | 1/3 [00:01<00:03,  1.66s/it]/opt/conda/lib/python3.8/site-packages/sklearn/metrics/_classification.py:1248: UndefinedMetricWarning: Recall is ill-defined and being set to 0.0 in labels with no true samples. Use `zero_division` parameter to control this behavior.\n",
      "  _warn_prf(average, modifier, msg_start, len(result))\n",
      "VALID LOSS:0.7425 ACC:0.85 F1:0.82 REC:0.87 PRE:0.82: 100%|██████████| 3/3 [00:02<00:00,  1.45it/s]\n"
     ]
    },
    {
     "name": "stdout",
     "output_type": "stream",
     "text": [
      "(Epoch 3) VALID LOSS:0.7425 ACC:0.85 F1:0.82 REC:0.87 PRE:0.82\n"
     ]
    },
    {
     "name": "stderr",
     "output_type": "stream",
     "text": [
      "(Epoch 4) TRAIN LOSS:0.4954 LR:0.00002000: 100%|██████████| 30/30 [00:16<00:00,  1.83it/s]\n"
     ]
    },
    {
     "name": "stdout",
     "output_type": "stream",
     "text": [
      "(Epoch 4) TRAIN LOSS:0.4954 ACC:0.89 F1:0.88 REC:0.88 PRE:0.88 LR:0.00002000\n"
     ]
    },
    {
     "name": "stderr",
     "output_type": "stream",
     "text": [
      "  0%|          | 0/3 [00:00<?, ?it/s]/opt/conda/lib/python3.8/site-packages/sklearn/metrics/_classification.py:1248: UndefinedMetricWarning: Recall is ill-defined and being set to 0.0 in labels with no true samples. Use `zero_division` parameter to control this behavior.\n",
      "  _warn_prf(average, modifier, msg_start, len(result))\n",
      "VALID LOSS:0.8437 ACC:0.75 F1:0.67 REC:0.70 PRE:0.72:  33%|███▎      | 1/3 [00:01<00:03,  1.69s/it]/opt/conda/lib/python3.8/site-packages/sklearn/metrics/_classification.py:1248: UndefinedMetricWarning: Recall is ill-defined and being set to 0.0 in labels with no true samples. Use `zero_division` parameter to control this behavior.\n",
      "  _warn_prf(average, modifier, msg_start, len(result))\n",
      "VALID LOSS:0.6086 ACC:0.83 F1:0.80 REC:0.84 PRE:0.83: 100%|██████████| 3/3 [00:02<00:00,  1.42it/s]\n"
     ]
    },
    {
     "name": "stdout",
     "output_type": "stream",
     "text": [
      "(Epoch 4) VALID LOSS:0.6086 ACC:0.83 F1:0.80 REC:0.84 PRE:0.83\n"
     ]
    },
    {
     "name": "stderr",
     "output_type": "stream",
     "text": [
      "(Epoch 5) TRAIN LOSS:0.2792 LR:0.00002000: 100%|██████████| 30/30 [00:16<00:00,  1.81it/s]\n"
     ]
    },
    {
     "name": "stdout",
     "output_type": "stream",
     "text": [
      "(Epoch 5) TRAIN LOSS:0.2792 ACC:0.94 F1:0.94 REC:0.93 PRE:0.94 LR:0.00002000\n"
     ]
    },
    {
     "name": "stderr",
     "output_type": "stream",
     "text": [
      "  0%|          | 0/3 [00:00<?, ?it/s]/opt/conda/lib/python3.8/site-packages/sklearn/metrics/_classification.py:1248: UndefinedMetricWarning: Recall is ill-defined and being set to 0.0 in labels with no true samples. Use `zero_division` parameter to control this behavior.\n",
      "  _warn_prf(average, modifier, msg_start, len(result))\n",
      "VALID LOSS:1.0442 ACC:0.75 F1:0.67 REC:0.70 PRE:0.72:  33%|███▎      | 1/3 [00:01<00:03,  1.68s/it]/opt/conda/lib/python3.8/site-packages/sklearn/metrics/_classification.py:1248: UndefinedMetricWarning: Recall is ill-defined and being set to 0.0 in labels with no true samples. Use `zero_division` parameter to control this behavior.\n",
      "  _warn_prf(average, modifier, msg_start, len(result))\n",
      "VALID LOSS:0.6139 ACC:0.83 F1:0.79 REC:0.84 PRE:0.83: 100%|██████████| 3/3 [00:02<00:00,  1.43it/s]\n"
     ]
    },
    {
     "name": "stdout",
     "output_type": "stream",
     "text": [
      "(Epoch 5) VALID LOSS:0.6139 ACC:0.83 F1:0.79 REC:0.84 PRE:0.83\n"
     ]
    },
    {
     "name": "stderr",
     "output_type": "stream",
     "text": [
      "(Epoch 6) TRAIN LOSS:0.1826 LR:0.00002000: 100%|██████████| 30/30 [00:16<00:00,  1.81it/s]\n"
     ]
    },
    {
     "name": "stdout",
     "output_type": "stream",
     "text": [
      "(Epoch 6) TRAIN LOSS:0.1826 ACC:0.97 F1:0.97 REC:0.97 PRE:0.97 LR:0.00002000\n"
     ]
    },
    {
     "name": "stderr",
     "output_type": "stream",
     "text": [
      "  0%|          | 0/3 [00:00<?, ?it/s]/opt/conda/lib/python3.8/site-packages/sklearn/metrics/_classification.py:1248: UndefinedMetricWarning: Recall is ill-defined and being set to 0.0 in labels with no true samples. Use `zero_division` parameter to control this behavior.\n",
      "  _warn_prf(average, modifier, msg_start, len(result))\n",
      "VALID LOSS:1.0056 ACC:0.75 F1:0.67 REC:0.70 PRE:0.72:  33%|███▎      | 1/3 [00:01<00:03,  1.71s/it]/opt/conda/lib/python3.8/site-packages/sklearn/metrics/_classification.py:1248: UndefinedMetricWarning: Recall is ill-defined and being set to 0.0 in labels with no true samples. Use `zero_division` parameter to control this behavior.\n",
      "  _warn_prf(average, modifier, msg_start, len(result))\n",
      "VALID LOSS:0.5621 ACC:0.85 F1:0.81 REC:0.86 PRE:0.84: 100%|██████████| 3/3 [00:02<00:00,  1.41it/s]\n"
     ]
    },
    {
     "name": "stdout",
     "output_type": "stream",
     "text": [
      "(Epoch 6) VALID LOSS:0.5621 ACC:0.85 F1:0.81 REC:0.86 PRE:0.84\n"
     ]
    },
    {
     "name": "stderr",
     "output_type": "stream",
     "text": [
      "(Epoch 7) TRAIN LOSS:0.1319 LR:0.00002000: 100%|██████████| 30/30 [00:16<00:00,  1.82it/s]\n"
     ]
    },
    {
     "name": "stdout",
     "output_type": "stream",
     "text": [
      "(Epoch 7) TRAIN LOSS:0.1319 ACC:0.97 F1:0.97 REC:0.97 PRE:0.97 LR:0.00002000\n"
     ]
    },
    {
     "name": "stderr",
     "output_type": "stream",
     "text": [
      "  0%|          | 0/3 [00:00<?, ?it/s]/opt/conda/lib/python3.8/site-packages/sklearn/metrics/_classification.py:1248: UndefinedMetricWarning: Recall is ill-defined and being set to 0.0 in labels with no true samples. Use `zero_division` parameter to control this behavior.\n",
      "  _warn_prf(average, modifier, msg_start, len(result))\n",
      "VALID LOSS:0.8776 ACC:0.75 F1:0.67 REC:0.70 PRE:0.72:  33%|███▎      | 1/3 [00:01<00:03,  1.65s/it]/opt/conda/lib/python3.8/site-packages/sklearn/metrics/_classification.py:1248: UndefinedMetricWarning: Recall is ill-defined and being set to 0.0 in labels with no true samples. Use `zero_division` parameter to control this behavior.\n",
      "  _warn_prf(average, modifier, msg_start, len(result))\n",
      "VALID LOSS:0.5716 ACC:0.85 F1:0.83 REC:0.86 PRE:0.85: 100%|██████████| 3/3 [00:02<00:00,  1.45it/s]"
     ]
    },
    {
     "name": "stdout",
     "output_type": "stream",
     "text": [
      "(Epoch 7) VALID LOSS:0.5716 ACC:0.85 F1:0.83 REC:0.86 PRE:0.85\n",
      "Done Training!\n"
     ]
    },
    {
     "name": "stderr",
     "output_type": "stream",
     "text": [
      "\n"
     ]
    }
   ],
   "source": [
    "from sklearn.metrics import accuracy_score, f1_score, recall_score, precision_score\n",
    "\n",
    "# list untuk menyimpan data metrics setiap training, untuk memudahkan \n",
    "# menampilkan dalam grafik\n",
    "train_acc_list = [] \n",
    "train_loss_list = []\n",
    "valid_acc_list = [] \n",
    "valid_loss_list = []\n",
    "epochs_list = []\n",
    "\n",
    "best_valid_loss = float(\"Inf\")\n",
    "\n",
    "\n",
    "# Train\n",
    "n_epochs = epochs\n",
    "for epoch in range(n_epochs):\n",
    "    torch.cuda.empty_cache()\n",
    "    model.train()\n",
    "    torch.set_grad_enabled(True)\n",
    " \n",
    "    total_train_loss = 0\n",
    "    list_hyp, list_label = [], []\n",
    "\n",
    "    train_pbar = tqdm(train_loader, leave=True, total=len(train_loader))\n",
    "\n",
    "    for i, batch_data in enumerate(train_pbar):\n",
    "        # Forward model\n",
    "        loss, batch_hyp, batch_label = forward_sequence_classification(model, batch_data[:-1], i2w=i2w, \n",
    "                                                                       device=device_idx)\n",
    "\n",
    "        # Update model\n",
    "        optimizer.zero_grad()\n",
    "        loss.backward()\n",
    "        optimizer.step()\n",
    "\n",
    "        tr_loss = loss.item()\n",
    "        total_train_loss = total_train_loss + tr_loss\n",
    "\n",
    "        # Calculate metrics\n",
    "        list_hyp += batch_hyp\n",
    "        list_label += batch_label\n",
    "\n",
    "        train_pbar.set_description(\"(Epoch {}) TRAIN LOSS:{:.4f} LR:{:.8f}\".format((epoch+1),\n",
    "            total_train_loss/(i+1), get_lr(optimizer)))\n",
    "\n",
    "    # Calculate train metric\n",
    "    metrics = location_prediction_metrics(list_hyp, list_label)\n",
    "    print(\"(Epoch {}) TRAIN LOSS:{:.4f} {} LR:{:.8f}\".format((epoch+1),\n",
    "        total_train_loss/(i+1), metrics_to_string(metrics), get_lr(optimizer)))\n",
    "    \n",
    "    train_loss_list.append(total_train_loss/(i+1))\n",
    "    train_acc_list.append(metrics['ACC'])\n",
    "    epochs_list.append(epoch)\n",
    "\n",
    "\n",
    "    # Evaluate on validation\n",
    "    model.eval()\n",
    "    torch.set_grad_enabled(False)\n",
    "    \n",
    "    total_loss, total_correct, total_labels = 0, 0, 0\n",
    "    list_hyp, list_label = [], []\n",
    "\n",
    "    pbar = tqdm(valid_loader, leave=True, total=len(valid_loader))\n",
    "\n",
    "    for i, batch_data in enumerate(pbar):\n",
    "        batch_seq = batch_data[-1]        \n",
    "        loss, batch_hyp, batch_label = forward_sequence_classification(model, batch_data[:-1], i2w=i2w, \n",
    "                                                                       device=device_idx)\n",
    "        \n",
    "        # Calculate total loss\n",
    "        valid_loss = loss.item()\n",
    "        total_loss = total_loss + valid_loss\n",
    "\n",
    "        # Calculate evaluation metrics\n",
    "        list_hyp += batch_hyp\n",
    "        list_label += batch_label\n",
    "        metrics = location_prediction_metrics(list_hyp, list_label)\n",
    "\n",
    "        pbar.set_description(\"VALID LOSS:{:.4f} {}\".format(total_loss/(i+1), metrics_to_string(metrics)))\n",
    "        \n",
    "    metrics = location_prediction_metrics(list_hyp, list_label)\n",
    "    print(\"(Epoch {}) VALID LOSS:{:.4f} {}\".format((epoch+1),\n",
    "        total_loss/(i+1), metrics_to_string(metrics)))\n",
    "    \n",
    "    valid_loss_list.append(total_loss/(i+1))\n",
    "    valid_acc_list.append(metrics['ACC'])\n",
    "\n",
    "    # checkpoint, untuk menyimpan validation loss dan metrics yang paling baik untuk seluruh epochs \n",
    "    if best_valid_loss > total_loss/(i+1):\n",
    "      best_valid_loss = total_loss/(i+1)\n",
    "      save_checkpoint(file_path + '/indoNLU_model_2e_5_batch16.pt', model, optimizer, best_valid_loss)\n",
    "\n",
    "save_metrics(file_path + '/indoNLU_metrics_2e_5_batch16.pt', train_acc_list, train_loss_list, valid_acc_list, valid_loss_list, epochs_list)\n",
    "print('Done Training!')"
   ]
  },
  {
   "cell_type": "code",
   "execution_count": 36,
   "id": "1f81c125",
   "metadata": {
    "ExecuteTime": {
     "end_time": "2022-03-22T06:41:33.211919Z",
     "start_time": "2022-03-22T06:40:12.456613Z"
    }
   },
   "outputs": [
    {
     "data": {
      "image/png": "[encoded data removed]",
      "text/plain": [
       "<Figure size 720x360 with 2 Axes>"
      ]
     },
     "metadata": {
      "needs_background": "light"
     },
     "output_type": "display_data"
    }
   ],
   "source": [
    "#  ## menampilkan history metrics akurasi dan loss \n",
    "import matplotlib.pyplot as plt\n",
    "\n",
    "train_acc_list, train_loss_list, valid_acc_list, valid_loss_list, epochs_list = load_metrics(file_path + '/indoNLU_metrics_2e_5_batch16.pt')\n",
    "fig, (ax1, ax2) = plt.subplots(1,2, figsize=(10,5))\n",
    "\n",
    "ax1.plot(epochs_list, train_acc_list, label='Train')\n",
    "ax1.plot(epochs_list, valid_acc_list, label='Valid')\n",
    "ax1.set_xlabel('Epochs')\n",
    "ax1.set_ylabel('Accuracy')\n",
    "ax1.legend()\n",
    "\n",
    "ax2.plot(epochs_list, train_loss_list, label='Train')\n",
    "ax2.plot(epochs_list, valid_loss_list, label='Valid')\n",
    "ax2.set_xlabel('Epochs')\n",
    "ax2.set_ylabel('Loss')\n",
    "ax2.legend()\n",
    "plt.show() "
   ]
  },
  {
   "cell_type": "code",
   "execution_count": 37,
   "id": "1c674d4c",
   "metadata": {
    "ExecuteTime": {
     "end_time": "2022-03-22T06:41:50.046324Z",
     "start_time": "2022-03-22T06:41:40.522170Z"
    }
   },
   "outputs": [
    {
     "name": "stderr",
     "output_type": "stream",
     "text": [
      "Some weights of BertForSequenceClassification were not initialized from the model checkpoint at indobenchmark/indobert-base-p1 and are newly initialized: ['classifier.weight', 'classifier.bias']\n",
      "You should probably TRAIN this model on a down-stream task to be able to use it for predictions and inference.\n"
     ]
    }
   ],
   "source": [
    "set_seed(42)\n",
    "\n",
    "#Load model\n",
    "mytokenizer = BertTokenizer.from_pretrained('indobenchmark/indobert-base-p1')\n",
    "\n",
    "myconfig = BertConfig.from_pretrained('indobenchmark/indobert-base-p1',\n",
    "                                    attention_probs_dropout_prob=0.3,\n",
    "                                    hidden_dropout_prob=0.3)\n",
    "myconfig.num_labels = LocationPredictionDataset.NUM_LABELS\n",
    "\n",
    "# Instantiate model\n",
    "mymodel = BertForSequenceClassification.from_pretrained('indobenchmark/indobert-base-p1', \n",
    "                                                      config=myconfig)\n"
   ]
  },
  {
   "cell_type": "code",
   "execution_count": 38,
   "id": "b84f33d8",
   "metadata": {
    "ExecuteTime": {
     "end_time": "2022-03-22T06:42:00.831688Z",
     "start_time": "2022-03-22T06:41:56.386519Z"
    }
   },
   "outputs": [
    {
     "name": "stderr",
     "output_type": "stream",
     "text": [
      "100%|██████████| 8/8 [00:03<00:00,  2.42it/s]\n"
     ]
    }
   ],
   "source": [
    "# menggunakan gpu\n",
    "best_model = mymodel.to(device)\n",
    "\n",
    "optimizer = optim.AdamW(best_model.parameters(), lr=2e-5)\n",
    "\n",
    "load_checkpoint(file_path + '/indoNLU_model_2e_5_batch16.pt', best_model, optimizer)\n",
    "\n",
    "best_model.eval()\n",
    "torch.set_grad_enabled(False)\n",
    "\n",
    "total_loss, total_correct, total_labels = 0, 0, 0\n",
    "list_hyp, list_label = [], []\n",
    "\n",
    "pbar = tqdm(test_loader, leave=True, total=len(test_loader))\n",
    "for i, batch_data in enumerate(pbar):\n",
    "    _, batch_hyp, _ = forward_sequence_classification(best_model, batch_data[:-1], i2w=i2w, device=device_idx)\n",
    "    list_hyp += batch_hyp\n",
    "\n",
    "# Save prediction\n",
    "df = pd.DataFrame({'label':list_hyp}).reset_index()"
   ]
  },
  {
   "cell_type": "code",
   "execution_count": 40,
   "id": "6a4c8468",
   "metadata": {
    "ExecuteTime": {
     "end_time": "2022-03-22T06:42:03.799663Z",
     "start_time": "2022-03-22T06:42:03.794127Z"
    }
   },
   "outputs": [
    {
     "data": {
      "text/plain": [
       "array([7, 4, 1, 7, 3, 7, 0, 2, 6, 7, 2, 1, 3, 2, 3, 1, 1, 8, 0, 8, 8, 2,\n",
       "       1, 7, 0, 4, 3, 4, 0, 4, 3, 3, 7, 3, 3, 3, 1, 6, 5, 8, 3, 6, 4, 1,\n",
       "       5, 2, 5, 8, 2, 4, 7, 1, 2, 0, 8, 2, 0, 0, 4, 8, 2, 7, 7, 2, 5, 3,\n",
       "       4, 4, 4, 2, 1, 1, 5, 3, 6, 0, 6, 1, 6, 8, 0, 7, 4, 6, 8, 3, 6, 6,\n",
       "       3, 1, 5, 1, 8, 0, 4, 6, 2, 6, 4, 0, 8, 4, 7, 8, 5, 4, 3, 8, 1, 2,\n",
       "       1, 3, 4, 1, 7, 3])"
      ]
     },
     "execution_count": 40,
     "metadata": {},
     "output_type": "execute_result"
    }
   ],
   "source": [
    "## get y_test for user level\n",
    "y_test_user_lvl = nonpersontest.Lvalue\n",
    "y_test_user_lvl.values"
   ]
  },
  {
   "cell_type": "code",
   "execution_count": 41,
   "id": "2e02f2d0",
   "metadata": {
    "ExecuteTime": {
     "end_time": "2022-03-22T06:42:04.001302Z",
     "start_time": "2022-03-22T06:42:03.994374Z"
    }
   },
   "outputs": [
    {
     "data": {
      "text/plain": [
       "array([6, 4, 1, 7, 3, 7, 0, 2, 6, 7, 2, 2, 3, 3, 3, 5, 1, 8, 0, 8, 8, 2,\n",
       "       1, 7, 0, 4, 1, 4, 0, 4, 3, 3, 7, 3, 2, 3, 4, 6, 5, 8, 3, 6, 3, 5,\n",
       "       5, 2, 5, 2, 1, 4, 1, 1, 2, 0, 8, 2, 0, 0, 4, 8, 1, 7, 1, 2, 5, 3,\n",
       "       4, 4, 4, 2, 1, 1, 5, 3, 6, 6, 6, 1, 6, 8, 0, 7, 4, 6, 8, 3, 6, 6,\n",
       "       3, 7, 5, 1, 8, 0, 4, 6, 2, 6, 4, 0, 8, 4, 7, 8, 5, 4, 3, 8, 0, 1,\n",
       "       1, 3, 4, 1, 7, 3], dtype=int8)"
      ]
     },
     "execution_count": 41,
     "metadata": {},
     "output_type": "execute_result"
    }
   ],
   "source": [
    "## get y_pred for tweets level\n",
    "y_pred_tweets_lvl = df.iloc[:,1].astype('category')\n",
    "y_pred_tweets_lvl = y_pred_tweets_lvl.cat.codes\n",
    "y_pred_tweets_lvl.values"
   ]
  },
  {
   "cell_type": "code",
   "execution_count": 42,
   "id": "a8a85390",
   "metadata": {
    "ExecuteTime": {
     "end_time": "2022-03-22T06:42:04.693489Z",
     "start_time": "2022-03-22T06:42:04.683733Z"
    }
   },
   "outputs": [
    {
     "name": "stdout",
     "output_type": "stream",
     "text": [
      "accuracy 0.84\n",
      "                            precision    recall  f1-score   support\n",
      "\n",
      "    bali dan nusa tenggara       0.91      0.91      0.91        11\n",
      "               jabodetabek       0.62      0.62      0.62        16\n",
      "     jawa barat dan banten       0.75      0.69      0.72        13\n",
      "jawa tengah dan yogyakarta       0.88      0.88      0.88        17\n",
      "                jawa timur       0.94      0.94      0.94        16\n",
      "                kalimantan       0.78      1.00      0.88         7\n",
      "          maluku dan papua       0.85      1.00      0.92        11\n",
      "                  sulawesi       0.90      0.75      0.82        12\n",
      "                  sumatera       1.00      0.92      0.96        13\n",
      "\n",
      "                  accuracy                           0.84       116\n",
      "                 macro avg       0.85      0.86      0.85       116\n",
      "              weighted avg       0.85      0.84      0.84       116\n",
      "\n"
     ]
    }
   ],
   "source": [
    "from sklearn.metrics import classification_report, accuracy_score\n",
    "\n",
    "## print classification report for user level prediction\n",
    "print('accuracy %s' % round(accuracy_score(y_test_user_lvl, y_pred_tweets_lvl),2 ))\n",
    "print(classification_report(y_test_user_lvl, y_pred_tweets_lvl,target_names=label_dict.keys()))"
   ]
  },
  {
   "cell_type": "markdown",
   "id": "46e443f0",
   "metadata": {},
   "source": [
    "## Test Person to non person"
   ]
  },
  {
   "cell_type": "code",
   "execution_count": 43,
   "id": "dce04829",
   "metadata": {
    "ExecuteTime": {
     "end_time": "2022-03-22T07:00:22.806986Z",
     "start_time": "2022-03-22T07:00:09.544217Z"
    }
   },
   "outputs": [
    {
     "name": "stderr",
     "output_type": "stream",
     "text": [
      "Some weights of BertForSequenceClassification were not initialized from the model checkpoint at indobenchmark/indobert-base-p1 and are newly initialized: ['classifier.weight', 'classifier.bias']\n",
      "You should probably TRAIN this model on a down-stream task to be able to use it for predictions and inference.\n"
     ]
    }
   ],
   "source": [
    "set_seed(42)\n",
    "\n",
    "#Load model\n",
    "mytokenizer = BertTokenizer.from_pretrained('indobenchmark/indobert-base-p1')\n",
    "\n",
    "myconfig = BertConfig.from_pretrained('indobenchmark/indobert-base-p1',\n",
    "                                    attention_probs_dropout_prob=0.3,\n",
    "                                    hidden_dropout_prob=0.3)\n",
    "myconfig.num_labels = LocationPredictionDataset.NUM_LABELS\n",
    "\n",
    "# Instantiate model\n",
    "mymodel = BertForSequenceClassification.from_pretrained('indobenchmark/indobert-base-p1', \n",
    "                                                      config=myconfig)\n"
   ]
  },
  {
   "cell_type": "code",
   "execution_count": 44,
   "id": "3b9b9c4a",
   "metadata": {
    "ExecuteTime": {
     "end_time": "2022-03-22T07:00:29.180153Z",
     "start_time": "2022-03-22T07:00:22.809625Z"
    }
   },
   "outputs": [
    {
     "name": "stderr",
     "output_type": "stream",
     "text": [
      "100%|██████████| 8/8 [00:03<00:00,  2.07it/s]\n"
     ]
    }
   ],
   "source": [
    "# menggunakan gpu\n",
    "best_model = mymodel.to(device)\n",
    "\n",
    "optimizer = optim.AdamW(best_model.parameters(), lr=2e-5)\n",
    "\n",
    "file_path = 'person_saved_model'\n",
    "\n",
    "load_checkpoint(file_path + '/indoNLU_model_2e_5_batch16.pt', best_model, optimizer)\n",
    "\n",
    "best_model.eval()\n",
    "torch.set_grad_enabled(False)\n",
    "\n",
    "total_loss, total_correct, total_labels = 0, 0, 0\n",
    "list_hyp, list_label = [], []\n",
    "\n",
    "pbar = tqdm(test_loader, leave=True, total=len(test_loader))\n",
    "for i, batch_data in enumerate(pbar):\n",
    "    _, batch_hyp, _ = forward_sequence_classification(best_model, batch_data[:-1], i2w=i2w, device=device_idx)\n",
    "    list_hyp += batch_hyp\n",
    "\n",
    "# Save prediction\n",
    "df = pd.DataFrame({'label':list_hyp}).reset_index()"
   ]
  },
  {
   "cell_type": "code",
   "execution_count": 45,
   "id": "a0e9d61b",
   "metadata": {
    "ExecuteTime": {
     "end_time": "2022-03-22T07:00:29.194173Z",
     "start_time": "2022-03-22T07:00:29.182806Z"
    }
   },
   "outputs": [
    {
     "name": "stdout",
     "output_type": "stream",
     "text": [
      "accuracy 0.6\n",
      "                            precision    recall  f1-score   support\n",
      "\n",
      "    bali dan nusa tenggara       0.71      0.91      0.80        11\n",
      "               jabodetabek       0.50      0.56      0.53        16\n",
      "     jawa barat dan banten       0.75      0.23      0.35        13\n",
      "jawa tengah dan yogyakarta       0.44      0.82      0.57        17\n",
      "                jawa timur       0.67      0.12      0.21        16\n",
      "                kalimantan       0.83      0.71      0.77         7\n",
      "          maluku dan papua       0.71      0.91      0.80        11\n",
      "                  sulawesi       0.67      0.83      0.74        12\n",
      "                  sumatera       0.70      0.54      0.61        13\n",
      "\n",
      "                  accuracy                           0.60       116\n",
      "                 macro avg       0.66      0.63      0.60       116\n",
      "              weighted avg       0.64      0.60      0.57       116\n",
      "\n"
     ]
    }
   ],
   "source": [
    "from sklearn.metrics import accuracy_score, f1_score, recall_score, precision_score, classification_report\n",
    "\n",
    "\n",
    "## get y_pred for tweets level\n",
    "y_pred_tweets_lvl_person = df.iloc[:,1].astype('category')\n",
    "y_pred_tweets_lvl_person = y_pred_tweets_lvl_person.cat.codes\n",
    "\n",
    "\n",
    "## print classification report for user level prediction\n",
    "print('accuracy %s' % round(accuracy_score(nonpersontest.Lvalue, y_pred_tweets_lvl_person),2 ))\n",
    "print(classification_report(nonpersontest.Lvalue, y_pred_tweets_lvl_person,target_names=label_dict.keys()))"
   ]
  },
  {
   "cell_type": "code",
   "execution_count": null,
   "id": "9c852cda",
   "metadata": {},
   "outputs": [],
   "source": []
  }
 ],
 "metadata": {
  "kernelspec": {
   "display_name": "Python 3",
   "language": "python",
   "name": "python3"
  },
  "language_info": {
   "codemirror_mode": {
    "name": "ipython",
    "version": 3
   },
   "file_extension": ".py",
   "mimetype": "text/x-python",
   "name": "python",
   "nbconvert_exporter": "python",
   "pygments_lexer": "ipython3",
   "version": "3.8.10"
  },
  "toc": {
   "base_numbering": 1,
   "nav_menu": {
    "height": "79px",
    "width": "212px"
   },
   "number_sections": true,
   "sideBar": true,
   "skip_h1_title": false,
   "title_cell": "Table of Contents",
   "title_sidebar": "Contents",
   "toc_cell": false,
   "toc_position": {},
   "toc_section_display": true,
   "toc_window_display": true
  },
  "varInspector": {
   "cols": {
    "lenName": 16,
    "lenType": 16,
    "lenVar": 40
   },
   "kernels_config": {
    "python": {
     "delete_cmd_postfix": "",
     "delete_cmd_prefix": "del ",
     "library": "var_list.py",
     "varRefreshCmd": "print(var_dic_list())"
    },
    "r": {
     "delete_cmd_postfix": ") ",
     "delete_cmd_prefix": "rm(",
     "library": "var_list.r",
     "varRefreshCmd": "cat(var_dic_list()) "
    }
   },
   "types_to_exclude": [
    "module",
    "function",
    "builtin_function_or_method",
    "instance",
    "_Feature"
   ],
   "window_display": false
  }
 },
 "nbformat": 4,
 "nbformat_minor": 5
}
