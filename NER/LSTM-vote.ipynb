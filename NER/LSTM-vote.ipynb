{
 "cells": [
  {
   "cell_type": "markdown",
   "id": "171bdaac",
   "metadata": {},
   "source": [
    "## Library import"
   ]
  },
  {
   "cell_type": "code",
   "execution_count": 1,
   "id": "3f8a1897",
   "metadata": {
    "ExecuteTime": {
     "end_time": "2022-03-13T13:41:37.386929Z",
     "start_time": "2022-03-13T13:41:33.088511Z"
    }
   },
   "outputs": [],
   "source": [
    "import pandas as pd \n",
    "import numpy as np\n",
    "import time \n",
    "import matplotlib.pyplot as plt\n",
    "\n",
    "import keras\n",
    "from keras.preprocessing.text import Tokenizer\n",
    "from keras.preprocessing.sequence import pad_sequences\n",
    "\n",
    "import torch \n",
    "# preliminaries \n",
    "import torchtext\n",
    "from torchtext.legacy.data import Field, LabelField, TabularDataset, BucketIterator\n",
    "# models\n",
    "import torch.nn as nn\n",
    "from torch.nn.utils.rnn import pack_padded_sequence, pad_packed_sequence\n",
    "import torch.nn.functional as F\n",
    "# training\n",
    "import torch.optim as optim\n",
    "# reproducible\n",
    "SEED = 42\n",
    "#Torch\n",
    "torch.manual_seed(SEED)\n",
    "#algoritma cuda\n",
    "torch.backends.cudnn.deterministic = True "
   ]
  },
  {
   "cell_type": "code",
   "execution_count": 4,
   "id": "4ce7d254",
   "metadata": {
    "ExecuteTime": {
     "end_time": "2022-03-13T13:42:27.280052Z",
     "start_time": "2022-03-13T13:42:25.696758Z"
    }
   },
   "outputs": [
    {
     "name": "stdout",
     "output_type": "stream",
     "text": [
      "Sun Mar 13 13:42:26 2022       \n",
      "+-----------------------------------------------------------------------------+\n",
      "| NVIDIA-SMI 418.126.02   Driver Version: 418.126.02   CUDA Version: 11.4     |\n",
      "|-------------------------------+----------------------+----------------------+\n",
      "| GPU  Name        Persistence-M| Bus-Id        Disp.A | Volatile Uncorr. ECC |\n",
      "| Fan  Temp  Perf  Pwr:Usage/Cap|         Memory-Usage | GPU-Util  Compute M. |\n",
      "|===============================+======================+======================|\n",
      "|   0  Tesla V100-SXM2...  On   | 00000000:06:00.0 Off |                    0 |\n",
      "| N/A   35C    P0    57W / 300W |  19642MiB / 32480MiB |      0%      Default |\n",
      "+-------------------------------+----------------------+----------------------+\n",
      "|   1  Tesla V100-SXM2...  On   | 00000000:07:00.0 Off |                    0 |\n",
      "| N/A   45C    P0   162W / 300W |  16998MiB / 32480MiB |     91%      Default |\n",
      "+-------------------------------+----------------------+----------------------+\n",
      "|   2  Tesla V100-SXM2...  On   | 00000000:0A:00.0 Off |                    0 |\n",
      "| N/A   51C    P0   106W / 300W |  16324MiB / 32480MiB |     28%      Default |\n",
      "+-------------------------------+----------------------+----------------------+\n",
      "|   3  Tesla V100-SXM2...  On   | 00000000:0B:00.0 Off |                    0 |\n",
      "| N/A   50C    P0   192W / 300W |  15974MiB / 32480MiB |     73%      Default |\n",
      "+-------------------------------+----------------------+----------------------+\n",
      "|   4  Tesla V100-SXM2...  On   | 00000000:85:00.0 Off |                    0 |\n",
      "| N/A   38C    P0    58W / 300W |  20941MiB / 32480MiB |      0%      Default |\n",
      "+-------------------------------+----------------------+----------------------+\n",
      "|   5  Tesla V100-SXM2...  On   | 00000000:86:00.0 Off |                    0 |\n",
      "| N/A   40C    P0    58W / 300W |   4697MiB / 32480MiB |      0%      Default |\n",
      "+-------------------------------+----------------------+----------------------+\n",
      "|   6  Tesla V100-SXM2...  On   | 00000000:89:00.0 Off |                    0 |\n",
      "| N/A   63C    P0   278W / 300W |  31598MiB / 32480MiB |     83%      Default |\n",
      "+-------------------------------+----------------------+----------------------+\n",
      "|   7  Tesla V100-SXM2...  On   | 00000000:8A:00.0 Off |                    0 |\n",
      "| N/A   34C    P0    55W / 300W |   5269MiB / 32480MiB |      0%      Default |\n",
      "+-------------------------------+----------------------+----------------------+\n",
      "                                                                               \n",
      "+-----------------------------------------------------------------------------+\n",
      "| Processes:                                                       GPU Memory |\n",
      "|  GPU       PID   Type   Process name                             Usage      |\n",
      "|=============================================================================|\n",
      "+-----------------------------------------------------------------------------+\n"
     ]
    }
   ],
   "source": [
    "!nvidia-smi"
   ]
  },
  {
   "cell_type": "code",
   "execution_count": 5,
   "id": "fd07a4ec",
   "metadata": {
    "ExecuteTime": {
     "end_time": "2022-03-13T13:42:33.592547Z",
     "start_time": "2022-03-13T13:42:33.587876Z"
    }
   },
   "outputs": [
    {
     "data": {
      "text/plain": [
       "3"
      ]
     },
     "execution_count": 5,
     "metadata": {},
     "output_type": "execute_result"
    }
   ],
   "source": [
    "torch.cuda.set_device(3)\n",
    "device = torch.device('cuda:3' if torch.cuda.is_available() else 'cpu')\n",
    "device_idx = \"cuda:3\"\n",
    "torch.cuda.current_device()"
   ]
  },
  {
   "cell_type": "markdown",
   "id": "19b052c3",
   "metadata": {},
   "source": [
    "## Prepare dataset"
   ]
  },
  {
   "cell_type": "code",
   "execution_count": 11,
   "id": "7b88d241",
   "metadata": {
    "ExecuteTime": {
     "end_time": "2022-03-13T13:44:48.894422Z",
     "start_time": "2022-03-13T13:44:48.890598Z"
    }
   },
   "outputs": [],
   "source": [
    "userPATH ='revision_dataset/'\n",
    "tweetPATH ='revision_dataset/'"
   ]
  },
  {
   "cell_type": "code",
   "execution_count": 12,
   "id": "5a3cc86c",
   "metadata": {
    "ExecuteTime": {
     "end_time": "2022-03-13T13:44:49.227717Z",
     "start_time": "2022-03-13T13:44:49.213779Z"
    }
   },
   "outputs": [],
   "source": [
    "userlvltrain = pd.read_csv(userPATH+'/userlvltrain.csv')\n",
    "userlvltest = pd.read_csv(userPATH+'/userlvltest.csv')\n",
    "userlvlval = pd.read_csv(userPATH+'/userlvlval.csv')"
   ]
  },
  {
   "cell_type": "code",
   "execution_count": 13,
   "id": "1b8b51b8",
   "metadata": {
    "ExecuteTime": {
     "end_time": "2022-03-13T13:44:50.307279Z",
     "start_time": "2022-03-13T13:44:49.781740Z"
    }
   },
   "outputs": [],
   "source": [
    "train_df = pd.read_csv(tweetPATH+'/train_df.csv')\n",
    "test_df = pd.read_csv(tweetPATH+'/test_df.csv')\n",
    "val_df = pd.read_csv(tweetPATH+'/val_df.csv')"
   ]
  },
  {
   "cell_type": "code",
   "execution_count": 16,
   "id": "5f1b75c9",
   "metadata": {
    "ExecuteTime": {
     "end_time": "2022-03-13T13:45:42.088702Z",
     "start_time": "2022-03-13T13:45:42.058540Z"
    }
   },
   "outputs": [],
   "source": [
    "tweets_xtrain_df = pd.DataFrame()\n",
    "tweets_xtest_df = pd.DataFrame()\n",
    "tweets_xval_df = pd.DataFrame()\n",
    "\n",
    "tweets_xtrain_df['text'] = train_df.text.copy()\n",
    "tweets_xtrain_df['label'] = train_df.Lvalue.copy()\n",
    "tweets_xval_df['text'] = val_df.text.copy()\n",
    "tweets_xval_df['label'] = val_df.Lvalue.copy()\n",
    "tweets_xtest_df['text'] = test_df.text.copy()\n",
    "tweets_xtest_df['label'] = test_df.Lvalue.copy()"
   ]
  },
  {
   "cell_type": "code",
   "execution_count": 18,
   "id": "0536661b",
   "metadata": {
    "ExecuteTime": {
     "end_time": "2022-03-13T13:46:04.164340Z",
     "start_time": "2022-03-13T13:46:02.613016Z"
    }
   },
   "outputs": [
    {
     "name": "stdout",
     "output_type": "stream",
     "text": [
      "94654 vocab size\n",
      "282 max len\n",
      "200 embedding dim\n",
      "128 batch size\n"
     ]
    }
   ],
   "source": [
    "tokenizer = Tokenizer(oov_token=True)\n",
    "tokenizer.fit_on_texts(tweets_xtrain_df.text)\n",
    "word_index = tokenizer.word_index\n",
    "\n",
    "# The maximum number of words to be used. \n",
    "vocab_size = len(word_index) + 1 \n",
    "# Max number of words in each tweets.  \n",
    "maxlen = tweets_xtrain_df.text.str.len().max() \n",
    "# This is fixed.\n",
    "embedding_size = 200\n",
    "batch_size = 128\n",
    "\n",
    "print(vocab_size, \"vocab size\")\n",
    "print(maxlen, \"max len\")\n",
    "print(embedding_size, \"embedding dim\")\n",
    "print(batch_size, \"batch size\")"
   ]
  },
  {
   "cell_type": "code",
   "execution_count": 19,
   "id": "32763c5b",
   "metadata": {
    "ExecuteTime": {
     "end_time": "2022-03-13T13:46:11.728915Z",
     "start_time": "2022-03-13T13:46:11.494927Z"
    }
   },
   "outputs": [
    {
     "data": {
      "text/plain": [
       "array(['bali dan nusa tenggara', 'jabodetabek', 'jawa barat dan banten',\n",
       "       'jawa tengah dan yogyakarta', 'jawa timur', 'kalimantan',\n",
       "       'maluku dan papua', 'sulawesi', 'sumatera'], dtype=object)"
      ]
     },
     "execution_count": 19,
     "metadata": {},
     "output_type": "execute_result"
    }
   ],
   "source": [
    "Y_train = tweets_xtrain_df.label\n",
    "Y_test = tweets_xtest_df.label\n",
    "Y_valid = tweets_xval_df.label\n",
    "\n",
    "from sklearn import preprocessing\n",
    "le = preprocessing.LabelEncoder()\n",
    "le.fit(userlvltrain.userLocation)\n",
    "label_names = le.classes_\n",
    "label_names"
   ]
  },
  {
   "cell_type": "code",
   "execution_count": 20,
   "id": "c484aa70",
   "metadata": {
    "ExecuteTime": {
     "end_time": "2022-03-13T13:46:34.136516Z",
     "start_time": "2022-03-13T13:46:27.751478Z"
    }
   },
   "outputs": [],
   "source": [
    "# tokenizer and padding\n",
    "X_train = tokenizer.texts_to_sequences(tweets_xtrain_df.text.values)\n",
    "X_train = pad_sequences(X_train, maxlen=maxlen)\n",
    "X_test = tokenizer.texts_to_sequences(tweets_xtest_df.text.values) \n",
    "X_test = pad_sequences(X_test, maxlen=maxlen)\n",
    "X_valid = tokenizer.texts_to_sequences(tweets_xval_df.text.values) \n",
    "X_valid = pad_sequences(X_valid, maxlen=maxlen)\n",
    "\n",
    "# Load train and test in CUDA Memory\n",
    "x_train = torch.tensor(X_train, dtype=torch.long).cuda()\n",
    "y_train = torch.tensor(Y_train, dtype=torch.long).cuda()\n",
    "x_test = torch.tensor(X_test, dtype=torch.long).cuda() \n",
    "y_test = torch.tensor(Y_test, dtype=torch.long).cuda()\n",
    "x_valid = torch.tensor(X_valid, dtype=torch.long).cuda()\n",
    "y_valid = torch.tensor(Y_valid, dtype=torch.long).cuda()\n",
    "\n",
    "# Create Torch datasets\n",
    "train = torch.utils.data.TensorDataset(x_train, y_train)\n",
    "test = torch.utils.data.TensorDataset(x_test, y_test)\n",
    "valid = torch.utils.data.TensorDataset(x_valid, y_valid)\n",
    "\n",
    "\n",
    "# Create Data Loaders\n",
    "train_loader = torch.utils.data.DataLoader(train, batch_size=batch_size, shuffle=True)\n",
    "test_loader = torch.utils.data.DataLoader(test, batch_size=batch_size, shuffle=False)\n",
    "valid_loader = torch.utils.data.DataLoader(valid, batch_size=batch_size, shuffle=False)"
   ]
  },
  {
   "cell_type": "markdown",
   "id": "84f79b32",
   "metadata": {},
   "source": [
    "## LSTM "
   ]
  },
  {
   "cell_type": "code",
   "execution_count": 21,
   "id": "dce239f0",
   "metadata": {
    "ExecuteTime": {
     "end_time": "2022-03-13T13:46:40.732627Z",
     "start_time": "2022-03-13T13:46:40.726332Z"
    }
   },
   "outputs": [],
   "source": [
    "class BiLSTM(nn.Module):\n",
    "    \n",
    "    def __init__(self):\n",
    "        super(BiLSTM, self).__init__()\n",
    "        self.hidden_size = 256\n",
    "        drp = 0.25\n",
    "        n_classes = len(le.classes_)\n",
    "        \n",
    "        self.embedding = nn.Embedding(vocab_size, embedding_size)\n",
    "#         self.embedding.weight.requires_grad = False\n",
    "        self.lstm = nn.LSTM(embedding_size, self.hidden_size, bidirectional=True, batch_first=True)\n",
    "        self.linear = nn.Linear(self.hidden_size*4 , 256)\n",
    "        self.relu = nn.ReLU()\n",
    "        self.dropout = nn.Dropout(drp)\n",
    "        self.out = nn.Linear(256, n_classes)\n",
    "\n",
    "\n",
    "    def forward(self, x):\n",
    "        #rint(x.size())\n",
    "        h_embedding = self.embedding(x)\n",
    "        #_embedding = torch.squeeze(torch.unsqueeze(h_embedding, 0))\n",
    "        h_lstm, _ = self.lstm(h_embedding)\n",
    "        avg_pool = torch.mean(h_lstm, 1)\n",
    "        max_pool, _ = torch.max(h_lstm, 1)\n",
    "        conc = torch.cat(( avg_pool, max_pool), 1)\n",
    "        conc = self.relu(self.linear(conc))\n",
    "        conc = self.dropout(conc)\n",
    "        out = self.out(conc)\n",
    "        return out"
   ]
  },
  {
   "cell_type": "markdown",
   "id": "beb92b15",
   "metadata": {},
   "source": [
    "### LSTM training and Evaluation"
   ]
  },
  {
   "cell_type": "code",
   "execution_count": 22,
   "id": "424d4b0a",
   "metadata": {
    "ExecuteTime": {
     "end_time": "2022-03-13T13:51:47.770920Z",
     "start_time": "2022-03-13T13:46:49.980579Z"
    }
   },
   "outputs": [
    {
     "name": "stdout",
     "output_type": "stream",
     "text": [
      "Epoch 1/10 \t loss=1.6211 \t val_loss=1.8797  \t val_acc=0.3343  \t time=75.59s\n",
      "Epoch 2/10 \t loss=1.1638 \t val_loss=2.0080  \t val_acc=0.3359  \t time=73.23s\n",
      "Epoch 3/10 \t loss=0.8775 \t val_loss=2.1634  \t val_acc=0.3362  \t time=73.65s\n",
      "Epoch 4/10 \t loss=0.6498 \t val_loss=2.5436  \t val_acc=0.3434  \t time=73.87s\n",
      "Early stopping!\n"
     ]
    }
   ],
   "source": [
    "n_epochs = 10\n",
    "n_epochs_stop = 3 \n",
    "epochs_no_improve = 0\n",
    "early_stop = False\n",
    "min_val_loss = np.Inf\n",
    "\n",
    "\n",
    "lstm = BiLSTM()\n",
    "loss_fn = nn.CrossEntropyLoss()\n",
    "optimizer = torch.optim.AdamW(filter(lambda p: p.requires_grad, lstm.parameters()), lr=5e-3)\n",
    "lstm.cuda()\n",
    "\n",
    "train_loss = []\n",
    "valid_loss = []\n",
    "\n",
    "for epoch in range(n_epochs):\n",
    "    start_time = time.time()\n",
    "    # Set model to train configuration\n",
    "    lstm.train()\n",
    "    avg_loss = 0.  \n",
    "    for i, (x_batch, y_batch) in enumerate(train_loader):\n",
    "        # Predict/Forward Pass\n",
    "        y_pred = lstm(x_batch)\n",
    "        # Compute loss\n",
    "        loss = loss_fn(y_pred, y_batch)\n",
    "        optimizer.zero_grad()\n",
    "        loss.backward()\n",
    "        optimizer.step()\n",
    "        avg_loss += loss.item() / len(train_loader)\n",
    "\n",
    "        if avg_loss < min_val_loss:\n",
    "          epochs_no_improve = 0\n",
    "          min_val_loss = avg_loss\n",
    "        else:\n",
    "          epochs_no_improve += 1 \n",
    "        \n",
    "        if epoch>3 and epochs_no_improve == n_epochs_stop:\n",
    "            print('Early stopping!' )\n",
    "            early_stop = True\n",
    "            break\n",
    "        else:\n",
    "            continue\n",
    "        break\n",
    "    if early_stop:\n",
    "      break\n",
    "  \n",
    "    # Set model to validation configuration -Doesn't get trained here\n",
    "    lstm.eval()        \n",
    "    avg_val_loss = 0.\n",
    "    val_preds = np.zeros((len(x_valid),len(le.classes_)))\n",
    "    \n",
    "    for i, (x_batch, y_batch) in enumerate(valid_loader):\n",
    "        y_pred = lstm(x_batch).detach()\n",
    "        avg_val_loss += loss_fn(y_pred, y_batch).item() / len(valid_loader)\n",
    "        # keep/store predictions\n",
    "        val_preds[i * batch_size:(i+1) * batch_size] = F.softmax(y_pred, dim = 1).cpu().numpy()\n",
    "    \n",
    "    # Check Accuracy\n",
    "    val_accuracy = sum(val_preds.argmax(axis=1)==Y_valid)/len(Y_valid)\n",
    "    train_loss.append(avg_loss)\n",
    "    valid_loss.append(avg_val_loss)\n",
    "    elapsed_time = time.time() - start_time \n",
    "    print('Epoch {}/{} \\t loss={:.4f} \\t val_loss={:.4f}  \\t val_acc={:.4f}  \\t time={:.2f}s'.format(\n",
    "                epoch + 1, n_epochs, avg_loss, avg_val_loss, val_accuracy, elapsed_time))"
   ]
  },
  {
   "cell_type": "code",
   "execution_count": 23,
   "id": "9e7a08db",
   "metadata": {
    "ExecuteTime": {
     "end_time": "2022-03-13T13:52:27.272805Z",
     "start_time": "2022-03-13T13:52:26.985849Z"
    }
   },
   "outputs": [
    {
     "data": {
      "image/png": "[encoded data removed]",
      "text/plain": [
       "<Figure size 360x360 with 1 Axes>"
      ]
     },
     "metadata": {
      "needs_background": "light"
     },
     "output_type": "display_data"
    }
   ],
   "source": [
    "def plot_graph(epochs):\n",
    "    fig = plt.figure(figsize=(5,5))\n",
    "    plt.title(\"Train/Validation Loss\")\n",
    "    plt.plot(list(np.arange(epochs) + 1) , train_loss, label='train')\n",
    "    plt.plot(list(np.arange(epochs) + 1), valid_loss, label='validation')\n",
    "    plt.xlabel('num_epochs', fontsize=12)\n",
    "    plt.ylabel('loss', fontsize=12)\n",
    "    plt.legend(loc='best')\n",
    "plot_graph(epoch)"
   ]
  },
  {
   "cell_type": "code",
   "execution_count": 24,
   "id": "2fb6998f",
   "metadata": {
    "ExecuteTime": {
     "end_time": "2022-03-13T13:52:43.013146Z",
     "start_time": "2022-03-13T13:52:42.781991Z"
    }
   },
   "outputs": [],
   "source": [
    "torch.save(lstm.state_dict(), 'lstm-vote.pt')"
   ]
  },
  {
   "cell_type": "code",
   "execution_count": 25,
   "id": "9ffd4044",
   "metadata": {
    "ExecuteTime": {
     "end_time": "2022-03-13T13:52:48.284688Z",
     "start_time": "2022-03-13T13:52:47.985940Z"
    }
   },
   "outputs": [
    {
     "data": {
      "text/plain": [
       "BiLSTM(\n",
       "  (embedding): Embedding(94654, 200)\n",
       "  (lstm): LSTM(200, 256, batch_first=True, bidirectional=True)\n",
       "  (linear): Linear(in_features=1024, out_features=256, bias=True)\n",
       "  (relu): ReLU()\n",
       "  (dropout): Dropout(p=0.25, inplace=False)\n",
       "  (out): Linear(in_features=256, out_features=9, bias=True)\n",
       ")"
      ]
     },
     "execution_count": 25,
     "metadata": {},
     "output_type": "execute_result"
    }
   ],
   "source": [
    "saved_model = BiLSTM()\n",
    "saved_model.load_state_dict(torch.load('lstm-vote.pt'))\n",
    "saved_model.eval()\n",
    "saved_model.cuda()"
   ]
  },
  {
   "cell_type": "code",
   "execution_count": 26,
   "id": "758e4414",
   "metadata": {
    "ExecuteTime": {
     "end_time": "2022-03-13T13:52:58.549042Z",
     "start_time": "2022-03-13T13:52:52.589838Z"
    }
   },
   "outputs": [],
   "source": [
    "#  Fungsi evaluasi\n",
    "def predict(model, test_loader):\n",
    "    model.eval()\n",
    "    with torch.no_grad():\n",
    "      test_preds = np.zeros((len(x_test),len(le.classes_)))\n",
    "      for i, (x_batch, y_batch) in enumerate(test_loader):\n",
    "        y_pred = model(x_batch).detach()\n",
    "        # keep/store predictions\n",
    "        test_preds[i * batch_size:(i+1) * batch_size] = F.softmax(y_pred, dim = 1).cpu().numpy()\n",
    "      test_preds = test_preds.argmax(axis=1)\n",
    "      return test_preds\n",
    "\n",
    "ypred = predict(saved_model, test_loader) "
   ]
  },
  {
   "cell_type": "code",
   "execution_count": 27,
   "id": "7d684341",
   "metadata": {
    "ExecuteTime": {
     "end_time": "2022-03-13T13:53:02.695904Z",
     "start_time": "2022-03-13T13:53:02.609277Z"
    }
   },
   "outputs": [],
   "source": [
    "pred = test_df[['screen_name']].copy()\n",
    "pred['Lpredict'] = ypred\n",
    "y_pred = pred.groupby(['screen_name'], sort=False).agg(lambda x:x.value_counts().index[0])"
   ]
  },
  {
   "cell_type": "code",
   "execution_count": 28,
   "id": "de219628",
   "metadata": {
    "ExecuteTime": {
     "end_time": "2022-03-13T13:53:05.932564Z",
     "start_time": "2022-03-13T13:53:05.910513Z"
    },
    "scrolled": true
   },
   "outputs": [
    {
     "name": "stdout",
     "output_type": "stream",
     "text": [
      "accuracy 0.46\n",
      "                            precision    recall  f1-score   support\n",
      "\n",
      "    bali dan nusa tenggara       0.89      0.31      0.46        26\n",
      "               jabodetabek       0.38      0.18      0.24        28\n",
      "     jawa barat dan banten       0.67      0.50      0.57        32\n",
      "jawa tengah dan yogyakarta       0.76      0.44      0.56        36\n",
      "                jawa timur       0.22      0.88      0.35        34\n",
      "                kalimantan       0.78      0.32      0.45        22\n",
      "          maluku dan papua       0.94      0.65      0.77        23\n",
      "                  sulawesi       0.75      0.45      0.56        20\n",
      "                  sumatera       1.00      0.34      0.51        29\n",
      "\n",
      "                  accuracy                           0.46       250\n",
      "                 macro avg       0.71      0.45      0.50       250\n",
      "              weighted avg       0.69      0.46      0.49       250\n",
      "\n"
     ]
    }
   ],
   "source": [
    "from sklearn.metrics import accuracy_score\n",
    "from sklearn.metrics import classification_report\n",
    "\n",
    "\n",
    "print('accuracy %s' % round(accuracy_score(userlvltest.Lvalue, y_pred.Lpredict),2 ))\n",
    "print(classification_report(userlvltest.Lvalue, y_pred.Lpredict,target_names=label_names))"
   ]
  },
  {
   "cell_type": "code",
   "execution_count": 29,
   "id": "301e9be7",
   "metadata": {
    "ExecuteTime": {
     "end_time": "2022-03-13T13:54:32.184698Z",
     "start_time": "2022-03-13T13:54:32.179351Z"
    }
   },
   "outputs": [],
   "source": [
    "y_pred.to_csv('lstm_result/lstm_majority_vote.csv')"
   ]
  },
  {
   "cell_type": "code",
   "execution_count": null,
   "id": "549b6af9",
   "metadata": {},
   "outputs": [],
   "source": []
  }
 ],
 "metadata": {
  "kernelspec": {
   "display_name": "Python 3",
   "language": "python",
   "name": "python3"
  },
  "language_info": {
   "codemirror_mode": {
    "name": "ipython",
    "version": 3
   },
   "file_extension": ".py",
   "mimetype": "text/x-python",
   "name": "python",
   "nbconvert_exporter": "python",
   "pygments_lexer": "ipython3",
   "version": "3.8.10"
  },
  "toc": {
   "base_numbering": 1,
   "nav_menu": {},
   "number_sections": true,
   "sideBar": true,
   "skip_h1_title": false,
   "title_cell": "Table of Contents",
   "title_sidebar": "Contents",
   "toc_cell": false,
   "toc_position": {},
   "toc_section_display": true,
   "toc_window_display": false
  },
  "varInspector": {
   "cols": {
    "lenName": 16,
    "lenType": 16,
    "lenVar": 40
   },
   "kernels_config": {
    "python": {
     "delete_cmd_postfix": "",
     "delete_cmd_prefix": "del ",
     "library": "var_list.py",
     "varRefreshCmd": "print(var_dic_list())"
    },
    "r": {
     "delete_cmd_postfix": ") ",
     "delete_cmd_prefix": "rm(",
     "library": "var_list.r",
     "varRefreshCmd": "cat(var_dic_list()) "
    }
   },
   "types_to_exclude": [
    "module",
    "function",
    "builtin_function_or_method",
    "instance",
    "_Feature"
   ],
   "window_display": false
  }
 },
 "nbformat": 4,
 "nbformat_minor": 5
}
