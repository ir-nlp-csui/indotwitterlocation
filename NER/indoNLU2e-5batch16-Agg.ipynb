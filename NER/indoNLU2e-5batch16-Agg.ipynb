{
 "cells": [
  {
   "cell_type": "markdown",
   "id": "bf39260a",
   "metadata": {},
   "source": [
    "# Library import"
   ]
  },
  {
   "cell_type": "code",
   "execution_count": 1,
   "id": "76fcfbfc",
   "metadata": {
    "ExecuteTime": {
     "end_time": "2022-03-24T02:29:24.571725Z",
     "start_time": "2022-03-24T02:29:23.162082Z"
    }
   },
   "outputs": [],
   "source": [
    "import pandas as pd\n",
    "import os\n",
    "import torch\n",
    "from torch.utils.data import Dataset, DataLoader, RandomSampler, SequentialSampler\n",
    "from torch import optim\n",
    "import torch.nn.functional as F\n",
    "from tqdm import tqdm\n",
    "from transformers import BertForSequenceClassification, BertConfig, BertTokenizer"
   ]
  },
  {
   "cell_type": "code",
   "execution_count": 2,
   "id": "3a02556d",
   "metadata": {
    "ExecuteTime": {
     "end_time": "2022-03-24T02:29:25.280539Z",
     "start_time": "2022-03-24T02:29:25.278221Z"
    },
    "scrolled": true
   },
   "outputs": [],
   "source": [
    "userPATH = 'original_data/'\n",
    "tweetPATH = 'DataWithNERConcat/tweetAgg/'"
   ]
  },
  {
   "cell_type": "code",
   "execution_count": 3,
   "id": "425ef103",
   "metadata": {
    "ExecuteTime": {
     "end_time": "2022-03-24T02:29:26.157309Z",
     "start_time": "2022-03-24T02:29:26.145614Z"
    }
   },
   "outputs": [],
   "source": [
    "userlvltrain = pd.read_csv(userPATH+'/userlvltrain.csv')\n",
    "userlvltest = pd.read_csv(userPATH+'/userlvltest.csv')\n",
    "userlvlval = pd.read_csv(userPATH+'/userlvlval.csv')"
   ]
  },
  {
   "cell_type": "code",
   "execution_count": 4,
   "id": "ed2ad9a0",
   "metadata": {
    "ExecuteTime": {
     "end_time": "2022-03-24T02:29:26.939646Z",
     "start_time": "2022-03-24T02:29:26.835558Z"
    }
   },
   "outputs": [],
   "source": [
    "train_df = pd.read_csv(tweetPATH+'aggtrain_df.csv')\n",
    "train_df.rename(columns={'entityTweetsConcat':'text'}, inplace=True)\n",
    "train_df['userLocation'] = userlvltrain.userLocation\n",
    "\n",
    "test_df = pd.read_csv(tweetPATH+'aggtest_df.csv')\n",
    "test_df['userLocation'] = userlvltest.userLocation\n",
    "test_df.rename(columns={'entityTweetsConcat':'text'}, inplace=True)\n",
    "\n",
    "val_df = pd.read_csv(tweetPATH+'aggval_df.csv')\n",
    "val_df['userLocation'] = userlvlval.userLocation\n",
    "val_df.rename(columns={'entityTweetsConcat':'text'}, inplace=True)"
   ]
  },
  {
   "cell_type": "code",
   "execution_count": 5,
   "id": "dda8191a",
   "metadata": {
    "ExecuteTime": {
     "end_time": "2022-03-24T02:29:27.654876Z",
     "start_time": "2022-03-24T02:29:27.649556Z"
    },
    "code_folding": []
   },
   "outputs": [
    {
     "name": "stdout",
     "output_type": "stream",
     "text": [
      "{'bali dan nusa tenggara': 0, 'jabodetabek': 1, 'jawa barat dan banten': 2, 'jawa tengah dan yogyakarta': 3, 'jawa timur': 4, 'kalimantan': 5, 'maluku dan papua': 6, 'sulawesi': 7, 'sumatera': 8}\n",
      "{0: 'bali dan nusa tenggara', 1: 'jabodetabek', 2: 'jawa barat dan banten', 3: 'jawa tengah dan yogyakarta', 4: 'jawa timur', 5: 'kalimantan', 6: 'maluku dan papua', 7: 'sulawesi', 8: 'sumatera'}\n"
     ]
    }
   ],
   "source": [
    "## prepare data for BERT training and save in newdata/\n",
    "if not os.path.exists('newdata/'): \n",
    "    os.mkdir('newdata/')\n",
    "    train_df.to_csv('newdata/train.csv', index=False)\n",
    "    test_df.to_csv('newdata/test.csv', index=False)\n",
    "    val_df.to_csv('newdata/dev.csv', index=False)\n",
    "\n",
    "possible_labels = train_df.userLocation.unique()\n",
    "possible_labels.sort()\n",
    "label_dict = {}\n",
    "for index, possible_label in enumerate(possible_labels):\n",
    "    label_dict[possible_label] = index\n",
    "print(label_dict)\n",
    "inv_label_dict = {v: k for k, v in label_dict.items()}\n",
    "print(inv_label_dict)"
   ]
  },
  {
   "cell_type": "markdown",
   "id": "405025d2",
   "metadata": {},
   "source": [
    "## Setting Cuda"
   ]
  },
  {
   "cell_type": "code",
   "execution_count": 6,
   "id": "3806ade6",
   "metadata": {
    "ExecuteTime": {
     "end_time": "2022-03-24T02:29:30.473797Z",
     "start_time": "2022-03-24T02:29:29.143078Z"
    }
   },
   "outputs": [
    {
     "name": "stdout",
     "output_type": "stream",
     "text": [
      "Thu Mar 24 02:29:29 2022       \n",
      "+-----------------------------------------------------------------------------+\n",
      "| NVIDIA-SMI 418.126.02   Driver Version: 418.126.02   CUDA Version: 11.4     |\n",
      "|-------------------------------+----------------------+----------------------+\n",
      "| GPU  Name        Persistence-M| Bus-Id        Disp.A | Volatile Uncorr. ECC |\n",
      "| Fan  Temp  Perf  Pwr:Usage/Cap|         Memory-Usage | GPU-Util  Compute M. |\n",
      "|===============================+======================+======================|\n",
      "|   0  Tesla V100-SXM2...  On   | 00000000:06:00.0 Off |                    0 |\n",
      "| N/A   35C    P0    57W / 300W |  21209MiB / 32480MiB |      0%      Default |\n",
      "+-------------------------------+----------------------+----------------------+\n",
      "|   1  Tesla V100-SXM2...  On   | 00000000:07:00.0 Off |                    0 |\n",
      "| N/A   45C    P0   155W / 300W |  13700MiB / 32480MiB |     90%      Default |\n",
      "+-------------------------------+----------------------+----------------------+\n",
      "|   2  Tesla V100-SXM2...  On   | 00000000:0A:00.0 Off |                    0 |\n",
      "| N/A   58C    P0   165W / 300W |  14346MiB / 32480MiB |     91%      Default |\n",
      "+-------------------------------+----------------------+----------------------+\n",
      "|   3  Tesla V100-SXM2...  On   | 00000000:0B:00.0 Off |                    0 |\n",
      "| N/A   64C    P0   299W / 300W |  15481MiB / 32480MiB |     94%      Default |\n",
      "+-------------------------------+----------------------+----------------------+\n",
      "|   4  Tesla V100-SXM2...  On   | 00000000:85:00.0 Off |                    0 |\n",
      "| N/A   38C    P0    58W / 300W |  15746MiB / 32480MiB |      0%      Default |\n",
      "+-------------------------------+----------------------+----------------------+\n",
      "|   5  Tesla V100-SXM2...  On   | 00000000:86:00.0 Off |                    0 |\n",
      "| N/A   40C    P0    58W / 300W |  13463MiB / 32480MiB |      0%      Default |\n",
      "+-------------------------------+----------------------+----------------------+\n",
      "|   6  Tesla V100-SXM2...  On   | 00000000:89:00.0 Off |                    0 |\n",
      "| N/A   48C    P0   255W / 300W |  31894MiB / 32480MiB |     49%      Default |\n",
      "+-------------------------------+----------------------+----------------------+\n",
      "|   7  Tesla V100-SXM2...  On   | 00000000:8A:00.0 Off |                    0 |\n",
      "| N/A   34C    P0    55W / 300W |  15597MiB / 32480MiB |      0%      Default |\n",
      "+-------------------------------+----------------------+----------------------+\n",
      "                                                                               \n",
      "+-----------------------------------------------------------------------------+\n",
      "| Processes:                                                       GPU Memory |\n",
      "|  GPU       PID   Type   Process name                             Usage      |\n",
      "|=============================================================================|\n",
      "+-----------------------------------------------------------------------------+\n"
     ]
    }
   ],
   "source": [
    "!nvidia-smi"
   ]
  },
  {
   "cell_type": "code",
   "execution_count": 7,
   "id": "aed002e1",
   "metadata": {
    "ExecuteTime": {
     "end_time": "2022-03-24T02:29:42.601141Z",
     "start_time": "2022-03-24T02:29:42.443593Z"
    }
   },
   "outputs": [
    {
     "data": {
      "text/plain": [
       "7"
      ]
     },
     "execution_count": 7,
     "metadata": {},
     "output_type": "execute_result"
    }
   ],
   "source": [
    "torch.cuda.set_device(7)\n",
    "device = torch.device('cuda:7' if torch.cuda.is_available() else 'cpu')\n",
    "device_idx = \"cuda:7\"\n",
    "torch.cuda.current_device()"
   ]
  },
  {
   "cell_type": "code",
   "execution_count": 8,
   "id": "63848cd5",
   "metadata": {
    "ExecuteTime": {
     "end_time": "2022-03-24T02:29:45.089429Z",
     "start_time": "2022-03-24T02:29:45.069943Z"
    },
    "code_folding": [
     3,
     9,
     15,
     19,
     25,
     60,
     136,
     149
    ]
   },
   "outputs": [],
   "source": [
    "import random \n",
    "import numpy as np\n",
    "\n",
    "def set_seed(seed):\n",
    "    random.seed(seed)\n",
    "    np.random.seed(seed)\n",
    "    torch.manual_seed(seed)\n",
    "    torch.cuda.manual_seed(seed)\n",
    "    \n",
    "def count_param(module, trainable=False):\n",
    "    if trainable:\n",
    "        return sum(p.numel() for p in module.parameters() if p.requires_grad)\n",
    "    else:\n",
    "        return sum(p.numel() for p in module.parameters())\n",
    "    \n",
    "def get_lr(optimizer):\n",
    "    for param_group in optimizer.param_groups:\n",
    "        return param_group['lr']\n",
    "\n",
    "def metrics_to_string(metric_dict):\n",
    "    string_list = []\n",
    "    for key, value in metric_dict.items():\n",
    "        string_list.append('{}:{:.2f}'.format(key, value))\n",
    "    return ' '.join(string_list)\n",
    "\n",
    "def location_prediction_metrics(list_hyp, list_label):\n",
    "    metrics = {}\n",
    "    metrics[\"ACC\"] = accuracy_score(list_label, list_hyp)\n",
    "    metrics[\"F1\"] = f1_score(list_label, list_hyp, average='macro')\n",
    "    metrics[\"REC\"] = recall_score(list_label, list_hyp, average='macro')\n",
    "    metrics[\"PRE\"] = precision_score(list_label, list_hyp, average='macro')\n",
    "    return metrics\n",
    "\n",
    "\n",
    "class LocationPredictionDataset(Dataset):\n",
    "    # Static constant variable\n",
    "    LABEL2INDEX = label_dict\n",
    "    INDEX2LABEL = inv_label_dict\n",
    "    NUM_LABELS = 9\n",
    "    \n",
    "    def load_dataset(self, path): \n",
    "        df = pd.read_csv(path, sep=',')\n",
    "        # df.columns = ['screenName','tweets','userLocation', 'mentionedLocation','label', 'final_feat']\n",
    "        df['userLocation'] = df['userLocation'].apply(lambda lab: self.LABEL2INDEX[lab])\n",
    "        return df\n",
    "    \n",
    "    def __init__(self, dataset_path, tokenizer, no_special_token=False, *args, **kwargs):\n",
    "        self.data = self.load_dataset(dataset_path)\n",
    "        self.tokenizer = tokenizer\n",
    "        self.no_special_token = no_special_token\n",
    "    \n",
    "    def __getitem__(self, index):\n",
    "        data = self.data.loc[index,:]\n",
    "        tweets, labels = data['text'], data['userLocation']\n",
    "        subwords = self.tokenizer.encode(tweets, add_special_tokens=not self.no_special_token)\n",
    "        return np.array(subwords), np.array(labels), data['text']\n",
    "    \n",
    "    def __len__(self):\n",
    "        return len(self.data)    \n",
    "        \n",
    "class LocationPredictionDataLoader(DataLoader):\n",
    "    def __init__(self, max_seq_len=512, *args, **kwargs):\n",
    "        super(LocationPredictionDataLoader, self).__init__(*args, **kwargs)\n",
    "        self.collate_fn = self._collate_fn\n",
    "        self.max_seq_len = max_seq_len\n",
    "        \n",
    "    def _collate_fn(self, batch):\n",
    "        batch_size = len(batch)\n",
    "        max_seq_len = max(map(lambda x: len(x[0]), batch))\n",
    "        max_seq_len = min(self.max_seq_len, max_seq_len)\n",
    "        \n",
    "        subword_batch = np.zeros((batch_size, max_seq_len), dtype=np.int64)\n",
    "        mask_batch = np.zeros((batch_size, max_seq_len), dtype=np.float32)\n",
    "        class_batch = np.zeros((batch_size, 1), dtype=np.int64)\n",
    "        \n",
    "        seq_list = []\n",
    "        for i, (subwords, tagging, raw_seq) in enumerate(batch):\n",
    "            subwords = subwords[:max_seq_len]\n",
    "            subword_batch[i,:len(subwords)] = subwords\n",
    "            mask_batch[i,:len(subwords)] = 1\n",
    "            class_batch[i,0] = tagging\n",
    "            \n",
    "            seq_list.append(raw_seq)\n",
    "            \n",
    "        return subword_batch, mask_batch, class_batch, seq_list\n",
    "\n",
    "# Forward function for sequence classification\n",
    "def forward_sequence_classification(model, batch_data, i2w, is_test=False, device='cpu', **kwargs):\n",
    "    # Unpack batch data\n",
    "    if len(batch_data) == 3:\n",
    "        (subword_batch, mask_batch, label_batch) = batch_data\n",
    "        token_type_batch = None\n",
    "    elif len(batch_data) == 4:\n",
    "        (subword_batch, mask_batch, token_type_batch, label_batch) = batch_data\n",
    "    \n",
    "    # Prepare input & label\n",
    "    subword_batch = torch.LongTensor(subword_batch)\n",
    "    mask_batch = torch.FloatTensor(mask_batch)\n",
    "    token_type_batch = torch.LongTensor(token_type_batch) if token_type_batch is not None else None\n",
    "    label_batch = torch.LongTensor(label_batch)\n",
    "            \n",
    "    if device == device_idx:\n",
    "        subword_batch = subword_batch.cuda()\n",
    "        mask_batch = mask_batch.cuda()\n",
    "        token_type_batch = token_type_batch.cuda() if token_type_batch is not None else None\n",
    "        label_batch = label_batch.cuda()\n",
    "\n",
    "    # Forward model\n",
    "    outputs = model(subword_batch, attention_mask=mask_batch, token_type_ids=token_type_batch, labels=label_batch)\n",
    "    loss, logits = outputs[:2]\n",
    "    \n",
    "    # generate prediction & label list\n",
    "    list_hyp = []\n",
    "    list_label = []\n",
    "    hyp = torch.topk(logits, 1)[1]\n",
    "    for j in range(len(hyp)):\n",
    "        list_hyp.append(i2w[hyp[j].item()])\n",
    "        list_label.append(i2w[label_batch[j][0].item()])\n",
    "        \n",
    "    return loss, list_hyp, list_label\n",
    "\n",
    "# Save and Load Functions\n",
    "\n",
    "# pada fungsi ini dilakukan penyimpanan model, optimizer, dan validation loss\n",
    "def save_checkpoint(save_path, model, optimizer, valid_loss):\n",
    "\n",
    "    if save_path == None:\n",
    "        return\n",
    "    \n",
    "    state_dict = {'model_state_dict': model.state_dict(),\n",
    "                  'optimizer_state_dict': optimizer.state_dict(),\n",
    "                  'valid_loss': valid_loss}\n",
    "    \n",
    "    torch.save(state_dict, save_path)\n",
    "\n",
    "# untuk meload loss yang telah disimpan\n",
    "def load_checkpoint(load_path, model, optimizer):\n",
    "\n",
    "    if load_path==None:\n",
    "        return\n",
    "    \n",
    "    state_dict = torch.load(load_path, map_location=device)\n",
    "    \n",
    "    model.load_state_dict(state_dict['model_state_dict'])\n",
    "    optimizer.load_state_dict(state_dict['optimizer_state_dict'])\n",
    "    \n",
    "    return state_dict['valid_loss']\n",
    "\n",
    "# pada fungsi ini accuracy dan loss disimpan \n",
    "def save_metrics(save_path, train_acc_list, train_loss_list, valid_acc_list, valid_loss_list, epochs):\n",
    "\n",
    "    if save_path == None:\n",
    "        return\n",
    "    \n",
    "    state_dict = {'train_acc_list': train_acc_list,\n",
    "                  'train_loss_list': train_loss_list,\n",
    "                  'valid_acc_list': valid_acc_list,\n",
    "                  'valid_loss_list': valid_loss_list,\n",
    "                  'epochs_list': epochs}\n",
    "    \n",
    "    torch.save(state_dict, save_path)\n",
    "    # print(f'Model saved to ==> {save_path}')\n",
    "\n",
    "# fungsi untuk melakukan load accuracy dan loss \n",
    "def load_metrics(load_path): \n",
    "\n",
    "    if load_path==None:\n",
    "        return\n",
    "    state_dict = torch.load(load_path)    \n",
    "    \n",
    "    return state_dict['train_acc_list'],state_dict['train_loss_list'], state_dict['valid_acc_list'], state_dict['valid_loss_list'], state_dict['epochs_list']"
   ]
  },
  {
   "cell_type": "markdown",
   "id": "c221564c",
   "metadata": {},
   "source": [
    "## Prepare Dataset"
   ]
  },
  {
   "cell_type": "code",
   "execution_count": 9,
   "id": "a1a9df68",
   "metadata": {
    "ExecuteTime": {
     "end_time": "2022-03-24T02:29:50.638016Z",
     "start_time": "2022-03-24T02:29:47.359851Z"
    },
    "scrolled": true
   },
   "outputs": [
    {
     "ename": "HTTPError",
     "evalue": "500 Server Error: Internal Server Error for url: https://huggingface.co/indobenchmark/indobert-base-p1/resolve/main/vocab.txt",
     "output_type": "error",
     "traceback": [
      "\u001b[0;31m---------------------------------------------------------------------------\u001b[0m",
      "\u001b[0;31mHTTPError\u001b[0m                                 Traceback (most recent call last)",
      "\u001b[0;32m<ipython-input-9-e07327b68f5b>\u001b[0m in \u001b[0;36m<module>\u001b[0;34m\u001b[0m\n\u001b[1;32m      2\u001b[0m \u001b[0;34m\u001b[0m\u001b[0m\n\u001b[1;32m      3\u001b[0m \u001b[0;31m#Load Tokenizer and Config\u001b[0m\u001b[0;34m\u001b[0m\u001b[0;34m\u001b[0m\u001b[0;34m\u001b[0m\u001b[0m\n\u001b[0;32m----> 4\u001b[0;31m \u001b[0mtokenizer\u001b[0m \u001b[0;34m=\u001b[0m \u001b[0mBertTokenizer\u001b[0m\u001b[0;34m.\u001b[0m\u001b[0mfrom_pretrained\u001b[0m\u001b[0;34m(\u001b[0m\u001b[0;34m'indobenchmark/indobert-base-p1'\u001b[0m\u001b[0;34m)\u001b[0m\u001b[0;34m\u001b[0m\u001b[0;34m\u001b[0m\u001b[0m\n\u001b[0m\u001b[1;32m      5\u001b[0m config = BertConfig.from_pretrained('indobenchmark/indobert-base-p1',\n\u001b[1;32m      6\u001b[0m                                     \u001b[0mattention_probs_dropout_prob\u001b[0m\u001b[0;34m=\u001b[0m\u001b[0;36m0.3\u001b[0m\u001b[0;34m,\u001b[0m\u001b[0;34m\u001b[0m\u001b[0;34m\u001b[0m\u001b[0m\n",
      "\u001b[0;32m/opt/conda/lib/python3.8/site-packages/transformers/tokenization_utils_base.py\u001b[0m in \u001b[0;36mfrom_pretrained\u001b[0;34m(cls, pretrained_model_name_or_path, *init_inputs, **kwargs)\u001b[0m\n\u001b[1;32m   1761\u001b[0m                         \u001b[0mresolved_vocab_files\u001b[0m\u001b[0;34m[\u001b[0m\u001b[0mfile_id\u001b[0m\u001b[0;34m]\u001b[0m \u001b[0;34m=\u001b[0m \u001b[0;32mNone\u001b[0m\u001b[0;34m\u001b[0m\u001b[0;34m\u001b[0m\u001b[0m\n\u001b[1;32m   1762\u001b[0m                     \u001b[0;32melse\u001b[0m\u001b[0;34m:\u001b[0m\u001b[0;34m\u001b[0m\u001b[0;34m\u001b[0m\u001b[0m\n\u001b[0;32m-> 1763\u001b[0;31m                         \u001b[0;32mraise\u001b[0m \u001b[0merr\u001b[0m\u001b[0;34m\u001b[0m\u001b[0;34m\u001b[0m\u001b[0m\n\u001b[0m\u001b[1;32m   1764\u001b[0m \u001b[0;34m\u001b[0m\u001b[0m\n\u001b[1;32m   1765\u001b[0m         \u001b[0;32mif\u001b[0m \u001b[0mlen\u001b[0m\u001b[0;34m(\u001b[0m\u001b[0munresolved_files\u001b[0m\u001b[0;34m)\u001b[0m \u001b[0;34m>\u001b[0m \u001b[0;36m0\u001b[0m\u001b[0;34m:\u001b[0m\u001b[0;34m\u001b[0m\u001b[0;34m\u001b[0m\u001b[0m\n",
      "\u001b[0;32m/opt/conda/lib/python3.8/site-packages/transformers/tokenization_utils_base.py\u001b[0m in \u001b[0;36mfrom_pretrained\u001b[0;34m(cls, pretrained_model_name_or_path, *init_inputs, **kwargs)\u001b[0m\n\u001b[1;32m   1722\u001b[0m             \u001b[0;32melse\u001b[0m\u001b[0;34m:\u001b[0m\u001b[0;34m\u001b[0m\u001b[0;34m\u001b[0m\u001b[0m\n\u001b[1;32m   1723\u001b[0m                 \u001b[0;32mtry\u001b[0m\u001b[0;34m:\u001b[0m\u001b[0;34m\u001b[0m\u001b[0;34m\u001b[0m\u001b[0m\n\u001b[0;32m-> 1724\u001b[0;31m                     resolved_vocab_files[file_id] = cached_path(\n\u001b[0m\u001b[1;32m   1725\u001b[0m                         \u001b[0mfile_path\u001b[0m\u001b[0;34m,\u001b[0m\u001b[0;34m\u001b[0m\u001b[0;34m\u001b[0m\u001b[0m\n\u001b[1;32m   1726\u001b[0m                         \u001b[0mcache_dir\u001b[0m\u001b[0;34m=\u001b[0m\u001b[0mcache_dir\u001b[0m\u001b[0;34m,\u001b[0m\u001b[0;34m\u001b[0m\u001b[0;34m\u001b[0m\u001b[0m\n",
      "\u001b[0;32m/opt/conda/lib/python3.8/site-packages/transformers/file_utils.py\u001b[0m in \u001b[0;36mcached_path\u001b[0;34m(url_or_filename, cache_dir, force_download, proxies, resume_download, user_agent, extract_compressed_file, force_extract, use_auth_token, local_files_only)\u001b[0m\n\u001b[1;32m   1919\u001b[0m     \u001b[0;32mif\u001b[0m \u001b[0mis_remote_url\u001b[0m\u001b[0;34m(\u001b[0m\u001b[0murl_or_filename\u001b[0m\u001b[0;34m)\u001b[0m\u001b[0;34m:\u001b[0m\u001b[0;34m\u001b[0m\u001b[0;34m\u001b[0m\u001b[0m\n\u001b[1;32m   1920\u001b[0m         \u001b[0;31m# URL, so get it from the cache (downloading if necessary)\u001b[0m\u001b[0;34m\u001b[0m\u001b[0;34m\u001b[0m\u001b[0;34m\u001b[0m\u001b[0m\n\u001b[0;32m-> 1921\u001b[0;31m         output_path = get_from_cache(\n\u001b[0m\u001b[1;32m   1922\u001b[0m             \u001b[0murl_or_filename\u001b[0m\u001b[0;34m,\u001b[0m\u001b[0;34m\u001b[0m\u001b[0;34m\u001b[0m\u001b[0m\n\u001b[1;32m   1923\u001b[0m             \u001b[0mcache_dir\u001b[0m\u001b[0;34m=\u001b[0m\u001b[0mcache_dir\u001b[0m\u001b[0;34m,\u001b[0m\u001b[0;34m\u001b[0m\u001b[0;34m\u001b[0m\u001b[0m\n",
      "\u001b[0;32m/opt/conda/lib/python3.8/site-packages/transformers/file_utils.py\u001b[0m in \u001b[0;36mget_from_cache\u001b[0;34m(url, cache_dir, force_download, proxies, etag_timeout, resume_download, user_agent, use_auth_token, local_files_only)\u001b[0m\n\u001b[1;32m   2123\u001b[0m         \u001b[0;32mtry\u001b[0m\u001b[0;34m:\u001b[0m\u001b[0;34m\u001b[0m\u001b[0;34m\u001b[0m\u001b[0m\n\u001b[1;32m   2124\u001b[0m             \u001b[0mr\u001b[0m \u001b[0;34m=\u001b[0m \u001b[0mrequests\u001b[0m\u001b[0;34m.\u001b[0m\u001b[0mhead\u001b[0m\u001b[0;34m(\u001b[0m\u001b[0murl\u001b[0m\u001b[0;34m,\u001b[0m \u001b[0mheaders\u001b[0m\u001b[0;34m=\u001b[0m\u001b[0mheaders\u001b[0m\u001b[0;34m,\u001b[0m \u001b[0mallow_redirects\u001b[0m\u001b[0;34m=\u001b[0m\u001b[0;32mFalse\u001b[0m\u001b[0;34m,\u001b[0m \u001b[0mproxies\u001b[0m\u001b[0;34m=\u001b[0m\u001b[0mproxies\u001b[0m\u001b[0;34m,\u001b[0m \u001b[0mtimeout\u001b[0m\u001b[0;34m=\u001b[0m\u001b[0metag_timeout\u001b[0m\u001b[0;34m)\u001b[0m\u001b[0;34m\u001b[0m\u001b[0;34m\u001b[0m\u001b[0m\n\u001b[0;32m-> 2125\u001b[0;31m             \u001b[0m_raise_for_status\u001b[0m\u001b[0;34m(\u001b[0m\u001b[0mr\u001b[0m\u001b[0;34m)\u001b[0m\u001b[0;34m\u001b[0m\u001b[0;34m\u001b[0m\u001b[0m\n\u001b[0m\u001b[1;32m   2126\u001b[0m             \u001b[0metag\u001b[0m \u001b[0;34m=\u001b[0m \u001b[0mr\u001b[0m\u001b[0;34m.\u001b[0m\u001b[0mheaders\u001b[0m\u001b[0;34m.\u001b[0m\u001b[0mget\u001b[0m\u001b[0;34m(\u001b[0m\u001b[0;34m\"X-Linked-Etag\"\u001b[0m\u001b[0;34m)\u001b[0m \u001b[0;32mor\u001b[0m \u001b[0mr\u001b[0m\u001b[0;34m.\u001b[0m\u001b[0mheaders\u001b[0m\u001b[0;34m.\u001b[0m\u001b[0mget\u001b[0m\u001b[0;34m(\u001b[0m\u001b[0;34m\"ETag\"\u001b[0m\u001b[0;34m)\u001b[0m\u001b[0;34m\u001b[0m\u001b[0;34m\u001b[0m\u001b[0m\n\u001b[1;32m   2127\u001b[0m             \u001b[0;31m# We favor a custom header indicating the etag of the linked resource, and\u001b[0m\u001b[0;34m\u001b[0m\u001b[0;34m\u001b[0m\u001b[0;34m\u001b[0m\u001b[0m\n",
      "\u001b[0;32m/opt/conda/lib/python3.8/site-packages/transformers/file_utils.py\u001b[0m in \u001b[0;36m_raise_for_status\u001b[0;34m(request)\u001b[0m\n\u001b[1;32m   2050\u001b[0m             \u001b[0;32mraise\u001b[0m \u001b[0mRevisionNotFoundError\u001b[0m\u001b[0;34m(\u001b[0m\u001b[0;34m(\u001b[0m\u001b[0;34mf\"404 Client Error: Revision Not Found for url: {request.url}\"\u001b[0m\u001b[0;34m)\u001b[0m\u001b[0;34m)\u001b[0m\u001b[0;34m\u001b[0m\u001b[0;34m\u001b[0m\u001b[0m\n\u001b[1;32m   2051\u001b[0m \u001b[0;34m\u001b[0m\u001b[0m\n\u001b[0;32m-> 2052\u001b[0;31m     \u001b[0mrequest\u001b[0m\u001b[0;34m.\u001b[0m\u001b[0mraise_for_status\u001b[0m\u001b[0;34m(\u001b[0m\u001b[0;34m)\u001b[0m\u001b[0;34m\u001b[0m\u001b[0;34m\u001b[0m\u001b[0m\n\u001b[0m\u001b[1;32m   2053\u001b[0m \u001b[0;34m\u001b[0m\u001b[0m\n\u001b[1;32m   2054\u001b[0m \u001b[0;34m\u001b[0m\u001b[0m\n",
      "\u001b[0;32m/opt/conda/lib/python3.8/site-packages/requests/models.py\u001b[0m in \u001b[0;36mraise_for_status\u001b[0;34m(self)\u001b[0m\n\u001b[1;32m    958\u001b[0m \u001b[0;34m\u001b[0m\u001b[0m\n\u001b[1;32m    959\u001b[0m         \u001b[0;32mif\u001b[0m \u001b[0mhttp_error_msg\u001b[0m\u001b[0;34m:\u001b[0m\u001b[0;34m\u001b[0m\u001b[0;34m\u001b[0m\u001b[0m\n\u001b[0;32m--> 960\u001b[0;31m             \u001b[0;32mraise\u001b[0m \u001b[0mHTTPError\u001b[0m\u001b[0;34m(\u001b[0m\u001b[0mhttp_error_msg\u001b[0m\u001b[0;34m,\u001b[0m \u001b[0mresponse\u001b[0m\u001b[0;34m=\u001b[0m\u001b[0mself\u001b[0m\u001b[0;34m)\u001b[0m\u001b[0;34m\u001b[0m\u001b[0;34m\u001b[0m\u001b[0m\n\u001b[0m\u001b[1;32m    961\u001b[0m \u001b[0;34m\u001b[0m\u001b[0m\n\u001b[1;32m    962\u001b[0m     \u001b[0;32mdef\u001b[0m \u001b[0mclose\u001b[0m\u001b[0;34m(\u001b[0m\u001b[0mself\u001b[0m\u001b[0;34m)\u001b[0m\u001b[0;34m:\u001b[0m\u001b[0;34m\u001b[0m\u001b[0;34m\u001b[0m\u001b[0m\n",
      "\u001b[0;31mHTTPError\u001b[0m: 500 Server Error: Internal Server Error for url: https://huggingface.co/indobenchmark/indobert-base-p1/resolve/main/vocab.txt"
     ]
    }
   ],
   "source": [
    "set_seed(42)\n",
    "\n",
    "#Load Tokenizer and Config\n",
    "tokenizer = BertTokenizer.from_pretrained('indobenchmark/indobert-base-p1')\n",
    "config = BertConfig.from_pretrained('indobenchmark/indobert-base-p1',\n",
    "                                    attention_probs_dropout_prob=0.3,\n",
    "                                    hidden_dropout_prob=0.3)\n",
    "config.num_labels = LocationPredictionDataset.NUM_LABELS\n",
    "\n",
    "# Instantiate model\n",
    "model = BertForSequenceClassification.from_pretrained('indobenchmark/indobert-base-p1', \n",
    "                                                      config=config)\n",
    "\n",
    "train_dataset = LocationPredictionDataset(\"newdata/train.csv\", tokenizer, lowercase=True)\n",
    "valid_dataset = LocationPredictionDataset(\"newdata/dev.csv\", tokenizer, lowercase=True)\n",
    "test_dataset = LocationPredictionDataset(\"newdata/test.csv\", tokenizer, lowercase=True)\n",
    "\n",
    "\n",
    "learning_rate = 2e-5\n",
    "batch_size = 16\n",
    "epochs = 7\n",
    "\n",
    "train_loader = LocationPredictionDataLoader(dataset=train_dataset, max_seq_len=512, batch_size=batch_size, num_workers=16, shuffle=True)  \n",
    "valid_loader = LocationPredictionDataLoader(dataset=valid_dataset, max_seq_len=512, batch_size=batch_size, num_workers=16, shuffle=False)  \n",
    "test_loader = LocationPredictionDataLoader(dataset=test_dataset, max_seq_len=512, batch_size=batch_size, num_workers=16, shuffle=False)"
   ]
  },
  {
   "cell_type": "code",
   "execution_count": 12,
   "id": "93deaa87",
   "metadata": {
    "ExecuteTime": {
     "end_time": "2022-03-22T05:37:54.557743Z",
     "start_time": "2022-03-22T05:37:54.554600Z"
    },
    "scrolled": true
   },
   "outputs": [
    {
     "name": "stdout",
     "output_type": "stream",
     "text": [
      "{'bali dan nusa tenggara': 0, 'jabodetabek': 1, 'jawa barat dan banten': 2, 'jawa tengah dan yogyakarta': 3, 'jawa timur': 4, 'kalimantan': 5, 'maluku dan papua': 6, 'sulawesi': 7, 'sumatera': 8} \n",
      " {0: 'bali dan nusa tenggara', 1: 'jabodetabek', 2: 'jawa barat dan banten', 3: 'jawa tengah dan yogyakarta', 4: 'jawa timur', 5: 'kalimantan', 6: 'maluku dan papua', 7: 'sulawesi', 8: 'sumatera'}\n"
     ]
    }
   ],
   "source": [
    "w2i, i2w = LocationPredictionDataset.LABEL2INDEX, LocationPredictionDataset.INDEX2LABEL\n",
    "print(w2i, '\\n', i2w)"
   ]
  },
  {
   "cell_type": "markdown",
   "id": "592ffe50",
   "metadata": {},
   "source": [
    "## Fine Tuning and Evaluation"
   ]
  },
  {
   "cell_type": "code",
   "execution_count": 13,
   "id": "b4b53fc5",
   "metadata": {
    "ExecuteTime": {
     "end_time": "2022-03-22T05:37:58.647271Z",
     "start_time": "2022-03-22T05:37:55.623680Z"
    }
   },
   "outputs": [],
   "source": [
    "torch.cuda.empty_cache()\n",
    "optimizer = optim.AdamW(model.parameters(), lr=learning_rate)\n",
    "model = model.to(device)"
   ]
  },
  {
   "cell_type": "code",
   "execution_count": 15,
   "id": "c085b2f3",
   "metadata": {
    "ExecuteTime": {
     "end_time": "2022-03-22T05:38:12.501572Z",
     "start_time": "2022-03-22T05:38:12.497825Z"
    }
   },
   "outputs": [],
   "source": [
    "file_path = 'saved_model_agg/'\n",
    "if not os.path.exists(file_path): \n",
    "    os.mkdir(file_path)\n",
    "\n",
    "model_name = 'indoNLU_model'\n",
    "metrics_name = 'indoNLU_metrics'\n",
    "\n",
    "model_path = file_path+model_name+'_'+str(batch_size)+'_'+str(epochs)+'_'+str(learning_rate)+'.pt'\n",
    "metrics_path = file_path+metrics_name+'_'+str(batch_size)+'_'+str(epochs)+'_'+str(learning_rate)+'.pt'"
   ]
  },
  {
   "cell_type": "markdown",
   "id": "dd349790",
   "metadata": {},
   "source": [
    "### training"
   ]
  },
  {
   "cell_type": "code",
   "execution_count": 13,
   "id": "a2972f4e",
   "metadata": {
    "ExecuteTime": {
     "end_time": "2022-03-13T12:21:54.396927Z",
     "start_time": "2022-03-13T12:17:59.161155Z"
    }
   },
   "outputs": [
    {
     "name": "stderr",
     "output_type": "stream",
     "text": [
      "(Epoch 1) TRAIN LOSS:2.2472 LR:0.00002000: 100%|██████████| 57/57 [00:29<00:00,  1.92it/s]\n"
     ]
    },
    {
     "name": "stdout",
     "output_type": "stream",
     "text": [
      "(Epoch 1) TRAIN LOSS:2.2472 ACC:0.13 F1:0.10 REC:0.11 PRE:0.12 LR:0.00002000\n"
     ]
    },
    {
     "name": "stderr",
     "output_type": "stream",
     "text": [
      "  0%|          | 0/7 [00:00<?, ?it/s]/opt/conda/lib/python3.8/site-packages/sklearn/metrics/_classification.py:1248: UndefinedMetricWarning: Precision is ill-defined and being set to 0.0 in labels with no predicted samples. Use `zero_division` parameter to control this behavior.\n",
      "  _warn_prf(average, modifier, msg_start, len(result))\n",
      "VALID LOSS:2.0947 ACC:0.31 F1:0.06 REC:0.12 PRE:0.04:  14%|█▍        | 1/7 [00:01<00:08,  1.49s/it]/opt/conda/lib/python3.8/site-packages/sklearn/metrics/_classification.py:1248: UndefinedMetricWarning: Precision is ill-defined and being set to 0.0 in labels with no predicted samples. Use `zero_division` parameter to control this behavior.\n",
      "  _warn_prf(average, modifier, msg_start, len(result))\n",
      "VALID LOSS:2.2230 ACC:0.22 F1:0.04 REC:0.11 PRE:0.02:  29%|██▊       | 2/7 [00:01<00:03,  1.40it/s]/opt/conda/lib/python3.8/site-packages/sklearn/metrics/_classification.py:1248: UndefinedMetricWarning: Precision is ill-defined and being set to 0.0 in labels with no predicted samples. Use `zero_division` parameter to control this behavior.\n",
      "  _warn_prf(average, modifier, msg_start, len(result))\n",
      "VALID LOSS:2.2498 ACC:0.15 F1:0.03 REC:0.11 PRE:0.02:  43%|████▎     | 3/7 [00:01<00:01,  2.15it/s]/opt/conda/lib/python3.8/site-packages/sklearn/metrics/_classification.py:1248: UndefinedMetricWarning: Precision is ill-defined and being set to 0.0 in labels with no predicted samples. Use `zero_division` parameter to control this behavior.\n",
      "  _warn_prf(average, modifier, msg_start, len(result))\n",
      "VALID LOSS:2.2266 ACC:0.14 F1:0.03 REC:0.11 PRE:0.02:  57%|█████▋    | 4/7 [00:01<00:01,  2.87it/s]/opt/conda/lib/python3.8/site-packages/sklearn/metrics/_classification.py:1248: UndefinedMetricWarning: Precision is ill-defined and being set to 0.0 in labels with no predicted samples. Use `zero_division` parameter to control this behavior.\n",
      "  _warn_prf(average, modifier, msg_start, len(result))\n",
      "VALID LOSS:2.2047 ACC:0.15 F1:0.03 REC:0.11 PRE:0.02:  71%|███████▏  | 5/7 [00:02<00:00,  3.53it/s]/opt/conda/lib/python3.8/site-packages/sklearn/metrics/_classification.py:1248: UndefinedMetricWarning: Precision is ill-defined and being set to 0.0 in labels with no predicted samples. Use `zero_division` parameter to control this behavior.\n",
      "  _warn_prf(average, modifier, msg_start, len(result))\n",
      "VALID LOSS:2.2089 ACC:0.14 F1:0.03 REC:0.11 PRE:0.02:  86%|████████▌ | 6/7 [00:02<00:00,  4.09it/s]/opt/conda/lib/python3.8/site-packages/sklearn/metrics/_classification.py:1248: UndefinedMetricWarning: Precision is ill-defined and being set to 0.0 in labels with no predicted samples. Use `zero_division` parameter to control this behavior.\n",
      "  _warn_prf(average, modifier, msg_start, len(result))\n",
      "VALID LOSS:2.1986 ACC:0.13 F1:0.03 REC:0.11 PRE:0.01: 100%|██████████| 7/7 [00:02<00:00,  2.84it/s]\n",
      "/opt/conda/lib/python3.8/site-packages/sklearn/metrics/_classification.py:1248: UndefinedMetricWarning: Precision is ill-defined and being set to 0.0 in labels with no predicted samples. Use `zero_division` parameter to control this behavior.\n",
      "  _warn_prf(average, modifier, msg_start, len(result))\n"
     ]
    },
    {
     "name": "stdout",
     "output_type": "stream",
     "text": [
      "(Epoch 1) VALID LOSS:2.1986 ACC:0.13 F1:0.03 REC:0.11 PRE:0.01\n"
     ]
    },
    {
     "name": "stderr",
     "output_type": "stream",
     "text": [
      "(Epoch 2) TRAIN LOSS:2.1961 LR:0.00002000: 100%|██████████| 57/57 [00:29<00:00,  1.92it/s]\n"
     ]
    },
    {
     "name": "stdout",
     "output_type": "stream",
     "text": [
      "(Epoch 2) TRAIN LOSS:2.1961 ACC:0.13 F1:0.11 REC:0.12 PRE:0.12 LR:0.00002000\n"
     ]
    },
    {
     "name": "stderr",
     "output_type": "stream",
     "text": [
      "  0%|          | 0/7 [00:00<?, ?it/s]/opt/conda/lib/python3.8/site-packages/sklearn/metrics/_classification.py:1248: UndefinedMetricWarning: Recall is ill-defined and being set to 0.0 in labels with no true samples. Use `zero_division` parameter to control this behavior.\n",
      "  _warn_prf(average, modifier, msg_start, len(result))\n",
      "/opt/conda/lib/python3.8/site-packages/sklearn/metrics/_classification.py:1248: UndefinedMetricWarning: Precision is ill-defined and being set to 0.0 in labels with no predicted samples. Use `zero_division` parameter to control this behavior.\n",
      "  _warn_prf(average, modifier, msg_start, len(result))\n",
      "VALID LOSS:2.1933 ACC:0.19 F1:0.09 REC:0.15 PRE:0.07:  14%|█▍        | 1/7 [00:01<00:09,  1.51s/it]/opt/conda/lib/python3.8/site-packages/sklearn/metrics/_classification.py:1248: UndefinedMetricWarning: Precision is ill-defined and being set to 0.0 in labels with no predicted samples. Use `zero_division` parameter to control this behavior.\n",
      "  _warn_prf(average, modifier, msg_start, len(result))\n",
      "VALID LOSS:2.1491 ACC:0.22 F1:0.11 REC:0.24 PRE:0.08:  29%|██▊       | 2/7 [00:01<00:03,  1.38it/s]/opt/conda/lib/python3.8/site-packages/sklearn/metrics/_classification.py:1248: UndefinedMetricWarning: Precision is ill-defined and being set to 0.0 in labels with no predicted samples. Use `zero_division` parameter to control this behavior.\n",
      "  _warn_prf(average, modifier, msg_start, len(result))\n",
      "VALID LOSS:2.1451 ACC:0.21 F1:0.10 REC:0.21 PRE:0.07:  43%|████▎     | 3/7 [00:01<00:01,  2.13it/s]/opt/conda/lib/python3.8/site-packages/sklearn/metrics/_classification.py:1248: UndefinedMetricWarning: Precision is ill-defined and being set to 0.0 in labels with no predicted samples. Use `zero_division` parameter to control this behavior.\n",
      "  _warn_prf(average, modifier, msg_start, len(result))\n",
      "VALID LOSS:2.1622 ACC:0.17 F1:0.09 REC:0.16 PRE:0.06:  57%|█████▋    | 4/7 [00:02<00:01,  2.85it/s]/opt/conda/lib/python3.8/site-packages/sklearn/metrics/_classification.py:1248: UndefinedMetricWarning: Precision is ill-defined and being set to 0.0 in labels with no predicted samples. Use `zero_division` parameter to control this behavior.\n",
      "  _warn_prf(average, modifier, msg_start, len(result))\n",
      "VALID LOSS:2.1851 ACC:0.14 F1:0.07 REC:0.15 PRE:0.05:  71%|███████▏  | 5/7 [00:02<00:00,  3.51it/s]/opt/conda/lib/python3.8/site-packages/sklearn/metrics/_classification.py:1248: UndefinedMetricWarning: Precision is ill-defined and being set to 0.0 in labels with no predicted samples. Use `zero_division` parameter to control this behavior.\n",
      "  _warn_prf(average, modifier, msg_start, len(result))\n",
      "VALID LOSS:2.1895 ACC:0.12 F1:0.07 REC:0.14 PRE:0.04:  86%|████████▌ | 6/7 [00:02<00:00,  4.07it/s]/opt/conda/lib/python3.8/site-packages/sklearn/metrics/_classification.py:1248: UndefinedMetricWarning: Precision is ill-defined and being set to 0.0 in labels with no predicted samples. Use `zero_division` parameter to control this behavior.\n",
      "  _warn_prf(average, modifier, msg_start, len(result))\n",
      "VALID LOSS:2.2836 ACC:0.12 F1:0.07 REC:0.13 PRE:0.04: 100%|██████████| 7/7 [00:02<00:00,  2.83it/s]\n",
      "/opt/conda/lib/python3.8/site-packages/sklearn/metrics/_classification.py:1248: UndefinedMetricWarning: Precision is ill-defined and being set to 0.0 in labels with no predicted samples. Use `zero_division` parameter to control this behavior.\n",
      "  _warn_prf(average, modifier, msg_start, len(result))\n"
     ]
    },
    {
     "name": "stdout",
     "output_type": "stream",
     "text": [
      "(Epoch 2) VALID LOSS:2.2836 ACC:0.12 F1:0.07 REC:0.13 PRE:0.04\n"
     ]
    },
    {
     "name": "stderr",
     "output_type": "stream",
     "text": [
      "(Epoch 3) TRAIN LOSS:1.8874 LR:0.00002000: 100%|██████████| 57/57 [00:29<00:00,  1.94it/s]\n"
     ]
    },
    {
     "name": "stdout",
     "output_type": "stream",
     "text": [
      "(Epoch 3) TRAIN LOSS:1.8874 ACC:0.32 F1:0.33 REC:0.32 PRE:0.37 LR:0.00002000\n"
     ]
    },
    {
     "name": "stderr",
     "output_type": "stream",
     "text": [
      "  0%|          | 0/7 [00:00<?, ?it/s]/opt/conda/lib/python3.8/site-packages/sklearn/metrics/_classification.py:1248: UndefinedMetricWarning: Recall is ill-defined and being set to 0.0 in labels with no true samples. Use `zero_division` parameter to control this behavior.\n",
      "  _warn_prf(average, modifier, msg_start, len(result))\n",
      "/opt/conda/lib/python3.8/site-packages/sklearn/metrics/_classification.py:1248: UndefinedMetricWarning: Precision is ill-defined and being set to 0.0 in labels with no predicted samples. Use `zero_division` parameter to control this behavior.\n",
      "  _warn_prf(average, modifier, msg_start, len(result))\n",
      "VALID LOSS:1.5223 ACC:0.61 F1:0.61 REC:0.61 PRE:0.64: 100%|██████████| 7/7 [00:02<00:00,  2.84it/s]\n"
     ]
    },
    {
     "name": "stdout",
     "output_type": "stream",
     "text": [
      "(Epoch 3) VALID LOSS:1.5223 ACC:0.61 F1:0.61 REC:0.61 PRE:0.64\n"
     ]
    },
    {
     "name": "stderr",
     "output_type": "stream",
     "text": [
      "(Epoch 4) TRAIN LOSS:1.0730 LR:0.00002000: 100%|██████████| 57/57 [00:29<00:00,  1.91it/s]\n"
     ]
    },
    {
     "name": "stdout",
     "output_type": "stream",
     "text": [
      "(Epoch 4) TRAIN LOSS:1.0730 ACC:0.71 F1:0.72 REC:0.71 PRE:0.73 LR:0.00002000\n"
     ]
    },
    {
     "name": "stderr",
     "output_type": "stream",
     "text": [
      "  0%|          | 0/7 [00:00<?, ?it/s]/opt/conda/lib/python3.8/site-packages/sklearn/metrics/_classification.py:1248: UndefinedMetricWarning: Precision is ill-defined and being set to 0.0 in labels with no predicted samples. Use `zero_division` parameter to control this behavior.\n",
      "  _warn_prf(average, modifier, msg_start, len(result))\n",
      "VALID LOSS:1.0202 ACC:0.74 F1:0.73 REC:0.74 PRE:0.74: 100%|██████████| 7/7 [00:02<00:00,  2.83it/s]\n"
     ]
    },
    {
     "name": "stdout",
     "output_type": "stream",
     "text": [
      "(Epoch 4) VALID LOSS:1.0202 ACC:0.74 F1:0.73 REC:0.74 PRE:0.74\n"
     ]
    },
    {
     "name": "stderr",
     "output_type": "stream",
     "text": [
      "(Epoch 5) TRAIN LOSS:0.7129 LR:0.00002000: 100%|██████████| 57/57 [00:29<00:00,  1.94it/s]\n"
     ]
    },
    {
     "name": "stdout",
     "output_type": "stream",
     "text": [
      "(Epoch 5) TRAIN LOSS:0.7129 ACC:0.80 F1:0.81 REC:0.80 PRE:0.82 LR:0.00002000\n"
     ]
    },
    {
     "name": "stderr",
     "output_type": "stream",
     "text": [
      "  0%|          | 0/7 [00:00<?, ?it/s]/opt/conda/lib/python3.8/site-packages/sklearn/metrics/_classification.py:1248: UndefinedMetricWarning: Precision is ill-defined and being set to 0.0 in labels with no predicted samples. Use `zero_division` parameter to control this behavior.\n",
      "  _warn_prf(average, modifier, msg_start, len(result))\n",
      "VALID LOSS:1.0643 ACC:0.71 F1:0.72 REC:0.71 PRE:0.73: 100%|██████████| 7/7 [00:02<00:00,  2.86it/s]\n"
     ]
    },
    {
     "name": "stdout",
     "output_type": "stream",
     "text": [
      "(Epoch 5) VALID LOSS:1.0643 ACC:0.71 F1:0.72 REC:0.71 PRE:0.73\n"
     ]
    },
    {
     "name": "stderr",
     "output_type": "stream",
     "text": [
      "(Epoch 6) TRAIN LOSS:0.4791 LR:0.00002000: 100%|██████████| 57/57 [00:29<00:00,  1.92it/s]\n"
     ]
    },
    {
     "name": "stdout",
     "output_type": "stream",
     "text": [
      "(Epoch 6) TRAIN LOSS:0.4791 ACC:0.87 F1:0.87 REC:0.87 PRE:0.88 LR:0.00002000\n"
     ]
    },
    {
     "name": "stderr",
     "output_type": "stream",
     "text": [
      "  0%|          | 0/7 [00:00<?, ?it/s]/opt/conda/lib/python3.8/site-packages/sklearn/metrics/_classification.py:1248: UndefinedMetricWarning: Recall is ill-defined and being set to 0.0 in labels with no true samples. Use `zero_division` parameter to control this behavior.\n",
      "  _warn_prf(average, modifier, msg_start, len(result))\n",
      "/opt/conda/lib/python3.8/site-packages/sklearn/metrics/_classification.py:1248: UndefinedMetricWarning: Precision is ill-defined and being set to 0.0 in labels with no predicted samples. Use `zero_division` parameter to control this behavior.\n",
      "  _warn_prf(average, modifier, msg_start, len(result))\n",
      "VALID LOSS:1.1729 ACC:0.71 F1:0.70 REC:0.71 PRE:0.71: 100%|██████████| 7/7 [00:02<00:00,  2.81it/s]\n"
     ]
    },
    {
     "name": "stdout",
     "output_type": "stream",
     "text": [
      "(Epoch 6) VALID LOSS:1.1729 ACC:0.71 F1:0.70 REC:0.71 PRE:0.71\n"
     ]
    },
    {
     "name": "stderr",
     "output_type": "stream",
     "text": [
      "(Epoch 7) TRAIN LOSS:0.3482 LR:0.00002000: 100%|██████████| 57/57 [00:29<00:00,  1.94it/s]\n"
     ]
    },
    {
     "name": "stdout",
     "output_type": "stream",
     "text": [
      "(Epoch 7) TRAIN LOSS:0.3482 ACC:0.91 F1:0.91 REC:0.91 PRE:0.91 LR:0.00002000\n"
     ]
    },
    {
     "name": "stderr",
     "output_type": "stream",
     "text": [
      "  0%|          | 0/7 [00:00<?, ?it/s]/opt/conda/lib/python3.8/site-packages/sklearn/metrics/_classification.py:1248: UndefinedMetricWarning: Precision is ill-defined and being set to 0.0 in labels with no predicted samples. Use `zero_division` parameter to control this behavior.\n",
      "  _warn_prf(average, modifier, msg_start, len(result))\n",
      "VALID LOSS:1.1965 ACC:0.72 F1:0.72 REC:0.72 PRE:0.73: 100%|██████████| 7/7 [00:02<00:00,  2.83it/s]"
     ]
    },
    {
     "name": "stdout",
     "output_type": "stream",
     "text": [
      "(Epoch 7) VALID LOSS:1.1965 ACC:0.72 F1:0.72 REC:0.72 PRE:0.73\n",
      "Done Training!\n"
     ]
    },
    {
     "name": "stderr",
     "output_type": "stream",
     "text": [
      "\n"
     ]
    }
   ],
   "source": [
    "from sklearn.metrics import accuracy_score, f1_score, recall_score, precision_score\n",
    "\n",
    "# list untuk menyimpan data metrics setiap training, untuk memudahkan \n",
    "# menampilkan dalam grafik\n",
    "train_acc_list = [] \n",
    "train_loss_list = []\n",
    "valid_acc_list = [] \n",
    "valid_loss_list = []\n",
    "epochs_list = []\n",
    "\n",
    "best_valid_loss = float(\"Inf\")\n",
    "\n",
    "# Train\n",
    "n_epochs = epochs\n",
    "for epoch in range(n_epochs):\n",
    "    torch.cuda.empty_cache()\n",
    "    model.train()\n",
    "    torch.set_grad_enabled(True)\n",
    " \n",
    "    total_train_loss = 0\n",
    "    list_hyp, list_label = [], []\n",
    "\n",
    "    train_pbar = tqdm(train_loader, leave=True, total=len(train_loader))\n",
    "\n",
    "    for i, batch_data in enumerate(train_pbar):\n",
    "        # Forward model\n",
    "        loss, batch_hyp, batch_label = forward_sequence_classification(model, batch_data[:-1], i2w=i2w, \n",
    "                                                                       device=device_idx)\n",
    "\n",
    "        # Update model\n",
    "        optimizer.zero_grad()\n",
    "        loss.backward()\n",
    "        optimizer.step()\n",
    "\n",
    "        tr_loss = loss.item()\n",
    "        total_train_loss = total_train_loss + tr_loss\n",
    "\n",
    "        # Calculate metrics\n",
    "        list_hyp += batch_hyp\n",
    "        list_label += batch_label\n",
    "\n",
    "        train_pbar.set_description(\"(Epoch {}) TRAIN LOSS:{:.4f} LR:{:.8f}\".format((epoch+1),\n",
    "            total_train_loss/(i+1), get_lr(optimizer)))\n",
    "\n",
    "    # Calculate train metric\n",
    "    metrics = location_prediction_metrics(list_hyp, list_label)\n",
    "    print(\"(Epoch {}) TRAIN LOSS:{:.4f} {} LR:{:.8f}\".format((epoch+1),\n",
    "        total_train_loss/(i+1), metrics_to_string(metrics), get_lr(optimizer)))\n",
    "    \n",
    "    train_loss_list.append(total_train_loss/(i+1))\n",
    "    train_acc_list.append(metrics['ACC'])\n",
    "    epochs_list.append(epoch)\n",
    "\n",
    "\n",
    "    # Evaluate on validation\n",
    "    model.eval()\n",
    "    torch.set_grad_enabled(False)\n",
    "    \n",
    "    total_loss, total_correct, total_labels = 0, 0, 0\n",
    "    list_hyp, list_label = [], []\n",
    "\n",
    "    pbar = tqdm(valid_loader, leave=True, total=len(valid_loader))\n",
    "\n",
    "    for i, batch_data in enumerate(pbar):\n",
    "        batch_seq = batch_data[-1]        \n",
    "        loss, batch_hyp, batch_label = forward_sequence_classification(model, batch_data[:-1], i2w=i2w, \n",
    "                                                                       device=device_idx)\n",
    "        \n",
    "        # Calculate total loss\n",
    "        valid_loss = loss.item()\n",
    "        total_loss = total_loss + valid_loss\n",
    "\n",
    "        # Calculate evaluation metrics\n",
    "        list_hyp += batch_hyp\n",
    "        list_label += batch_label\n",
    "        metrics = location_prediction_metrics(list_hyp, list_label)\n",
    "\n",
    "        pbar.set_description(\"VALID LOSS:{:.4f} {}\".format(total_loss/(i+1), metrics_to_string(metrics)))\n",
    "        \n",
    "    metrics = location_prediction_metrics(list_hyp, list_label)\n",
    "    print(\"(Epoch {}) VALID LOSS:{:.4f} {}\".format((epoch+1),\n",
    "        total_loss/(i+1), metrics_to_string(metrics)))\n",
    "    \n",
    "    valid_loss_list.append(total_loss/(i+1))\n",
    "    valid_acc_list.append(metrics['ACC'])\n",
    "\n",
    "    # checkpoint, untuk menyimpan validation loss dan metrics yang paling baik untuk seluruh epochs \n",
    "    if best_valid_loss > total_loss/(i+1):\n",
    "      best_valid_loss = total_loss/(i+1)\n",
    "      save_checkpoint(model_path, model, optimizer, best_valid_loss)\n",
    "\n",
    "save_metrics(metrics_path, train_acc_list, train_loss_list, valid_acc_list, valid_loss_list, epochs_list)\n",
    "print('Done Training!')"
   ]
  },
  {
   "cell_type": "code",
   "execution_count": 16,
   "id": "1f81c125",
   "metadata": {
    "ExecuteTime": {
     "end_time": "2022-03-22T05:38:19.720962Z",
     "start_time": "2022-03-22T05:38:19.353429Z"
    }
   },
   "outputs": [
    {
     "data": {
      "image/png": "[encoded data removed]",
      "text/plain": [
       "<Figure size 720x360 with 2 Axes>"
      ]
     },
     "metadata": {
      "needs_background": "light"
     },
     "output_type": "display_data"
    }
   ],
   "source": [
    "#  ## menampilkan history metrics akurasi dan loss \n",
    "import matplotlib.pyplot as plt\n",
    "\n",
    "train_acc_list, train_loss_list, valid_acc_list, valid_loss_list, epochs_list = load_metrics(metrics_path)\n",
    "fig, (ax1, ax2) = plt.subplots(1,2, figsize=(10,5))\n",
    "\n",
    "ax1.plot(epochs_list, train_acc_list, label='Train')\n",
    "ax1.plot(epochs_list, valid_acc_list, label='Valid')\n",
    "ax1.set_xlabel('Epochs')\n",
    "ax1.set_ylabel('Accuracy')\n",
    "ax1.legend()\n",
    "\n",
    "ax2.plot(epochs_list, train_loss_list, label='Train')\n",
    "ax2.plot(epochs_list, valid_loss_list, label='Valid')\n",
    "ax2.set_xlabel('Epochs')\n",
    "ax2.set_ylabel('Loss')\n",
    "ax2.legend()\n",
    "plt.show() "
   ]
  },
  {
   "cell_type": "markdown",
   "id": "4f9e4926",
   "metadata": {},
   "source": [
    "### predict"
   ]
  },
  {
   "cell_type": "code",
   "execution_count": 17,
   "id": "1c674d4c",
   "metadata": {
    "ExecuteTime": {
     "end_time": "2022-03-22T05:38:39.066050Z",
     "start_time": "2022-03-22T05:38:23.208522Z"
    }
   },
   "outputs": [
    {
     "name": "stderr",
     "output_type": "stream",
     "text": [
      "Some weights of BertForSequenceClassification were not initialized from the model checkpoint at indobenchmark/indobert-base-p1 and are newly initialized: ['classifier.weight', 'classifier.bias']\n",
      "You should probably TRAIN this model on a down-stream task to be able to use it for predictions and inference.\n"
     ]
    }
   ],
   "source": [
    "set_seed(42)\n",
    "\n",
    "#Load model\n",
    "mytokenizer = BertTokenizer.from_pretrained('indobenchmark/indobert-base-p1')\n",
    "\n",
    "myconfig = BertConfig.from_pretrained('indobenchmark/indobert-base-p1',\n",
    "                                    attention_probs_dropout_prob=0.3,\n",
    "                                    hidden_dropout_prob=0.3)\n",
    "myconfig.num_labels = LocationPredictionDataset.NUM_LABELS\n",
    "\n",
    "# Instantiate model\n",
    "mymodel = BertForSequenceClassification.from_pretrained('indobenchmark/indobert-base-p1', \n",
    "                                                      config=myconfig)\n"
   ]
  },
  {
   "cell_type": "code",
   "execution_count": 18,
   "id": "b84f33d8",
   "metadata": {
    "ExecuteTime": {
     "end_time": "2022-03-22T05:39:00.065303Z",
     "start_time": "2022-03-22T05:38:51.162225Z"
    }
   },
   "outputs": [
    {
     "name": "stderr",
     "output_type": "stream",
     "text": [
      "100%|██████████| 16/16 [00:07<00:00,  2.21it/s]\n"
     ]
    }
   ],
   "source": [
    "# menggunakan gpu\n",
    "best_model = mymodel.to(device)\n",
    "\n",
    "optimizer = optim.AdamW(best_model.parameters(), lr=2e-5)\n",
    "\n",
    "load_checkpoint(model_path, best_model, optimizer)\n",
    "\n",
    "best_model.eval()\n",
    "torch.set_grad_enabled(False)\n",
    "\n",
    "total_loss, total_correct, total_labels = 0, 0, 0\n",
    "list_hyp, list_label = [], []\n",
    "\n",
    "pbar = tqdm(test_loader, leave=True, total=len(test_loader))\n",
    "for i, batch_data in enumerate(pbar):\n",
    "    _, batch_hyp, _ = forward_sequence_classification(best_model, batch_data[:-1], i2w=i2w, device=device_idx)\n",
    "    list_hyp += batch_hyp\n",
    "\n",
    "# Save prediction\n",
    "df = pd.DataFrame({'label':list_hyp}).reset_index()"
   ]
  },
  {
   "cell_type": "code",
   "execution_count": 19,
   "id": "6a4c8468",
   "metadata": {
    "ExecuteTime": {
     "end_time": "2022-03-22T05:39:01.504048Z",
     "start_time": "2022-03-22T05:39:01.497607Z"
    }
   },
   "outputs": [
    {
     "data": {
      "text/plain": [
       "array([8, 6, 3, 0, 4, 1, 7, 4, 5, 1, 1, 7, 3, 5, 7, 0, 2, 4, 4, 2, 6, 2,\n",
       "       7, 4, 2, 2, 1, 3, 2, 3, 1, 4, 1, 8, 2, 0, 1, 8, 6, 1, 8, 2, 2, 1,\n",
       "       7, 4, 2, 3, 6, 0, 3, 4, 4, 3, 1, 5, 4, 0, 0, 2, 0, 4, 0, 3, 3, 3,\n",
       "       7, 5, 7, 3, 3, 7, 3, 3, 3, 8, 3, 1, 6, 6, 5, 8, 5, 0, 1, 3, 7, 0,\n",
       "       4, 8, 6, 0, 4, 2, 1, 5, 2, 5, 7, 8, 8, 6, 2, 4, 5, 4, 0, 7, 1, 2,\n",
       "       0, 1, 8, 3, 8, 2, 0, 8, 4, 0, 4, 8, 2, 7, 3, 7, 2, 5, 6, 3, 3, 3,\n",
       "       0, 4, 4, 0, 4, 8, 3, 2, 1, 1, 7, 6, 5, 5, 3, 1, 3, 6, 7, 8, 6, 5,\n",
       "       2, 0, 2, 6, 1, 6, 8, 0, 7, 7, 1, 0, 4, 8, 8, 0, 6, 2, 4, 6, 4, 2,\n",
       "       4, 8, 3, 1, 3, 6, 1, 6, 3, 8, 8, 1, 6, 0, 5, 8, 8, 3, 1, 2, 8, 2,\n",
       "       0, 1, 2, 0, 4, 6, 2, 2, 6, 4, 0, 5, 6, 5, 4, 8, 5, 4, 7, 4, 3, 5,\n",
       "       3, 8, 5, 2, 6, 8, 8, 5, 4, 4, 3, 7, 5, 2, 3, 0, 8, 1, 2, 1, 3, 4,\n",
       "       1, 7, 4, 2, 5, 4, 3, 3])"
      ]
     },
     "execution_count": 19,
     "metadata": {},
     "output_type": "execute_result"
    }
   ],
   "source": [
    "## get y_test for user level\n",
    "y_test_user_lvl = userlvltest.Lvalue\n",
    "y_test_user_lvl.values"
   ]
  },
  {
   "cell_type": "code",
   "execution_count": 20,
   "id": "2e02f2d0",
   "metadata": {
    "ExecuteTime": {
     "end_time": "2022-03-22T05:39:02.312894Z",
     "start_time": "2022-03-22T05:39:02.305258Z"
    }
   },
   "outputs": [
    {
     "data": {
      "text/plain": [
       "array([2, 3, 4, 0, 4, 1, 7, 4, 5, 2, 1, 7, 3, 5, 7, 0, 2, 1, 4, 2, 6, 2,\n",
       "       7, 4, 2, 2, 2, 3, 3, 3, 2, 3, 1, 8, 2, 0, 1, 8, 6, 1, 8, 2, 2, 5,\n",
       "       7, 3, 2, 3, 6, 0, 3, 4, 4, 1, 1, 5, 4, 0, 1, 2, 0, 4, 0, 3, 3, 3,\n",
       "       4, 5, 7, 3, 3, 7, 3, 3, 3, 4, 3, 4, 6, 6, 5, 8, 5, 1, 1, 3, 7, 0,\n",
       "       0, 8, 6, 0, 3, 2, 5, 5, 2, 2, 7, 1, 2, 6, 2, 4, 0, 4, 3, 5, 1, 2,\n",
       "       0, 2, 3, 3, 8, 2, 0, 8, 4, 0, 4, 8, 2, 7, 3, 1, 2, 5, 6, 3, 3, 3,\n",
       "       2, 4, 4, 4, 4, 8, 3, 2, 1, 1, 7, 8, 5, 5, 3, 1, 6, 6, 7, 2, 6, 5,\n",
       "       2, 6, 0, 6, 1, 6, 8, 0, 7, 4, 1, 0, 4, 8, 1, 3, 6, 4, 4, 6, 1, 1,\n",
       "       3, 8, 3, 2, 3, 6, 2, 6, 3, 8, 1, 7, 6, 0, 5, 1, 8, 3, 1, 8, 8, 2,\n",
       "       0, 1, 2, 0, 4, 6, 2, 2, 6, 4, 0, 4, 6, 5, 0, 8, 4, 4, 7, 4, 1, 3,\n",
       "       2, 8, 5, 2, 6, 3, 8, 8, 4, 4, 2, 1, 7, 2, 3, 0, 8, 1, 2, 5, 3, 4,\n",
       "       1, 7, 3, 2, 5, 4, 3, 3], dtype=int8)"
      ]
     },
     "execution_count": 20,
     "metadata": {},
     "output_type": "execute_result"
    }
   ],
   "source": [
    "## get y_pred for tweets level\n",
    "y_pred_tweets_lvl = df.iloc[:,1].astype('category')\n",
    "y_pred_tweets_lvl = y_pred_tweets_lvl.cat.codes\n",
    "y_pred_tweets_lvl.values"
   ]
  },
  {
   "cell_type": "code",
   "execution_count": 21,
   "id": "a8a85390",
   "metadata": {
    "ExecuteTime": {
     "end_time": "2022-03-22T05:39:06.193149Z",
     "start_time": "2022-03-22T05:39:05.906131Z"
    }
   },
   "outputs": [
    {
     "name": "stdout",
     "output_type": "stream",
     "text": [
      "accuracy 0.75\n",
      "                            precision    recall  f1-score   support\n",
      "\n",
      "    bali dan nusa tenggara       0.83      0.73      0.78        26\n",
      "               jabodetabek       0.57      0.61      0.59        28\n",
      "     jawa barat dan banten       0.68      0.84      0.75        32\n",
      "jawa tengah dan yogyakarta       0.71      0.83      0.77        36\n",
      "                jawa timur       0.74      0.74      0.74        34\n",
      "                kalimantan       0.79      0.68      0.73        22\n",
      "          maluku dan papua       0.91      0.91      0.91        23\n",
      "                  sulawesi       0.88      0.75      0.81        20\n",
      "                  sumatera       0.86      0.66      0.75        29\n",
      "\n",
      "                  accuracy                           0.75       250\n",
      "                 macro avg       0.77      0.75      0.76       250\n",
      "              weighted avg       0.76      0.75      0.75       250\n",
      "\n"
     ]
    }
   ],
   "source": [
    "from sklearn.metrics import classification_report, accuracy_score\n",
    "\n",
    "## print classification report for user level prediction\n",
    "print('accuracy %s' % round(accuracy_score(y_test_user_lvl, y_pred_tweets_lvl),2 ))\n",
    "print(classification_report(y_test_user_lvl, y_pred_tweets_lvl,target_names=label_dict.keys()))"
   ]
  },
  {
   "cell_type": "code",
   "execution_count": 20,
   "id": "c574aa05",
   "metadata": {
    "ExecuteTime": {
     "end_time": "2022-03-13T12:58:00.294165Z",
     "start_time": "2022-03-13T12:58:00.286691Z"
    }
   },
   "outputs": [],
   "source": [
    "y_pred_tweets_lvl.to_csv('bert_result/indoNLU2e_5Results.csv')"
   ]
  },
  {
   "cell_type": "markdown",
   "id": "0d8f993e",
   "metadata": {},
   "source": [
    "### Example of correctly classified data"
   ]
  },
  {
   "cell_type": "code",
   "execution_count": 22,
   "id": "94da1f60",
   "metadata": {
    "ExecuteTime": {
     "end_time": "2022-03-22T05:39:10.175632Z",
     "start_time": "2022-03-22T05:39:10.161973Z"
    }
   },
   "outputs": [
    {
     "data": {
      "text/html": [
       "<div>\n",
       "<style scoped>\n",
       "    .dataframe tbody tr th:only-of-type {\n",
       "        vertical-align: middle;\n",
       "    }\n",
       "\n",
       "    .dataframe tbody tr th {\n",
       "        vertical-align: top;\n",
       "    }\n",
       "\n",
       "    .dataframe thead th {\n",
       "        text-align: right;\n",
       "    }\n",
       "</style>\n",
       "<table border=\"1\" class=\"dataframe\">\n",
       "  <thead>\n",
       "    <tr style=\"text-align: right;\">\n",
       "      <th></th>\n",
       "      <th>username</th>\n",
       "      <th>isaPerson</th>\n",
       "      <th>userLocation</th>\n",
       "      <th>screen_name</th>\n",
       "      <th>Lvalue</th>\n",
       "    </tr>\n",
       "  </thead>\n",
       "  <tbody>\n",
       "    <tr>\n",
       "      <th>0</th>\n",
       "      <td>@arshere</td>\n",
       "      <td>person</td>\n",
       "      <td>sumatera</td>\n",
       "      <td>arshere</td>\n",
       "      <td>8</td>\n",
       "    </tr>\n",
       "    <tr>\n",
       "      <th>1</th>\n",
       "      <td>@inyormain</td>\n",
       "      <td>person</td>\n",
       "      <td>maluku dan papua</td>\n",
       "      <td>inyormain</td>\n",
       "      <td>6</td>\n",
       "    </tr>\n",
       "    <tr>\n",
       "      <th>2</th>\n",
       "      <td>@ainssdyh</td>\n",
       "      <td>person</td>\n",
       "      <td>jawa tengah dan yogyakarta</td>\n",
       "      <td>ainssdyh</td>\n",
       "      <td>3</td>\n",
       "    </tr>\n",
       "    <tr>\n",
       "      <th>3</th>\n",
       "      <td>@aline_adita</td>\n",
       "      <td>person</td>\n",
       "      <td>bali dan nusa tenggara</td>\n",
       "      <td>aline_adita</td>\n",
       "      <td>0</td>\n",
       "    </tr>\n",
       "    <tr>\n",
       "      <th>4</th>\n",
       "      <td>@Arnaz_Asa</td>\n",
       "      <td>person</td>\n",
       "      <td>jawa timur</td>\n",
       "      <td>Arnaz_Asa</td>\n",
       "      <td>4</td>\n",
       "    </tr>\n",
       "    <tr>\n",
       "      <th>...</th>\n",
       "      <td>...</td>\n",
       "      <td>...</td>\n",
       "      <td>...</td>\n",
       "      <td>...</td>\n",
       "      <td>...</td>\n",
       "    </tr>\n",
       "    <tr>\n",
       "      <th>245</th>\n",
       "      <td>@alfunmart</td>\n",
       "      <td>person</td>\n",
       "      <td>jawa barat dan banten</td>\n",
       "      <td>alfunmart</td>\n",
       "      <td>2</td>\n",
       "    </tr>\n",
       "    <tr>\n",
       "      <th>246</th>\n",
       "      <td>@DanarSN</td>\n",
       "      <td>person</td>\n",
       "      <td>kalimantan</td>\n",
       "      <td>DanarSN</td>\n",
       "      <td>5</td>\n",
       "    </tr>\n",
       "    <tr>\n",
       "      <th>247</th>\n",
       "      <td>@aminollahmimink</td>\n",
       "      <td>person</td>\n",
       "      <td>jawa timur</td>\n",
       "      <td>aminollahmimink</td>\n",
       "      <td>4</td>\n",
       "    </tr>\n",
       "    <tr>\n",
       "      <th>248</th>\n",
       "      <td>@StandUpSOLO</td>\n",
       "      <td>nonperson</td>\n",
       "      <td>jawa tengah dan yogyakarta</td>\n",
       "      <td>StandUpSOLO</td>\n",
       "      <td>3</td>\n",
       "    </tr>\n",
       "    <tr>\n",
       "      <th>249</th>\n",
       "      <td>@AangMunawar21</td>\n",
       "      <td>person</td>\n",
       "      <td>jawa tengah dan yogyakarta</td>\n",
       "      <td>AangMunawar21</td>\n",
       "      <td>3</td>\n",
       "    </tr>\n",
       "  </tbody>\n",
       "</table>\n",
       "<p>250 rows × 5 columns</p>\n",
       "</div>"
      ],
      "text/plain": [
       "             username  isaPerson                userLocation      screen_name  \\\n",
       "0            @arshere     person                    sumatera          arshere   \n",
       "1          @inyormain     person            maluku dan papua        inyormain   \n",
       "2           @ainssdyh     person  jawa tengah dan yogyakarta         ainssdyh   \n",
       "3        @aline_adita     person      bali dan nusa tenggara      aline_adita   \n",
       "4          @Arnaz_Asa     person                  jawa timur        Arnaz_Asa   \n",
       "..                ...        ...                         ...              ...   \n",
       "245        @alfunmart     person       jawa barat dan banten        alfunmart   \n",
       "246          @DanarSN     person                  kalimantan          DanarSN   \n",
       "247  @aminollahmimink     person                  jawa timur  aminollahmimink   \n",
       "248      @StandUpSOLO  nonperson  jawa tengah dan yogyakarta      StandUpSOLO   \n",
       "249    @AangMunawar21     person  jawa tengah dan yogyakarta    AangMunawar21   \n",
       "\n",
       "     Lvalue  \n",
       "0         8  \n",
       "1         6  \n",
       "2         3  \n",
       "3         0  \n",
       "4         4  \n",
       "..      ...  \n",
       "245       2  \n",
       "246       5  \n",
       "247       4  \n",
       "248       3  \n",
       "249       3  \n",
       "\n",
       "[250 rows x 5 columns]"
      ]
     },
     "execution_count": 22,
     "metadata": {},
     "output_type": "execute_result"
    }
   ],
   "source": [
    "userlvltest"
   ]
  },
  {
   "cell_type": "code",
   "execution_count": 23,
   "id": "d62bdde3",
   "metadata": {
    "ExecuteTime": {
     "end_time": "2022-03-22T05:39:17.057128Z",
     "start_time": "2022-03-22T05:39:17.049814Z"
    }
   },
   "outputs": [],
   "source": [
    "result_table = pd.DataFrame()\n",
    "result_table['tweets'] = test_df.text\n",
    "result_table['username'] = userlvltest.username\n",
    "result_table['predicted'] = y_pred_tweets_lvl\n",
    "result_table['true_value'] = y_test_user_lvl"
   ]
  },
  {
   "cell_type": "code",
   "execution_count": 24,
   "id": "8d9412cf",
   "metadata": {
    "ExecuteTime": {
     "end_time": "2022-03-22T05:39:18.151544Z",
     "start_time": "2022-03-22T05:39:18.138527Z"
    }
   },
   "outputs": [
    {
     "data": {
      "text/html": [
       "<div>\n",
       "<style scoped>\n",
       "    .dataframe tbody tr th:only-of-type {\n",
       "        vertical-align: middle;\n",
       "    }\n",
       "\n",
       "    .dataframe tbody tr th {\n",
       "        vertical-align: top;\n",
       "    }\n",
       "\n",
       "    .dataframe thead th {\n",
       "        text-align: right;\n",
       "    }\n",
       "</style>\n",
       "<table border=\"1\" class=\"dataframe\">\n",
       "  <thead>\n",
       "    <tr style=\"text-align: right;\">\n",
       "      <th></th>\n",
       "      <th>tweets</th>\n",
       "      <th>username</th>\n",
       "      <th>predicted</th>\n",
       "      <th>true_value</th>\n",
       "    </tr>\n",
       "  </thead>\n",
       "  <tbody>\n",
       "    <tr>\n",
       "      <th>3</th>\n",
       "      <td>hi haru rabu jam siang jakarta wednesday lunch...</td>\n",
       "      <td>@aline_adita</td>\n",
       "      <td>0</td>\n",
       "      <td>0</td>\n",
       "    </tr>\n",
       "    <tr>\n",
       "      <th>15</th>\n",
       "      <td>disaat produktif penghargaan pergi berlibur me...</td>\n",
       "      <td>@westinbali</td>\n",
       "      <td>0</td>\n",
       "      <td>0</td>\n",
       "    </tr>\n",
       "    <tr>\n",
       "      <th>35</th>\n",
       "      <td>keluarga lpmp provinsi nusa tenggara timur sel...</td>\n",
       "      <td>@nttlpmp</td>\n",
       "      <td>0</td>\n",
       "      <td>0</td>\n",
       "    </tr>\n",
       "    <tr>\n",
       "      <th>49</th>\n",
       "      <td>direktur lintas polda ntb kombes pol djoni wid...</td>\n",
       "      <td>@RTMCPoldaNTB</td>\n",
       "      <td>0</td>\n",
       "      <td>0</td>\n",
       "    </tr>\n",
       "    <tr>\n",
       "      <th>57</th>\n",
       "      <td>meet amp feed the meerkat gang members in bali...</td>\n",
       "      <td>@BaliSafari</td>\n",
       "      <td>0</td>\n",
       "      <td>0</td>\n",
       "    </tr>\n",
       "    <tr>\n",
       "      <th>58</th>\n",
       "      <td>review cream wajah scarlett whitening nihhh yg...</td>\n",
       "      <td>@litarianti</td>\n",
       "      <td>1</td>\n",
       "      <td>0</td>\n",
       "    </tr>\n",
       "    <tr>\n",
       "      <th>60</th>\n",
       "      <td>mengirim foto smp negeri singaraja takut menco...</td>\n",
       "      <td>@DediMetrawan1</td>\n",
       "      <td>0</td>\n",
       "      <td>0</td>\n",
       "    </tr>\n",
       "    <tr>\n",
       "      <th>62</th>\n",
       "      <td>coba potong komen stress ngga eh aquarium anco...</td>\n",
       "      <td>@mahananda_</td>\n",
       "      <td>0</td>\n",
       "      <td>0</td>\n",
       "    </tr>\n",
       "    <tr>\n",
       "      <th>83</th>\n",
       "      <td>diaz gemes bangettt naka selamat yaaa kak cynd...</td>\n",
       "      <td>@atnisay</td>\n",
       "      <td>1</td>\n",
       "      <td>0</td>\n",
       "    </tr>\n",
       "    <tr>\n",
       "      <th>87</th>\n",
       "      <td>mengirim foto east nusa tenggara mengirim foto...</td>\n",
       "      <td>@kiko_henuk</td>\n",
       "      <td>0</td>\n",
       "      <td>0</td>\n",
       "    </tr>\n",
       "    <tr>\n",
       "      <th>91</th>\n",
       "      <td>pantai solusi bajalan mlm d kupang jagan membu...</td>\n",
       "      <td>@nixon_civil</td>\n",
       "      <td>0</td>\n",
       "      <td>0</td>\n",
       "    </tr>\n",
       "    <tr>\n",
       "      <th>106</th>\n",
       "      <td>komitmen berkomitmen panitia pmb sebuahlangkah...</td>\n",
       "      <td>@Anab_M_B</td>\n",
       "      <td>3</td>\n",
       "      <td>0</td>\n",
       "    </tr>\n",
       "    <tr>\n",
       "      <th>110</th>\n",
       "      <td>ayo lakukan cuci tangan pakai sabun ctps salah...</td>\n",
       "      <td>@dinkesbali</td>\n",
       "      <td>0</td>\n",
       "      <td>0</td>\n",
       "    </tr>\n",
       "    <tr>\n",
       "      <th>116</th>\n",
       "      <td>off at star equilibria seminyak off the best s...</td>\n",
       "      <td>@THEBALIBIBLE</td>\n",
       "      <td>0</td>\n",
       "      <td>0</td>\n",
       "    </tr>\n",
       "    <tr>\n",
       "      <th>119</th>\n",
       "      <td>bingung bukber dimana yuk cobain sunset ngabub...</td>\n",
       "      <td>@AstonKuta</td>\n",
       "      <td>0</td>\n",
       "      <td>0</td>\n",
       "    </tr>\n",
       "    <tr>\n",
       "      <th>132</th>\n",
       "      <td>tidur mulu kek aja selesai kerja rodi endhy de...</td>\n",
       "      <td>@www_endhy_xyz</td>\n",
       "      <td>2</td>\n",
       "      <td>0</td>\n",
       "    </tr>\n",
       "    <tr>\n",
       "      <th>135</th>\n",
       "      <td>atiek sepurane permisiii wis eruh kaaan wkp te...</td>\n",
       "      <td>@rdpatera</td>\n",
       "      <td>4</td>\n",
       "      <td>0</td>\n",
       "    </tr>\n",
       "    <tr>\n",
       "      <th>155</th>\n",
       "      <td>nusa fb zeno abidin done follow all salam kena...</td>\n",
       "      <td>@NTTbersuara</td>\n",
       "      <td>6</td>\n",
       "      <td>0</td>\n",
       "    </tr>\n",
       "    <tr>\n",
       "      <th>161</th>\n",
       "      <td>parkir barat std dipta harapan nich ngetag bli...</td>\n",
       "      <td>@BaliUtd</td>\n",
       "      <td>0</td>\n",
       "      <td>0</td>\n",
       "    </tr>\n",
       "    <tr>\n",
       "      <th>165</th>\n",
       "      <td>marketing mboknya yg tgl desember tugas kampus...</td>\n",
       "      <td>@wikkend</td>\n",
       "      <td>0</td>\n",
       "      <td>0</td>\n",
       "    </tr>\n",
       "    <tr>\n",
       "      <th>169</th>\n",
       "      <td>orang yg butuh mobil beli yg murahpun berani n...</td>\n",
       "      <td>@aguswidiadaa</td>\n",
       "      <td>3</td>\n",
       "      <td>0</td>\n",
       "    </tr>\n",
       "    <tr>\n",
       "      <th>189</th>\n",
       "      <td>masyallah mabruk mas azzam yassarakumullah mir...</td>\n",
       "      <td>@m_ikhwanulmus</td>\n",
       "      <td>0</td>\n",
       "      <td>0</td>\n",
       "    </tr>\n",
       "    <tr>\n",
       "      <th>198</th>\n",
       "      <td>selamat natal tementemen merayakan yook ngajak...</td>\n",
       "      <td>@StandupindoBali</td>\n",
       "      <td>0</td>\n",
       "      <td>0</td>\n",
       "    </tr>\n",
       "    <tr>\n",
       "      <th>201</th>\n",
       "      <td>kena covidakhir operasi sinusitispikirnya hny ...</td>\n",
       "      <td>@anyta_browniezt</td>\n",
       "      <td>0</td>\n",
       "      <td>0</td>\n",
       "    </tr>\n",
       "    <tr>\n",
       "      <th>208</th>\n",
       "      <td>mana dm nya  masih aktif lets dive meet us at ...</td>\n",
       "      <td>@balimarinedive</td>\n",
       "      <td>0</td>\n",
       "      <td>0</td>\n",
       "    </tr>\n",
       "    <tr>\n",
       "      <th>235</th>\n",
       "      <td>alhamdulillah senangnya hati nonton timnas ind...</td>\n",
       "      <td>@lebahireng</td>\n",
       "      <td>0</td>\n",
       "      <td>0</td>\n",
       "    </tr>\n",
       "  </tbody>\n",
       "</table>\n",
       "</div>"
      ],
      "text/plain": [
       "                                                tweets          username  \\\n",
       "3    hi haru rabu jam siang jakarta wednesday lunch...      @aline_adita   \n",
       "15   disaat produktif penghargaan pergi berlibur me...       @westinbali   \n",
       "35   keluarga lpmp provinsi nusa tenggara timur sel...          @nttlpmp   \n",
       "49   direktur lintas polda ntb kombes pol djoni wid...     @RTMCPoldaNTB   \n",
       "57   meet amp feed the meerkat gang members in bali...       @BaliSafari   \n",
       "58   review cream wajah scarlett whitening nihhh yg...       @litarianti   \n",
       "60   mengirim foto smp negeri singaraja takut menco...    @DediMetrawan1   \n",
       "62   coba potong komen stress ngga eh aquarium anco...       @mahananda_   \n",
       "83   diaz gemes bangettt naka selamat yaaa kak cynd...          @atnisay   \n",
       "87   mengirim foto east nusa tenggara mengirim foto...       @kiko_henuk   \n",
       "91   pantai solusi bajalan mlm d kupang jagan membu...      @nixon_civil   \n",
       "106  komitmen berkomitmen panitia pmb sebuahlangkah...         @Anab_M_B   \n",
       "110  ayo lakukan cuci tangan pakai sabun ctps salah...       @dinkesbali   \n",
       "116  off at star equilibria seminyak off the best s...     @THEBALIBIBLE   \n",
       "119  bingung bukber dimana yuk cobain sunset ngabub...        @AstonKuta   \n",
       "132  tidur mulu kek aja selesai kerja rodi endhy de...    @www_endhy_xyz   \n",
       "135  atiek sepurane permisiii wis eruh kaaan wkp te...         @rdpatera   \n",
       "155  nusa fb zeno abidin done follow all salam kena...      @NTTbersuara   \n",
       "161  parkir barat std dipta harapan nich ngetag bli...          @BaliUtd   \n",
       "165  marketing mboknya yg tgl desember tugas kampus...          @wikkend   \n",
       "169  orang yg butuh mobil beli yg murahpun berani n...     @aguswidiadaa   \n",
       "189  masyallah mabruk mas azzam yassarakumullah mir...    @m_ikhwanulmus   \n",
       "198  selamat natal tementemen merayakan yook ngajak...  @StandupindoBali   \n",
       "201  kena covidakhir operasi sinusitispikirnya hny ...  @anyta_browniezt   \n",
       "208  mana dm nya  masih aktif lets dive meet us at ...   @balimarinedive   \n",
       "235  alhamdulillah senangnya hati nonton timnas ind...       @lebahireng   \n",
       "\n",
       "     predicted  true_value  \n",
       "3            0           0  \n",
       "15           0           0  \n",
       "35           0           0  \n",
       "49           0           0  \n",
       "57           0           0  \n",
       "58           1           0  \n",
       "60           0           0  \n",
       "62           0           0  \n",
       "83           1           0  \n",
       "87           0           0  \n",
       "91           0           0  \n",
       "106          3           0  \n",
       "110          0           0  \n",
       "116          0           0  \n",
       "119          0           0  \n",
       "132          2           0  \n",
       "135          4           0  \n",
       "155          6           0  \n",
       "161          0           0  \n",
       "165          0           0  \n",
       "169          3           0  \n",
       "189          0           0  \n",
       "198          0           0  \n",
       "201          0           0  \n",
       "208          0           0  \n",
       "235          0           0  "
      ]
     },
     "execution_count": 24,
     "metadata": {},
     "output_type": "execute_result"
    }
   ],
   "source": [
    "result_table[result_table['true_value']==0] "
   ]
  },
  {
   "cell_type": "code",
   "execution_count": 26,
   "id": "68d66d26",
   "metadata": {
    "ExecuteTime": {
     "end_time": "2022-03-22T05:39:51.901182Z",
     "start_time": "2022-03-22T05:39:51.891864Z"
    }
   },
   "outputs": [
    {
     "data": {
      "text/plain": [
       "'selamat natal tementemen merayakan yook ngajak gebetan traktir makan monggo gasss nonton diroasting ama kamis besok lupa dateng krn kursi terbatas terima kasih menghampiri umat lucu bali jumpa event terima kasih kepercayaan semoga ketemu event amaan bli mantaap siip uda book tiket hell suksma bli siaap bli yg hell heaven x show jam wita silahkan ditonton like subscribe bentuk perayaan komunitas terima kasih teaser tipistipis kejutan besok channel youtube selamat dekade terima kasih keluarga stand up indo terima kasih komika terima kasih penonton setia terima kasih yok nonton special show trus bernyanyi komikakomika minggu november jam sore dipandu tunggu kejutan dihibur ama komikakomika lokal yg gerrrrrrr kangen nonton stand up comedy yuk dateng no mask no entry line up bali langsung sikat tiketnya ini ulahnya kalo dapet bentukkan kek gini gimana kelean gaess squidgamenetflix selamat ulang tercinta terima kasih rumah komika penikmat stand up comedy viva la komtung thstandupindo dekadestandupindo libur ya semeton jaga kesehatan yok kamis besok tertawa pantesan yg dm nanya gimana openmic gimana gabung komunitas leh ughaa teruntuk teman teman muslim selamat merayakan idul fitri h mohon maaf lahir batin desain kece beli tiketnya tiket box harinya senin mei jam wita informasi hubungi nomer poster yuk buruan beli kehabisan komoidoumenoi denpasar bali bungker bareng kamis besok jam malem seseruan lupa jalankan protokol kesehatan penggunaan masker ya gaes dateng biar dapet posisi uenak nonton plus makan plus minum plus ketawa bungker selamat pemenang tarung tawa iii nanya tiket engga ga jual tiket on the spot kapok suruh ga beli tiket terbatas suksma kak doy besok malem saksi masuk final tarung tawa juri tamu spesial lho kamis seru banget neh kak yg roasting tarungtawa bau uang yg masi kenceng nyanggra rahina nyepi caka semeton sareng sami balitritawa goks kemarinkemarin nanyain gimana belajar nulis materi stand up neh mimin kasi dah workshop buruan daftar slot terbatas stiker tau kolab bareng cmiiiiiiw mari bantu saudarasaudara tertimpa musibah sulawesi membuka open donasi kitabisa silakan klik link utk memudahkan berdonasi mari bantu saudarasaudara tertimpa musibah kalimantan membuka open donasi kitabisa silakan klik link utk memudahkan berdonasi libur ya gaesssss selamat bang arie peserta tarungtawa nih wejangan pendahulu sampe kelewatan saksi lolos tarungtawa siapsiap tarung tawa sergius mengobarkan bungkerbareng security ternama canggu loper komika tertua komunitas f a n i jauhjauh jembrana h e r i malam bungkerbareng doyok menggoyang panggung bungkerbareng malam pendatang bungkerbareng h e r r i a d i menjajal panggung bungkerbareng anak yatim piatu bungkerbareng erwin pembuka bungkerbareng tamu jembrana cus duo mc dar der dor malam bungkerbareng lets go kamis besok ketemu bungkerbareng jam malem sinar harapan mlg ardi sergius bikin jersey beli bisalah merchandisenya modal bikin jersey yok yok hehehehehe yok ntar malem kumpul haluan coffee acara spesial nih komika lokal yg mengocok isi perut dipandu tenaang haluan coffee harganya ga mengocok isi dompet ardi sergius yooook mariii nih mimin kasi harga paketan kalo murah patungan ama tementemen ato biar alesan ngechat gebetan nanyain suka kaos totebag anak indie senja pake totebag ama kaos banget yok dipesen kehabisan kuota po dibuka tgl desember langsung klik link bio yess beli'"
      ]
     },
     "execution_count": 26,
     "metadata": {},
     "output_type": "execute_result"
    }
   ],
   "source": [
    "text  = result_table[result_table['username']=='@StandupindoBali'].tweets.values[0]\n",
    "text = text.split()\n",
    "mylist = text[:512] \n",
    "str.join(\" \", mylist)"
   ]
  },
  {
   "cell_type": "code",
   "execution_count": 27,
   "id": "24ca9536",
   "metadata": {
    "ExecuteTime": {
     "end_time": "2022-03-22T05:40:00.821421Z",
     "start_time": "2022-03-22T05:40:00.811728Z"
    }
   },
   "outputs": [
    {
     "data": {
      "text/plain": [
       "'ayo lakukan cuci tangan pakai sabun ctps salah upaya pencegahan covid bali perangi covid sekala niskala lembaga menyumbang apd penanganan covid pekerja migran bali dikarantinakan satgas bencana diskes sigap bantu pencegahan covid bali siapkan logistik darurat covid rapat tim kesiapsiagaan bencana dinas kesehatan waspadai coronavirus covid kenali penyebabnya lakukan pencegahannya wagub sekda penyemprotan disinfektan cegah covid gencarkan sosialisasi covid diskes bali undang pbf samakan persepsi terkait pkrs diskes bali undang pengelola pkrs kabupatenkota rakor diskes bali terkait perlindungan pendampingan hukum rs cegah stunting dinas kesehatan gelar pmba diskes dukung layanan tambahan jknkbs krama bali jajaran kesehatan tanggap covid waspada covid jajaran pemprov bali lakukan gerakan hygiene sanitasi lingkungan langkah siaga covid diskes bali diskes bali gelar workshop asdk sosialisasi sip rapat khusus siaga corona diskes bali diskes adakan forum pd sinkronkan rencana kegiatan kunjungan who dinas kesehatan kesigapan povinsi bali perkembangan virus corona gebyar ippp pemberian vitamin a balita pelatihan kkmn provinsi bali pengumuman surat pernyataan resmi pemerintah provinsi bali bali aman virus corona pertemuan advokasi pembentukan griya sehat teknologi mari bahasa bali sinergi penguatan program pengendalian rokok wujudkan krama bali sehat menjaga kesehatan ketenangan masyarakat rakor tingkatkan kualitas layanan jkn bali seminar nasional virus corona workshop on travel medicine fakultas kedokteran unwar apel pagi dinas kesehatan provinsi bali apel dinas kesehatan provinsi bali sosialisasi permenkes aktivitas rutin dinas kesehatan virus corona vs narkoba dr suarjayamppm kerja keras kejar temuan tb bali verivali data profil kesehatan provinsi bali diskes bali pulangkan bekali pidi ketahui virus corona ncov hoaks bawang putih sembuhkan corona bali siaga status darurat corona pemda perluas akses yankes payangan diskes bali latih jafung adminkes kesiapsiagaan infeksi novel coronavirus bali waspada virus corona dinkes visitasi rsud bangli bahaya penyakit rabies kesiapsiagaan menghadapi merscov pemahaman puskesmas bersih kemitraan kesehatan penurunan stunting gianyar bali rakornas kidi optimalisasi pidi bali pneumonia sedunia bali diskes pelatihan layanan tes hiv bali raih juara uks tingkat nasional generasi bali sehat indonesia unggul peran desa mengatasi stunting bali diskes evaluasi jknkbs dinkes implementasi coasting spm diskes dorong akreditasi labkes nspk kesga turunkan aki akb perencanaan kesehatan terintegrasi penguatan lab tbc bali pispk terpadu bali pembekalan pidi iii diskes wujudkan hattra aman gema alat kesehatan diskes tingkatkan imunisasi mr pengobatan tb resistan obat diseminasi akselerasi hivaids bali pendayagunaan dokter spesialis bali bali siapkan rs internasional optimalisasi aoc bali diskes lokakarya hivaids pims anc sesuai standar bali diskes fokus pengembangan yankestrad amp bantu turunkan aki akb fgd ranpergub yankestrad bali humas kesehatan bantu yankes bali diskes perkuat rujukan maternal neonatal diskes kembangkan yankestrad diskes awasi pengelolaan obat diskes tingkatkan kapasitas tim ponek pidi kuatkan yankes bali diskes bali kembangkan griya sehat wagub ajak krama desa cegah aids diskes pantau kesehatan jamaah haji ponek kunci penurunan aki akb dokcil bantu promotif preventif sekolah diskes ikuti webinar spm kesehatan spmkesehatanbali klbbali webinar posbindu institusi tingkatkan deteksi ptm posbinduptmbali pptmbali gerakanmasyarakathidupsehatbali ombudsman ri kunjungi diskes bali selengkapnya ombudsmanri spmkesehatanbali'"
      ]
     },
     "execution_count": 27,
     "metadata": {},
     "output_type": "execute_result"
    }
   ],
   "source": [
    "text  = result_table[result_table['username']=='@dinkesbali'].tweets.values[0]\n",
    "text = text.split()\n",
    "mylist = text[:512] \n",
    "str.join(\" \", mylist)"
   ]
  },
  {
   "cell_type": "markdown",
   "id": "7d3a089e",
   "metadata": {},
   "source": [
    "### create confusion matrix "
   ]
  },
  {
   "cell_type": "code",
   "execution_count": 32,
   "id": "1fac748a",
   "metadata": {
    "ExecuteTime": {
     "end_time": "2022-03-22T05:43:09.137745Z",
     "start_time": "2022-03-22T05:43:09.134069Z"
    }
   },
   "outputs": [],
   "source": [
    "cm_names = {\n",
    "    0:'NU',\n",
    "    1:'JBD',\n",
    "    2:'JB&BT',\n",
    "    3:'JT&YO',\n",
    "    4:'JI',\n",
    "    5:'KA',\n",
    "    6:'ML&PP',\n",
    "    7:'SL',\n",
    "    8:'SM'\n",
    "}\n",
    "\n",
    "cm_names_sorted = dict(sorted(cm_names.items(), key=lambda item: item[1]))"
   ]
  },
  {
   "cell_type": "code",
   "execution_count": 33,
   "id": "799a01ca",
   "metadata": {
    "ExecuteTime": {
     "end_time": "2022-03-22T05:43:12.921447Z",
     "start_time": "2022-03-22T05:43:12.157739Z"
    },
    "scrolled": true
   },
   "outputs": [
    {
     "data": {
      "image/png": "[encoded data removed]",
      "text/plain": [
       "<Figure size 432x288 with 2 Axes>"
      ]
     },
     "metadata": {
      "needs_background": "light"
     },
     "output_type": "display_data"
    }
   ],
   "source": [
    "from sklearn.metrics import confusion_matrix\n",
    "import seaborn as sns\n",
    "\n",
    "conf = confusion_matrix(y_test_user_lvl.values, y_pred_tweets_lvl.values, labels=list(cm_names_sorted.keys()))\n",
    "\n",
    "conf_norm= np.around(conf.astype('float') / conf.sum(axis=1)[:, np.newaxis], decimals=2)\n",
    "\n",
    "\n",
    "df_cm = pd.DataFrame(conf_norm, index = [i for i in cm_names_sorted.values()],\n",
    "                    columns = [i for i in cm_names_sorted.values()])\n",
    "\n",
    "plt.figure(figsize = (6,4))\n",
    "ax= plt.subplot()\n",
    "sns.heatmap(df_cm, annot=True,  cmap='Blues')\n",
    "ax.set_xlabel('Predicted labels');ax.set_ylabel('True labels'); \n",
    "plt.show()"
   ]
  },
  {
   "cell_type": "code",
   "execution_count": 34,
   "id": "76e75c04",
   "metadata": {
    "ExecuteTime": {
     "end_time": "2022-03-22T05:43:20.977943Z",
     "start_time": "2022-03-22T05:43:20.972831Z"
    }
   },
   "outputs": [
    {
     "data": {
      "text/plain": [
       "array([0.84375   , 0.60714286, 0.73529412, 0.83333333, 0.68181818,\n",
       "       0.91304348, 0.73076923, 0.75      , 0.65517241])"
      ]
     },
     "execution_count": 34,
     "metadata": {},
     "output_type": "execute_result"
    }
   ],
   "source": [
    "conf.diagonal()/conf.sum(axis=1)"
   ]
  },
  {
   "cell_type": "markdown",
   "id": "4828226e",
   "metadata": {},
   "source": [
    "## Test person to ALL "
   ]
  },
  {
   "cell_type": "code",
   "execution_count": 35,
   "id": "a1eaeb90",
   "metadata": {
    "ExecuteTime": {
     "end_time": "2022-03-22T07:01:47.621911Z",
     "start_time": "2022-03-22T07:01:35.149760Z"
    }
   },
   "outputs": [
    {
     "name": "stderr",
     "output_type": "stream",
     "text": [
      "Some weights of BertForSequenceClassification were not initialized from the model checkpoint at indobenchmark/indobert-base-p1 and are newly initialized: ['classifier.weight', 'classifier.bias']\n",
      "You should probably TRAIN this model on a down-stream task to be able to use it for predictions and inference.\n"
     ]
    }
   ],
   "source": [
    "set_seed(42)\n",
    "\n",
    "#Load model\n",
    "mytokenizer = BertTokenizer.from_pretrained('indobenchmark/indobert-base-p1')\n",
    "\n",
    "myconfig = BertConfig.from_pretrained('indobenchmark/indobert-base-p1',\n",
    "                                    attention_probs_dropout_prob=0.3,\n",
    "                                    hidden_dropout_prob=0.3)\n",
    "myconfig.num_labels = LocationPredictionDataset.NUM_LABELS\n",
    "\n",
    "# Instantiate model\n",
    "mymodel = BertForSequenceClassification.from_pretrained('indobenchmark/indobert-base-p1', \n",
    "                                                      config=myconfig)\n"
   ]
  },
  {
   "cell_type": "code",
   "execution_count": 36,
   "id": "555f5599",
   "metadata": {
    "ExecuteTime": {
     "end_time": "2022-03-22T07:01:58.899469Z",
     "start_time": "2022-03-22T07:01:53.180966Z"
    }
   },
   "outputs": [
    {
     "name": "stderr",
     "output_type": "stream",
     "text": [
      "100%|██████████| 16/16 [00:04<00:00,  3.63it/s]\n"
     ]
    }
   ],
   "source": [
    "# menggunakan gpu\n",
    "best_model = mymodel.to(device)\n",
    "\n",
    "optimizer = optim.AdamW(best_model.parameters(), lr=2e-5)\n",
    "\n",
    "file_path = 'person_saved_model'\n",
    "\n",
    "load_checkpoint(file_path + '/indoNLU_model_2e_5_batch16.pt', best_model, optimizer)\n",
    "\n",
    "best_model.eval()\n",
    "torch.set_grad_enabled(False)\n",
    "\n",
    "total_loss, total_correct, total_labels = 0, 0, 0\n",
    "list_hyp, list_label = [], []\n",
    "\n",
    "pbar = tqdm(test_loader, leave=True, total=len(test_loader))\n",
    "for i, batch_data in enumerate(pbar):\n",
    "    _, batch_hyp, _ = forward_sequence_classification(best_model, batch_data[:-1], i2w=i2w, device=device_idx)\n",
    "    list_hyp += batch_hyp\n",
    "\n",
    "# Save prediction\n",
    "df = pd.DataFrame({'label':list_hyp}).reset_index()"
   ]
  },
  {
   "cell_type": "code",
   "execution_count": 37,
   "id": "066adce4",
   "metadata": {
    "ExecuteTime": {
     "end_time": "2022-03-22T07:02:00.801983Z",
     "start_time": "2022-03-22T07:02:00.789266Z"
    }
   },
   "outputs": [
    {
     "name": "stdout",
     "output_type": "stream",
     "text": [
      "accuracy 0.58\n",
      "                            precision    recall  f1-score   support\n",
      "\n",
      "    bali dan nusa tenggara       0.58      0.73      0.64        26\n",
      "               jabodetabek       0.50      0.50      0.50        28\n",
      "     jawa barat dan banten       0.68      0.41      0.51        32\n",
      "jawa tengah dan yogyakarta       0.43      0.81      0.56        36\n",
      "                jawa timur       0.60      0.26      0.37        34\n",
      "                kalimantan       0.65      0.77      0.71        22\n",
      "          maluku dan papua       0.75      0.78      0.77        23\n",
      "                  sulawesi       0.65      0.65      0.65        20\n",
      "                  sumatera       0.72      0.45      0.55        29\n",
      "\n",
      "                  accuracy                           0.58       250\n",
      "                 macro avg       0.62      0.60      0.58       250\n",
      "              weighted avg       0.61      0.58      0.57       250\n",
      "\n"
     ]
    }
   ],
   "source": [
    "from sklearn.metrics import accuracy_score, f1_score, recall_score, precision_score, classification_report\n",
    "\n",
    "\n",
    "## get y_pred for tweets level\n",
    "y_pred_tweets_lvl_person = df.iloc[:,1].astype('category')\n",
    "y_pred_tweets_lvl_person = y_pred_tweets_lvl_person.cat.codes\n",
    "\n",
    "\n",
    "## print classification report for user level prediction\n",
    "print('accuracy %s' % round(accuracy_score(userlvltest.Lvalue, y_pred_tweets_lvl_person),2 ))\n",
    "print(classification_report(userlvltest.Lvalue, y_pred_tweets_lvl_person,target_names=label_dict.keys()))"
   ]
  },
  {
   "cell_type": "markdown",
   "id": "aedadc70",
   "metadata": {},
   "source": [
    "## Test nonperson to ALL"
   ]
  },
  {
   "cell_type": "code",
   "execution_count": 39,
   "id": "87bde17b",
   "metadata": {
    "ExecuteTime": {
     "end_time": "2022-03-22T07:03:15.563016Z",
     "start_time": "2022-03-22T07:03:02.507850Z"
    }
   },
   "outputs": [
    {
     "name": "stderr",
     "output_type": "stream",
     "text": [
      "Some weights of BertForSequenceClassification were not initialized from the model checkpoint at indobenchmark/indobert-base-p1 and are newly initialized: ['classifier.weight', 'classifier.bias']\n",
      "You should probably TRAIN this model on a down-stream task to be able to use it for predictions and inference.\n"
     ]
    }
   ],
   "source": [
    "set_seed(42)\n",
    "\n",
    "#Load model\n",
    "mytokenizer = BertTokenizer.from_pretrained('indobenchmark/indobert-base-p1')\n",
    "\n",
    "myconfig = BertConfig.from_pretrained('indobenchmark/indobert-base-p1',\n",
    "                                    attention_probs_dropout_prob=0.3,\n",
    "                                    hidden_dropout_prob=0.3)\n",
    "myconfig.num_labels = LocationPredictionDataset.NUM_LABELS\n",
    "\n",
    "# Instantiate model\n",
    "mymodel = BertForSequenceClassification.from_pretrained('indobenchmark/indobert-base-p1', \n",
    "                                                      config=myconfig)\n"
   ]
  },
  {
   "cell_type": "code",
   "execution_count": 40,
   "id": "fd8ccf22",
   "metadata": {
    "ExecuteTime": {
     "end_time": "2022-03-22T07:03:21.119315Z",
     "start_time": "2022-03-22T07:03:15.565620Z"
    }
   },
   "outputs": [
    {
     "name": "stderr",
     "output_type": "stream",
     "text": [
      "100%|██████████| 16/16 [00:04<00:00,  3.51it/s]\n"
     ]
    }
   ],
   "source": [
    "# menggunakan gpu\n",
    "best_model = mymodel.to(device)\n",
    "\n",
    "optimizer = optim.AdamW(best_model.parameters(), lr=2e-5)\n",
    "\n",
    "file_path = 'nonperson_saved_model'\n",
    "\n",
    "load_checkpoint(file_path + '/indoNLU_model_2e_5_batch16.pt', best_model, optimizer)\n",
    "\n",
    "best_model.eval()\n",
    "torch.set_grad_enabled(False)\n",
    "\n",
    "total_loss, total_correct, total_labels = 0, 0, 0\n",
    "list_hyp, list_label = [], []\n",
    "\n",
    "pbar = tqdm(test_loader, leave=True, total=len(test_loader))\n",
    "for i, batch_data in enumerate(pbar):\n",
    "    _, batch_hyp, _ = forward_sequence_classification(best_model, batch_data[:-1], i2w=i2w, device=device_idx)\n",
    "    list_hyp += batch_hyp\n",
    "\n",
    "# Save prediction\n",
    "df = pd.DataFrame({'label':list_hyp}).reset_index()"
   ]
  },
  {
   "cell_type": "code",
   "execution_count": 41,
   "id": "2249addc",
   "metadata": {
    "ExecuteTime": {
     "end_time": "2022-03-22T07:03:21.143620Z",
     "start_time": "2022-03-22T07:03:21.122143Z"
    }
   },
   "outputs": [
    {
     "name": "stdout",
     "output_type": "stream",
     "text": [
      "accuracy 0.68\n",
      "                            precision    recall  f1-score   support\n",
      "\n",
      "    bali dan nusa tenggara       0.86      0.73      0.79        26\n",
      "               jabodetabek       0.32      0.68      0.43        28\n",
      "     jawa barat dan banten       0.71      0.62      0.67        32\n",
      "jawa tengah dan yogyakarta       0.72      0.72      0.72        36\n",
      "                jawa timur       0.84      0.62      0.71        34\n",
      "                kalimantan       0.71      0.68      0.70        22\n",
      "          maluku dan papua       0.84      0.91      0.87        23\n",
      "                  sulawesi       0.87      0.65      0.74        20\n",
      "                  sumatera       0.94      0.59      0.72        29\n",
      "\n",
      "                  accuracy                           0.68       250\n",
      "                 macro avg       0.76      0.69      0.71       250\n",
      "              weighted avg       0.75      0.68      0.70       250\n",
      "\n"
     ]
    }
   ],
   "source": [
    "from sklearn.metrics import accuracy_score, f1_score, recall_score, precision_score, classification_report\n",
    "\n",
    "\n",
    "## get y_pred for tweets level\n",
    "y_pred_tweets_lvl_nonperson = df.iloc[:,1].astype('category')\n",
    "y_pred_tweets_lvl_nonperson = y_pred_tweets_lvl_nonperson.cat.codes\n",
    "\n",
    "\n",
    "## print classification report for user level prediction\n",
    "print('accuracy %s' % round(accuracy_score(userlvltest.Lvalue, y_pred_tweets_lvl_nonperson),2 ))\n",
    "print(classification_report(userlvltest.Lvalue, y_pred_tweets_lvl_nonperson,target_names=label_dict.keys()))"
   ]
  },
  {
   "cell_type": "code",
   "execution_count": null,
   "id": "64f1e9fe",
   "metadata": {},
   "outputs": [],
   "source": []
  }
 ],
 "metadata": {
  "kernelspec": {
   "display_name": "Python 3",
   "language": "python",
   "name": "python3"
  },
  "language_info": {
   "codemirror_mode": {
    "name": "ipython",
    "version": 3
   },
   "file_extension": ".py",
   "mimetype": "text/x-python",
   "name": "python",
   "nbconvert_exporter": "python",
   "pygments_lexer": "ipython3",
   "version": "3.8.10"
  },
  "toc": {
   "base_numbering": 1,
   "nav_menu": {
    "height": "79px",
    "width": "212px"
   },
   "number_sections": true,
   "sideBar": true,
   "skip_h1_title": false,
   "title_cell": "Table of Contents",
   "title_sidebar": "Contents",
   "toc_cell": false,
   "toc_position": {
    "height": "calc(100% - 180px)",
    "left": "10px",
    "top": "150px",
    "width": "384px"
   },
   "toc_section_display": true,
   "toc_window_display": true
  },
  "varInspector": {
   "cols": {
    "lenName": 16,
    "lenType": 16,
    "lenVar": 40
   },
   "kernels_config": {
    "python": {
     "delete_cmd_postfix": "",
     "delete_cmd_prefix": "del ",
     "library": "var_list.py",
     "varRefreshCmd": "print(var_dic_list())"
    },
    "r": {
     "delete_cmd_postfix": ") ",
     "delete_cmd_prefix": "rm(",
     "library": "var_list.r",
     "varRefreshCmd": "cat(var_dic_list()) "
    }
   },
   "types_to_exclude": [
    "module",
    "function",
    "builtin_function_or_method",
    "instance",
    "_Feature"
   ],
   "window_display": false
  }
 },
 "nbformat": 4,
 "nbformat_minor": 5
}
