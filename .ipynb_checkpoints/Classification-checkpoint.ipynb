{
 "cells": [
  {
   "cell_type": "code",
   "execution_count": 399,
   "metadata": {
    "ExecuteTime": {
     "end_time": "2022-03-21T02:13:05.077671Z",
     "start_time": "2022-03-21T02:13:05.074784Z"
    },
    "id": "YsLB2zkYWk_3"
   },
   "outputs": [],
   "source": [
    "folderPATH = \"../workspace/dataset\""
   ]
  },
  {
   "cell_type": "markdown",
   "metadata": {
    "id": "FALZPHrieWg0"
   },
   "source": [
    "## Library import"
   ]
  },
  {
   "cell_type": "code",
   "execution_count": 400,
   "metadata": {
    "ExecuteTime": {
     "end_time": "2022-03-21T02:13:06.207989Z",
     "start_time": "2022-03-21T02:13:06.204591Z"
    },
    "id": "g_JOz3IIZxRb"
   },
   "outputs": [],
   "source": [
    "import pandas as pd \n",
    "pd.options.mode.chained_assignment = None  # default='warn'\n",
    "\n",
    "import numpy as np\n",
    "import os \n",
    "import matplotlib.pyplot as plt\n",
    "import seaborn as sns"
   ]
  },
  {
   "cell_type": "code",
   "execution_count": 401,
   "metadata": {
    "ExecuteTime": {
     "end_time": "2022-03-21T02:13:15.922898Z",
     "start_time": "2022-03-21T02:13:06.781816Z"
    },
    "colab": {
     "base_uri": "https://localhost:8080/"
    },
    "id": "DpkHQR4-EbSB",
    "outputId": "043baea2-2b8e-4958-886f-ec636f27c8e3"
   },
   "outputs": [
    {
     "name": "stderr",
     "output_type": "stream",
     "text": [
      "[nltk_data] Downloading package punkt to /root/nltk_data...\n",
      "[nltk_data]   Package punkt is already up-to-date!\n"
     ]
    }
   ],
   "source": [
    "import unicodedata\n",
    "import string\n",
    "import re\n",
    "import collections\n",
    "import nltk\n",
    "nltk.download('punkt')\n",
    "from nltk.tokenize import word_tokenize\n",
    "from stopwordsiso import stopwords"
   ]
  },
  {
   "cell_type": "markdown",
   "metadata": {
    "id": "Vx9vNpzsElWA"
   },
   "source": [
    "## Data Preparation"
   ]
  },
  {
   "cell_type": "code",
   "execution_count": 155,
   "metadata": {
    "ExecuteTime": {
     "end_time": "2022-03-12T07:39:03.818608Z",
     "start_time": "2022-03-12T07:38:56.555693Z"
    },
    "colab": {
     "base_uri": "https://localhost:8080/"
    },
    "id": "1lhgfWXDcvGW",
    "outputId": "58970d7e-506f-4c4a-9ced-b9a5ad706ad7"
   },
   "outputs": [
    {
     "data": {
      "text/plain": [
       "2124292"
      ]
     },
     "execution_count": 155,
     "metadata": {},
     "output_type": "execute_result"
    }
   ],
   "source": [
    "user_data = pd.read_csv(folderPATH+'/new/finaluser.csv', index_col=0)\n",
    "user_tweets = pd.read_csv('collected_tweets.csv', keep_default_na = False)\n",
    "len(user_tweets)"
   ]
  },
  {
   "cell_type": "markdown",
   "metadata": {},
   "source": [
    "###  clean tweets"
   ]
  },
  {
   "cell_type": "markdown",
   "metadata": {},
   "source": [
    "####  Drop duplicate and select only indonesian Tweets"
   ]
  },
  {
   "cell_type": "code",
   "execution_count": 156,
   "metadata": {
    "ExecuteTime": {
     "end_time": "2022-03-12T07:39:07.434368Z",
     "start_time": "2022-03-12T07:39:05.126871Z"
    },
    "colab": {
     "base_uri": "https://localhost:8080/",
     "height": 462
    },
    "id": "gi_tD_8rc7vJ",
    "outputId": "301ae184-f256-4f99-ceb1-ca352e801165"
   },
   "outputs": [
    {
     "data": {
      "text/plain": [
       "1557875"
      ]
     },
     "execution_count": 156,
     "metadata": {},
     "output_type": "execute_result"
    }
   ],
   "source": [
    "user_tweets.drop_duplicates(subset=['text'], ignore_index=True, keep='first', inplace=True)\n",
    "user_tweets = user_tweets[user_tweets.lang == 'in']\n",
    "len(user_tweets)"
   ]
  },
  {
   "cell_type": "markdown",
   "metadata": {},
   "source": [
    "####  Cleaning"
   ]
  },
  {
   "cell_type": "code",
   "execution_count": 158,
   "metadata": {
    "ExecuteTime": {
     "end_time": "2022-03-12T07:39:14.200881Z",
     "start_time": "2022-03-12T07:39:14.196301Z"
    },
    "id": "m-txsVYwlgSR"
   },
   "outputs": [],
   "source": [
    "STOPWORDS = list(set(stopwords(\"id\")))\n",
    "STOPWORDS = set(STOPWORDS)\n",
    "normal_regex = re.compile(r\"(.)\\1{1,}\") \n",
    "remove_digits = re.compile(r\"[^a-zA-z.,!?/:;\\\"\\'\\s]\") \n",
    "\n",
    "def clean_text(teks):\n",
    "    teks = str(teks)\n",
    "    teks = unicodedata.normalize('NFKC', teks) \n",
    "    teks = re.sub(remove_digits, '', teks) #remove digits\n",
    "    teks = teks.translate(str.maketrans('', '', string.punctuation)) #remove punctuation\n",
    "    teks = teks.lower() #lowercase \n",
    "    if len(teks)>=20: #stopwords\n",
    "      teks = ' '.join(word for word in teks.split() if word not in STOPWORDS)\n",
    "    return teks"
   ]
  },
  {
   "cell_type": "code",
   "execution_count": 165,
   "metadata": {
    "ExecuteTime": {
     "end_time": "2022-03-12T07:41:26.976224Z",
     "start_time": "2022-03-12T07:41:20.597396Z"
    }
   },
   "outputs": [],
   "source": [
    "user_tweets['display_name'] = user_tweets['display_name'].apply(clean_text)"
   ]
  },
  {
   "cell_type": "code",
   "execution_count": 169,
   "metadata": {
    "ExecuteTime": {
     "end_time": "2022-03-12T07:42:16.182705Z",
     "start_time": "2022-03-12T07:42:03.637412Z"
    }
   },
   "outputs": [],
   "source": [
    "user_tweets['description'] = user_tweets['description'].apply(clean_text)"
   ]
  },
  {
   "cell_type": "code",
   "execution_count": 171,
   "metadata": {
    "ExecuteTime": {
     "end_time": "2022-03-12T07:42:59.711275Z",
     "start_time": "2022-03-12T07:42:44.150371Z"
    },
    "id": "Wu_p9q87VYMS"
   },
   "outputs": [],
   "source": [
    "user_tweets['text'] = user_tweets['text'].apply(clean_text)"
   ]
  },
  {
   "cell_type": "markdown",
   "metadata": {},
   "source": [
    "####  Drop duplicates tweets again"
   ]
  },
  {
   "cell_type": "code",
   "execution_count": 173,
   "metadata": {
    "ExecuteTime": {
     "end_time": "2022-03-12T07:43:08.678439Z",
     "start_time": "2022-03-12T07:43:06.829275Z"
    },
    "colab": {
     "base_uri": "https://localhost:8080/"
    },
    "id": "UJoax1NIoCbB",
    "outputId": "03e3c446-42dd-41d7-9aa9-b31746aeffd9"
   },
   "outputs": [
    {
     "data": {
      "text/plain": [
       "1515610"
      ]
     },
     "execution_count": 173,
     "metadata": {},
     "output_type": "execute_result"
    }
   ],
   "source": [
    "user_tweets.drop_duplicates(subset=['text'], ignore_index=True, keep='first', inplace=True)\n",
    "len(user_tweets)"
   ]
  },
  {
   "cell_type": "markdown",
   "metadata": {
    "id": "ZllwYOv7e-oH"
   },
   "source": [
    "###  matching user data and tweets data"
   ]
  },
  {
   "cell_type": "code",
   "execution_count": 175,
   "metadata": {
    "ExecuteTime": {
     "end_time": "2022-03-12T07:43:21.475149Z",
     "start_time": "2022-03-12T07:43:21.099770Z"
    },
    "colab": {
     "base_uri": "https://localhost:8080/"
    },
    "id": "1KN4xzk-sN3j",
    "outputId": "32e2ed1c-2070-4e04-ffcb-61cf1a3fd907"
   },
   "outputs": [
    {
     "data": {
      "text/plain": [
       "1515610"
      ]
     },
     "execution_count": 175,
     "metadata": {},
     "output_type": "execute_result"
    }
   ],
   "source": [
    "#matching labeled user and their tweets \n",
    "user_tweets_df = user_tweets[user_tweets['username'].isin(user_data['screen_name'])]\n",
    "len(user_tweets_df)"
   ]
  },
  {
   "cell_type": "code",
   "execution_count": 176,
   "metadata": {
    "ExecuteTime": {
     "end_time": "2022-03-12T07:43:23.675771Z",
     "start_time": "2022-03-12T07:43:23.582731Z"
    },
    "colab": {
     "base_uri": "https://localhost:8080/"
    },
    "id": "TKSGFnrmikwr",
    "outputId": "43f26690-0339-4bac-85c3-fa922b260356"
   },
   "outputs": [
    {
     "data": {
      "text/plain": [
       "set()"
      ]
     },
     "execution_count": 176,
     "metadata": {},
     "output_type": "execute_result"
    }
   ],
   "source": [
    "set(user_tweets['username'])-set(user_data['screen_name'])"
   ]
  },
  {
   "cell_type": "markdown",
   "metadata": {
    "id": "gu8DIPM5M3xc"
   },
   "source": [
    "### get users who have tweets at least 20"
   ]
  },
  {
   "cell_type": "code",
   "execution_count": 177,
   "metadata": {
    "ExecuteTime": {
     "end_time": "2022-03-12T07:43:38.438442Z",
     "start_time": "2022-03-12T07:43:37.616619Z"
    },
    "colab": {
     "base_uri": "https://localhost:8080/"
    },
    "id": "TbEDPuEXazw3",
    "outputId": "557b4bc6-9e47-423f-9e4f-e0492a21079e",
    "scrolled": true
   },
   "outputs": [
    {
     "name": "stdout",
     "output_type": "stream",
     "text": [
      "banyak baris tweet 1515128\n",
      "banyak pengguna 1250\n",
      "rata-rata tweet 1212.1024\n"
     ]
    }
   ],
   "source": [
    "# mengambil user yang punya tweet >= 20 saja \n",
    "user_tweets20 = user_tweets_df[user_tweets_df.groupby('username')['username'].transform('count')>=20].copy() \n",
    "\n",
    "banyak_baris = len(user_tweets20)\n",
    "banyak_user = len(user_tweets20['username'].unique())\n",
    "\n",
    "print(\"banyak baris tweet\", banyak_baris) #80533\n",
    "\n",
    "print(\"banyak pengguna\", banyak_user) #901\n",
    "\n",
    "print(\"rata-rata tweet\", banyak_baris/banyak_user)#89.38179800221975"
   ]
  },
  {
   "cell_type": "markdown",
   "metadata": {
    "ExecuteTime": {
     "end_time": "2022-03-12T07:33:02.337280Z",
     "start_time": "2022-03-12T07:33:02.335114Z"
    }
   },
   "source": [
    "### get users who have tweets at max 100"
   ]
  },
  {
   "cell_type": "code",
   "execution_count": 178,
   "metadata": {
    "ExecuteTime": {
     "end_time": "2022-03-12T07:43:46.593008Z",
     "start_time": "2022-03-12T07:43:46.459399Z"
    }
   },
   "outputs": [
    {
     "name": "stdout",
     "output_type": "stream",
     "text": [
      "banyak baris tweet 117963\n",
      "banyak pengguna 1250\n",
      "rata-rata tweet 94.3704\n"
     ]
    }
   ],
   "source": [
    "user_tweets100 = user_tweets20.groupby('username').head(100)\n",
    "\n",
    "banyak_baris = len(user_tweets100)\n",
    "banyak_user = len(user_tweets100['username'].unique())\n",
    "\n",
    "print(\"banyak baris tweet\", banyak_baris) \n",
    "\n",
    "print(\"banyak pengguna\", banyak_user) \n",
    "\n",
    "print(\"rata-rata tweet\", banyak_baris/banyak_user)"
   ]
  },
  {
   "cell_type": "code",
   "execution_count": 398,
   "metadata": {
    "ExecuteTime": {
     "end_time": "2022-03-14T13:31:11.431041Z",
     "start_time": "2022-03-14T13:31:11.380249Z"
    }
   },
   "outputs": [
    {
     "name": "stdout",
     "output_type": "stream",
     "text": [
      "8.5\n",
      "0.8\n"
     ]
    },
    {
     "data": {
      "text/plain": [
       "11.090000000000002"
      ]
     },
     "execution_count": 398,
     "metadata": {},
     "output_type": "execute_result"
    }
   ],
   "source": [
    "user_tweets_clean = user_tweets100.copy()\n",
    "user_desc_empty = len(user_tweets_clean[user_tweets_clean['description'] == '']\n",
    "                      .index)/len(user_tweets_clean)*100\n",
    "disp_name_empty = len(user_tweets_clean[user_tweets_clean['display_name'] == '']\n",
    "                      .index)/len(user_tweets_clean)*100\n",
    "print(round(user_desc_empty,1))\n",
    "print(round(disp_name_empty,1))\n",
    "\n",
    "user_desc_empty/disp_name_empty"
   ]
  },
  {
   "cell_type": "markdown",
   "metadata": {},
   "source": [
    "### get user annotated clean"
   ]
  },
  {
   "cell_type": "code",
   "execution_count": 364,
   "metadata": {
    "ExecuteTime": {
     "end_time": "2022-03-14T03:01:26.763882Z",
     "start_time": "2022-03-14T03:01:26.744438Z"
    }
   },
   "outputs": [
    {
     "data": {
      "text/html": [
       "<div>\n",
       "<style scoped>\n",
       "    .dataframe tbody tr th:only-of-type {\n",
       "        vertical-align: middle;\n",
       "    }\n",
       "\n",
       "    .dataframe tbody tr th {\n",
       "        vertical-align: top;\n",
       "    }\n",
       "\n",
       "    .dataframe thead th {\n",
       "        text-align: right;\n",
       "    }\n",
       "</style>\n",
       "<table border=\"1\" class=\"dataframe\">\n",
       "  <thead>\n",
       "    <tr style=\"text-align: right;\">\n",
       "      <th></th>\n",
       "      <th>username</th>\n",
       "      <th>isaPerson</th>\n",
       "      <th>userLocation</th>\n",
       "      <th>screen_name</th>\n",
       "    </tr>\n",
       "  </thead>\n",
       "  <tbody>\n",
       "    <tr>\n",
       "      <th>0</th>\n",
       "      <td>@RDL_Bali</td>\n",
       "      <td>nonperson</td>\n",
       "      <td>bali dan nusa tenggara</td>\n",
       "      <td>RDL_Bali</td>\n",
       "    </tr>\n",
       "    <tr>\n",
       "      <th>1</th>\n",
       "      <td>@StandupindoBali</td>\n",
       "      <td>nonperson</td>\n",
       "      <td>bali dan nusa tenggara</td>\n",
       "      <td>StandupindoBali</td>\n",
       "    </tr>\n",
       "    <tr>\n",
       "      <th>2</th>\n",
       "      <td>@litarianti</td>\n",
       "      <td>person</td>\n",
       "      <td>bali dan nusa tenggara</td>\n",
       "      <td>litarianti</td>\n",
       "    </tr>\n",
       "    <tr>\n",
       "      <th>3</th>\n",
       "      <td>@acara_bali</td>\n",
       "      <td>nonperson</td>\n",
       "      <td>bali dan nusa tenggara</td>\n",
       "      <td>acara_bali</td>\n",
       "    </tr>\n",
       "    <tr>\n",
       "      <th>4</th>\n",
       "      <td>@BALINALE</td>\n",
       "      <td>nonperson</td>\n",
       "      <td>bali dan nusa tenggara</td>\n",
       "      <td>BALINALE</td>\n",
       "    </tr>\n",
       "    <tr>\n",
       "      <th>...</th>\n",
       "      <td>...</td>\n",
       "      <td>...</td>\n",
       "      <td>...</td>\n",
       "      <td>...</td>\n",
       "    </tr>\n",
       "    <tr>\n",
       "      <th>1403</th>\n",
       "      <td>@agekurniawan9</td>\n",
       "      <td>person</td>\n",
       "      <td>sumatera</td>\n",
       "      <td>agekurniawan9</td>\n",
       "    </tr>\n",
       "    <tr>\n",
       "      <th>1404</th>\n",
       "      <td>@Chalil_az</td>\n",
       "      <td>person</td>\n",
       "      <td>sumatera</td>\n",
       "      <td>Chalil_az</td>\n",
       "    </tr>\n",
       "    <tr>\n",
       "      <th>1405</th>\n",
       "      <td>@rahmadsaifulhs</td>\n",
       "      <td>person</td>\n",
       "      <td>sumatera</td>\n",
       "      <td>rahmadsaifulhs</td>\n",
       "    </tr>\n",
       "    <tr>\n",
       "      <th>1406</th>\n",
       "      <td>@omdibmo</td>\n",
       "      <td>person</td>\n",
       "      <td>sumatera</td>\n",
       "      <td>omdibmo</td>\n",
       "    </tr>\n",
       "    <tr>\n",
       "      <th>1407</th>\n",
       "      <td>@Ristananda_</td>\n",
       "      <td>person</td>\n",
       "      <td>sumatera</td>\n",
       "      <td>Ristananda_</td>\n",
       "    </tr>\n",
       "  </tbody>\n",
       "</table>\n",
       "<p>1250 rows × 4 columns</p>\n",
       "</div>"
      ],
      "text/plain": [
       "              username  isaPerson            userLocation      screen_name\n",
       "0            @RDL_Bali  nonperson  bali dan nusa tenggara         RDL_Bali\n",
       "1     @StandupindoBali  nonperson  bali dan nusa tenggara  StandupindoBali\n",
       "2          @litarianti     person  bali dan nusa tenggara       litarianti\n",
       "3          @acara_bali  nonperson  bali dan nusa tenggara       acara_bali\n",
       "4            @BALINALE  nonperson  bali dan nusa tenggara         BALINALE\n",
       "...                ...        ...                     ...              ...\n",
       "1403    @agekurniawan9     person                sumatera    agekurniawan9\n",
       "1404        @Chalil_az     person                sumatera        Chalil_az\n",
       "1405   @rahmadsaifulhs     person                sumatera   rahmadsaifulhs\n",
       "1406          @omdibmo     person                sumatera          omdibmo\n",
       "1407      @Ristananda_     person                sumatera      Ristananda_\n",
       "\n",
       "[1250 rows x 4 columns]"
      ]
     },
     "execution_count": 364,
     "metadata": {},
     "output_type": "execute_result"
    }
   ],
   "source": [
    "annotated_user_clean = user_data[user_data['screen_name'].isin(set(user_tweets_clean['username']))]\n",
    "annotated_user_clean"
   ]
  },
  {
   "cell_type": "code",
   "execution_count": 365,
   "metadata": {
    "ExecuteTime": {
     "end_time": "2022-03-14T03:01:29.049428Z",
     "start_time": "2022-03-14T03:01:29.044994Z"
    }
   },
   "outputs": [
    {
     "data": {
      "text/plain": [
       "array(['bali dan nusa tenggara', 'jabodetabek', 'jawa barat dan banten',\n",
       "       'jawa tengah dan yogyakarta', 'jawa timur', 'kalimantan',\n",
       "       'maluku dan papua', 'sumatera', 'sulawesi'], dtype=object)"
      ]
     },
     "execution_count": 365,
     "metadata": {},
     "output_type": "execute_result"
    }
   ],
   "source": [
    "annotated_user_clean.userLocation.unique()"
   ]
  },
  {
   "cell_type": "code",
   "execution_count": 366,
   "metadata": {
    "ExecuteTime": {
     "end_time": "2022-03-14T03:01:30.187927Z",
     "start_time": "2022-03-14T03:01:30.172441Z"
    }
   },
   "outputs": [
    {
     "data": {
      "text/html": [
       "<div>\n",
       "<style scoped>\n",
       "    .dataframe tbody tr th:only-of-type {\n",
       "        vertical-align: middle;\n",
       "    }\n",
       "\n",
       "    .dataframe tbody tr th {\n",
       "        vertical-align: top;\n",
       "    }\n",
       "\n",
       "    .dataframe thead th {\n",
       "        text-align: right;\n",
       "    }\n",
       "</style>\n",
       "<table border=\"1\" class=\"dataframe\">\n",
       "  <thead>\n",
       "    <tr style=\"text-align: right;\">\n",
       "      <th></th>\n",
       "      <th>username</th>\n",
       "      <th>isaPerson</th>\n",
       "      <th>userLocation</th>\n",
       "      <th>screen_name</th>\n",
       "      <th>userLocationCode</th>\n",
       "    </tr>\n",
       "  </thead>\n",
       "  <tbody>\n",
       "    <tr>\n",
       "      <th>0</th>\n",
       "      <td>@RDL_Bali</td>\n",
       "      <td>nonperson</td>\n",
       "      <td>bali dan nusa tenggara</td>\n",
       "      <td>RDL_Bali</td>\n",
       "      <td>NU</td>\n",
       "    </tr>\n",
       "    <tr>\n",
       "      <th>1</th>\n",
       "      <td>@StandupindoBali</td>\n",
       "      <td>nonperson</td>\n",
       "      <td>bali dan nusa tenggara</td>\n",
       "      <td>StandupindoBali</td>\n",
       "      <td>NU</td>\n",
       "    </tr>\n",
       "    <tr>\n",
       "      <th>2</th>\n",
       "      <td>@litarianti</td>\n",
       "      <td>person</td>\n",
       "      <td>bali dan nusa tenggara</td>\n",
       "      <td>litarianti</td>\n",
       "      <td>NU</td>\n",
       "    </tr>\n",
       "    <tr>\n",
       "      <th>3</th>\n",
       "      <td>@acara_bali</td>\n",
       "      <td>nonperson</td>\n",
       "      <td>bali dan nusa tenggara</td>\n",
       "      <td>acara_bali</td>\n",
       "      <td>NU</td>\n",
       "    </tr>\n",
       "    <tr>\n",
       "      <th>4</th>\n",
       "      <td>@BALINALE</td>\n",
       "      <td>nonperson</td>\n",
       "      <td>bali dan nusa tenggara</td>\n",
       "      <td>BALINALE</td>\n",
       "      <td>NU</td>\n",
       "    </tr>\n",
       "    <tr>\n",
       "      <th>...</th>\n",
       "      <td>...</td>\n",
       "      <td>...</td>\n",
       "      <td>...</td>\n",
       "      <td>...</td>\n",
       "      <td>...</td>\n",
       "    </tr>\n",
       "    <tr>\n",
       "      <th>1403</th>\n",
       "      <td>@agekurniawan9</td>\n",
       "      <td>person</td>\n",
       "      <td>sumatera</td>\n",
       "      <td>agekurniawan9</td>\n",
       "      <td>SM</td>\n",
       "    </tr>\n",
       "    <tr>\n",
       "      <th>1404</th>\n",
       "      <td>@Chalil_az</td>\n",
       "      <td>person</td>\n",
       "      <td>sumatera</td>\n",
       "      <td>Chalil_az</td>\n",
       "      <td>SM</td>\n",
       "    </tr>\n",
       "    <tr>\n",
       "      <th>1405</th>\n",
       "      <td>@rahmadsaifulhs</td>\n",
       "      <td>person</td>\n",
       "      <td>sumatera</td>\n",
       "      <td>rahmadsaifulhs</td>\n",
       "      <td>SM</td>\n",
       "    </tr>\n",
       "    <tr>\n",
       "      <th>1406</th>\n",
       "      <td>@omdibmo</td>\n",
       "      <td>person</td>\n",
       "      <td>sumatera</td>\n",
       "      <td>omdibmo</td>\n",
       "      <td>SM</td>\n",
       "    </tr>\n",
       "    <tr>\n",
       "      <th>1407</th>\n",
       "      <td>@Ristananda_</td>\n",
       "      <td>person</td>\n",
       "      <td>sumatera</td>\n",
       "      <td>Ristananda_</td>\n",
       "      <td>SM</td>\n",
       "    </tr>\n",
       "  </tbody>\n",
       "</table>\n",
       "<p>1250 rows × 5 columns</p>\n",
       "</div>"
      ],
      "text/plain": [
       "              username  isaPerson            userLocation      screen_name  \\\n",
       "0            @RDL_Bali  nonperson  bali dan nusa tenggara         RDL_Bali   \n",
       "1     @StandupindoBali  nonperson  bali dan nusa tenggara  StandupindoBali   \n",
       "2          @litarianti     person  bali dan nusa tenggara       litarianti   \n",
       "3          @acara_bali  nonperson  bali dan nusa tenggara       acara_bali   \n",
       "4            @BALINALE  nonperson  bali dan nusa tenggara         BALINALE   \n",
       "...                ...        ...                     ...              ...   \n",
       "1403    @agekurniawan9     person                sumatera    agekurniawan9   \n",
       "1404        @Chalil_az     person                sumatera        Chalil_az   \n",
       "1405   @rahmadsaifulhs     person                sumatera   rahmadsaifulhs   \n",
       "1406          @omdibmo     person                sumatera          omdibmo   \n",
       "1407      @Ristananda_     person                sumatera      Ristananda_   \n",
       "\n",
       "     userLocationCode  \n",
       "0                  NU  \n",
       "1                  NU  \n",
       "2                  NU  \n",
       "3                  NU  \n",
       "4                  NU  \n",
       "...               ...  \n",
       "1403               SM  \n",
       "1404               SM  \n",
       "1405               SM  \n",
       "1406               SM  \n",
       "1407               SM  \n",
       "\n",
       "[1250 rows x 5 columns]"
      ]
     },
     "execution_count": 366,
     "metadata": {},
     "output_type": "execute_result"
    }
   ],
   "source": [
    "def rename_labels(text):\n",
    "    return {\n",
    "        'bali dan nusa tenggara': lambda: 'NU', 'jabodetabek': lambda: 'JBD', 'jawa barat dan banten': lambda: 'JB&BT',\n",
    "        'jawa tengah dan yogyakarta': lambda: 'JT&YO','jawa timur': lambda: 'JI','kalimantan': lambda: 'KA',\n",
    "        'maluku dan papua': lambda: 'ML&PP','sumatera': lambda: 'SM','sulawesi': lambda: 'SL',\n",
    "    }.get(text, lambda: '')()\n",
    "\n",
    "annotated_user_clean['userLocationCode']  = annotated_user_clean['userLocation'].apply(rename_labels)\n",
    "\n",
    "annotated_user_clean"
   ]
  },
  {
   "cell_type": "code",
   "execution_count": 387,
   "metadata": {
    "ExecuteTime": {
     "end_time": "2022-03-14T13:01:49.898842Z",
     "start_time": "2022-03-14T13:01:49.892892Z"
    }
   },
   "outputs": [
    {
     "data": {
      "text/plain": [
       "userLocationCode\n",
       "JB&BT    162\n",
       "JBD      141\n",
       "JI       171\n",
       "JT&YO    178\n",
       "KA       108\n",
       "ML&PP    113\n",
       "NU       129\n",
       "SL       101\n",
       "SM       147\n",
       "dtype: int64"
      ]
     },
     "execution_count": 387,
     "metadata": {},
     "output_type": "execute_result"
    }
   ],
   "source": [
    "annotated_user_clean.groupby(['userLocationCode']).size()"
   ]
  },
  {
   "cell_type": "code",
   "execution_count": 381,
   "metadata": {
    "ExecuteTime": {
     "end_time": "2022-03-14T03:06:54.817924Z",
     "start_time": "2022-03-14T03:06:54.607543Z"
    }
   },
   "outputs": [
    {
     "data": {
      "text/plain": [
       "Text(0, 0.5, 'user count')"
      ]
     },
     "execution_count": 381,
     "metadata": {},
     "output_type": "execute_result"
    },
    {
     "data": {
      "image/png": "[encoded data removed]",
      "text/plain": [
       "<Figure size 432x288 with 1 Axes>"
      ]
     },
     "metadata": {
      "needs_background": "light"
     },
     "output_type": "display_data"
    }
   ],
   "source": [
    "df_plot = annotated_user_clean.groupby(['isaPerson', 'userLocationCode'])\n",
    "df_plot = df_plot.size().reset_index()\n",
    "df_plot = df_plot.pivot(columns='isaPerson', index='userLocationCode', values=0)\n",
    "\n",
    "myplot = df_plot.plot(kind='bar', stacked=True)\n",
    "\n",
    "plt.xlabel(\"user location\")\n",
    "plt.ylabel(\"user count\")"
   ]
  },
  {
   "cell_type": "markdown",
   "metadata": {
    "id": "w8rsDZaUjTKx"
   },
   "source": [
    "### Split data on user level"
   ]
  },
  {
   "cell_type": "code",
   "execution_count": 218,
   "metadata": {
    "ExecuteTime": {
     "end_time": "2022-03-12T08:04:38.880820Z",
     "start_time": "2022-03-12T08:04:38.875024Z"
    },
    "colab": {
     "base_uri": "https://localhost:8080/"
    },
    "id": "70Y9T__o8RKs",
    "outputId": "4cc51a88-ffd2-46c0-eab7-a37dbaaefa80"
   },
   "outputs": [
    {
     "data": {
      "text/plain": [
       "array(['bali dan nusa tenggara', 'jabodetabek', 'jawa barat dan banten',\n",
       "       'jawa tengah dan yogyakarta', 'jawa timur', 'kalimantan',\n",
       "       'maluku dan papua', 'sulawesi', 'sumatera'], dtype=object)"
      ]
     },
     "execution_count": 218,
     "metadata": {},
     "output_type": "execute_result"
    }
   ],
   "source": [
    "# label encoder for user_tweets20_df \n",
    "from sklearn import preprocessing\n",
    "le = preprocessing.LabelEncoder()\n",
    "le.fit(annotated_user_clean.userLocation)\n",
    "annotated_user_clean['Lvalue'] = le.transform(annotated_user_clean.userLocation).copy()\n",
    "label_names = le.classes_\n",
    "label_names"
   ]
  },
  {
   "cell_type": "code",
   "execution_count": 219,
   "metadata": {
    "ExecuteTime": {
     "end_time": "2022-03-12T08:04:40.038859Z",
     "start_time": "2022-03-12T08:04:40.031019Z"
    },
    "id": "Ez0Yf2-sKtAs"
   },
   "outputs": [],
   "source": [
    "#train test split\n",
    "from sklearn.model_selection import train_test_split\n",
    "userlvltrain, userlvltest = train_test_split(annotated_user_clean, test_size=0.2, random_state=42, stratify=annotated_user_clean.Lvalue)\n",
    "userlvltrain, userlvlval =  train_test_split(userlvltrain, test_size=0.1, random_state=42, stratify=userlvltrain.Lvalue)"
   ]
  },
  {
   "cell_type": "code",
   "execution_count": 220,
   "metadata": {
    "ExecuteTime": {
     "end_time": "2022-03-12T08:04:40.390168Z",
     "start_time": "2022-03-12T08:04:40.380684Z"
    },
    "id": "3VLZ8bCm3K3f"
   },
   "outputs": [],
   "source": [
    "userlvltrain.to_csv('revision_dataset/userlvltrain.csv', index=False)  \n",
    "userlvltest.to_csv('revision_dataset/userlvltest.csv', index=False)  \n",
    "userlvlval.to_csv('revision_dataset/userlvlval.csv', index=False)  "
   ]
  },
  {
   "cell_type": "code",
   "execution_count": 222,
   "metadata": {
    "ExecuteTime": {
     "end_time": "2022-03-12T08:05:09.742425Z",
     "start_time": "2022-03-12T08:05:09.739893Z"
    },
    "colab": {
     "base_uri": "https://localhost:8080/",
     "height": 296
    },
    "id": "mATHRfEz9LDL",
    "outputId": "beabcbd7-f729-4d40-a7ae-53f24d217a3e"
   },
   "outputs": [],
   "source": [
    "# sns.countplot(y = userlvltrain['userLocation'], order = label_names)\n",
    "# sns.countplot(y = userlvltest['userLocation'], order = label_names)\n",
    "# sns.countplot(y = userlvlval['userLocation'], order = label_names)"
   ]
  },
  {
   "cell_type": "markdown",
   "metadata": {
    "id": "FuvpRuXnNPMs"
   },
   "source": [
    "### join splitted users with scraped tweets data"
   ]
  },
  {
   "cell_type": "code",
   "execution_count": 240,
   "metadata": {
    "ExecuteTime": {
     "end_time": "2022-03-12T08:18:42.081593Z",
     "start_time": "2022-03-12T08:18:42.077360Z"
    }
   },
   "outputs": [
    {
     "data": {
      "text/plain": [
       "Index(['Lvalue', 'isaPerson', 'screen_name', 'userLocation'], dtype='object')"
      ]
     },
     "execution_count": 240,
     "metadata": {},
     "output_type": "execute_result"
    }
   ],
   "source": [
    "cols_to_use = userlvltrain.columns.difference(user_tweets_clean.columns)\n",
    "cols_to_use"
   ]
  },
  {
   "cell_type": "code",
   "execution_count": 245,
   "metadata": {
    "ExecuteTime": {
     "end_time": "2022-03-12T08:21:36.829549Z",
     "start_time": "2022-03-12T08:21:36.766093Z"
    },
    "id": "dEdr_oz8fIBk"
   },
   "outputs": [],
   "source": [
    "## join tweets dengan and splitted data \n",
    "train_df = pd.merge(userlvltrain[cols_to_use], user_tweets_clean, left_on='screen_name', right_on='username')\n",
    "\n",
    "test_df = pd.merge(userlvltest[cols_to_use], user_tweets_clean, left_on='screen_name', right_on='username')\n",
    "\n",
    "val_df = pd.merge(userlvlval[cols_to_use], user_tweets_clean, left_on='screen_name', right_on='username')"
   ]
  },
  {
   "cell_type": "code",
   "execution_count": 247,
   "metadata": {
    "ExecuteTime": {
     "end_time": "2022-03-12T08:22:16.131892Z",
     "start_time": "2022-03-12T08:22:15.104418Z"
    },
    "id": "0WzJGcipqA8T"
   },
   "outputs": [],
   "source": [
    "train_df.to_csv('revision_dataset/train_df.csv', index=False)  \n",
    "test_df.to_csv('revision_dataset/test_df.csv', index=False)  \n",
    "val_df.to_csv('revision_dataset/val_df.csv', index=False) "
   ]
  },
  {
   "cell_type": "code",
   "execution_count": 413,
   "metadata": {
    "ExecuteTime": {
     "end_time": "2022-03-21T02:19:56.142283Z",
     "start_time": "2022-03-21T02:19:55.960074Z"
    }
   },
   "outputs": [],
   "source": [
    "train_df[['userLocation','display_name']].to_csv('display_name.csv')"
   ]
  },
  {
   "cell_type": "markdown",
   "metadata": {
    "id": "iAzNMXLbsJTF"
   },
   "source": [
    "## Model Preparation"
   ]
  },
  {
   "cell_type": "code",
   "execution_count": 248,
   "metadata": {
    "ExecuteTime": {
     "end_time": "2022-03-12T08:22:18.292768Z",
     "start_time": "2022-03-12T08:22:18.290461Z"
    }
   },
   "outputs": [],
   "source": [
    "# !pip install scikit-learn-intelex -q"
   ]
  },
  {
   "cell_type": "code",
   "execution_count": 416,
   "metadata": {
    "ExecuteTime": {
     "end_time": "2022-03-22T05:27:54.312003Z",
     "start_time": "2022-03-22T05:27:54.307027Z"
    },
    "id": "q2aaIvjSOIHj"
   },
   "outputs": [
    {
     "name": "stderr",
     "output_type": "stream",
     "text": [
      "Intel(R) Extension for Scikit-learn* enabled (https://github.com/intel/scikit-learn-intelex)\n"
     ]
    }
   ],
   "source": [
    "from sklearn.naive_bayes import MultinomialNB\n",
    "from sklearn.pipeline import Pipeline\n",
    "from sklearn.feature_extraction.text import TfidfTransformer\n",
    "from sklearn.feature_extraction.text import CountVectorizer\n",
    "from sklearn.feature_extraction.text import TfidfVectorizer\n",
    "from sklearn.metrics import accuracy_score\n",
    "from sklearn.metrics import classification_report\n",
    "from sklearn.metrics import f1_score\n",
    "\n",
    "from sklearn.linear_model import SGDClassifier\n",
    "from sklearn.linear_model import LogisticRegression\n",
    "\n",
    "\n",
    "from sklearnex import patch_sklearn \n",
    "patch_sklearn()\n",
    "\n",
    "from sklearn import svm\n",
    "import warnings\n",
    "warnings.filterwarnings('ignore')  # \"error\", \"ignore\", \"always\", \"default\", \"module\" or \"once\""
   ]
  },
  {
   "cell_type": "code",
   "execution_count": 417,
   "metadata": {
    "ExecuteTime": {
     "end_time": "2022-03-22T05:27:57.654747Z",
     "start_time": "2022-03-22T05:27:57.619889Z"
    },
    "id": "JPvn1tS5jdwU"
   },
   "outputs": [],
   "source": [
    "nb = Pipeline([\n",
    "               ('vect', CountVectorizer()),\n",
    "               ('tfidf', TfidfTransformer()),\n",
    "               ('clf', MultinomialNB()),\n",
    "              ])\n",
    "svm = Pipeline([\n",
    "                ('vect', CountVectorizer()),\n",
    "                ('tfidf', TfidfTransformer()),\n",
    "                ('clf', svm.SVC()),\n",
    "               ])\n",
    "logreg = Pipeline([\n",
    "                   ('vect', CountVectorizer()),\n",
    "                ('tfidf', TfidfTransformer()),\n",
    "                ('clf', LogisticRegression(solver='lbfgs', multi_class='multinomial')),\n",
    "               ])"
   ]
  },
  {
   "cell_type": "markdown",
   "metadata": {
    "id": "Mtu-aVV_snNd"
   },
   "source": [
    "## Using only display name"
   ]
  },
  {
   "cell_type": "code",
   "execution_count": 256,
   "metadata": {
    "ExecuteTime": {
     "end_time": "2022-03-12T08:25:44.643715Z",
     "start_time": "2022-03-12T08:25:44.641020Z"
    }
   },
   "outputs": [],
   "source": [
    "y_pred_uname = []"
   ]
  },
  {
   "cell_type": "code",
   "execution_count": 257,
   "metadata": {
    "ExecuteTime": {
     "end_time": "2022-03-12T08:25:45.347279Z",
     "start_time": "2022-03-12T08:25:45.292024Z"
    }
   },
   "outputs": [],
   "source": [
    "#metadata features tapi hanya menggunakan single occurence saja\n",
    "x_train_df = train_df[['isaPerson', 'display_name', 'screen_name', 'description']].drop_duplicates(keep='first')\n",
    "y_train_df = userlvltrain['Lvalue']\n",
    "\n",
    "x_test_df = test_df[['isaPerson', 'display_name', 'screen_name', 'description']].drop_duplicates(keep='first')\n",
    "y_test_df = userlvltest['Lvalue']\n",
    "\n",
    "x_val_df = val_df[['isaPerson', 'display_name', 'screen_name', 'description']].drop_duplicates(keep='first')\n",
    "y_val_df = userlvlval['Lvalue']"
   ]
  },
  {
   "cell_type": "code",
   "execution_count": 260,
   "metadata": {
    "ExecuteTime": {
     "end_time": "2022-03-12T08:26:06.191312Z",
     "start_time": "2022-03-12T08:26:05.885216Z"
    },
    "id": "lBX4Cs4bsudc"
   },
   "outputs": [
    {
     "name": "stdout",
     "output_type": "stream",
     "text": [
      "Naive Bayes accuracy 0.38\n",
      "                            precision    recall  f1-score   support\n",
      "\n",
      "    bali dan nusa tenggara       0.70      0.27      0.39        26\n",
      "               jabodetabek       0.67      0.29      0.40        28\n",
      "     jawa barat dan banten       0.62      0.31      0.42        32\n",
      "jawa tengah dan yogyakarta       0.24      0.94      0.38        36\n",
      "                jawa timur       0.48      0.29      0.36        34\n",
      "                kalimantan       0.67      0.27      0.39        22\n",
      "          maluku dan papua       0.50      0.17      0.26        23\n",
      "                  sulawesi       1.00      0.25      0.40        20\n",
      "                  sumatera       0.38      0.34      0.36        29\n",
      "\n",
      "                  accuracy                           0.38       250\n",
      "                 macro avg       0.58      0.35      0.37       250\n",
      "              weighted avg       0.56      0.38      0.37       250\n",
      "\n",
      "SVM accuracy 0.39\n",
      "                            precision    recall  f1-score   support\n",
      "\n",
      "    bali dan nusa tenggara       0.86      0.23      0.36        26\n",
      "               jabodetabek       0.62      0.29      0.39        28\n",
      "     jawa barat dan banten       0.71      0.31      0.43        32\n",
      "jawa tengah dan yogyakarta       0.68      0.36      0.47        36\n",
      "                jawa timur       0.20      0.91      0.32        34\n",
      "                kalimantan       0.86      0.27      0.41        22\n",
      "          maluku dan papua       1.00      0.35      0.52        23\n",
      "                  sulawesi       1.00      0.25      0.40        20\n",
      "                  sumatera       0.53      0.34      0.42        29\n",
      "\n",
      "                  accuracy                           0.39       250\n",
      "                 macro avg       0.72      0.37      0.41       250\n",
      "              weighted avg       0.68      0.39      0.41       250\n",
      "\n",
      "Logreg accuracy: 0.41\n",
      "                            precision    recall  f1-score   support\n",
      "\n",
      "    bali dan nusa tenggara       0.90      0.35      0.50        26\n",
      "               jabodetabek       0.67      0.29      0.40        28\n",
      "     jawa barat dan banten       0.71      0.31      0.43        32\n",
      "jawa tengah dan yogyakarta       0.23      0.92      0.37        36\n",
      "                jawa timur       0.48      0.32      0.39        34\n",
      "                kalimantan       0.67      0.27      0.39        22\n",
      "          maluku dan papua       0.80      0.35      0.48        23\n",
      "                  sulawesi       1.00      0.35      0.52        20\n",
      "                  sumatera       0.45      0.34      0.39        29\n",
      "\n",
      "                  accuracy                           0.41       250\n",
      "                 macro avg       0.66      0.39      0.43       250\n",
      "              weighted avg       0.62      0.41      0.42       250\n",
      "\n"
     ]
    }
   ],
   "source": [
    "## Naive Bayes \n",
    "nb.fit(x_train_df['display_name'], y_train_df)\n",
    "y_pred = nb.predict(x_test_df['display_name'])\n",
    "y_pred_uname.append(y_pred)\n",
    "print('Naive Bayes accuracy %s' % round(accuracy_score(y_pred, y_test_df),2 )) \n",
    "print(classification_report(y_test_df, y_pred,target_names=label_names))\n",
    "\n",
    "## Linear SVM \n",
    "svm.fit(x_train_df['display_name'], y_train_df)\n",
    "y_pred = svm.predict(x_test_df['display_name'])\n",
    "y_pred_uname.append(y_pred)\n",
    "print('SVM accuracy %s' % round(accuracy_score(y_pred, y_test_df),2 )) \n",
    "print(classification_report(y_test_df, y_pred,target_names=label_names))\n",
    "\n",
    "# logistic regression \n",
    "logreg.fit(x_train_df['display_name'], y_train_df)\n",
    "y_pred = logreg.predict(x_test_df['display_name'])\n",
    "y_pred_uname.append(y_pred)\n",
    "print('Logreg accuracy: %s' % round(accuracy_score(y_pred, y_test_df),2 )) \n",
    "print(classification_report(y_test_df, y_pred,target_names=label_names))"
   ]
  },
  {
   "cell_type": "markdown",
   "metadata": {
    "id": "_9cA4tVuTlVA"
   },
   "source": [
    "## Menggunakan user description saja"
   ]
  },
  {
   "cell_type": "code",
   "execution_count": 261,
   "metadata": {
    "ExecuteTime": {
     "end_time": "2022-03-12T08:27:17.957412Z",
     "start_time": "2022-03-12T08:27:17.954457Z"
    }
   },
   "outputs": [],
   "source": [
    "y_pred_desc = []"
   ]
  },
  {
   "cell_type": "code",
   "execution_count": 262,
   "metadata": {
    "ExecuteTime": {
     "end_time": "2022-03-12T08:28:35.184248Z",
     "start_time": "2022-03-12T08:28:34.594633Z"
    },
    "colab": {
     "base_uri": "https://localhost:8080/"
    },
    "id": "kss1im3mU3aZ",
    "outputId": "a5dee5a0-0868-4558-f76d-e7d73c87cc3d"
   },
   "outputs": [
    {
     "name": "stdout",
     "output_type": "stream",
     "text": [
      "Naive Bayes accuracy 0.32\n",
      "                            precision    recall  f1-score   support\n",
      "\n",
      "    bali dan nusa tenggara       0.55      0.23      0.32        26\n",
      "               jabodetabek       0.29      0.21      0.24        28\n",
      "     jawa barat dan banten       0.47      0.44      0.45        32\n",
      "jawa tengah dan yogyakarta       0.23      0.58      0.33        36\n",
      "                jawa timur       0.23      0.38      0.29        34\n",
      "                kalimantan       1.00      0.09      0.17        22\n",
      "          maluku dan papua       0.70      0.30      0.42        23\n",
      "                  sulawesi       1.00      0.05      0.10        20\n",
      "                  sumatera       0.31      0.31      0.31        29\n",
      "\n",
      "                  accuracy                           0.32       250\n",
      "                 macro avg       0.53      0.29      0.29       250\n",
      "              weighted avg       0.48      0.32      0.30       250\n",
      "\n",
      "SVM accuracy 0.31\n",
      "                            precision    recall  f1-score   support\n",
      "\n",
      "    bali dan nusa tenggara       0.71      0.19      0.30        26\n",
      "               jabodetabek       0.08      0.04      0.05        28\n",
      "     jawa barat dan banten       0.56      0.31      0.40        32\n",
      "jawa tengah dan yogyakarta       0.22      0.72      0.34        36\n",
      "                jawa timur       0.41      0.32      0.36        34\n",
      "                kalimantan       1.00      0.14      0.24        22\n",
      "          maluku dan papua       0.88      0.30      0.45        23\n",
      "                  sulawesi       1.00      0.10      0.18        20\n",
      "                  sumatera       0.23      0.45      0.31        29\n",
      "\n",
      "                  accuracy                           0.31       250\n",
      "                 macro avg       0.57      0.29      0.29       250\n",
      "              weighted avg       0.52      0.31      0.30       250\n",
      "\n",
      "Logreg accuracy: 0.39\n",
      "                            precision    recall  f1-score   support\n",
      "\n",
      "    bali dan nusa tenggara       0.55      0.42      0.48        26\n",
      "               jabodetabek       0.28      0.29      0.28        28\n",
      "     jawa barat dan banten       0.52      0.44      0.47        32\n",
      "jawa tengah dan yogyakarta       0.24      0.56      0.33        36\n",
      "                jawa timur       0.36      0.44      0.39        34\n",
      "                kalimantan       1.00      0.18      0.31        22\n",
      "          maluku dan papua       0.77      0.43      0.56        23\n",
      "                  sulawesi       1.00      0.25      0.40        20\n",
      "                  sumatera       0.40      0.34      0.37        29\n",
      "\n",
      "                  accuracy                           0.39       250\n",
      "                 macro avg       0.57      0.37      0.40       250\n",
      "              weighted avg       0.52      0.39      0.40       250\n",
      "\n"
     ]
    }
   ],
   "source": [
    "## Naive Bayes \n",
    "nb.fit(x_train_df['description'], y_train_df)\n",
    "y_pred = nb.predict(x_test_df['description'])\n",
    "y_pred_desc.append(y_pred)\n",
    "print('Naive Bayes accuracy %s' % round(accuracy_score(y_pred, y_test_df),2 )) \n",
    "print(classification_report(y_test_df, y_pred,target_names=label_names))\n",
    "\n",
    "## Linear SVM \n",
    "svm.fit(x_train_df['description'], y_train_df)\n",
    "y_pred = svm.predict(x_test_df['description'])\n",
    "y_pred_desc.append(y_pred)\n",
    "print('SVM accuracy %s' % round(accuracy_score(y_pred, y_test_df),2 )) \n",
    "print(classification_report(y_test_df, y_pred,target_names=label_names))\n",
    "\n",
    "# logistic regression \n",
    "logreg.fit(x_train_df['description'], y_train_df)\n",
    "y_pred = logreg.predict(x_test_df['description'])\n",
    "y_pred_desc.append(y_pred)\n",
    "print('Logreg accuracy: %s' % round(accuracy_score(y_pred, y_test_df),2 )) \n",
    "print(classification_report(y_test_df, y_pred,target_names=label_names))"
   ]
  },
  {
   "cell_type": "markdown",
   "metadata": {
    "id": "T535MByZY-aR"
   },
   "source": [
    "## Menggunakan only user Tweets (Tweets Aggregation as one)"
   ]
  },
  {
   "cell_type": "code",
   "execution_count": 264,
   "metadata": {
    "ExecuteTime": {
     "end_time": "2022-03-12T08:35:13.315719Z",
     "start_time": "2022-03-12T08:35:12.965771Z"
    }
   },
   "outputs": [],
   "source": [
    "aggtrain_df = train_df[['screen_name','username','description','text']].copy()\n",
    "aggtrain_df = aggtrain_df.groupby(['screen_name'])['text'].transform(lambda x: ' '.join(x))\n",
    "aggtrain_df = aggtrain_df.drop_duplicates()\n",
    "\n",
    "aggtest_df = test_df[['screen_name','username','description','text']].copy()\n",
    "aggtest_df = aggtest_df.groupby(['screen_name'])['text'].transform(lambda x: ' '.join(x))\n",
    "aggtest_df = aggtest_df.drop_duplicates()\n",
    "\n",
    "aggval_df = val_df[['screen_name','username','description','text']].copy()\n",
    "aggval_df = aggval_df.groupby(['screen_name'])['text'].transform(lambda x: ' '.join(x))\n",
    "aggval_df = aggval_df.drop_duplicates()\n",
    "\n",
    "if not os.path.exists('revision_dataset/tweetAgg/aggtrain_df.csv'): \n",
    "    aggtrain_df.to_csv('revision_dataset/tweetAgg/aggtrain_df.csv', index=False)\n",
    "if not os.path.exists('revision_dataset/tweetAgg/aggtest_df.csv'): \n",
    "    aggtest_df.to_csv('revision_dataset/tweetAgg/aggtest_df.csv', index=False)\n",
    "if not os.path.exists('revision_dataset/tweetAgg/aggval_df.csv'): \n",
    "    aggval_df.to_csv('revision_dataset/tweetAgg/aggval_df.csv', index=False)"
   ]
  },
  {
   "cell_type": "markdown",
   "metadata": {},
   "source": [
    "### Machine Learning"
   ]
  },
  {
   "cell_type": "code",
   "execution_count": 265,
   "metadata": {
    "ExecuteTime": {
     "end_time": "2022-03-12T08:36:02.426591Z",
     "start_time": "2022-03-12T08:36:02.424242Z"
    }
   },
   "outputs": [],
   "source": [
    "y_pred_tweets = []"
   ]
  },
  {
   "cell_type": "code",
   "execution_count": 267,
   "metadata": {
    "ExecuteTime": {
     "end_time": "2022-03-12T08:36:38.117983Z",
     "start_time": "2022-03-12T08:36:24.959678Z"
    }
   },
   "outputs": [
    {
     "name": "stdout",
     "output_type": "stream",
     "text": [
      "Naive Bayes accuracy 0.42\n",
      "                            precision    recall  f1-score   support\n",
      "\n",
      "    bali dan nusa tenggara       1.00      0.27      0.42        26\n",
      "               jabodetabek       0.30      0.11      0.16        28\n",
      "     jawa barat dan banten       0.53      0.62      0.57        32\n",
      "jawa tengah dan yogyakarta       0.23      0.94      0.37        36\n",
      "                jawa timur       0.76      0.47      0.58        34\n",
      "                kalimantan       1.00      0.09      0.17        22\n",
      "          maluku dan papua       1.00      0.39      0.56        23\n",
      "                  sulawesi       1.00      0.25      0.40        20\n",
      "                  sumatera       0.82      0.31      0.45        29\n",
      "\n",
      "                  accuracy                           0.42       250\n",
      "                 macro avg       0.74      0.38      0.41       250\n",
      "              weighted avg       0.70      0.42      0.42       250\n",
      "\n",
      "SVM accuracy 0.51\n",
      "                            precision    recall  f1-score   support\n",
      "\n",
      "    bali dan nusa tenggara       0.82      0.35      0.49        26\n",
      "               jabodetabek       0.37      0.36      0.36        28\n",
      "     jawa barat dan banten       0.54      0.62      0.58        32\n",
      "jawa tengah dan yogyakarta       0.34      0.92      0.50        36\n",
      "                jawa timur       0.62      0.59      0.61        34\n",
      "                kalimantan       0.80      0.18      0.30        22\n",
      "          maluku dan papua       1.00      0.43      0.61        23\n",
      "                  sulawesi       0.88      0.35      0.50        20\n",
      "                  sumatera       0.58      0.48      0.53        29\n",
      "\n",
      "                  accuracy                           0.51       250\n",
      "                 macro avg       0.66      0.48      0.50       250\n",
      "              weighted avg       0.63      0.51      0.50       250\n",
      "\n",
      "Logreg accuracy 0.59\n",
      "                            precision    recall  f1-score   support\n",
      "\n",
      "    bali dan nusa tenggara       0.89      0.62      0.73        26\n",
      "               jabodetabek       0.29      0.36      0.32        28\n",
      "     jawa barat dan banten       0.59      0.69      0.64        32\n",
      "jawa tengah dan yogyakarta       0.48      0.86      0.61        36\n",
      "                jawa timur       0.67      0.59      0.62        34\n",
      "                kalimantan       1.00      0.27      0.43        22\n",
      "          maluku dan papua       0.93      0.57      0.70        23\n",
      "                  sulawesi       0.77      0.50      0.61        20\n",
      "                  sumatera       0.59      0.66      0.62        29\n",
      "\n",
      "                  accuracy                           0.59       250\n",
      "                 macro avg       0.69      0.57      0.59       250\n",
      "              weighted avg       0.66      0.59      0.59       250\n",
      "\n",
      "CPU times: user 4min, sys: 5min 29s, total: 9min 30s\n",
      "Wall time: 13.2 s\n"
     ]
    }
   ],
   "source": [
    "%%time\n",
    "## Naive Bayes \n",
    "nb.fit(aggtrain_df, y_train_df)\n",
    "y_pred = nb.predict(aggtest_df)\n",
    "y_pred_tweets.append(y_pred)\n",
    "print('Naive Bayes accuracy %s' % round(accuracy_score(y_test_df,y_pred),2 ))\n",
    "print(classification_report(y_test_df, y_pred,target_names=label_names))\n",
    "\n",
    "## Linear SVM \n",
    "svm.fit(aggtrain_df , y_train_df)\n",
    "y_pred = svm.predict(aggtest_df)\n",
    "y_pred_tweets.append(y_pred)\n",
    "print('SVM accuracy %s' % round(accuracy_score(y_test_df,y_pred),2 ))\n",
    "print(classification_report(y_test_df, y_pred,target_names=label_names))\n",
    "\n",
    "## LogReg\n",
    "logreg.fit(aggtrain_df , y_train_df)\n",
    "y_pred = logreg.predict(aggtest_df)\n",
    "y_pred_tweets.append(y_pred)\n",
    "print('Logreg accuracy %s' % round(accuracy_score(y_test_df,y_pred),2 ))\n",
    "print(classification_report(y_test_df, y_pred,target_names=label_names))"
   ]
  },
  {
   "cell_type": "markdown",
   "metadata": {},
   "source": [
    "### LSTM"
   ]
  },
  {
   "cell_type": "markdown",
   "metadata": {
    "ExecuteTime": {
     "end_time": "2022-03-12T08:40:13.752004Z",
     "start_time": "2022-03-12T08:40:13.748570Z"
    }
   },
   "source": [
    "Link to [LSTM Agg](LSTM-agg.ipynb)"
   ]
  },
  {
   "cell_type": "raw",
   "metadata": {
    "ExecuteTime": {
     "end_time": "2022-03-12T08:50:30.764786Z",
     "start_time": "2022-03-12T08:50:30.761610Z"
    }
   },
   "source": [
    "accuracy 0.14\n",
    "                            precision    recall  f1-score   support\n",
    "\n",
    "    bali dan nusa tenggara       0.00      0.00      0.00        26\n",
    "               jabodetabek       0.00      0.00      0.00        28\n",
    "     jawa barat dan banten       0.00      0.00      0.00        32\n",
    "jawa tengah dan yogyakarta       0.14      1.00      0.25        36\n",
    "                jawa timur       0.00      0.00      0.00        34\n",
    "                kalimantan       0.00      0.00      0.00        22\n",
    "          maluku dan papua       0.00      0.00      0.00        23\n",
    "                  sulawesi       0.00      0.00      0.00        20\n",
    "                  sumatera       0.00      0.00      0.00        29\n",
    "\n",
    "                  accuracy                           0.14       250\n",
    "                 macro avg       0.02      0.11      0.03       250\n",
    "              weighted avg       0.02      0.14      0.04       250"
   ]
  },
  {
   "cell_type": "markdown",
   "metadata": {},
   "source": [
    "### BERT based"
   ]
  },
  {
   "cell_type": "markdown",
   "metadata": {},
   "source": [
    "link to [indoBERTweet](IndoBERTtweet-2e5-4%20epochs-Agg.ipynb)\n",
    "<br>link to [indoNLU](indoNLU2e-5batch16-Agg.ipynb)\n",
    "<br>link to [indoLEM](indoLEM2e-5batch16-Agg.ipynb)"
   ]
  },
  {
   "cell_type": "raw",
   "metadata": {},
   "source": [
    "indoBERTweet \n",
    "\n",
    "accuracy 0.37\n",
    "                            precision    recall  f1-score   support\n",
    "\n",
    "    bali dan nusa tenggara       1.00      0.04      0.07        26\n",
    "               jabodetabek       0.67      0.14      0.24        28\n",
    "     jawa barat dan banten       0.35      0.84      0.50        32\n",
    "jawa tengah dan yogyakarta       0.48      0.33      0.39        36\n",
    "                jawa timur       0.48      0.29      0.36        34\n",
    "                kalimantan       0.00      0.00      0.00        22\n",
    "          maluku dan papua       0.72      0.78      0.75        23\n",
    "                  sulawesi       0.08      0.05      0.06        20\n",
    "                  sumatera       0.23      0.66      0.35        29\n",
    "\n",
    "                  accuracy                           0.37       250\n",
    "                 macro avg       0.44      0.35      0.30       250\n",
    "              weighted avg       0.46      0.37      0.32       250\n",
    "\n",
    "              \n",
    "indoLEM \n",
    "\n",
    "accuracy 0.72\n",
    "                            precision    recall  f1-score   support\n",
    "\n",
    "    bali dan nusa tenggara       0.74      0.65      0.69        26\n",
    "               jabodetabek       0.48      0.71      0.57        28\n",
    "     jawa barat dan banten       0.80      0.75      0.77        32\n",
    "jawa tengah dan yogyakarta       0.74      0.69      0.71        36\n",
    "                jawa timur       0.63      0.71      0.67        34\n",
    "                kalimantan       1.00      0.68      0.81        22\n",
    "          maluku dan papua       0.81      0.96      0.88        23\n",
    "                  sulawesi       0.88      0.70      0.78        20\n",
    "                  sumatera       0.80      0.69      0.74        29\n",
    "\n",
    "                  accuracy                           0.72       250\n",
    "                 macro avg       0.76      0.73      0.74       250\n",
    "              weighted avg       0.75      0.72      0.73       250\n",
    "              \n",
    "indoNLU \n",
    "\n",
    "accuracy 0.75\n",
    "                            precision    recall  f1-score   support\n",
    "\n",
    "    bali dan nusa tenggara       0.83      0.73      0.78        26\n",
    "               jabodetabek       0.57      0.61      0.59        28\n",
    "     jawa barat dan banten       0.68      0.84      0.75        32\n",
    "jawa tengah dan yogyakarta       0.71      0.83      0.77        36\n",
    "                jawa timur       0.74      0.74      0.74        34\n",
    "                kalimantan       0.79      0.68      0.73        22\n",
    "          maluku dan papua       0.91      0.91      0.91        23\n",
    "                  sulawesi       0.88      0.75      0.81        20\n",
    "                  sumatera       0.86      0.66      0.75        29\n",
    "\n",
    "                  accuracy                           0.75       250\n",
    "                 macro avg       0.77      0.75      0.76       250\n",
    "              weighted avg       0.76      0.75      0.75       250\n"
   ]
  },
  {
   "cell_type": "code",
   "execution_count": 273,
   "metadata": {
    "ExecuteTime": {
     "end_time": "2022-03-13T13:30:56.569813Z",
     "start_time": "2022-03-13T13:30:56.561763Z"
    }
   },
   "outputs": [
    {
     "data": {
      "text/plain": [
       "array([2, 3, 4, 0, 4, 1, 7, 4, 5, 2, 1, 7, 3, 5, 7, 0, 2, 1, 4, 2, 6, 2,\n",
       "       7, 4, 2, 2, 2, 3, 3, 3, 2, 3, 1, 8, 2, 0, 1, 8, 6, 1, 8, 2, 2, 5,\n",
       "       7, 3, 2, 3, 6, 0, 3, 4, 4, 1, 1, 5, 4, 0, 1, 2, 0, 4, 0, 3, 3, 3,\n",
       "       4, 5, 7, 3, 3, 7, 3, 3, 3, 4, 3, 4, 6, 6, 5, 8, 5, 1, 1, 3, 7, 0,\n",
       "       0, 8, 6, 0, 3, 2, 5, 5, 2, 2, 7, 1, 2, 6, 2, 4, 0, 4, 3, 5, 1, 2,\n",
       "       0, 2, 3, 3, 8, 2, 0, 8, 4, 0, 4, 8, 2, 7, 3, 1, 2, 5, 6, 3, 3, 3,\n",
       "       2, 4, 4, 4, 4, 8, 3, 2, 1, 1, 7, 8, 5, 5, 3, 1, 6, 6, 7, 2, 6, 5,\n",
       "       2, 6, 0, 6, 1, 6, 8, 0, 7, 4, 1, 0, 4, 8, 1, 3, 6, 4, 4, 6, 1, 1,\n",
       "       3, 8, 3, 2, 3, 6, 2, 6, 3, 8, 1, 7, 6, 0, 5, 1, 8, 3, 1, 8, 8, 2,\n",
       "       0, 1, 2, 0, 4, 6, 2, 2, 6, 4, 0, 4, 6, 5, 0, 8, 4, 4, 7, 4, 1, 3,\n",
       "       2, 8, 5, 2, 6, 3, 8, 8, 4, 4, 2, 1, 7, 2, 3, 0, 8, 1, 2, 5, 3, 4,\n",
       "       1, 7, 3, 2, 5, 4, 3, 3])"
      ]
     },
     "execution_count": 273,
     "metadata": {},
     "output_type": "execute_result"
    }
   ],
   "source": [
    "indoNLU = pd.read_csv('bert_result/indoNLU2e_5Results.csv', index_col=0)\n",
    "indoNLU['0'].values"
   ]
  },
  {
   "cell_type": "code",
   "execution_count": 274,
   "metadata": {
    "ExecuteTime": {
     "end_time": "2022-03-13T13:31:06.288363Z",
     "start_time": "2022-03-13T13:31:06.278817Z"
    }
   },
   "outputs": [
    {
     "name": "stdout",
     "output_type": "stream",
     "text": [
      "IndoNLU accuracy 0.75\n",
      "                            precision    recall  f1-score   support\n",
      "\n",
      "    bali dan nusa tenggara       0.83      0.73      0.78        26\n",
      "               jabodetabek       0.57      0.61      0.59        28\n",
      "     jawa barat dan banten       0.68      0.84      0.75        32\n",
      "jawa tengah dan yogyakarta       0.71      0.83      0.77        36\n",
      "                jawa timur       0.74      0.74      0.74        34\n",
      "                kalimantan       0.79      0.68      0.73        22\n",
      "          maluku dan papua       0.91      0.91      0.91        23\n",
      "                  sulawesi       0.88      0.75      0.81        20\n",
      "                  sumatera       0.86      0.66      0.75        29\n",
      "\n",
      "                  accuracy                           0.75       250\n",
      "                 macro avg       0.77      0.75      0.76       250\n",
      "              weighted avg       0.76      0.75      0.75       250\n",
      "\n"
     ]
    }
   ],
   "source": [
    "print('IndoNLU accuracy %s' % round(accuracy_score(y_test_df, indoNLU['0'].values),2 ))\n",
    "print(classification_report(y_test_df, indoNLU['0'].values,target_names=label_names))"
   ]
  },
  {
   "cell_type": "markdown",
   "metadata": {},
   "source": [
    "## Vote"
   ]
  },
  {
   "cell_type": "code",
   "execution_count": 275,
   "metadata": {
    "ExecuteTime": {
     "end_time": "2022-03-13T13:31:21.475934Z",
     "start_time": "2022-03-13T13:31:21.105418Z"
    }
   },
   "outputs": [
    {
     "data": {
      "text/html": [
       "<div>\n",
       "<style scoped>\n",
       "    .dataframe tbody tr th:only-of-type {\n",
       "        vertical-align: middle;\n",
       "    }\n",
       "\n",
       "    .dataframe tbody tr th {\n",
       "        vertical-align: top;\n",
       "    }\n",
       "\n",
       "    .dataframe thead th {\n",
       "        text-align: right;\n",
       "    }\n",
       "</style>\n",
       "<table border=\"1\" class=\"dataframe\">\n",
       "  <thead>\n",
       "    <tr style=\"text-align: right;\">\n",
       "      <th></th>\n",
       "      <th>uname_nb</th>\n",
       "      <th>uname_svm</th>\n",
       "      <th>uname_lr</th>\n",
       "      <th>desc_nb</th>\n",
       "      <th>desc_svm</th>\n",
       "      <th>desc_lr</th>\n",
       "      <th>tweets_nb</th>\n",
       "      <th>tweets_svm</th>\n",
       "      <th>tweets_lr</th>\n",
       "      <th>tweets_indoNLU</th>\n",
       "      <th>majority_nb</th>\n",
       "      <th>majority_svm</th>\n",
       "      <th>majority_lr</th>\n",
       "      <th>majority_indoNLU</th>\n",
       "    </tr>\n",
       "  </thead>\n",
       "  <tbody>\n",
       "    <tr>\n",
       "      <th>0</th>\n",
       "      <td>3</td>\n",
       "      <td>3</td>\n",
       "      <td>3</td>\n",
       "      <td>3</td>\n",
       "      <td>8</td>\n",
       "      <td>3</td>\n",
       "      <td>3</td>\n",
       "      <td>3</td>\n",
       "      <td>2</td>\n",
       "      <td>2</td>\n",
       "      <td>3</td>\n",
       "      <td>3</td>\n",
       "      <td>3</td>\n",
       "      <td>3</td>\n",
       "    </tr>\n",
       "    <tr>\n",
       "      <th>1</th>\n",
       "      <td>3</td>\n",
       "      <td>3</td>\n",
       "      <td>3</td>\n",
       "      <td>4</td>\n",
       "      <td>3</td>\n",
       "      <td>1</td>\n",
       "      <td>3</td>\n",
       "      <td>3</td>\n",
       "      <td>3</td>\n",
       "      <td>3</td>\n",
       "      <td>3</td>\n",
       "      <td>3</td>\n",
       "      <td>3</td>\n",
       "      <td>3</td>\n",
       "    </tr>\n",
       "    <tr>\n",
       "      <th>2</th>\n",
       "      <td>3</td>\n",
       "      <td>3</td>\n",
       "      <td>3</td>\n",
       "      <td>8</td>\n",
       "      <td>3</td>\n",
       "      <td>8</td>\n",
       "      <td>3</td>\n",
       "      <td>3</td>\n",
       "      <td>3</td>\n",
       "      <td>4</td>\n",
       "      <td>3</td>\n",
       "      <td>3</td>\n",
       "      <td>3</td>\n",
       "      <td>8</td>\n",
       "    </tr>\n",
       "    <tr>\n",
       "      <th>3</th>\n",
       "      <td>3</td>\n",
       "      <td>3</td>\n",
       "      <td>3</td>\n",
       "      <td>3</td>\n",
       "      <td>3</td>\n",
       "      <td>3</td>\n",
       "      <td>1</td>\n",
       "      <td>1</td>\n",
       "      <td>1</td>\n",
       "      <td>0</td>\n",
       "      <td>3</td>\n",
       "      <td>3</td>\n",
       "      <td>3</td>\n",
       "      <td>3</td>\n",
       "    </tr>\n",
       "    <tr>\n",
       "      <th>4</th>\n",
       "      <td>3</td>\n",
       "      <td>3</td>\n",
       "      <td>3</td>\n",
       "      <td>1</td>\n",
       "      <td>1</td>\n",
       "      <td>1</td>\n",
       "      <td>3</td>\n",
       "      <td>3</td>\n",
       "      <td>3</td>\n",
       "      <td>4</td>\n",
       "      <td>3</td>\n",
       "      <td>3</td>\n",
       "      <td>3</td>\n",
       "      <td>4</td>\n",
       "    </tr>\n",
       "    <tr>\n",
       "      <th>...</th>\n",
       "      <td>...</td>\n",
       "      <td>...</td>\n",
       "      <td>...</td>\n",
       "      <td>...</td>\n",
       "      <td>...</td>\n",
       "      <td>...</td>\n",
       "      <td>...</td>\n",
       "      <td>...</td>\n",
       "      <td>...</td>\n",
       "      <td>...</td>\n",
       "      <td>...</td>\n",
       "      <td>...</td>\n",
       "      <td>...</td>\n",
       "      <td>...</td>\n",
       "    </tr>\n",
       "    <tr>\n",
       "      <th>245</th>\n",
       "      <td>4</td>\n",
       "      <td>4</td>\n",
       "      <td>4</td>\n",
       "      <td>2</td>\n",
       "      <td>3</td>\n",
       "      <td>2</td>\n",
       "      <td>2</td>\n",
       "      <td>2</td>\n",
       "      <td>2</td>\n",
       "      <td>2</td>\n",
       "      <td>2</td>\n",
       "      <td>4</td>\n",
       "      <td>2</td>\n",
       "      <td>2</td>\n",
       "    </tr>\n",
       "    <tr>\n",
       "      <th>246</th>\n",
       "      <td>3</td>\n",
       "      <td>3</td>\n",
       "      <td>3</td>\n",
       "      <td>3</td>\n",
       "      <td>3</td>\n",
       "      <td>3</td>\n",
       "      <td>3</td>\n",
       "      <td>3</td>\n",
       "      <td>3</td>\n",
       "      <td>5</td>\n",
       "      <td>3</td>\n",
       "      <td>3</td>\n",
       "      <td>3</td>\n",
       "      <td>3</td>\n",
       "    </tr>\n",
       "    <tr>\n",
       "      <th>247</th>\n",
       "      <td>3</td>\n",
       "      <td>3</td>\n",
       "      <td>3</td>\n",
       "      <td>8</td>\n",
       "      <td>3</td>\n",
       "      <td>8</td>\n",
       "      <td>4</td>\n",
       "      <td>4</td>\n",
       "      <td>4</td>\n",
       "      <td>4</td>\n",
       "      <td>8</td>\n",
       "      <td>3</td>\n",
       "      <td>8</td>\n",
       "      <td>8</td>\n",
       "    </tr>\n",
       "    <tr>\n",
       "      <th>248</th>\n",
       "      <td>3</td>\n",
       "      <td>3</td>\n",
       "      <td>3</td>\n",
       "      <td>3</td>\n",
       "      <td>3</td>\n",
       "      <td>3</td>\n",
       "      <td>3</td>\n",
       "      <td>3</td>\n",
       "      <td>3</td>\n",
       "      <td>3</td>\n",
       "      <td>3</td>\n",
       "      <td>3</td>\n",
       "      <td>3</td>\n",
       "      <td>3</td>\n",
       "    </tr>\n",
       "    <tr>\n",
       "      <th>249</th>\n",
       "      <td>3</td>\n",
       "      <td>3</td>\n",
       "      <td>3</td>\n",
       "      <td>1</td>\n",
       "      <td>1</td>\n",
       "      <td>1</td>\n",
       "      <td>3</td>\n",
       "      <td>3</td>\n",
       "      <td>3</td>\n",
       "      <td>3</td>\n",
       "      <td>3</td>\n",
       "      <td>3</td>\n",
       "      <td>3</td>\n",
       "      <td>3</td>\n",
       "    </tr>\n",
       "  </tbody>\n",
       "</table>\n",
       "<p>250 rows × 14 columns</p>\n",
       "</div>"
      ],
      "text/plain": [
       "     uname_nb  uname_svm  uname_lr  desc_nb  desc_svm  desc_lr  tweets_nb  \\\n",
       "0           3          3         3        3         8        3          3   \n",
       "1           3          3         3        4         3        1          3   \n",
       "2           3          3         3        8         3        8          3   \n",
       "3           3          3         3        3         3        3          1   \n",
       "4           3          3         3        1         1        1          3   \n",
       "..        ...        ...       ...      ...       ...      ...        ...   \n",
       "245         4          4         4        2         3        2          2   \n",
       "246         3          3         3        3         3        3          3   \n",
       "247         3          3         3        8         3        8          4   \n",
       "248         3          3         3        3         3        3          3   \n",
       "249         3          3         3        1         1        1          3   \n",
       "\n",
       "     tweets_svm  tweets_lr  tweets_indoNLU  majority_nb  majority_svm  \\\n",
       "0             3          2               2            3             3   \n",
       "1             3          3               3            3             3   \n",
       "2             3          3               4            3             3   \n",
       "3             1          1               0            3             3   \n",
       "4             3          3               4            3             3   \n",
       "..          ...        ...             ...          ...           ...   \n",
       "245           2          2               2            2             4   \n",
       "246           3          3               5            3             3   \n",
       "247           4          4               4            8             3   \n",
       "248           3          3               3            3             3   \n",
       "249           3          3               3            3             3   \n",
       "\n",
       "     majority_lr  majority_indoNLU  \n",
       "0              3                 3  \n",
       "1              3                 3  \n",
       "2              3                 8  \n",
       "3              3                 3  \n",
       "4              3                 4  \n",
       "..           ...               ...  \n",
       "245            2                 2  \n",
       "246            3                 3  \n",
       "247            8                 8  \n",
       "248            3                 3  \n",
       "249            3                 3  \n",
       "\n",
       "[250 rows x 14 columns]"
      ]
     },
     "execution_count": 275,
     "metadata": {},
     "output_type": "execute_result"
    }
   ],
   "source": [
    "vote_df1 = pd.DataFrame({'uname_nb': y_pred_uname[0], 'uname_svm':  y_pred_uname[1], 'uname_lr': y_pred_uname[2],\n",
    "                        'desc_nb': y_pred_desc[0], 'desc_svm':  y_pred_desc[1], 'desc_lr': y_pred_desc[2],\n",
    "                        'tweets_nb': y_pred_tweets[0], 'tweets_svm':  y_pred_tweets[1], 'tweets_lr': y_pred_tweets[2],\n",
    "                        'tweets_indoNLU' : indoNLU['0'].values\n",
    "                       })\n",
    "vote_df1\n",
    "\n",
    "mode_nb = vote_df1[['uname_nb', 'desc_nb', 'tweets_nb']].mode(axis=1)\n",
    "vote_df1['majority_nb'] = np.where(mode_nb.isna().any(1), mode_nb[0], mode_nb[2])\n",
    "\n",
    "mode_svm = vote_df1[['uname_svm', 'desc_svm', 'tweets_svm']].mode(axis=1)\n",
    "vote_df1['majority_svm'] = np.where(mode_svm.isna().any(1), mode_svm[0], mode_svm[2])\n",
    "\n",
    "mode_lr = vote_df1[['uname_lr', 'desc_lr', 'tweets_lr']].mode(axis=1)\n",
    "vote_df1['majority_lr'] = np.where(mode_lr.isna().any(1), mode_lr[0], mode_lr[2])\n",
    "\n",
    "mode_indoNLU = vote_df1[['uname_lr', 'desc_lr', 'tweets_indoNLU']].mode(axis=1)\n",
    "vote_df1['majority_indoNLU'] = np.where(mode_indoNLU.isna().any(1), mode_indoNLU[0], mode_indoNLU[2])\n",
    "\n",
    "vote_df1 = vote_df1.astype(int)\n",
    "vote_df1"
   ]
  },
  {
   "cell_type": "code",
   "execution_count": 276,
   "metadata": {
    "ExecuteTime": {
     "end_time": "2022-03-13T13:31:30.692625Z",
     "start_time": "2022-03-13T13:31:30.662916Z"
    }
   },
   "outputs": [
    {
     "name": "stdout",
     "output_type": "stream",
     "text": [
      "Naive Bayes accuracy 0.4\n",
      "                            precision    recall  f1-score   support\n",
      "\n",
      "    bali dan nusa tenggara       1.00      0.19      0.32        26\n",
      "               jabodetabek       0.60      0.11      0.18        28\n",
      "     jawa barat dan banten       0.78      0.44      0.56        32\n",
      "jawa tengah dan yogyakarta       0.25      0.97      0.40        36\n",
      "                jawa timur       0.41      0.35      0.38        34\n",
      "                kalimantan       1.00      0.18      0.31        22\n",
      "          maluku dan papua       0.75      0.39      0.51        23\n",
      "                  sulawesi       1.00      0.30      0.46        20\n",
      "                  sumatera       0.34      0.38      0.36        29\n",
      "\n",
      "                  accuracy                           0.40       250\n",
      "                 macro avg       0.68      0.37      0.39       250\n",
      "              weighted avg       0.64      0.40      0.39       250\n",
      "\n",
      "SVM accuracy 0.37\n",
      "                            precision    recall  f1-score   support\n",
      "\n",
      "    bali dan nusa tenggara       1.00      0.19      0.32        26\n",
      "               jabodetabek       0.50      0.04      0.07        28\n",
      "     jawa barat dan banten       0.85      0.34      0.49        32\n",
      "jawa tengah dan yogyakarta       0.23      0.97      0.38        36\n",
      "                jawa timur       0.53      0.29      0.38        34\n",
      "                kalimantan       0.71      0.23      0.34        22\n",
      "          maluku dan papua       0.80      0.35      0.48        23\n",
      "                  sulawesi       1.00      0.25      0.40        20\n",
      "                  sumatera       0.30      0.41      0.35        29\n",
      "\n",
      "                  accuracy                           0.37       250\n",
      "                 macro avg       0.66      0.34      0.36       250\n",
      "              weighted avg       0.62      0.37      0.36       250\n",
      "\n",
      "LR accuracy 0.46\n",
      "                            precision    recall  f1-score   support\n",
      "\n",
      "    bali dan nusa tenggara       1.00      0.31      0.47        26\n",
      "               jabodetabek       0.62      0.18      0.28        28\n",
      "     jawa barat dan banten       0.82      0.44      0.57        32\n",
      "jawa tengah dan yogyakarta       0.29      0.97      0.45        36\n",
      "                jawa timur       0.45      0.44      0.45        34\n",
      "                kalimantan       0.86      0.27      0.41        22\n",
      "          maluku dan papua       0.71      0.43      0.54        23\n",
      "                  sulawesi       1.00      0.35      0.52        20\n",
      "                  sumatera       0.41      0.52      0.45        29\n",
      "\n",
      "                  accuracy                           0.46       250\n",
      "                 macro avg       0.69      0.43      0.46       250\n",
      "              weighted avg       0.65      0.46      0.46       250\n",
      "\n",
      "IndoNLU accuracy 0.53\n",
      "                            precision    recall  f1-score   support\n",
      "\n",
      "    bali dan nusa tenggara       0.92      0.46      0.62        26\n",
      "               jabodetabek       0.70      0.25      0.37        28\n",
      "     jawa barat dan banten       0.82      0.44      0.57        32\n",
      "jawa tengah dan yogyakarta       0.33      0.89      0.48        36\n",
      "                jawa timur       0.55      0.50      0.52        34\n",
      "                kalimantan       0.85      0.50      0.63        22\n",
      "          maluku dan papua       0.70      0.61      0.65        23\n",
      "                  sulawesi       0.80      0.40      0.53        20\n",
      "                  sumatera       0.46      0.62      0.53        29\n",
      "\n",
      "                  accuracy                           0.53       250\n",
      "                 macro avg       0.68      0.52      0.54       250\n",
      "              weighted avg       0.66      0.53      0.54       250\n",
      "\n"
     ]
    }
   ],
   "source": [
    "## Naive Bayes \n",
    "print('Naive Bayes accuracy %s' % round(accuracy_score(y_test_df, vote_df1.majority_nb),2 ))\n",
    "print(classification_report(y_test_df, vote_df1.majority_nb,target_names=label_names))\n",
    "\n",
    "## SVM\n",
    "print('SVM accuracy %s' % round(accuracy_score(y_test_df, vote_df1.majority_svm),2 ))\n",
    "print(classification_report(y_test_df, vote_df1.majority_svm,target_names=label_names))\n",
    "\n",
    "## LR \n",
    "\n",
    "print('LR accuracy %s' % round(accuracy_score(y_test_df, vote_df1.majority_lr),2 ))\n",
    "print(classification_report(y_test_df, vote_df1.majority_lr,target_names=label_names))\n",
    "\n",
    "## IndoBERTweet\n",
    "\n",
    "print('IndoNLU accuracy %s' % round(accuracy_score(y_test_df, vote_df1.majority_indoNLU),2 ))\n",
    "print(classification_report(y_test_df, vote_df1.majority_indoNLU,target_names=label_names))"
   ]
  },
  {
   "cell_type": "markdown",
   "metadata": {
    "id": "GxN7-eO7sOd0"
   },
   "source": [
    "## Menggunakan only user Tweets (Majority Voting)"
   ]
  },
  {
   "cell_type": "code",
   "execution_count": 418,
   "metadata": {
    "ExecuteTime": {
     "end_time": "2022-03-22T05:28:36.682348Z",
     "start_time": "2022-03-22T05:28:36.679479Z"
    },
    "id": "x2M2w9QB9EjL"
   },
   "outputs": [],
   "source": [
    "y_pred_tweets = []"
   ]
  },
  {
   "cell_type": "code",
   "execution_count": 419,
   "metadata": {
    "ExecuteTime": {
     "end_time": "2022-03-22T05:28:37.846879Z",
     "start_time": "2022-03-22T05:28:37.843012Z"
    },
    "id": "bvw2c7bpsQW2"
   },
   "outputs": [],
   "source": [
    "tweets_xtrain_df, tweets_xtest_df, tweets_xval_df = train_df['text'], test_df['text'], val_df['text']\n",
    "tweets_ytrain_df, tweets_ytest_df, tweets_yval_df  = train_df['Lvalue'], test_df['Lvalue'], val_df['Lvalue']"
   ]
  },
  {
   "cell_type": "markdown",
   "metadata": {},
   "source": [
    "### NB, SVM, Logreg"
   ]
  },
  {
   "cell_type": "code",
   "execution_count": 420,
   "metadata": {
    "ExecuteTime": {
     "end_time": "2022-03-22T05:28:42.777212Z",
     "start_time": "2022-03-22T05:28:42.764065Z"
    }
   },
   "outputs": [
    {
     "data": {
      "text/html": [
       "<div>\n",
       "<style scoped>\n",
       "    .dataframe tbody tr th:only-of-type {\n",
       "        vertical-align: middle;\n",
       "    }\n",
       "\n",
       "    .dataframe tbody tr th {\n",
       "        vertical-align: top;\n",
       "    }\n",
       "\n",
       "    .dataframe thead th {\n",
       "        text-align: right;\n",
       "    }\n",
       "</style>\n",
       "<table border=\"1\" class=\"dataframe\">\n",
       "  <thead>\n",
       "    <tr style=\"text-align: right;\">\n",
       "      <th></th>\n",
       "      <th>screen_name</th>\n",
       "      <th>text</th>\n",
       "      <th>userLocation</th>\n",
       "      <th>Lvalue</th>\n",
       "    </tr>\n",
       "  </thead>\n",
       "  <tbody>\n",
       "    <tr>\n",
       "      <th>0</th>\n",
       "      <td>arshere</td>\n",
       "      <td>eoy semangattt semoga ga malem banget baliknya...</td>\n",
       "      <td>sumatera</td>\n",
       "      <td>8</td>\n",
       "    </tr>\n",
       "    <tr>\n",
       "      <th>1</th>\n",
       "      <td>arshere</td>\n",
       "      <td>semangat melewati motivasinya ntr cuti tp ntr ...</td>\n",
       "      <td>sumatera</td>\n",
       "      <td>8</td>\n",
       "    </tr>\n",
       "    <tr>\n",
       "      <th>2</th>\n",
       "      <td>arshere</td>\n",
       "      <td>iya banget tp apadaya</td>\n",
       "      <td>sumatera</td>\n",
       "      <td>8</td>\n",
       "    </tr>\n",
       "    <tr>\n",
       "      <th>3</th>\n",
       "      <td>arshere</td>\n",
       "      <td>emang anak goa ga bersosialisasi</td>\n",
       "      <td>sumatera</td>\n",
       "      <td>8</td>\n",
       "    </tr>\n",
       "    <tr>\n",
       "      <th>4</th>\n",
       "      <td>arshere</td>\n",
       "      <td>gini ya</td>\n",
       "      <td>sumatera</td>\n",
       "      <td>8</td>\n",
       "    </tr>\n",
       "    <tr>\n",
       "      <th>...</th>\n",
       "      <td>...</td>\n",
       "      <td>...</td>\n",
       "      <td>...</td>\n",
       "      <td>...</td>\n",
       "    </tr>\n",
       "    <tr>\n",
       "      <th>23266</th>\n",
       "      <td>AangMunawar21</td>\n",
       "      <td>bagus dong wkwk</td>\n",
       "      <td>jawa tengah dan yogyakarta</td>\n",
       "      <td>3</td>\n",
       "    </tr>\n",
       "    <tr>\n",
       "      <th>23267</th>\n",
       "      <td>AangMunawar21</td>\n",
       "      <td>de best jaman kuliah</td>\n",
       "      <td>jawa tengah dan yogyakarta</td>\n",
       "      <td>3</td>\n",
       "    </tr>\n",
       "    <tr>\n",
       "      <th>23268</th>\n",
       "      <td>AangMunawar21</td>\n",
       "      <td>indihome gangguan</td>\n",
       "      <td>jawa tengah dan yogyakarta</td>\n",
       "      <td>3</td>\n",
       "    </tr>\n",
       "    <tr>\n",
       "      <th>23269</th>\n",
       "      <td>AangMunawar21</td>\n",
       "      <td>gak sia sia masang odegard ama ramsdale wkwk</td>\n",
       "      <td>jawa tengah dan yogyakarta</td>\n",
       "      <td>3</td>\n",
       "    </tr>\n",
       "    <tr>\n",
       "      <th>23270</th>\n",
       "      <td>AangMunawar21</td>\n",
       "      <td>report white apaandah main nya passing nya duh...</td>\n",
       "      <td>jawa tengah dan yogyakarta</td>\n",
       "      <td>3</td>\n",
       "    </tr>\n",
       "  </tbody>\n",
       "</table>\n",
       "<p>23271 rows × 4 columns</p>\n",
       "</div>"
      ],
      "text/plain": [
       "         screen_name                                               text  \\\n",
       "0            arshere  eoy semangattt semoga ga malem banget baliknya...   \n",
       "1            arshere  semangat melewati motivasinya ntr cuti tp ntr ...   \n",
       "2            arshere                              iya banget tp apadaya   \n",
       "3            arshere                   emang anak goa ga bersosialisasi   \n",
       "4            arshere                                            gini ya   \n",
       "...              ...                                                ...   \n",
       "23266  AangMunawar21                                    bagus dong wkwk   \n",
       "23267  AangMunawar21                               de best jaman kuliah   \n",
       "23268  AangMunawar21                                  indihome gangguan   \n",
       "23269  AangMunawar21       gak sia sia masang odegard ama ramsdale wkwk   \n",
       "23270  AangMunawar21  report white apaandah main nya passing nya duh...   \n",
       "\n",
       "                     userLocation  Lvalue  \n",
       "0                        sumatera       8  \n",
       "1                        sumatera       8  \n",
       "2                        sumatera       8  \n",
       "3                        sumatera       8  \n",
       "4                        sumatera       8  \n",
       "...                           ...     ...  \n",
       "23266  jawa tengah dan yogyakarta       3  \n",
       "23267  jawa tengah dan yogyakarta       3  \n",
       "23268  jawa tengah dan yogyakarta       3  \n",
       "23269  jawa tengah dan yogyakarta       3  \n",
       "23270  jawa tengah dan yogyakarta       3  \n",
       "\n",
       "[23271 rows x 4 columns]"
      ]
     },
     "execution_count": 420,
     "metadata": {},
     "output_type": "execute_result"
    }
   ],
   "source": [
    "tweet_analysis = test_df[['screen_name','text','userLocation','Lvalue']].copy()\n",
    "tweet_analysis"
   ]
  },
  {
   "cell_type": "code",
   "execution_count": 421,
   "metadata": {
    "ExecuteTime": {
     "end_time": "2022-03-22T05:30:11.402918Z",
     "start_time": "2022-03-22T05:28:55.163617Z"
    }
   },
   "outputs": [
    {
     "name": "stdout",
     "output_type": "stream",
     "text": [
      "Naive Bayes accuracy 0.42\n",
      "                            precision    recall  f1-score   support\n",
      "\n",
      "    bali dan nusa tenggara       0.83      0.19      0.31        26\n",
      "               jabodetabek       0.46      0.21      0.29        28\n",
      "     jawa barat dan banten       0.47      0.56      0.51        32\n",
      "jawa tengah dan yogyakarta       0.26      0.92      0.41        36\n",
      "                jawa timur       0.47      0.44      0.45        34\n",
      "                kalimantan       1.00      0.18      0.31        22\n",
      "          maluku dan papua       1.00      0.26      0.41        23\n",
      "                  sulawesi       1.00      0.25      0.40        20\n",
      "                  sumatera       0.57      0.41      0.48        29\n",
      "\n",
      "                  accuracy                           0.42       250\n",
      "                 macro avg       0.67      0.38      0.40       250\n",
      "              weighted avg       0.63      0.42      0.40       250\n",
      "\n",
      "SVM accuracy 0.48\n",
      "                            precision    recall  f1-score   support\n",
      "\n",
      "    bali dan nusa tenggara       0.82      0.35      0.49        26\n",
      "               jabodetabek       0.42      0.36      0.38        28\n",
      "     jawa barat dan banten       0.54      0.59      0.57        32\n",
      "jawa tengah dan yogyakarta       0.28      0.89      0.43        36\n",
      "                jawa timur       0.52      0.41      0.46        34\n",
      "                kalimantan       0.71      0.23      0.34        22\n",
      "          maluku dan papua       0.92      0.48      0.63        23\n",
      "                  sulawesi       1.00      0.40      0.57        20\n",
      "                  sumatera       0.92      0.41      0.57        29\n",
      "\n",
      "                  accuracy                           0.48       250\n",
      "                 macro avg       0.68      0.46      0.49       250\n",
      "              weighted avg       0.65      0.48      0.49       250\n",
      "\n",
      "Logreg accuracy 0.58\n",
      "                            precision    recall  f1-score   support\n",
      "\n",
      "    bali dan nusa tenggara       0.88      0.54      0.67        26\n",
      "               jabodetabek       0.38      0.39      0.39        28\n",
      "     jawa barat dan banten       0.53      0.62      0.57        32\n",
      "jawa tengah dan yogyakarta       0.43      0.92      0.59        36\n",
      "                jawa timur       0.55      0.62      0.58        34\n",
      "                kalimantan       0.86      0.27      0.41        22\n",
      "          maluku dan papua       0.94      0.65      0.77        23\n",
      "                  sulawesi       1.00      0.45      0.62        20\n",
      "                  sumatera       0.71      0.52      0.60        29\n",
      "\n",
      "                  accuracy                           0.58       250\n",
      "                 macro avg       0.70      0.55      0.58       250\n",
      "              weighted avg       0.66      0.58      0.58       250\n",
      "\n",
      "CPU times: user 38min 42s, sys: 21min 41s, total: 1h 24s\n",
      "Wall time: 1min 16s\n"
     ]
    }
   ],
   "source": [
    "%%time\n",
    "## Naive Bayes \n",
    "nb.fit(tweets_xtrain_df, tweets_ytrain_df)\n",
    "newy_pred = nb.predict(tweets_xtest_df)\n",
    "pred = test_df[['screen_name']].copy()\n",
    "pred['Lpredict'] = newy_pred\n",
    "tweet_analysis['Lpredict_nb'] = newy_pred \n",
    "y_pred = pred.groupby(['screen_name'], sort=False).agg(lambda x:x.value_counts().index[0])\n",
    "y_pred_tweets.append(y_pred)\n",
    "print('Naive Bayes accuracy %s' % round(accuracy_score(y_pred, y_test_df),2 ))\n",
    "print(classification_report(y_test_df, y_pred,target_names=label_names))\n",
    "\n",
    "## Linear SVM \n",
    "svm.fit(tweets_xtrain_df , tweets_ytrain_df)\n",
    "newy_pred = svm.predict(tweets_xtest_df)\n",
    "pred = test_df[['screen_name']].copy()\n",
    "pred['Lpredict'] = newy_pred\n",
    "tweet_analysis['Lpredict_svm'] = newy_pred\n",
    "y_pred = pred.groupby(['screen_name'], sort=False).agg(lambda x:x.value_counts().index[0])\n",
    "y_pred_tweets.append(y_pred)\n",
    "print('SVM accuracy %s' % round(accuracy_score(y_pred, y_test_df),2 ))\n",
    "print(classification_report(y_test_df, y_pred,target_names=label_names))\n",
    "\n",
    "## LogReg\n",
    "logreg.fit(tweets_xtrain_df , tweets_ytrain_df)\n",
    "newy_pred = logreg.predict(tweets_xtest_df)\n",
    "pred = test_df[['screen_name']].copy()\n",
    "pred['Lpredict'] = newy_pred\n",
    "tweet_analysis['Lpredict_lr'] = newy_pred\n",
    "y_pred = pred.groupby(['screen_name'], sort=False).agg(lambda x:x.value_counts().index[0])\n",
    "y_pred_tweets.append(y_pred)\n",
    "print('Logreg accuracy %s' % round(accuracy_score(y_pred, y_test_df),2 ))\n",
    "print(classification_report(y_test_df, y_pred,target_names=label_names))"
   ]
  },
  {
   "cell_type": "markdown",
   "metadata": {},
   "source": [
    "### LSTM"
   ]
  },
  {
   "cell_type": "markdown",
   "metadata": {},
   "source": [
    "Link to [LSTM majority vote](LSTM-vote.ipynb)"
   ]
  },
  {
   "cell_type": "code",
   "execution_count": 285,
   "metadata": {
    "ExecuteTime": {
     "end_time": "2022-03-13T13:55:35.090255Z",
     "start_time": "2022-03-13T13:55:35.083613Z"
    }
   },
   "outputs": [],
   "source": [
    "lstm_majority = pd.read_csv('lstm_result/lstm_majority_vote.csv')"
   ]
  },
  {
   "cell_type": "raw",
   "metadata": {},
   "source": [
    "accuracy 0.46\n",
    "                            precision    recall  f1-score   support\n",
    "\n",
    "    bali dan nusa tenggara       0.89      0.31      0.46        26\n",
    "               jabodetabek       0.38      0.18      0.24        28\n",
    "     jawa barat dan banten       0.67      0.50      0.57        32\n",
    "jawa tengah dan yogyakarta       0.76      0.44      0.56        36\n",
    "                jawa timur       0.22      0.88      0.35        34\n",
    "                kalimantan       0.78      0.32      0.45        22\n",
    "          maluku dan papua       0.94      0.65      0.77        23\n",
    "                  sulawesi       0.75      0.45      0.56        20\n",
    "                  sumatera       1.00      0.34      0.51        29\n",
    "\n",
    "                  accuracy                           0.46       250\n",
    "                 macro avg       0.71      0.45      0.50       250\n",
    "              weighted avg       0.69      0.46      0.49       250"
   ]
  },
  {
   "cell_type": "markdown",
   "metadata": {},
   "source": [
    "### Setting word2vec"
   ]
  },
  {
   "cell_type": "code",
   "execution_count": 289,
   "metadata": {
    "ExecuteTime": {
     "end_time": "2022-03-13T13:57:37.927202Z",
     "start_time": "2022-03-13T13:57:37.924161Z"
    }
   },
   "outputs": [],
   "source": [
    "if not os.path.exists('Word2Vec_400dim.txt'):\n",
    "  os.system('gdown https://drive.google.com/uc?id=1L6vzEGcojvEecWt_Ide357THYwMRycGv')"
   ]
  },
  {
   "cell_type": "code",
   "execution_count": 290,
   "metadata": {
    "ExecuteTime": {
     "end_time": "2022-03-13T13:58:06.489442Z",
     "start_time": "2022-03-13T13:57:38.901907Z"
    }
   },
   "outputs": [],
   "source": [
    "# Ambil word2vec setiap kata\n",
    "# https://github.com/vijayaiitk/NLP-text-classification-model/issues/1\n",
    "# https://github.com/RaRe-Technologies/gensim/wiki/Migrating-from-Gensim-3.x-to-4\n",
    "import gensim\n",
    "\n",
    "modelword2vec = gensim.models.KeyedVectors.load_word2vec_format(\"Word2Vec_400dim.txt\", binary=False)\n",
    "\n",
    "w2v = dict(zip(modelword2vec.index_to_key, modelword2vec.vectors))\n",
    "\n",
    "\n",
    "class MeanEmbeddingVectorizer(object):\n",
    "    def __init__(self, word2vec):\n",
    "        self.word2vec = word2vec\n",
    "        self.dim = len(word2vec['dan'])\n",
    "        \n",
    "    def tokenize(self, sentences):\n",
    "        return [sentence.lower().split(\" \") for sentence in sentences]\n",
    "\n",
    "    \n",
    "    def transform(self, X):\n",
    "        # Ambil kata-katanya lalu rata-rata\n",
    "        return np.array([\n",
    "            np.mean([self.word2vec[w] for w in words if w in self.word2vec]\n",
    "                    or [np.zeros(self.dim)], axis=0)\n",
    "            for words in X\n",
    "        ])\n",
    "    \n",
    "vectorizer = MeanEmbeddingVectorizer(w2v)"
   ]
  },
  {
   "cell_type": "markdown",
   "metadata": {},
   "source": [
    "### Word2vec + ML "
   ]
  },
  {
   "cell_type": "code",
   "execution_count": 291,
   "metadata": {
    "ExecuteTime": {
     "end_time": "2022-03-13T13:58:34.253364Z",
     "start_time": "2022-03-13T13:58:28.576807Z"
    }
   },
   "outputs": [],
   "source": [
    "from sklearn.preprocessing import MinMaxScaler\n",
    "\n",
    "minmax_Sc = MinMaxScaler()\n",
    "\n",
    "train_X = vectorizer.transform(vectorizer.tokenize(tweets_xtrain_df))\n",
    "nbtrain_X = minmax_Sc.fit_transform(train_X)\n",
    "test_X = vectorizer.transform(vectorizer.tokenize(tweets_xtest_df))\n",
    "nbtest_X = minmax_Sc.transform(test_X)\n",
    "val_X = vectorizer.transform(vectorizer.tokenize(tweets_xval_df))\n",
    "\n",
    "train_Y = tweets_ytrain_df\n",
    "test_Y = tweets_ytest_df\n",
    "val_Y = tweets_yval_df"
   ]
  },
  {
   "cell_type": "code",
   "execution_count": 297,
   "metadata": {
    "ExecuteTime": {
     "end_time": "2022-03-13T14:03:01.658651Z",
     "start_time": "2022-03-13T14:03:01.654854Z"
    }
   },
   "outputs": [],
   "source": [
    "new_nb = MultinomialNB()\n",
    "new_svm = svm.SVC()\n",
    "new_logreg = LogisticRegression(solver='lbfgs', multi_class='multinomial')"
   ]
  },
  {
   "cell_type": "code",
   "execution_count": 298,
   "metadata": {
    "ExecuteTime": {
     "end_time": "2022-03-13T14:03:25.138503Z",
     "start_time": "2022-03-13T14:03:18.871250Z"
    }
   },
   "outputs": [
    {
     "name": "stdout",
     "output_type": "stream",
     "text": [
      "accuracy 0.14\n",
      "                            precision    recall  f1-score   support\n",
      "\n",
      "    bali dan nusa tenggara       0.00      0.00      0.00        26\n",
      "               jabodetabek       0.00      0.00      0.00        28\n",
      "     jawa barat dan banten       0.00      0.00      0.00        32\n",
      "jawa tengah dan yogyakarta       0.14      1.00      0.25        36\n",
      "                jawa timur       0.00      0.00      0.00        34\n",
      "                kalimantan       0.00      0.00      0.00        22\n",
      "          maluku dan papua       0.00      0.00      0.00        23\n",
      "                  sulawesi       0.00      0.00      0.00        20\n",
      "                  sumatera       0.00      0.00      0.00        29\n",
      "\n",
      "                  accuracy                           0.14       250\n",
      "                 macro avg       0.02      0.11      0.03       250\n",
      "              weighted avg       0.02      0.14      0.04       250\n",
      "\n",
      "accuracy 0.24\n",
      "                            precision    recall  f1-score   support\n",
      "\n",
      "    bali dan nusa tenggara       0.42      0.38      0.40        26\n",
      "               jabodetabek       0.00      0.00      0.00        28\n",
      "     jawa barat dan banten       0.36      0.28      0.32        32\n",
      "jawa tengah dan yogyakarta       0.18      0.78      0.29        36\n",
      "                jawa timur       0.00      0.00      0.00        34\n",
      "                kalimantan       0.40      0.09      0.15        22\n",
      "          maluku dan papua       0.83      0.22      0.34        23\n",
      "                  sulawesi       0.50      0.05      0.09        20\n",
      "                  sumatera       0.19      0.17      0.18        29\n",
      "\n",
      "                  accuracy                           0.24       250\n",
      "                 macro avg       0.32      0.22      0.20       250\n",
      "              weighted avg       0.29      0.24      0.20       250\n",
      "\n",
      "accuracy 0.28\n",
      "                            precision    recall  f1-score   support\n",
      "\n",
      "    bali dan nusa tenggara       0.75      0.23      0.35        26\n",
      "               jabodetabek       0.21      0.25      0.23        28\n",
      "     jawa barat dan banten       0.43      0.50      0.46        32\n",
      "jawa tengah dan yogyakarta       0.22      0.47      0.30        36\n",
      "                jawa timur       0.17      0.29      0.21        34\n",
      "                kalimantan       0.00      0.00      0.00        22\n",
      "          maluku dan papua       0.77      0.43      0.56        23\n",
      "                  sulawesi       0.50      0.05      0.09        20\n",
      "                  sumatera       0.16      0.10      0.12        29\n",
      "\n",
      "                  accuracy                           0.28       250\n",
      "                 macro avg       0.36      0.26      0.26       250\n",
      "              weighted avg       0.34      0.28      0.27       250\n",
      "\n",
      "CPU times: user 52.2 s, sys: 18.6 s, total: 1min 10s\n",
      "Wall time: 6.26 s\n"
     ]
    }
   ],
   "source": [
    "%%time\n",
    "## Naive Bayes \n",
    "new_nb.fit(nbtrain_X , train_Y)\n",
    "newy_pred = new_nb.predict(nbtest_X)\n",
    "pred = test_df[['screen_name']].copy()\n",
    "pred['Lpredict'] = newy_pred\n",
    "y_pred = pred.groupby(['screen_name'], sort=False).agg(lambda x:x.value_counts().index[0])\n",
    "print('accuracy %s' % round(accuracy_score(y_pred, y_test_df),2 ))\n",
    "print(classification_report(y_test_df, y_pred,target_names=label_names))\n",
    "\n",
    "\n",
    "## SVM \n",
    "new_sgd.fit(train_X , train_Y)\n",
    "newy_pred = new_sgd.predict(test_X)\n",
    "pred = test_df[['screen_name']].copy()\n",
    "pred['Lpredict'] = newy_pred\n",
    "y_pred = pred.groupby(['screen_name'], sort=False).agg(lambda x:x.value_counts().index[0])\n",
    "print('accuracy %s' % round(accuracy_score(y_pred, y_test_df),2 ))\n",
    "print(classification_report(y_test_df, y_pred,target_names=label_names))\n",
    " \n",
    "## new_logreg\n",
    "new_logreg.fit(train_X , train_Y)\n",
    "newy_pred = new_logreg.predict(test_X)\n",
    "pred = test_df[['screen_name']].copy()\n",
    "pred['Lpredict'] = newy_pred\n",
    "y_pred = pred.groupby(['screen_name'], sort=False).agg(lambda x:x.value_counts().index[0])\n",
    "print('accuracy %s' % round(accuracy_score(y_pred, y_test_df),2 ))\n",
    "print(classification_report(y_test_df, y_pred,target_names=label_names))"
   ]
  },
  {
   "cell_type": "markdown",
   "metadata": {},
   "source": [
    "### Word2vec + LSTM"
   ]
  },
  {
   "cell_type": "markdown",
   "metadata": {
    "ExecuteTime": {
     "end_time": "2022-03-13T14:06:21.274769Z",
     "start_time": "2022-03-13T14:06:21.271106Z"
    }
   },
   "source": [
    "link to [LSTM-vote-worc2vec.ipynb](LSTM-vote-worc2vec.ipynb)"
   ]
  },
  {
   "cell_type": "code",
   "execution_count": 300,
   "metadata": {
    "ExecuteTime": {
     "end_time": "2022-03-13T14:17:49.077088Z",
     "start_time": "2022-03-13T14:17:49.071354Z"
    }
   },
   "outputs": [],
   "source": [
    "lstm_w2v = pd.read_csv('lstm_result/lstm_majority_vote_word2vec.csv')"
   ]
  },
  {
   "cell_type": "raw",
   "metadata": {},
   "source": [
    "accuracy 0.38\n",
    "                            precision    recall  f1-score   support\n",
    "\n",
    "    bali dan nusa tenggara       0.70      0.27      0.39        26\n",
    "               jabodetabek       0.67      0.07      0.13        28\n",
    "     jawa barat dan banten       0.62      0.31      0.42        32\n",
    "jawa tengah dan yogyakarta       0.60      0.33      0.43        36\n",
    "                jawa timur       0.20      0.91      0.33        34\n",
    "                kalimantan       0.67      0.18      0.29        22\n",
    "          maluku dan papua       0.79      0.65      0.71        23\n",
    "                  sulawesi       0.71      0.25      0.37        20\n",
    "                  sumatera       0.71      0.34      0.47        29\n",
    "\n",
    "                  accuracy                           0.38       250\n",
    "                 macro avg       0.63      0.37      0.39       250\n",
    "              weighted avg       0.61      0.38      0.39       250\n"
   ]
  },
  {
   "cell_type": "markdown",
   "metadata": {},
   "source": [
    "### BERT based"
   ]
  },
  {
   "cell_type": "markdown",
   "metadata": {
    "ExecuteTime": {
     "end_time": "2022-03-13T14:18:53.940027Z",
     "start_time": "2022-03-13T14:18:53.935530Z"
    }
   },
   "source": [
    "link to [indoBERTweet](IndoBERTtweet-2e5-4%20epochs-Vote.ipynb)\n",
    "link to [indoNLU](indoNLU2e-5batch16-Vote.ipynb)\n",
    "link to [indoLEM](indoLEM2e-5batch16-Vote.ipynb)"
   ]
  },
  {
   "cell_type": "code",
   "execution_count": null,
   "metadata": {},
   "outputs": [],
   "source": [
    "indoBERTweet \n",
    "\n",
    "accuracy 0.56\n",
    "                            precision    recall  f1-score   support\n",
    "\n",
    "    bali dan nusa tenggara       0.38      0.83      0.53        12\n",
    "               jabodetabek       0.79      0.29      0.43        75\n",
    "     jawa barat dan banten       0.78      0.42      0.54        60\n",
    "jawa tengah dan yogyakarta       0.61      0.81      0.70        27\n",
    "                jawa timur       0.47      1.00      0.64        16\n",
    "                kalimantan       0.32      0.78      0.45         9\n",
    "          maluku dan papua       0.57      1.00      0.72        13\n",
    "                  sulawesi       0.45      1.00      0.62         9\n",
    "                  sumatera       0.55      0.55      0.55        29\n",
    "\n",
    "                  accuracy                           0.56       250\n",
    "                 macro avg       0.55      0.74      0.58       250\n",
    "              weighted avg       0.66      0.56      0.54       250\n",
    "\n",
    "            \n",
    "indoNLU \n",
    "\n",
    "accuracy 0.48\n",
    "                            precision    recall  f1-score   support\n",
    "\n",
    "    bali dan nusa tenggara       0.38      0.62      0.48        16\n",
    "               jabodetabek       0.32      0.53      0.40        17\n",
    "     jawa barat dan banten       0.59      0.73      0.66        26\n",
    "jawa tengah dan yogyakarta       0.94      0.26      0.40       132\n",
    "                jawa timur       0.26      0.82      0.40        11\n",
    "                kalimantan       0.23      0.83      0.36         6\n",
    "          maluku dan papua       0.61      1.00      0.76        14\n",
    "                  sulawesi       0.50      0.91      0.65        11\n",
    "                  sumatera       0.38      0.65      0.48        17\n",
    "\n",
    "                  accuracy                           0.48       250\n",
    "                 macro avg       0.47      0.71      0.51       250\n",
    "              weighted avg       0.71      0.48      0.47       250\n",
    "\n",
    "            "
   ]
  },
  {
   "cell_type": "markdown",
   "metadata": {},
   "source": [
    "## Vote the results"
   ]
  },
  {
   "cell_type": "code",
   "execution_count": 318,
   "metadata": {
    "ExecuteTime": {
     "end_time": "2022-03-14T01:26:38.220935Z",
     "start_time": "2022-03-14T01:26:38.215785Z"
    }
   },
   "outputs": [],
   "source": [
    "indoBERTweetbestResults = pd.read_csv('bert_result/indoBERTweet2e_5ResultsVote.csv', index_col=0)"
   ]
  },
  {
   "cell_type": "code",
   "execution_count": 319,
   "metadata": {
    "ExecuteTime": {
     "end_time": "2022-03-14T01:26:42.480704Z",
     "start_time": "2022-03-14T01:26:42.467963Z"
    }
   },
   "outputs": [
    {
     "data": {
      "text/html": [
       "<div>\n",
       "<style scoped>\n",
       "    .dataframe tbody tr th:only-of-type {\n",
       "        vertical-align: middle;\n",
       "    }\n",
       "\n",
       "    .dataframe tbody tr th {\n",
       "        vertical-align: top;\n",
       "    }\n",
       "\n",
       "    .dataframe thead th {\n",
       "        text-align: right;\n",
       "    }\n",
       "</style>\n",
       "<table border=\"1\" class=\"dataframe\">\n",
       "  <thead>\n",
       "    <tr style=\"text-align: right;\">\n",
       "      <th></th>\n",
       "      <th>uname_nb</th>\n",
       "      <th>uname_svm</th>\n",
       "      <th>uname_lr</th>\n",
       "      <th>desc_nb</th>\n",
       "      <th>desc_svm</th>\n",
       "      <th>desc_lr</th>\n",
       "      <th>tweets_nb</th>\n",
       "      <th>tweets_svm</th>\n",
       "      <th>tweets_lr</th>\n",
       "      <th>tweets_indoBERTweet</th>\n",
       "    </tr>\n",
       "  </thead>\n",
       "  <tbody>\n",
       "    <tr>\n",
       "      <th>0</th>\n",
       "      <td>3</td>\n",
       "      <td>3</td>\n",
       "      <td>3</td>\n",
       "      <td>3</td>\n",
       "      <td>8</td>\n",
       "      <td>3</td>\n",
       "      <td>4</td>\n",
       "      <td>4</td>\n",
       "      <td>4</td>\n",
       "      <td>1</td>\n",
       "    </tr>\n",
       "    <tr>\n",
       "      <th>1</th>\n",
       "      <td>3</td>\n",
       "      <td>3</td>\n",
       "      <td>3</td>\n",
       "      <td>4</td>\n",
       "      <td>3</td>\n",
       "      <td>1</td>\n",
       "      <td>3</td>\n",
       "      <td>3</td>\n",
       "      <td>3</td>\n",
       "      <td>1</td>\n",
       "    </tr>\n",
       "    <tr>\n",
       "      <th>2</th>\n",
       "      <td>3</td>\n",
       "      <td>3</td>\n",
       "      <td>3</td>\n",
       "      <td>8</td>\n",
       "      <td>3</td>\n",
       "      <td>8</td>\n",
       "      <td>3</td>\n",
       "      <td>4</td>\n",
       "      <td>3</td>\n",
       "      <td>1</td>\n",
       "    </tr>\n",
       "    <tr>\n",
       "      <th>3</th>\n",
       "      <td>3</td>\n",
       "      <td>3</td>\n",
       "      <td>3</td>\n",
       "      <td>3</td>\n",
       "      <td>3</td>\n",
       "      <td>3</td>\n",
       "      <td>1</td>\n",
       "      <td>1</td>\n",
       "      <td>1</td>\n",
       "      <td>1</td>\n",
       "    </tr>\n",
       "    <tr>\n",
       "      <th>4</th>\n",
       "      <td>3</td>\n",
       "      <td>3</td>\n",
       "      <td>3</td>\n",
       "      <td>1</td>\n",
       "      <td>1</td>\n",
       "      <td>1</td>\n",
       "      <td>3</td>\n",
       "      <td>3</td>\n",
       "      <td>3</td>\n",
       "      <td>3</td>\n",
       "    </tr>\n",
       "    <tr>\n",
       "      <th>...</th>\n",
       "      <td>...</td>\n",
       "      <td>...</td>\n",
       "      <td>...</td>\n",
       "      <td>...</td>\n",
       "      <td>...</td>\n",
       "      <td>...</td>\n",
       "      <td>...</td>\n",
       "      <td>...</td>\n",
       "      <td>...</td>\n",
       "      <td>...</td>\n",
       "    </tr>\n",
       "    <tr>\n",
       "      <th>245</th>\n",
       "      <td>4</td>\n",
       "      <td>4</td>\n",
       "      <td>4</td>\n",
       "      <td>2</td>\n",
       "      <td>3</td>\n",
       "      <td>2</td>\n",
       "      <td>3</td>\n",
       "      <td>3</td>\n",
       "      <td>3</td>\n",
       "      <td>1</td>\n",
       "    </tr>\n",
       "    <tr>\n",
       "      <th>246</th>\n",
       "      <td>3</td>\n",
       "      <td>3</td>\n",
       "      <td>3</td>\n",
       "      <td>3</td>\n",
       "      <td>3</td>\n",
       "      <td>3</td>\n",
       "      <td>3</td>\n",
       "      <td>3</td>\n",
       "      <td>3</td>\n",
       "      <td>2</td>\n",
       "    </tr>\n",
       "    <tr>\n",
       "      <th>247</th>\n",
       "      <td>3</td>\n",
       "      <td>3</td>\n",
       "      <td>3</td>\n",
       "      <td>8</td>\n",
       "      <td>3</td>\n",
       "      <td>8</td>\n",
       "      <td>4</td>\n",
       "      <td>4</td>\n",
       "      <td>4</td>\n",
       "      <td>4</td>\n",
       "    </tr>\n",
       "    <tr>\n",
       "      <th>248</th>\n",
       "      <td>3</td>\n",
       "      <td>3</td>\n",
       "      <td>3</td>\n",
       "      <td>3</td>\n",
       "      <td>3</td>\n",
       "      <td>3</td>\n",
       "      <td>3</td>\n",
       "      <td>3</td>\n",
       "      <td>3</td>\n",
       "      <td>3</td>\n",
       "    </tr>\n",
       "    <tr>\n",
       "      <th>249</th>\n",
       "      <td>3</td>\n",
       "      <td>3</td>\n",
       "      <td>3</td>\n",
       "      <td>1</td>\n",
       "      <td>1</td>\n",
       "      <td>1</td>\n",
       "      <td>3</td>\n",
       "      <td>3</td>\n",
       "      <td>3</td>\n",
       "      <td>2</td>\n",
       "    </tr>\n",
       "  </tbody>\n",
       "</table>\n",
       "<p>250 rows × 10 columns</p>\n",
       "</div>"
      ],
      "text/plain": [
       "     uname_nb  uname_svm  uname_lr  desc_nb  desc_svm  desc_lr  tweets_nb  \\\n",
       "0           3          3         3        3         8        3          4   \n",
       "1           3          3         3        4         3        1          3   \n",
       "2           3          3         3        8         3        8          3   \n",
       "3           3          3         3        3         3        3          1   \n",
       "4           3          3         3        1         1        1          3   \n",
       "..        ...        ...       ...      ...       ...      ...        ...   \n",
       "245         4          4         4        2         3        2          3   \n",
       "246         3          3         3        3         3        3          3   \n",
       "247         3          3         3        8         3        8          4   \n",
       "248         3          3         3        3         3        3          3   \n",
       "249         3          3         3        1         1        1          3   \n",
       "\n",
       "     tweets_svm  tweets_lr  tweets_indoBERTweet  \n",
       "0             4          4                    1  \n",
       "1             3          3                    1  \n",
       "2             4          3                    1  \n",
       "3             1          1                    1  \n",
       "4             3          3                    3  \n",
       "..          ...        ...                  ...  \n",
       "245           3          3                    1  \n",
       "246           3          3                    2  \n",
       "247           4          4                    4  \n",
       "248           3          3                    3  \n",
       "249           3          3                    2  \n",
       "\n",
       "[250 rows x 10 columns]"
      ]
     },
     "execution_count": 319,
     "metadata": {},
     "output_type": "execute_result"
    }
   ],
   "source": [
    "vote_df = pd.DataFrame({'uname_nb': y_pred_uname[0], 'uname_svm':  y_pred_uname[1], 'uname_lr': y_pred_uname[2],\n",
    "                        'desc_nb': y_pred_desc[0], 'desc_svm':  y_pred_desc[1], 'desc_lr': y_pred_desc[2],\n",
    "                        'tweets_nb': y_pred_tweets[0]['Lpredict'].values, 'tweets_svm':  y_pred_tweets[1]['Lpredict'].values, 'tweets_lr': y_pred_tweets[2]['Lpredict'].values,\n",
    "                        'tweets_indoBERTweet' : indoBERTweetbestResults.Lpredict.values\n",
    "                       })\n",
    "vote_df"
   ]
  },
  {
   "cell_type": "code",
   "execution_count": 320,
   "metadata": {
    "ExecuteTime": {
     "end_time": "2022-03-14T01:26:44.930263Z",
     "start_time": "2022-03-14T01:26:44.596637Z"
    }
   },
   "outputs": [],
   "source": [
    "mode_nb = vote_df[['uname_nb', 'desc_nb', 'tweets_nb']].mode(axis=1)\n",
    "vote_df['majority_nb'] = np.where(mode_nb.isna().any(1), mode_nb[0], mode_nb[2])\n",
    "\n",
    "mode_svm = vote_df[['uname_svm', 'desc_svm', 'tweets_svm']].mode(axis=1)\n",
    "vote_df['majority_svm'] = np.where(mode_svm.isna().any(1), mode_svm[0], mode_svm[2])\n",
    "\n",
    "mode_lr = vote_df[['uname_lr', 'desc_lr', 'tweets_lr']].mode(axis=1)\n",
    "vote_df['majority_lr'] = np.where(mode_lr.isna().any(1), mode_lr[0], mode_lr[2])\n",
    "\n",
    "mode_indoBERTweet = vote_df[['uname_lr', 'desc_lr', 'tweets_indoBERTweet']].mode(axis=1)\n",
    "vote_df['majority_indoBERTweet'] = np.where(mode_indoBERTweet.isna().any(1), mode_indoBERTweet[0], mode_indoBERTweet[2])\n",
    "\n",
    "vote_df = vote_df.astype(int)"
   ]
  },
  {
   "cell_type": "code",
   "execution_count": 321,
   "metadata": {
    "ExecuteTime": {
     "end_time": "2022-03-14T01:26:45.506656Z",
     "start_time": "2022-03-14T01:26:45.483701Z"
    }
   },
   "outputs": [
    {
     "name": "stdout",
     "output_type": "stream",
     "text": [
      "Naive Bayes accuracy 0.4\n",
      "                            precision    recall  f1-score   support\n",
      "\n",
      "    bali dan nusa tenggara       1.00      0.15      0.27        26\n",
      "               jabodetabek       0.71      0.18      0.29        28\n",
      "     jawa barat dan banten       0.70      0.44      0.54        32\n",
      "jawa tengah dan yogyakarta       0.28      0.97      0.43        36\n",
      "                jawa timur       0.37      0.38      0.38        34\n",
      "                kalimantan       1.00      0.23      0.37        22\n",
      "          maluku dan papua       0.60      0.26      0.36        23\n",
      "                  sulawesi       1.00      0.30      0.46        20\n",
      "                  sumatera       0.36      0.45      0.40        29\n",
      "\n",
      "                  accuracy                           0.40       250\n",
      "                 macro avg       0.67      0.37      0.39       250\n",
      "              weighted avg       0.63      0.40      0.39       250\n",
      "\n",
      "SVM accuracy 0.4\n",
      "                            precision    recall  f1-score   support\n",
      "\n",
      "    bali dan nusa tenggara       1.00      0.19      0.32        26\n",
      "               jabodetabek       0.80      0.14      0.24        28\n",
      "     jawa barat dan banten       0.83      0.31      0.45        32\n",
      "jawa tengah dan yogyakarta       0.26      0.97      0.40        36\n",
      "                jawa timur       0.40      0.29      0.34        34\n",
      "                kalimantan       0.83      0.23      0.36        22\n",
      "          maluku dan papua       0.82      0.39      0.53        23\n",
      "                  sulawesi       1.00      0.35      0.52        20\n",
      "                  sumatera       0.36      0.52      0.42        29\n",
      "\n",
      "                  accuracy                           0.40       250\n",
      "                 macro avg       0.70      0.38      0.40       250\n",
      "              weighted avg       0.66      0.40      0.39       250\n",
      "\n",
      "LR accuracy 0.49\n",
      "                            precision    recall  f1-score   support\n",
      "\n",
      "    bali dan nusa tenggara       1.00      0.38      0.56        26\n",
      "               jabodetabek       0.75      0.21      0.33        28\n",
      "     jawa barat dan banten       0.74      0.44      0.55        32\n",
      "jawa tengah dan yogyakarta       0.33      0.94      0.49        36\n",
      "                jawa timur       0.39      0.47      0.43        34\n",
      "                kalimantan       0.86      0.27      0.41        22\n",
      "          maluku dan papua       0.75      0.52      0.62        23\n",
      "                  sulawesi       1.00      0.35      0.52        20\n",
      "                  sumatera       0.46      0.62      0.53        29\n",
      "\n",
      "                  accuracy                           0.49       250\n",
      "                 macro avg       0.70      0.47      0.49       250\n",
      "              weighted avg       0.66      0.49      0.49       250\n",
      "\n",
      "IndoBERTweet accuracy 0.48\n",
      "                            precision    recall  f1-score   support\n",
      "\n",
      "    bali dan nusa tenggara       0.89      0.31      0.46        26\n",
      "               jabodetabek       0.50      0.39      0.44        28\n",
      "     jawa barat dan banten       0.88      0.44      0.58        32\n",
      "jawa tengah dan yogyakarta       0.31      0.86      0.46        36\n",
      "                jawa timur       0.44      0.41      0.42        34\n",
      "                kalimantan       1.00      0.32      0.48        22\n",
      "          maluku dan papua       0.77      0.43      0.56        23\n",
      "                  sulawesi       1.00      0.30      0.46        20\n",
      "                  sumatera       0.39      0.62      0.48        29\n",
      "\n",
      "                  accuracy                           0.48       250\n",
      "                 macro avg       0.69      0.45      0.48       250\n",
      "              weighted avg       0.65      0.48      0.48       250\n",
      "\n"
     ]
    }
   ],
   "source": [
    "## Naive Bayes \n",
    "print('Naive Bayes accuracy %s' % round(accuracy_score(y_test_df, vote_df.majority_nb),2 ))\n",
    "print(classification_report(y_test_df, vote_df.majority_nb,target_names=label_names))\n",
    "\n",
    "## SVM\n",
    "print('SVM accuracy %s' % round(accuracy_score(y_test_df, vote_df.majority_svm),2 ))\n",
    "print(classification_report(y_test_df, vote_df.majority_svm,target_names=label_names))\n",
    "\n",
    "## LR \n",
    "\n",
    "print('LR accuracy %s' % round(accuracy_score(y_test_df, vote_df.majority_lr),2 ))\n",
    "print(classification_report(y_test_df, vote_df.majority_lr,target_names=label_names))\n",
    "\n",
    "## IndoBERTweet\n",
    "\n",
    "print('IndoBERTweet accuracy %s' % round(accuracy_score(y_test_df, vote_df.majority_indoBERTweet),2 ))\n",
    "print(classification_report(y_test_df, vote_df.majority_indoBERTweet,target_names=label_names))"
   ]
  },
  {
   "cell_type": "markdown",
   "metadata": {},
   "source": [
    "## Tweet Level Analysis"
   ]
  },
  {
   "cell_type": "code",
   "execution_count": 322,
   "metadata": {
    "ExecuteTime": {
     "end_time": "2022-03-14T01:30:29.388022Z",
     "start_time": "2022-03-14T01:30:29.380022Z"
    }
   },
   "outputs": [],
   "source": [
    "indoBERTweetResults_tweetlvl = pd.read_csv('bert_result/indoBERTweetTweetslevel.csv', index_col=0)"
   ]
  },
  {
   "cell_type": "code",
   "execution_count": 323,
   "metadata": {
    "ExecuteTime": {
     "end_time": "2022-03-14T01:30:39.696657Z",
     "start_time": "2022-03-14T01:30:39.691751Z"
    }
   },
   "outputs": [],
   "source": [
    "tweet_analysis['Lpredict_BERT'] = indoBERTweetResults_tweetlvl['0']"
   ]
  },
  {
   "cell_type": "code",
   "execution_count": 325,
   "metadata": {
    "ExecuteTime": {
     "end_time": "2022-03-14T01:34:49.641330Z",
     "start_time": "2022-03-14T01:34:49.544112Z"
    }
   },
   "outputs": [],
   "source": [
    "tweet_analysis.to_csv('periksaa.csv')"
   ]
  }
 ],
 "metadata": {
  "accelerator": "GPU",
  "colab": {
   "collapsed_sections": [],
   "machine_shape": "hm",
   "name": "Tweet_User_Location_PredictionVer2.ipynb",
   "provenance": [],
   "toc_visible": true
  },
  "kernelspec": {
   "display_name": "Python 3 (ipykernel)",
   "language": "python",
   "name": "python3"
  },
  "language_info": {
   "codemirror_mode": {
    "name": "ipython",
    "version": 3
   },
   "file_extension": ".py",
   "mimetype": "text/x-python",
   "name": "python",
   "nbconvert_exporter": "python",
   "pygments_lexer": "ipython3",
   "version": "3.8.10"
  },
  "toc": {
   "base_numbering": 1,
   "nav_menu": {
    "height": "229px",
    "width": "265px"
   },
   "number_sections": true,
   "sideBar": true,
   "skip_h1_title": false,
   "title_cell": "Table of Contents",
   "title_sidebar": "Contents",
   "toc_cell": false,
   "toc_position": {
    "height": "calc(100% - 180px)",
    "left": "10px",
    "top": "150px",
    "width": "273.188px"
   },
   "toc_section_display": true,
   "toc_window_display": true
  },
  "varInspector": {
   "cols": {
    "lenName": 16,
    "lenType": 16,
    "lenVar": 40
   },
   "kernels_config": {
    "python": {
     "delete_cmd_postfix": "",
     "delete_cmd_prefix": "del ",
     "library": "var_list.py",
     "varRefreshCmd": "print(var_dic_list())"
    },
    "r": {
     "delete_cmd_postfix": ") ",
     "delete_cmd_prefix": "rm(",
     "library": "var_list.r",
     "varRefreshCmd": "cat(var_dic_list()) "
    }
   },
   "types_to_exclude": [
    "module",
    "function",
    "builtin_function_or_method",
    "instance",
    "_Feature"
   ],
   "window_display": false
  }
 },
 "nbformat": 4,
 "nbformat_minor": 1
}
