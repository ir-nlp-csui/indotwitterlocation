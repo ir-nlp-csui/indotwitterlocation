{
 "cells": [
  {
   "cell_type": "markdown",
   "id": "bf39260a",
   "metadata": {},
   "source": [
    "## Library import"
   ]
  },
  {
   "cell_type": "code",
   "execution_count": 2,
   "id": "76fcfbfc",
   "metadata": {
    "ExecuteTime": {
     "end_time": "2022-03-13T11:56:08.991330Z",
     "start_time": "2022-03-13T11:56:08.988097Z"
    }
   },
   "outputs": [],
   "source": [
    "import pandas as pd\n",
    "import os\n",
    "import torch\n",
    "from torch.utils.data import Dataset, DataLoader, RandomSampler, SequentialSampler\n",
    "from torch import optim\n",
    "import torch.nn.functional as F\n",
    "from tqdm import tqdm\n",
    "from transformers import BertForSequenceClassification, BertConfig, BertTokenizer"
   ]
  },
  {
   "cell_type": "code",
   "execution_count": 3,
   "id": "3a02556d",
   "metadata": {
    "ExecuteTime": {
     "end_time": "2022-03-13T11:56:09.674955Z",
     "start_time": "2022-03-13T11:56:09.672230Z"
    },
    "scrolled": true
   },
   "outputs": [],
   "source": [
    "userPATH ='revision_dataset/'\n",
    "tweetPATH = 'revision_dataset/tweetAgg/'"
   ]
  },
  {
   "cell_type": "code",
   "execution_count": 4,
   "id": "425ef103",
   "metadata": {
    "ExecuteTime": {
     "end_time": "2022-03-13T11:56:10.279966Z",
     "start_time": "2022-03-13T11:56:10.267976Z"
    }
   },
   "outputs": [],
   "source": [
    "userlvltrain = pd.read_csv(userPATH+'/userlvltrain.csv')\n",
    "userlvltest = pd.read_csv(userPATH+'/userlvltest.csv')\n",
    "userlvlval = pd.read_csv(userPATH+'/userlvlval.csv')"
   ]
  },
  {
   "cell_type": "code",
   "execution_count": 5,
   "id": "ed2ad9a0",
   "metadata": {
    "ExecuteTime": {
     "end_time": "2022-03-13T11:56:11.006306Z",
     "start_time": "2022-03-13T11:56:10.908470Z"
    }
   },
   "outputs": [],
   "source": [
    "train_df = pd.read_csv(tweetPATH+'aggtrain_df.csv')\n",
    "train_df['userLocation'] = userlvltrain.userLocation\n",
    "test_df = pd.read_csv(tweetPATH+'aggtest_df.csv')\n",
    "test_df['userLocation'] = userlvltest.userLocation\n",
    "val_df = pd.read_csv(tweetPATH+'aggval_df.csv')\n",
    "val_df['userLocation'] = userlvlval.userLocation"
   ]
  },
  {
   "cell_type": "code",
   "execution_count": 6,
   "id": "dda8191a",
   "metadata": {
    "ExecuteTime": {
     "end_time": "2022-03-13T11:56:11.896155Z",
     "start_time": "2022-03-13T11:56:11.890550Z"
    },
    "code_folding": []
   },
   "outputs": [
    {
     "name": "stdout",
     "output_type": "stream",
     "text": [
      "{'bali dan nusa tenggara': 0, 'jabodetabek': 1, 'jawa barat dan banten': 2, 'jawa tengah dan yogyakarta': 3, 'jawa timur': 4, 'kalimantan': 5, 'maluku dan papua': 6, 'sulawesi': 7, 'sumatera': 8}\n",
      "{0: 'bali dan nusa tenggara', 1: 'jabodetabek', 2: 'jawa barat dan banten', 3: 'jawa tengah dan yogyakarta', 4: 'jawa timur', 5: 'kalimantan', 6: 'maluku dan papua', 7: 'sulawesi', 8: 'sumatera'}\n"
     ]
    }
   ],
   "source": [
    "# prepare data for BERT training and save in newdata/\n",
    "if not os.path.exists('newdata/'): \n",
    "    os.mkdir('newdata/')\n",
    "    train_df.to_csv('newdata/train.csv', index=False)\n",
    "    test_df.to_csv('newdata/test.csv', index=False)\n",
    "    val_df.to_csv('newdata/dev.csv', index=False)\n",
    "\n",
    "possible_labels = train_df.userLocation.unique()\n",
    "possible_labels.sort()\n",
    "label_dict = {}\n",
    "for index, possible_label in enumerate(possible_labels):\n",
    "    label_dict[possible_label] = index\n",
    "print(label_dict)\n",
    "inv_label_dict = {v: k for k, v in label_dict.items()}\n",
    "print(inv_label_dict)"
   ]
  },
  {
   "cell_type": "markdown",
   "id": "81e6de00",
   "metadata": {},
   "source": [
    "## Setting Cuda"
   ]
  },
  {
   "cell_type": "code",
   "execution_count": 7,
   "id": "be55f4ef",
   "metadata": {
    "ExecuteTime": {
     "end_time": "2022-03-13T11:56:14.802463Z",
     "start_time": "2022-03-13T11:56:13.512995Z"
    }
   },
   "outputs": [
    {
     "name": "stdout",
     "output_type": "stream",
     "text": [
      "Sun Mar 13 11:56:14 2022       \n",
      "+-----------------------------------------------------------------------------+\n",
      "| NVIDIA-SMI 418.126.02   Driver Version: 418.126.02   CUDA Version: 11.4     |\n",
      "|-------------------------------+----------------------+----------------------+\n",
      "| GPU  Name        Persistence-M| Bus-Id        Disp.A | Volatile Uncorr. ECC |\n",
      "| Fan  Temp  Perf  Pwr:Usage/Cap|         Memory-Usage | GPU-Util  Compute M. |\n",
      "|===============================+======================+======================|\n",
      "|   0  Tesla V100-SXM2...  On   | 00000000:06:00.0 Off |                    0 |\n",
      "| N/A   34C    P0    57W / 300W |  20179MiB / 32480MiB |      0%      Default |\n",
      "+-------------------------------+----------------------+----------------------+\n",
      "|   1  Tesla V100-SXM2...  On   | 00000000:07:00.0 Off |                    0 |\n",
      "| N/A   44C    P0   155W / 300W |  17467MiB / 32480MiB |     90%      Default |\n",
      "+-------------------------------+----------------------+----------------------+\n",
      "|   2  Tesla V100-SXM2...  On   | 00000000:0A:00.0 Off |                    0 |\n",
      "| N/A   48C    P0   156W / 300W |  16793MiB / 32480MiB |     91%      Default |\n",
      "+-------------------------------+----------------------+----------------------+\n",
      "|   3  Tesla V100-SXM2...  On   | 00000000:0B:00.0 Off |                    0 |\n",
      "| N/A   36C    P0    56W / 300W |  14986MiB / 32480MiB |      0%      Default |\n",
      "+-------------------------------+----------------------+----------------------+\n",
      "|   4  Tesla V100-SXM2...  On   | 00000000:85:00.0 Off |                    0 |\n",
      "| N/A   38C    P0    58W / 300W |  18580MiB / 32480MiB |      0%      Default |\n",
      "+-------------------------------+----------------------+----------------------+\n",
      "|   5  Tesla V100-SXM2...  On   | 00000000:86:00.0 Off |                    0 |\n",
      "| N/A   57C    P0   190W / 300W |  23512MiB / 32480MiB |     83%      Default |\n",
      "+-------------------------------+----------------------+----------------------+\n",
      "|   6  Tesla V100-SXM2...  On   | 00000000:89:00.0 Off |                    0 |\n",
      "| N/A   62C    P0   285W / 300W |  31129MiB / 32480MiB |     83%      Default |\n",
      "+-------------------------------+----------------------+----------------------+\n",
      "|   7  Tesla V100-SXM2...  On   | 00000000:8A:00.0 Off |                    0 |\n",
      "| N/A   34C    P0    55W / 300W |  30964MiB / 32480MiB |      0%      Default |\n",
      "+-------------------------------+----------------------+----------------------+\n",
      "                                                                               \n",
      "+-----------------------------------------------------------------------------+\n",
      "| Processes:                                                       GPU Memory |\n",
      "|  GPU       PID   Type   Process name                             Usage      |\n",
      "|=============================================================================|\n",
      "+-----------------------------------------------------------------------------+\n"
     ]
    }
   ],
   "source": [
    "!nvidia-smi"
   ]
  },
  {
   "cell_type": "code",
   "execution_count": 8,
   "id": "60d71a20",
   "metadata": {
    "ExecuteTime": {
     "end_time": "2022-03-13T11:56:48.876088Z",
     "start_time": "2022-03-13T11:56:48.686123Z"
    }
   },
   "outputs": [
    {
     "data": {
      "text/plain": [
       "3"
      ]
     },
     "execution_count": 8,
     "metadata": {},
     "output_type": "execute_result"
    }
   ],
   "source": [
    "torch.cuda.set_device(3)\n",
    "device = torch.device('cuda:3' if torch.cuda.is_available() else 'cpu')\n",
    "device_idx = \"cuda:3\"\n",
    "torch.cuda.current_device()"
   ]
  },
  {
   "cell_type": "code",
   "execution_count": 9,
   "id": "63848cd5",
   "metadata": {
    "ExecuteTime": {
     "end_time": "2022-03-13T11:56:52.518178Z",
     "start_time": "2022-03-13T11:56:52.498554Z"
    },
    "code_folding": [
     3,
     9,
     15,
     19,
     25,
     60,
     136,
     149,
     164
    ]
   },
   "outputs": [],
   "source": [
    "import random \n",
    "import numpy as np\n",
    "\n",
    "def set_seed(seed):\n",
    "    random.seed(seed)\n",
    "    np.random.seed(seed)\n",
    "    torch.manual_seed(seed)\n",
    "    torch.cuda.manual_seed(seed)\n",
    "    \n",
    "def count_param(module, trainable=False):\n",
    "    if trainable:\n",
    "        return sum(p.numel() for p in module.parameters() if p.requires_grad)\n",
    "    else:\n",
    "        return sum(p.numel() for p in module.parameters())\n",
    "    \n",
    "def get_lr(optimizer):\n",
    "    for param_group in optimizer.param_groups:\n",
    "        return param_group['lr']\n",
    "\n",
    "def metrics_to_string(metric_dict):\n",
    "    string_list = []\n",
    "    for key, value in metric_dict.items():\n",
    "        string_list.append('{}:{:.2f}'.format(key, value))\n",
    "    return ' '.join(string_list)\n",
    "\n",
    "def location_prediction_metrics(list_hyp, list_label):\n",
    "    metrics = {}\n",
    "    metrics[\"ACC\"] = accuracy_score(list_label, list_hyp)\n",
    "    metrics[\"F1\"] = f1_score(list_label, list_hyp, average='macro')\n",
    "    metrics[\"REC\"] = recall_score(list_label, list_hyp, average='macro')\n",
    "    metrics[\"PRE\"] = precision_score(list_label, list_hyp, average='macro')\n",
    "    return metrics\n",
    "\n",
    "\n",
    "class LocationPredictionDataset(Dataset):\n",
    "    # Static constant variable\n",
    "    LABEL2INDEX = label_dict\n",
    "    INDEX2LABEL = inv_label_dict\n",
    "    NUM_LABELS = 9\n",
    "    \n",
    "    def load_dataset(self, path): \n",
    "        df = pd.read_csv(path, sep=',')\n",
    "        # df.columns = ['screenName','tweets','userLocation', 'mentionedLocation','label', 'final_feat']\n",
    "        df['userLocation'] = df['userLocation'].apply(lambda lab: self.LABEL2INDEX[lab])\n",
    "        return df\n",
    "    \n",
    "    def __init__(self, dataset_path, tokenizer, no_special_token=False, *args, **kwargs):\n",
    "        self.data = self.load_dataset(dataset_path)\n",
    "        self.tokenizer = tokenizer\n",
    "        self.no_special_token = no_special_token\n",
    "    \n",
    "    def __getitem__(self, index):\n",
    "        data = self.data.loc[index,:]\n",
    "        tweets, labels = data['text'], data['userLocation']\n",
    "        subwords = self.tokenizer.encode(tweets, add_special_tokens=not self.no_special_token)\n",
    "        return np.array(subwords), np.array(labels), data['text']\n",
    "    \n",
    "    def __len__(self):\n",
    "        return len(self.data)    \n",
    "        \n",
    "class LocationPredictionDataLoader(DataLoader):\n",
    "    def __init__(self, max_seq_len=512, *args, **kwargs):\n",
    "        super(LocationPredictionDataLoader, self).__init__(*args, **kwargs)\n",
    "        self.collate_fn = self._collate_fn\n",
    "        self.max_seq_len = max_seq_len\n",
    "        \n",
    "    def _collate_fn(self, batch):\n",
    "        batch_size = len(batch)\n",
    "        max_seq_len = max(map(lambda x: len(x[0]), batch))\n",
    "        max_seq_len = min(self.max_seq_len, max_seq_len)\n",
    "        \n",
    "        subword_batch = np.zeros((batch_size, max_seq_len), dtype=np.int64)\n",
    "        mask_batch = np.zeros((batch_size, max_seq_len), dtype=np.float32)\n",
    "        class_batch = np.zeros((batch_size, 1), dtype=np.int64)\n",
    "        \n",
    "        seq_list = []\n",
    "        for i, (subwords, tagging, raw_seq) in enumerate(batch):\n",
    "            subwords = subwords[:max_seq_len]\n",
    "            subword_batch[i,:len(subwords)] = subwords\n",
    "            mask_batch[i,:len(subwords)] = 1\n",
    "            class_batch[i,0] = tagging\n",
    "            \n",
    "            seq_list.append(raw_seq)\n",
    "            \n",
    "        return subword_batch, mask_batch, class_batch, seq_list\n",
    "\n",
    "# Forward function for sequence classification\n",
    "def forward_sequence_classification(model, batch_data, i2w, is_test=False, device='cpu', **kwargs):\n",
    "    # Unpack batch data\n",
    "    if len(batch_data) == 3:\n",
    "        (subword_batch, mask_batch, label_batch) = batch_data\n",
    "        token_type_batch = None\n",
    "    elif len(batch_data) == 4:\n",
    "        (subword_batch, mask_batch, token_type_batch, label_batch) = batch_data\n",
    "    \n",
    "    # Prepare input & label\n",
    "    subword_batch = torch.LongTensor(subword_batch)\n",
    "    mask_batch = torch.FloatTensor(mask_batch)\n",
    "    token_type_batch = torch.LongTensor(token_type_batch) if token_type_batch is not None else None\n",
    "    label_batch = torch.LongTensor(label_batch)\n",
    "            \n",
    "    if device == device_idx:\n",
    "        subword_batch = subword_batch.cuda()\n",
    "        mask_batch = mask_batch.cuda()\n",
    "        token_type_batch = token_type_batch.cuda() if token_type_batch is not None else None\n",
    "        label_batch = label_batch.cuda()\n",
    "\n",
    "    # Forward model\n",
    "    outputs = model(subword_batch, attention_mask=mask_batch, token_type_ids=token_type_batch, labels=label_batch)\n",
    "    loss, logits = outputs[:2]\n",
    "    \n",
    "    # generate prediction & label list\n",
    "    list_hyp = []\n",
    "    list_label = []\n",
    "    hyp = torch.topk(logits, 1)[1]\n",
    "    for j in range(len(hyp)):\n",
    "        list_hyp.append(i2w[hyp[j].item()])\n",
    "        list_label.append(i2w[label_batch[j][0].item()])\n",
    "        \n",
    "    return loss, list_hyp, list_label\n",
    "\n",
    "# Save and Load Functions\n",
    "\n",
    "# pada fungsi ini dilakukan penyimpanan model, optimizer, dan validation loss\n",
    "def save_checkpoint(save_path, model, optimizer, valid_loss):\n",
    "\n",
    "    if save_path == None:\n",
    "        return\n",
    "    \n",
    "    state_dict = {'model_state_dict': model.state_dict(),\n",
    "                  'optimizer_state_dict': optimizer.state_dict(),\n",
    "                  'valid_loss': valid_loss}\n",
    "    \n",
    "    torch.save(state_dict, save_path)\n",
    "\n",
    "# untuk meload loss yang telah disimpan\n",
    "def load_checkpoint(load_path, model, optimizer):\n",
    "\n",
    "    if load_path==None:\n",
    "        return\n",
    "    \n",
    "    state_dict = torch.load(load_path, map_location=device)\n",
    "    \n",
    "    model.load_state_dict(state_dict['model_state_dict'])\n",
    "    optimizer.load_state_dict(state_dict['optimizer_state_dict'])\n",
    "    \n",
    "    return state_dict['valid_loss']\n",
    "\n",
    "# pada fungsi ini accuracy dan loss disimpan \n",
    "def save_metrics(save_path, train_acc_list, train_loss_list, valid_acc_list, valid_loss_list, epochs):\n",
    "\n",
    "    if save_path == None:\n",
    "        return\n",
    "    \n",
    "    state_dict = {'train_acc_list': train_acc_list,\n",
    "                  'train_loss_list': train_loss_list,\n",
    "                  'valid_acc_list': valid_acc_list,\n",
    "                  'valid_loss_list': valid_loss_list,\n",
    "                  'epochs_list': epochs}\n",
    "    \n",
    "    torch.save(state_dict, save_path)\n",
    "    # print(f'Model saved to ==> {save_path}')\n",
    "\n",
    "# fungsi untuk melakukan load accuracy dan loss \n",
    "def load_metrics(load_path): \n",
    "\n",
    "    if load_path==None:\n",
    "        return\n",
    "    state_dict = torch.load(load_path)    \n",
    "    \n",
    "    return state_dict['train_acc_list'],state_dict['train_loss_list'], state_dict['valid_acc_list'], state_dict['valid_loss_list'], state_dict['epochs_list']"
   ]
  },
  {
   "cell_type": "markdown",
   "id": "c221564c",
   "metadata": {},
   "source": [
    "## Prepare Dataset"
   ]
  },
  {
   "cell_type": "code",
   "execution_count": 10,
   "id": "a1a9df68",
   "metadata": {
    "ExecuteTime": {
     "end_time": "2022-03-13T11:57:09.668203Z",
     "start_time": "2022-03-13T11:56:53.808682Z"
    },
    "scrolled": true
   },
   "outputs": [
    {
     "name": "stderr",
     "output_type": "stream",
     "text": [
      "Some weights of the model checkpoint at indolem/indobert-base-uncased were not used when initializing BertForSequenceClassification: ['cls.predictions.decoder.bias', 'cls.predictions.decoder.weight', 'cls.predictions.transform.LayerNorm.weight', 'cls.predictions.transform.LayerNorm.bias', 'cls.predictions.transform.dense.weight', 'cls.predictions.bias', 'cls.predictions.transform.dense.bias']\n",
      "- This IS expected if you are initializing BertForSequenceClassification from the checkpoint of a model trained on another task or with another architecture (e.g. initializing a BertForSequenceClassification model from a BertForPreTraining model).\n",
      "- This IS NOT expected if you are initializing BertForSequenceClassification from the checkpoint of a model that you expect to be exactly identical (initializing a BertForSequenceClassification model from a BertForSequenceClassification model).\n",
      "Some weights of BertForSequenceClassification were not initialized from the model checkpoint at indolem/indobert-base-uncased and are newly initialized: ['classifier.weight', 'classifier.bias']\n",
      "You should probably TRAIN this model on a down-stream task to be able to use it for predictions and inference.\n"
     ]
    }
   ],
   "source": [
    "set_seed(42)\n",
    "\n",
    "#Load Tokenizer and Config\n",
    "tokenizer = BertTokenizer.from_pretrained('indolem/indobert-base-uncased')\n",
    "config = BertConfig.from_pretrained('indolem/indobert-base-uncased',\n",
    "                                    attention_probs_dropout_prob=0.3,\n",
    "                                    hidden_dropout_prob=0.3)\n",
    "config.num_labels = LocationPredictionDataset.NUM_LABELS\n",
    "\n",
    "# Instantiate model\n",
    "model = BertForSequenceClassification.from_pretrained('indolem/indobert-base-uncased', \n",
    "                                                      config=config)\n",
    "\n",
    "train_dataset = LocationPredictionDataset(\"newdata/train.csv\", tokenizer, lowercase=True)\n",
    "valid_dataset = LocationPredictionDataset(\"newdata/dev.csv\", tokenizer, lowercase=True)\n",
    "test_dataset = LocationPredictionDataset(\"newdata/test.csv\", tokenizer, lowercase=True)\n",
    "\n",
    "\n",
    "learning_rate = 2e-5\n",
    "batch_size = 16\n",
    "epochs = 7\n",
    "\n",
    "train_loader = LocationPredictionDataLoader(dataset=train_dataset, max_seq_len=512, batch_size=batch_size, num_workers=16, shuffle=True)  \n",
    "valid_loader = LocationPredictionDataLoader(dataset=valid_dataset, max_seq_len=512, batch_size=batch_size, num_workers=16, shuffle=False)  \n",
    "test_loader = LocationPredictionDataLoader(dataset=test_dataset, max_seq_len=512, batch_size=batch_size, num_workers=16, shuffle=False)"
   ]
  },
  {
   "cell_type": "code",
   "execution_count": 11,
   "id": "93deaa87",
   "metadata": {
    "ExecuteTime": {
     "end_time": "2022-03-13T11:58:11.111075Z",
     "start_time": "2022-03-13T11:58:11.107812Z"
    },
    "scrolled": true
   },
   "outputs": [
    {
     "name": "stdout",
     "output_type": "stream",
     "text": [
      "{'bali dan nusa tenggara': 0, 'jabodetabek': 1, 'jawa barat dan banten': 2, 'jawa tengah dan yogyakarta': 3, 'jawa timur': 4, 'kalimantan': 5, 'maluku dan papua': 6, 'sulawesi': 7, 'sumatera': 8} \n",
      " {0: 'bali dan nusa tenggara', 1: 'jabodetabek', 2: 'jawa barat dan banten', 3: 'jawa tengah dan yogyakarta', 4: 'jawa timur', 5: 'kalimantan', 6: 'maluku dan papua', 7: 'sulawesi', 8: 'sumatera'}\n"
     ]
    }
   ],
   "source": [
    "w2i, i2w = LocationPredictionDataset.LABEL2INDEX, LocationPredictionDataset.INDEX2LABEL\n",
    "print(w2i, '\\n', i2w)"
   ]
  },
  {
   "cell_type": "markdown",
   "id": "592ffe50",
   "metadata": {},
   "source": [
    "## Fine Tuning and Evaluation"
   ]
  },
  {
   "cell_type": "code",
   "execution_count": 12,
   "id": "b4b53fc5",
   "metadata": {
    "ExecuteTime": {
     "end_time": "2022-03-13T11:58:17.669007Z",
     "start_time": "2022-03-13T11:58:14.785034Z"
    }
   },
   "outputs": [],
   "source": [
    "torch.cuda.empty_cache()\n",
    "optimizer = optim.AdamW(model.parameters(), lr=learning_rate)\n",
    "model = model.to(device)"
   ]
  },
  {
   "cell_type": "markdown",
   "id": "dd349790",
   "metadata": {},
   "source": [
    "### training"
   ]
  },
  {
   "cell_type": "code",
   "execution_count": 13,
   "id": "5c2fb9ec",
   "metadata": {
    "ExecuteTime": {
     "end_time": "2022-03-13T11:58:43.912902Z",
     "start_time": "2022-03-13T11:58:43.909009Z"
    }
   },
   "outputs": [],
   "source": [
    "file_path = 'saved_model_agg/'\n",
    "if not os.path.exists(file_path): \n",
    "    os.mkdir(file_path)\n",
    "\n",
    "model_name = 'indoLEM_model'\n",
    "metrics_name = 'indoLEM_metrics'\n",
    "\n",
    "model_path = file_path+model_name+'_'+str(batch_size)+'_'+str(epochs)+'_'+str(learning_rate)+'.pt'\n",
    "metrics_path = file_path+metrics_name+'_'+str(batch_size)+'_'+str(epochs)+'_'+str(learning_rate)+'.pt'"
   ]
  },
  {
   "cell_type": "code",
   "execution_count": 14,
   "id": "a2972f4e",
   "metadata": {
    "ExecuteTime": {
     "end_time": "2022-03-13T12:02:43.267526Z",
     "start_time": "2022-03-13T11:58:43.920878Z"
    }
   },
   "outputs": [
    {
     "name": "stderr",
     "output_type": "stream",
     "text": [
      "(Epoch 1) TRAIN LOSS:2.2229 LR:0.00002000: 100%|██████████| 57/57 [00:30<00:00,  1.90it/s]\n"
     ]
    },
    {
     "name": "stdout",
     "output_type": "stream",
     "text": [
      "(Epoch 1) TRAIN LOSS:2.2229 ACC:0.13 F1:0.11 REC:0.12 PRE:0.14 LR:0.00002000\n"
     ]
    },
    {
     "name": "stderr",
     "output_type": "stream",
     "text": [
      "  0%|          | 0/7 [00:00<?, ?it/s]/opt/conda/lib/python3.8/site-packages/sklearn/metrics/_classification.py:1248: UndefinedMetricWarning: Precision is ill-defined and being set to 0.0 in labels with no predicted samples. Use `zero_division` parameter to control this behavior.\n",
      "  _warn_prf(average, modifier, msg_start, len(result))\n",
      "VALID LOSS:2.1107 ACC:0.25 F1:0.05 REC:0.10 PRE:0.03:  14%|█▍        | 1/7 [00:01<00:08,  1.48s/it]/opt/conda/lib/python3.8/site-packages/sklearn/metrics/_classification.py:1248: UndefinedMetricWarning: Precision is ill-defined and being set to 0.0 in labels with no predicted samples. Use `zero_division` parameter to control this behavior.\n",
      "  _warn_prf(average, modifier, msg_start, len(result))\n",
      "VALID LOSS:2.1726 ACC:0.16 F1:0.03 REC:0.08 PRE:0.02:  29%|██▊       | 2/7 [00:01<00:03,  1.42it/s]/opt/conda/lib/python3.8/site-packages/sklearn/metrics/_classification.py:1248: UndefinedMetricWarning: Precision is ill-defined and being set to 0.0 in labels with no predicted samples. Use `zero_division` parameter to control this behavior.\n",
      "  _warn_prf(average, modifier, msg_start, len(result))\n",
      "VALID LOSS:2.1861 ACC:0.10 F1:0.02 REC:0.08 PRE:0.01:  43%|████▎     | 3/7 [00:01<00:01,  2.17it/s]/opt/conda/lib/python3.8/site-packages/sklearn/metrics/_classification.py:1248: UndefinedMetricWarning: Precision is ill-defined and being set to 0.0 in labels with no predicted samples. Use `zero_division` parameter to control this behavior.\n",
      "  _warn_prf(average, modifier, msg_start, len(result))\n",
      "VALID LOSS:2.2016 ACC:0.09 F1:0.02 REC:0.07 PRE:0.01:  57%|█████▋    | 4/7 [00:01<00:01,  2.90it/s]/opt/conda/lib/python3.8/site-packages/sklearn/metrics/_classification.py:1248: UndefinedMetricWarning: Precision is ill-defined and being set to 0.0 in labels with no predicted samples. Use `zero_division` parameter to control this behavior.\n",
      "  _warn_prf(average, modifier, msg_start, len(result))\n",
      "VALID LOSS:2.1848 ACC:0.11 F1:0.02 REC:0.08 PRE:0.01:  71%|███████▏  | 5/7 [00:02<00:00,  3.56it/s]/opt/conda/lib/python3.8/site-packages/sklearn/metrics/_classification.py:1248: UndefinedMetricWarning: Precision is ill-defined and being set to 0.0 in labels with no predicted samples. Use `zero_division` parameter to control this behavior.\n",
      "  _warn_prf(average, modifier, msg_start, len(result))\n",
      "VALID LOSS:2.1813 ACC:0.10 F1:0.02 REC:0.09 PRE:0.01:  86%|████████▌ | 6/7 [00:02<00:00,  4.11it/s]/opt/conda/lib/python3.8/site-packages/sklearn/metrics/_classification.py:1248: UndefinedMetricWarning: Precision is ill-defined and being set to 0.0 in labels with no predicted samples. Use `zero_division` parameter to control this behavior.\n",
      "  _warn_prf(average, modifier, msg_start, len(result))\n",
      "VALID LOSS:2.2048 ACC:0.10 F1:0.02 REC:0.09 PRE:0.01: 100%|██████████| 7/7 [00:02<00:00,  2.86it/s]\n",
      "/opt/conda/lib/python3.8/site-packages/sklearn/metrics/_classification.py:1248: UndefinedMetricWarning: Precision is ill-defined and being set to 0.0 in labels with no predicted samples. Use `zero_division` parameter to control this behavior.\n",
      "  _warn_prf(average, modifier, msg_start, len(result))\n"
     ]
    },
    {
     "name": "stdout",
     "output_type": "stream",
     "text": [
      "(Epoch 1) VALID LOSS:2.2048 ACC:0.10 F1:0.02 REC:0.09 PRE:0.01\n"
     ]
    },
    {
     "name": "stderr",
     "output_type": "stream",
     "text": [
      "(Epoch 2) TRAIN LOSS:2.1888 LR:0.00002000: 100%|██████████| 57/57 [00:29<00:00,  1.95it/s]\n"
     ]
    },
    {
     "name": "stdout",
     "output_type": "stream",
     "text": [
      "(Epoch 2) TRAIN LOSS:2.1888 ACC:0.14 F1:0.10 REC:0.12 PRE:0.14 LR:0.00002000\n"
     ]
    },
    {
     "name": "stderr",
     "output_type": "stream",
     "text": [
      "  0%|          | 0/7 [00:00<?, ?it/s]/opt/conda/lib/python3.8/site-packages/sklearn/metrics/_classification.py:1248: UndefinedMetricWarning: Recall is ill-defined and being set to 0.0 in labels with no true samples. Use `zero_division` parameter to control this behavior.\n",
      "  _warn_prf(average, modifier, msg_start, len(result))\n",
      "/opt/conda/lib/python3.8/site-packages/sklearn/metrics/_classification.py:1248: UndefinedMetricWarning: Precision is ill-defined and being set to 0.0 in labels with no predicted samples. Use `zero_division` parameter to control this behavior.\n",
      "  _warn_prf(average, modifier, msg_start, len(result))\n",
      "VALID LOSS:2.1535 ACC:0.12 F1:0.03 REC:0.11 PRE:0.02:  14%|█▍        | 1/7 [00:01<00:08,  1.39s/it]/opt/conda/lib/python3.8/site-packages/sklearn/metrics/_classification.py:1248: UndefinedMetricWarning: Precision is ill-defined and being set to 0.0 in labels with no predicted samples. Use `zero_division` parameter to control this behavior.\n",
      "  _warn_prf(average, modifier, msg_start, len(result))\n",
      "VALID LOSS:2.2036 ACC:0.16 F1:0.09 REC:0.22 PRE:0.06:  29%|██▊       | 2/7 [00:01<00:03,  1.49it/s]/opt/conda/lib/python3.8/site-packages/sklearn/metrics/_classification.py:1248: UndefinedMetricWarning: Precision is ill-defined and being set to 0.0 in labels with no predicted samples. Use `zero_division` parameter to control this behavior.\n",
      "  _warn_prf(average, modifier, msg_start, len(result))\n",
      "VALID LOSS:2.2052 ACC:0.12 F1:0.08 REC:0.19 PRE:0.07:  43%|████▎     | 3/7 [00:01<00:01,  2.27it/s]/opt/conda/lib/python3.8/site-packages/sklearn/metrics/_classification.py:1248: UndefinedMetricWarning: Precision is ill-defined and being set to 0.0 in labels with no predicted samples. Use `zero_division` parameter to control this behavior.\n",
      "  _warn_prf(average, modifier, msg_start, len(result))\n",
      "VALID LOSS:2.1900 ACC:0.16 F1:0.08 REC:0.18 PRE:0.07:  57%|█████▋    | 4/7 [00:01<00:01,  3.00it/s]/opt/conda/lib/python3.8/site-packages/sklearn/metrics/_classification.py:1248: UndefinedMetricWarning: Precision is ill-defined and being set to 0.0 in labels with no predicted samples. Use `zero_division` parameter to control this behavior.\n",
      "  _warn_prf(average, modifier, msg_start, len(result))\n",
      "VALID LOSS:2.1887 ACC:0.14 F1:0.08 REC:0.18 PRE:0.07:  71%|███████▏  | 5/7 [00:02<00:00,  3.64it/s]/opt/conda/lib/python3.8/site-packages/sklearn/metrics/_classification.py:1248: UndefinedMetricWarning: Precision is ill-defined and being set to 0.0 in labels with no predicted samples. Use `zero_division` parameter to control this behavior.\n",
      "  _warn_prf(average, modifier, msg_start, len(result))\n",
      "VALID LOSS:2.1664 ACC:0.17 F1:0.10 REC:0.19 PRE:0.13:  86%|████████▌ | 6/7 [00:02<00:00,  4.19it/s]/opt/conda/lib/python3.8/site-packages/sklearn/metrics/_classification.py:1248: UndefinedMetricWarning: Precision is ill-defined and being set to 0.0 in labels with no predicted samples. Use `zero_division` parameter to control this behavior.\n",
      "  _warn_prf(average, modifier, msg_start, len(result))\n",
      "VALID LOSS:2.1393 ACC:0.18 F1:0.11 REC:0.19 PRE:0.13: 100%|██████████| 7/7 [00:02<00:00,  2.97it/s]\n",
      "/opt/conda/lib/python3.8/site-packages/sklearn/metrics/_classification.py:1248: UndefinedMetricWarning: Precision is ill-defined and being set to 0.0 in labels with no predicted samples. Use `zero_division` parameter to control this behavior.\n",
      "  _warn_prf(average, modifier, msg_start, len(result))\n"
     ]
    },
    {
     "name": "stdout",
     "output_type": "stream",
     "text": [
      "(Epoch 2) VALID LOSS:2.1393 ACC:0.18 F1:0.11 REC:0.19 PRE:0.13\n"
     ]
    },
    {
     "name": "stderr",
     "output_type": "stream",
     "text": [
      "(Epoch 3) TRAIN LOSS:2.0601 LR:0.00002000: 100%|██████████| 57/57 [00:29<00:00,  1.95it/s]\n"
     ]
    },
    {
     "name": "stdout",
     "output_type": "stream",
     "text": [
      "(Epoch 3) TRAIN LOSS:2.0601 ACC:0.23 F1:0.21 REC:0.22 PRE:0.28 LR:0.00002000\n"
     ]
    },
    {
     "name": "stderr",
     "output_type": "stream",
     "text": [
      "  0%|          | 0/7 [00:00<?, ?it/s]/opt/conda/lib/python3.8/site-packages/sklearn/metrics/_classification.py:1248: UndefinedMetricWarning: Precision is ill-defined and being set to 0.0 in labels with no predicted samples. Use `zero_division` parameter to control this behavior.\n",
      "  _warn_prf(average, modifier, msg_start, len(result))\n",
      "VALID LOSS:2.0435 ACC:0.19 F1:0.04 REC:0.12 PRE:0.03:  14%|█▍        | 1/7 [00:01<00:08,  1.48s/it]/opt/conda/lib/python3.8/site-packages/sklearn/metrics/_classification.py:1248: UndefinedMetricWarning: Precision is ill-defined and being set to 0.0 in labels with no predicted samples. Use `zero_division` parameter to control this behavior.\n",
      "  _warn_prf(average, modifier, msg_start, len(result))\n",
      "VALID LOSS:1.8835 ACC:0.31 F1:0.23 REC:0.29 PRE:0.26:  29%|██▊       | 2/7 [00:01<00:03,  1.41it/s]/opt/conda/lib/python3.8/site-packages/sklearn/metrics/_classification.py:1248: UndefinedMetricWarning: Precision is ill-defined and being set to 0.0 in labels with no predicted samples. Use `zero_division` parameter to control this behavior.\n",
      "  _warn_prf(average, modifier, msg_start, len(result))\n",
      "VALID LOSS:1.7419 ACC:0.42 F1:0.30 REC:0.34 PRE:0.41:  43%|████▎     | 3/7 [00:01<00:01,  2.16it/s]/opt/conda/lib/python3.8/site-packages/sklearn/metrics/_classification.py:1248: UndefinedMetricWarning: Precision is ill-defined and being set to 0.0 in labels with no predicted samples. Use `zero_division` parameter to control this behavior.\n",
      "  _warn_prf(average, modifier, msg_start, len(result))\n",
      "VALID LOSS:1.8081 ACC:0.39 F1:0.31 REC:0.33 PRE:0.46:  57%|█████▋    | 4/7 [00:01<00:01,  2.88it/s]/opt/conda/lib/python3.8/site-packages/sklearn/metrics/_classification.py:1248: UndefinedMetricWarning: Precision is ill-defined and being set to 0.0 in labels with no predicted samples. Use `zero_division` parameter to control this behavior.\n",
      "  _warn_prf(average, modifier, msg_start, len(result))\n",
      "VALID LOSS:1.8053 ACC:0.35 F1:0.31 REC:0.34 PRE:0.45:  71%|███████▏  | 5/7 [00:02<00:00,  3.53it/s]/opt/conda/lib/python3.8/site-packages/sklearn/metrics/_classification.py:1248: UndefinedMetricWarning: Precision is ill-defined and being set to 0.0 in labels with no predicted samples. Use `zero_division` parameter to control this behavior.\n",
      "  _warn_prf(average, modifier, msg_start, len(result))\n",
      "VALID LOSS:1.8103 ACC:0.33 F1:0.31 REC:0.33 PRE:0.55:  86%|████████▌ | 6/7 [00:02<00:00,  4.09it/s]/opt/conda/lib/python3.8/site-packages/sklearn/metrics/_classification.py:1248: UndefinedMetricWarning: Precision is ill-defined and being set to 0.0 in labels with no predicted samples. Use `zero_division` parameter to control this behavior.\n",
      "  _warn_prf(average, modifier, msg_start, len(result))\n",
      "VALID LOSS:1.8641 ACC:0.32 F1:0.30 REC:0.33 PRE:0.54: 100%|██████████| 7/7 [00:02<00:00,  2.85it/s]\n",
      "/opt/conda/lib/python3.8/site-packages/sklearn/metrics/_classification.py:1248: UndefinedMetricWarning: Precision is ill-defined and being set to 0.0 in labels with no predicted samples. Use `zero_division` parameter to control this behavior.\n",
      "  _warn_prf(average, modifier, msg_start, len(result))\n"
     ]
    },
    {
     "name": "stdout",
     "output_type": "stream",
     "text": [
      "(Epoch 3) VALID LOSS:1.8641 ACC:0.32 F1:0.30 REC:0.33 PRE:0.54\n"
     ]
    },
    {
     "name": "stderr",
     "output_type": "stream",
     "text": [
      "(Epoch 4) TRAIN LOSS:1.4674 LR:0.00002000: 100%|██████████| 57/57 [00:29<00:00,  1.94it/s]\n"
     ]
    },
    {
     "name": "stdout",
     "output_type": "stream",
     "text": [
      "(Epoch 4) TRAIN LOSS:1.4674 ACC:0.60 F1:0.61 REC:0.60 PRE:0.64 LR:0.00002000\n"
     ]
    },
    {
     "name": "stderr",
     "output_type": "stream",
     "text": [
      "VALID LOSS:1.1819 ACC:0.69 F1:0.69 REC:0.69 PRE:0.70: 100%|██████████| 7/7 [00:02<00:00,  2.84it/s]\n"
     ]
    },
    {
     "name": "stdout",
     "output_type": "stream",
     "text": [
      "(Epoch 4) VALID LOSS:1.1819 ACC:0.69 F1:0.69 REC:0.69 PRE:0.70\n"
     ]
    },
    {
     "name": "stderr",
     "output_type": "stream",
     "text": [
      "(Epoch 5) TRAIN LOSS:0.9443 LR:0.00002000: 100%|██████████| 57/57 [00:29<00:00,  1.93it/s]\n"
     ]
    },
    {
     "name": "stdout",
     "output_type": "stream",
     "text": [
      "(Epoch 5) TRAIN LOSS:0.9443 ACC:0.76 F1:0.77 REC:0.77 PRE:0.78 LR:0.00002000\n"
     ]
    },
    {
     "name": "stderr",
     "output_type": "stream",
     "text": [
      "  0%|          | 0/7 [00:00<?, ?it/s]/opt/conda/lib/python3.8/site-packages/sklearn/metrics/_classification.py:1248: UndefinedMetricWarning: Precision is ill-defined and being set to 0.0 in labels with no predicted samples. Use `zero_division` parameter to control this behavior.\n",
      "  _warn_prf(average, modifier, msg_start, len(result))\n",
      "VALID LOSS:0.9149 ACC:0.73 F1:0.73 REC:0.73 PRE:0.74: 100%|██████████| 7/7 [00:02<00:00,  2.89it/s]\n"
     ]
    },
    {
     "name": "stdout",
     "output_type": "stream",
     "text": [
      "(Epoch 5) VALID LOSS:0.9149 ACC:0.73 F1:0.73 REC:0.73 PRE:0.74\n"
     ]
    },
    {
     "name": "stderr",
     "output_type": "stream",
     "text": [
      "(Epoch 6) TRAIN LOSS:0.7792 LR:0.00002000: 100%|██████████| 57/57 [00:29<00:00,  1.94it/s]\n"
     ]
    },
    {
     "name": "stdout",
     "output_type": "stream",
     "text": [
      "(Epoch 6) TRAIN LOSS:0.7792 ACC:0.79 F1:0.80 REC:0.79 PRE:0.81 LR:0.00002000\n"
     ]
    },
    {
     "name": "stderr",
     "output_type": "stream",
     "text": [
      "  0%|          | 0/7 [00:00<?, ?it/s]/opt/conda/lib/python3.8/site-packages/sklearn/metrics/_classification.py:1248: UndefinedMetricWarning: Precision is ill-defined and being set to 0.0 in labels with no predicted samples. Use `zero_division` parameter to control this behavior.\n",
      "  _warn_prf(average, modifier, msg_start, len(result))\n",
      "VALID LOSS:0.9677 ACC:0.72 F1:0.72 REC:0.72 PRE:0.74: 100%|██████████| 7/7 [00:02<00:00,  2.89it/s]\n"
     ]
    },
    {
     "name": "stdout",
     "output_type": "stream",
     "text": [
      "(Epoch 6) VALID LOSS:0.9677 ACC:0.72 F1:0.72 REC:0.72 PRE:0.74\n"
     ]
    },
    {
     "name": "stderr",
     "output_type": "stream",
     "text": [
      "(Epoch 7) TRAIN LOSS:0.6596 LR:0.00002000: 100%|██████████| 57/57 [00:29<00:00,  1.94it/s]\n"
     ]
    },
    {
     "name": "stdout",
     "output_type": "stream",
     "text": [
      "(Epoch 7) TRAIN LOSS:0.6596 ACC:0.81 F1:0.82 REC:0.82 PRE:0.82 LR:0.00002000\n"
     ]
    },
    {
     "name": "stderr",
     "output_type": "stream",
     "text": [
      "  0%|          | 0/7 [00:00<?, ?it/s]/opt/conda/lib/python3.8/site-packages/sklearn/metrics/_classification.py:1248: UndefinedMetricWarning: Precision is ill-defined and being set to 0.0 in labels with no predicted samples. Use `zero_division` parameter to control this behavior.\n",
      "  _warn_prf(average, modifier, msg_start, len(result))\n",
      "VALID LOSS:1.0067 ACC:0.75 F1:0.75 REC:0.75 PRE:0.77: 100%|██████████| 7/7 [00:02<00:00,  2.96it/s]"
     ]
    },
    {
     "name": "stdout",
     "output_type": "stream",
     "text": [
      "(Epoch 7) VALID LOSS:1.0067 ACC:0.75 F1:0.75 REC:0.75 PRE:0.77\n",
      "Done Training!\n"
     ]
    },
    {
     "name": "stderr",
     "output_type": "stream",
     "text": [
      "\n"
     ]
    }
   ],
   "source": [
    "from sklearn.metrics import accuracy_score, f1_score, recall_score, precision_score\n",
    "\n",
    "# list untuk menyimpan data metrics setiap training, untuk memudahkan \n",
    "# menampilkan dalam grafik\n",
    "train_acc_list = [] \n",
    "train_loss_list = []\n",
    "valid_acc_list = [] \n",
    "valid_loss_list = []\n",
    "epochs_list = []\n",
    "\n",
    "best_valid_loss = float(\"Inf\")\n",
    "\n",
    "# Train\n",
    "n_epochs = epochs\n",
    "for epoch in range(n_epochs):\n",
    "    torch.cuda.empty_cache()\n",
    "    model.train()\n",
    "    torch.set_grad_enabled(True)\n",
    " \n",
    "    total_train_loss = 0\n",
    "    list_hyp, list_label = [], []\n",
    "\n",
    "    train_pbar = tqdm(train_loader, leave=True, total=len(train_loader))\n",
    "\n",
    "    for i, batch_data in enumerate(train_pbar):\n",
    "        # Forward model\n",
    "        loss, batch_hyp, batch_label = forward_sequence_classification(model, batch_data[:-1], i2w=i2w, \n",
    "                                                                       device=device_idx)\n",
    "\n",
    "        # Update model\n",
    "        optimizer.zero_grad()\n",
    "        loss.backward()\n",
    "        optimizer.step()\n",
    "\n",
    "        tr_loss = loss.item()\n",
    "        total_train_loss = total_train_loss + tr_loss\n",
    "\n",
    "        # Calculate metrics\n",
    "        list_hyp += batch_hyp\n",
    "        list_label += batch_label\n",
    "\n",
    "        train_pbar.set_description(\"(Epoch {}) TRAIN LOSS:{:.4f} LR:{:.8f}\".format((epoch+1),\n",
    "            total_train_loss/(i+1), get_lr(optimizer)))\n",
    "\n",
    "    # Calculate train metric\n",
    "    metrics = location_prediction_metrics(list_hyp, list_label)\n",
    "    print(\"(Epoch {}) TRAIN LOSS:{:.4f} {} LR:{:.8f}\".format((epoch+1),\n",
    "        total_train_loss/(i+1), metrics_to_string(metrics), get_lr(optimizer)))\n",
    "    \n",
    "    train_loss_list.append(total_train_loss/(i+1))\n",
    "    train_acc_list.append(metrics['ACC'])\n",
    "    epochs_list.append(epoch)\n",
    "\n",
    "\n",
    "    # Evaluate on validation\n",
    "    model.eval()\n",
    "    torch.set_grad_enabled(False)\n",
    "    \n",
    "    total_loss, total_correct, total_labels = 0, 0, 0\n",
    "    list_hyp, list_label = [], []\n",
    "\n",
    "    pbar = tqdm(valid_loader, leave=True, total=len(valid_loader))\n",
    "\n",
    "    for i, batch_data in enumerate(pbar):\n",
    "        batch_seq = batch_data[-1]        \n",
    "        loss, batch_hyp, batch_label = forward_sequence_classification(model, batch_data[:-1], i2w=i2w, \n",
    "                                                                       device=device_idx)\n",
    "        \n",
    "        # Calculate total loss\n",
    "        valid_loss = loss.item()\n",
    "        total_loss = total_loss + valid_loss\n",
    "\n",
    "        # Calculate evaluation metrics\n",
    "        list_hyp += batch_hyp\n",
    "        list_label += batch_label\n",
    "        metrics = location_prediction_metrics(list_hyp, list_label)\n",
    "\n",
    "        pbar.set_description(\"VALID LOSS:{:.4f} {}\".format(total_loss/(i+1), metrics_to_string(metrics)))\n",
    "        \n",
    "    metrics = location_prediction_metrics(list_hyp, list_label)\n",
    "    print(\"(Epoch {}) VALID LOSS:{:.4f} {}\".format((epoch+1),\n",
    "        total_loss/(i+1), metrics_to_string(metrics)))\n",
    "    \n",
    "    valid_loss_list.append(total_loss/(i+1))\n",
    "    valid_acc_list.append(metrics['ACC'])\n",
    "\n",
    "    # checkpoint, untuk menyimpan validation loss dan metrics yang paling baik untuk seluruh epochs \n",
    "    if best_valid_loss > total_loss/(i+1):\n",
    "      best_valid_loss = total_loss/(i+1)\n",
    "      save_checkpoint(model_path, model, optimizer, best_valid_loss)\n",
    "\n",
    "save_metrics(metrics_path, train_acc_list, train_loss_list, valid_acc_list, valid_loss_list, epochs_list)\n",
    "print('Done Training!')"
   ]
  },
  {
   "cell_type": "code",
   "execution_count": 15,
   "id": "1f81c125",
   "metadata": {
    "ExecuteTime": {
     "end_time": "2022-03-13T12:02:43.780829Z",
     "start_time": "2022-03-13T12:02:43.270342Z"
    }
   },
   "outputs": [
    {
     "data": {
      "image/png": "[encoded data removed]",
      "text/plain": [
       "<Figure size 720x360 with 2 Axes>"
      ]
     },
     "metadata": {
      "needs_background": "light"
     },
     "output_type": "display_data"
    }
   ],
   "source": [
    "#  ## menampilkan history metrics akurasi dan loss \n",
    "import matplotlib.pyplot as plt\n",
    "\n",
    "train_acc_list, train_loss_list, valid_acc_list, valid_loss_list, epochs_list = load_metrics(metrics_path)\n",
    "fig, (ax1, ax2) = plt.subplots(1,2, figsize=(10,5))\n",
    "\n",
    "ax1.plot(epochs_list, train_acc_list, label='Train')\n",
    "ax1.plot(epochs_list, valid_acc_list, label='Valid')\n",
    "ax1.set_xlabel('Epochs')\n",
    "ax1.set_ylabel('Accuracy')\n",
    "ax1.legend()\n",
    "\n",
    "ax2.plot(epochs_list, train_loss_list, label='Train')\n",
    "ax2.plot(epochs_list, valid_loss_list, label='Valid')\n",
    "ax2.set_xlabel('Epochs')\n",
    "ax2.set_ylabel('Loss')\n",
    "ax2.legend()\n",
    "plt.show() "
   ]
  },
  {
   "cell_type": "code",
   "execution_count": 16,
   "id": "1c674d4c",
   "metadata": {
    "ExecuteTime": {
     "end_time": "2022-03-13T12:02:54.344397Z",
     "start_time": "2022-03-13T12:02:43.783651Z"
    }
   },
   "outputs": [
    {
     "name": "stderr",
     "output_type": "stream",
     "text": [
      "Some weights of the model checkpoint at indolem/indobert-base-uncased were not used when initializing BertForSequenceClassification: ['cls.predictions.decoder.bias', 'cls.predictions.decoder.weight', 'cls.predictions.transform.LayerNorm.weight', 'cls.predictions.transform.LayerNorm.bias', 'cls.predictions.transform.dense.weight', 'cls.predictions.bias', 'cls.predictions.transform.dense.bias']\n",
      "- This IS expected if you are initializing BertForSequenceClassification from the checkpoint of a model trained on another task or with another architecture (e.g. initializing a BertForSequenceClassification model from a BertForPreTraining model).\n",
      "- This IS NOT expected if you are initializing BertForSequenceClassification from the checkpoint of a model that you expect to be exactly identical (initializing a BertForSequenceClassification model from a BertForSequenceClassification model).\n",
      "Some weights of BertForSequenceClassification were not initialized from the model checkpoint at indolem/indobert-base-uncased and are newly initialized: ['classifier.weight', 'classifier.bias']\n",
      "You should probably TRAIN this model on a down-stream task to be able to use it for predictions and inference.\n"
     ]
    }
   ],
   "source": [
    "set_seed(42)\n",
    "\n",
    "#Load model\n",
    "mytokenizer = BertTokenizer.from_pretrained('indolem/indobert-base-uncased')\n",
    "\n",
    "myconfig = BertConfig.from_pretrained('indolem/indobert-base-uncased',\n",
    "                                    attention_probs_dropout_prob=0.3,\n",
    "                                    hidden_dropout_prob=0.3)\n",
    "myconfig.num_labels = LocationPredictionDataset.NUM_LABELS\n",
    "\n",
    "# Instantiate model\n",
    "mymodel = BertForSequenceClassification.from_pretrained('indolem/indobert-base-uncased', \n",
    "                                                      config=myconfig)\n"
   ]
  },
  {
   "cell_type": "code",
   "execution_count": 17,
   "id": "b84f33d8",
   "metadata": {
    "ExecuteTime": {
     "end_time": "2022-03-13T12:02:59.209725Z",
     "start_time": "2022-03-13T12:02:54.347995Z"
    }
   },
   "outputs": [
    {
     "name": "stderr",
     "output_type": "stream",
     "text": [
      "100%|██████████| 16/16 [00:03<00:00,  4.05it/s]\n"
     ]
    }
   ],
   "source": [
    "# menggunakan gpu  \n",
    "best_model = mymodel.to(device)\n",
    "\n",
    "optimizer = optim.AdamW(best_model.parameters(), lr=learning_rate)\n",
    "\n",
    "load_checkpoint(model_path, best_model, optimizer)\n",
    "\n",
    "best_model.eval()\n",
    "torch.set_grad_enabled(False)\n",
    "\n",
    "total_loss, total_correct, total_labels = 0, 0, 0\n",
    "list_hyp, list_label = [], []\n",
    "\n",
    "pbar = tqdm(test_loader, leave=True, total=len(test_loader))\n",
    "for i, batch_data in enumerate(pbar):\n",
    "    _, batch_hyp, _ = forward_sequence_classification(best_model, batch_data[:-1], i2w=i2w, device=device_idx)\n",
    "    list_hyp += batch_hyp\n",
    "\n",
    "# Save prediction\n",
    "df = pd.DataFrame({'label':list_hyp}).reset_index()"
   ]
  },
  {
   "cell_type": "code",
   "execution_count": 18,
   "id": "6a4c8468",
   "metadata": {
    "ExecuteTime": {
     "end_time": "2022-03-13T12:02:59.217174Z",
     "start_time": "2022-03-13T12:02:59.211801Z"
    }
   },
   "outputs": [
    {
     "data": {
      "text/plain": [
       "array([8, 6, 3, 0, 4, 1, 7, 4, 5, 1, 1, 7, 3, 5, 7, 0, 2, 4, 4, 2, 6, 2,\n",
       "       7, 4, 2, 2, 1, 3, 2, 3, 1, 4, 1, 8, 2, 0, 1, 8, 6, 1, 8, 2, 2, 1,\n",
       "       7, 4, 2, 3, 6, 0, 3, 4, 4, 3, 1, 5, 4, 0, 0, 2, 0, 4, 0, 3, 3, 3,\n",
       "       7, 5, 7, 3, 3, 7, 3, 3, 3, 8, 3, 1, 6, 6, 5, 8, 5, 0, 1, 3, 7, 0,\n",
       "       4, 8, 6, 0, 4, 2, 1, 5, 2, 5, 7, 8, 8, 6, 2, 4, 5, 4, 0, 7, 1, 2,\n",
       "       0, 1, 8, 3, 8, 2, 0, 8, 4, 0, 4, 8, 2, 7, 3, 7, 2, 5, 6, 3, 3, 3,\n",
       "       0, 4, 4, 0, 4, 8, 3, 2, 1, 1, 7, 6, 5, 5, 3, 1, 3, 6, 7, 8, 6, 5,\n",
       "       2, 0, 2, 6, 1, 6, 8, 0, 7, 7, 1, 0, 4, 8, 8, 0, 6, 2, 4, 6, 4, 2,\n",
       "       4, 8, 3, 1, 3, 6, 1, 6, 3, 8, 8, 1, 6, 0, 5, 8, 8, 3, 1, 2, 8, 2,\n",
       "       0, 1, 2, 0, 4, 6, 2, 2, 6, 4, 0, 5, 6, 5, 4, 8, 5, 4, 7, 4, 3, 5,\n",
       "       3, 8, 5, 2, 6, 8, 8, 5, 4, 4, 3, 7, 5, 2, 3, 0, 8, 1, 2, 1, 3, 4,\n",
       "       1, 7, 4, 2, 5, 4, 3, 3])"
      ]
     },
     "execution_count": 18,
     "metadata": {},
     "output_type": "execute_result"
    }
   ],
   "source": [
    "## get y_test for user level\n",
    "y_test_user_lvl = userlvltest.Lvalue\n",
    "y_test_user_lvl.values"
   ]
  },
  {
   "cell_type": "code",
   "execution_count": 19,
   "id": "2e02f2d0",
   "metadata": {
    "ExecuteTime": {
     "end_time": "2022-03-13T12:02:59.650688Z",
     "start_time": "2022-03-13T12:02:59.218671Z"
    }
   },
   "outputs": [
    {
     "data": {
      "text/plain": [
       "array([1, 6, 1, 1, 3, 8, 7, 4, 5, 2, 1, 7, 3, 5, 7, 0, 2, 2, 3, 2, 6, 2,\n",
       "       7, 4, 2, 2, 2, 3, 2, 3, 1, 3, 1, 8, 2, 0, 1, 8, 6, 1, 8, 2, 2, 6,\n",
       "       7, 3, 2, 3, 6, 0, 3, 4, 4, 1, 1, 5, 4, 0, 1, 2, 0, 4, 0, 3, 3, 1,\n",
       "       7, 5, 7, 4, 3, 7, 3, 3, 2, 3, 3, 4, 6, 6, 5, 8, 5, 1, 1, 3, 7, 0,\n",
       "       4, 8, 6, 6, 3, 2, 1, 5, 2, 2, 7, 1, 8, 6, 2, 4, 1, 4, 3, 7, 1, 2,\n",
       "       0, 1, 3, 3, 8, 2, 0, 8, 4, 0, 4, 8, 2, 7, 3, 1, 2, 5, 6, 3, 3, 3,\n",
       "       2, 4, 4, 0, 4, 8, 4, 2, 1, 1, 7, 8, 5, 5, 3, 1, 6, 6, 2, 1, 6, 5,\n",
       "       2, 6, 0, 6, 1, 6, 8, 0, 7, 4, 1, 0, 4, 8, 1, 3, 6, 4, 0, 6, 1, 1,\n",
       "       3, 8, 3, 2, 3, 6, 1, 6, 3, 8, 1, 7, 6, 2, 5, 3, 8, 1, 1, 8, 8, 2,\n",
       "       0, 1, 2, 0, 4, 6, 2, 2, 6, 4, 0, 2, 6, 5, 0, 8, 4, 4, 7, 3, 1, 3,\n",
       "       2, 8, 5, 2, 6, 3, 0, 8, 4, 4, 2, 1, 7, 2, 3, 0, 8, 1, 1, 1, 3, 4,\n",
       "       1, 7, 3, 8, 5, 4, 3, 4], dtype=int8)"
      ]
     },
     "execution_count": 19,
     "metadata": {},
     "output_type": "execute_result"
    }
   ],
   "source": [
    "## get y_pred for tweets level\n",
    "y_pred_tweets_lvl = df.iloc[:,1].astype('category')\n",
    "y_pred_tweets_lvl = y_pred_tweets_lvl.cat.codes\n",
    "y_pred_tweets_lvl.values"
   ]
  },
  {
   "cell_type": "code",
   "execution_count": 20,
   "id": "a8a85390",
   "metadata": {
    "ExecuteTime": {
     "end_time": "2022-03-13T12:02:59.662152Z",
     "start_time": "2022-03-13T12:02:59.652710Z"
    }
   },
   "outputs": [
    {
     "name": "stdout",
     "output_type": "stream",
     "text": [
      "accuracy 0.73\n",
      "                            precision    recall  f1-score   support\n",
      "\n",
      "    bali dan nusa tenggara       0.81      0.65      0.72        26\n",
      "               jabodetabek       0.53      0.75      0.62        28\n",
      "     jawa barat dan banten       0.68      0.81      0.74        32\n",
      "jawa tengah dan yogyakarta       0.62      0.67      0.64        36\n",
      "                jawa timur       0.76      0.65      0.70        34\n",
      "                kalimantan       1.00      0.68      0.81        22\n",
      "          maluku dan papua       0.85      0.96      0.90        23\n",
      "                  sulawesi       0.89      0.80      0.84        20\n",
      "                  sumatera       0.79      0.66      0.72        29\n",
      "\n",
      "                  accuracy                           0.73       250\n",
      "                 macro avg       0.77      0.74      0.74       250\n",
      "              weighted avg       0.75      0.73      0.73       250\n",
      "\n"
     ]
    }
   ],
   "source": [
    "from sklearn.metrics import classification_report, accuracy_score\n",
    "\n",
    "## print classification report for user level prediction\n",
    "print('accuracy %s' % round(accuracy_score(y_test_user_lvl, y_pred_tweets_lvl),2 ))\n",
    "print(classification_report(y_test_user_lvl, y_pred_tweets_lvl,target_names=label_dict.keys()))"
   ]
  },
  {
   "cell_type": "code",
   "execution_count": 21,
   "id": "0a3b7ea8",
   "metadata": {
    "ExecuteTime": {
     "end_time": "2022-03-13T12:02:59.671439Z",
     "start_time": "2022-03-13T12:02:59.664943Z"
    }
   },
   "outputs": [],
   "source": [
    "y_pred_tweets_lvl.to_csv('bert_result/indoLEM_model_2e_5_batch16.csv')"
   ]
  }
 ],
 "metadata": {
  "kernelspec": {
   "display_name": "Python 3",
   "language": "python",
   "name": "python3"
  },
  "language_info": {
   "codemirror_mode": {
    "name": "ipython",
    "version": 3
   },
   "file_extension": ".py",
   "mimetype": "text/x-python",
   "name": "python",
   "nbconvert_exporter": "python",
   "pygments_lexer": "ipython3",
   "version": "3.8.10"
  },
  "toc": {
   "base_numbering": 1,
   "nav_menu": {
    "height": "79px",
    "width": "212px"
   },
   "number_sections": true,
   "sideBar": true,
   "skip_h1_title": false,
   "title_cell": "Table of Contents",
   "title_sidebar": "Contents",
   "toc_cell": false,
   "toc_position": {
    "height": "calc(100% - 180px)",
    "left": "10px",
    "top": "150px",
    "width": "165px"
   },
   "toc_section_display": true,
   "toc_window_display": true
  },
  "varInspector": {
   "cols": {
    "lenName": 16,
    "lenType": 16,
    "lenVar": 40
   },
   "kernels_config": {
    "python": {
     "delete_cmd_postfix": "",
     "delete_cmd_prefix": "del ",
     "library": "var_list.py",
     "varRefreshCmd": "print(var_dic_list())"
    },
    "r": {
     "delete_cmd_postfix": ") ",
     "delete_cmd_prefix": "rm(",
     "library": "var_list.r",
     "varRefreshCmd": "cat(var_dic_list()) "
    }
   },
   "types_to_exclude": [
    "module",
    "function",
    "builtin_function_or_method",
    "instance",
    "_Feature"
   ],
   "window_display": false
  }
 },
 "nbformat": 4,
 "nbformat_minor": 5
}
