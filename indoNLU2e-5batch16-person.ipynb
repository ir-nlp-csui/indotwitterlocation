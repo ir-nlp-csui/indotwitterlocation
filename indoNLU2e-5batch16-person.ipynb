{
 "cells": [
  {
   "cell_type": "markdown",
   "id": "bf39260a",
   "metadata": {},
   "source": [
    "# Library import"
   ]
  },
  {
   "cell_type": "code",
   "execution_count": 1,
   "id": "76fcfbfc",
   "metadata": {
    "ExecuteTime": {
     "end_time": "2022-03-22T06:45:43.204087Z",
     "start_time": "2022-03-22T06:45:41.781416Z"
    }
   },
   "outputs": [],
   "source": [
    "import pandas as pd\n",
    "import os\n",
    "import torch\n",
    "from torch.utils.data import Dataset, DataLoader, RandomSampler, SequentialSampler\n",
    "from torch import optim\n",
    "import torch.nn.functional as F\n",
    "from tqdm import tqdm\n",
    "from transformers import BertForSequenceClassification, BertConfig, BertTokenizer"
   ]
  },
  {
   "cell_type": "code",
   "execution_count": 2,
   "id": "3a02556d",
   "metadata": {
    "ExecuteTime": {
     "end_time": "2022-03-22T06:45:43.208734Z",
     "start_time": "2022-03-22T06:45:43.206281Z"
    },
    "scrolled": true
   },
   "outputs": [],
   "source": [
    "userPATH ='revision_dataset/'\n",
    "tweetPATH = 'revision_dataset/tweetAgg/'"
   ]
  },
  {
   "cell_type": "code",
   "execution_count": 3,
   "id": "6ec1adc4",
   "metadata": {
    "ExecuteTime": {
     "end_time": "2022-03-22T06:45:43.221375Z",
     "start_time": "2022-03-22T06:45:43.210714Z"
    }
   },
   "outputs": [],
   "source": [
    "userlvltrain = pd.read_csv(userPATH+'/userlvltrain.csv')\n",
    "userlvltest = pd.read_csv(userPATH+'/userlvltest.csv')\n",
    "userlvlval = pd.read_csv(userPATH+'/userlvlval.csv')"
   ]
  },
  {
   "cell_type": "code",
   "execution_count": 4,
   "id": "425ef103",
   "metadata": {
    "ExecuteTime": {
     "end_time": "2022-03-22T06:45:43.228628Z",
     "start_time": "2022-03-22T06:45:43.223408Z"
    }
   },
   "outputs": [],
   "source": [
    "## matching person only\n",
    "persontrain = userlvltrain[userlvltrain['isaPerson']==\"person\"]\n",
    "persontest = userlvltest[userlvltest['isaPerson']==\"person\"]\n",
    "personval = userlvlval[userlvlval['isaPerson']==\"person\"]"
   ]
  },
  {
   "cell_type": "code",
   "execution_count": 5,
   "id": "ed2ad9a0",
   "metadata": {
    "ExecuteTime": {
     "end_time": "2022-03-22T06:45:43.325234Z",
     "start_time": "2022-03-22T06:45:43.230435Z"
    }
   },
   "outputs": [],
   "source": [
    "train_df = pd.read_csv(tweetPATH+'aggtrain_df.csv')\n",
    "train_df['screen_name'] = userlvltrain.screen_name\n",
    "train_df['userLocation'] = userlvltrain.userLocation\n",
    "\n",
    "test_df = pd.read_csv(tweetPATH+'aggtest_df.csv')\n",
    "test_df['screen_name'] = userlvltest.screen_name\n",
    "test_df['userLocation'] = userlvltest.userLocation\n",
    "\n",
    "val_df = pd.read_csv(tweetPATH+'aggval_df.csv')\n",
    "val_df['screen_name'] = userlvlval.screen_name\n",
    "val_df['userLocation'] = userlvlval.userLocation"
   ]
  },
  {
   "cell_type": "code",
   "execution_count": 6,
   "id": "6b7d2c79",
   "metadata": {
    "ExecuteTime": {
     "end_time": "2022-03-22T06:45:43.346419Z",
     "start_time": "2022-03-22T06:45:43.327002Z"
    }
   },
   "outputs": [
    {
     "name": "stdout",
     "output_type": "stream",
     "text": [
      "set()\n",
      "set()\n",
      "set()\n"
     ]
    },
    {
     "data": {
      "text/html": [
       "<div>\n",
       "<style scoped>\n",
       "    .dataframe tbody tr th:only-of-type {\n",
       "        vertical-align: middle;\n",
       "    }\n",
       "\n",
       "    .dataframe tbody tr th {\n",
       "        vertical-align: top;\n",
       "    }\n",
       "\n",
       "    .dataframe thead th {\n",
       "        text-align: right;\n",
       "    }\n",
       "</style>\n",
       "<table border=\"1\" class=\"dataframe\">\n",
       "  <thead>\n",
       "    <tr style=\"text-align: right;\">\n",
       "      <th></th>\n",
       "      <th>text</th>\n",
       "      <th>screen_name</th>\n",
       "      <th>userLocation</th>\n",
       "    </tr>\n",
       "  </thead>\n",
       "  <tbody>\n",
       "    <tr>\n",
       "      <th>0</th>\n",
       "      <td>bonding bgt eui shiddddd gokil halo pajak nama...</td>\n",
       "      <td>annefachrozie</td>\n",
       "      <td>jawa barat dan banten</td>\n",
       "    </tr>\n",
       "    <tr>\n",
       "      <th>1</th>\n",
       "      <td>so fun kumpul temen besok udah baruan dimanaa ...</td>\n",
       "      <td>A_ZeeJKT48</td>\n",
       "      <td>jabodetabek</td>\n",
       "    </tr>\n",
       "    <tr>\n",
       "      <th>9</th>\n",
       "      <td>kerjamenabungtravelingulangi tuh orang sibukta...</td>\n",
       "      <td>Awanthehow</td>\n",
       "      <td>jawa barat dan banten</td>\n",
       "    </tr>\n",
       "  </tbody>\n",
       "</table>\n",
       "</div>"
      ],
      "text/plain": [
       "                                                text    screen_name  \\\n",
       "0  bonding bgt eui shiddddd gokil halo pajak nama...  annefachrozie   \n",
       "1  so fun kumpul temen besok udah baruan dimanaa ...     A_ZeeJKT48   \n",
       "9  kerjamenabungtravelingulangi tuh orang sibukta...     Awanthehow   \n",
       "\n",
       "            userLocation  \n",
       "0  jawa barat dan banten  \n",
       "1            jabodetabek  \n",
       "9  jawa barat dan banten  "
      ]
     },
     "execution_count": 6,
     "metadata": {},
     "output_type": "execute_result"
    }
   ],
   "source": [
    "train_df = train_df[train_df['screen_name'].isin(persontrain['screen_name'])]\n",
    "print(set(train_df.screen_name)-set(persontrain.screen_name))\n",
    "\n",
    "test_df = test_df[test_df['screen_name'].isin(persontest['screen_name'])]\n",
    "print(set(test_df.screen_name)-set(persontest.screen_name))\n",
    "\n",
    "val_df = val_df[val_df['screen_name'].isin(personval['screen_name'])]\n",
    "print(set(val_df.screen_name)-set(personval.screen_name))\n",
    "\n",
    "train_df.head(3)"
   ]
  },
  {
   "cell_type": "code",
   "execution_count": 7,
   "id": "dda8191a",
   "metadata": {
    "ExecuteTime": {
     "end_time": "2022-03-22T06:45:43.353960Z",
     "start_time": "2022-03-22T06:45:43.348344Z"
    },
    "code_folding": []
   },
   "outputs": [
    {
     "name": "stdout",
     "output_type": "stream",
     "text": [
      "{'bali dan nusa tenggara': 0, 'jabodetabek': 1, 'jawa barat dan banten': 2, 'jawa tengah dan yogyakarta': 3, 'jawa timur': 4, 'kalimantan': 5, 'maluku dan papua': 6, 'sulawesi': 7, 'sumatera': 8}\n",
      "{0: 'bali dan nusa tenggara', 1: 'jabodetabek', 2: 'jawa barat dan banten', 3: 'jawa tengah dan yogyakarta', 4: 'jawa timur', 5: 'kalimantan', 6: 'maluku dan papua', 7: 'sulawesi', 8: 'sumatera'}\n"
     ]
    }
   ],
   "source": [
    "## prepare data for BERT training and save in newdata/\n",
    "if not os.path.exists('persondata/'): \n",
    "    os.mkdir('persondata/')\n",
    "    train_df.to_csv('persondata/train.csv', index=False)\n",
    "    test_df.to_csv('persondata/test.csv', index=False)\n",
    "    val_df.to_csv('persondata/dev.csv', index=False)\n",
    "\n",
    "possible_labels = train_df.userLocation.unique()\n",
    "possible_labels.sort()\n",
    "label_dict = {}\n",
    "for index, possible_label in enumerate(possible_labels):\n",
    "    label_dict[possible_label] = index\n",
    "print(label_dict)\n",
    "inv_label_dict = {v: k for k, v in label_dict.items()}\n",
    "print(inv_label_dict)"
   ]
  },
  {
   "cell_type": "markdown",
   "id": "405025d2",
   "metadata": {},
   "source": [
    "## Setting Cuda"
   ]
  },
  {
   "cell_type": "code",
   "execution_count": 8,
   "id": "3806ade6",
   "metadata": {
    "ExecuteTime": {
     "end_time": "2022-03-22T06:45:45.188247Z",
     "start_time": "2022-03-22T06:45:43.356743Z"
    }
   },
   "outputs": [
    {
     "name": "stdout",
     "output_type": "stream",
     "text": [
      "Tue Mar 22 06:45:43 2022       \n",
      "+-----------------------------------------------------------------------------+\n",
      "| NVIDIA-SMI 418.126.02   Driver Version: 418.126.02   CUDA Version: 11.4     |\n",
      "|-------------------------------+----------------------+----------------------+\n",
      "| GPU  Name        Persistence-M| Bus-Id        Disp.A | Volatile Uncorr. ECC |\n",
      "| Fan  Temp  Perf  Pwr:Usage/Cap|         Memory-Usage | GPU-Util  Compute M. |\n",
      "|===============================+======================+======================|\n",
      "|   0  Tesla V100-SXM2...  On   | 00000000:06:00.0 Off |                    0 |\n",
      "| N/A   36C    P0    57W / 300W |  19642MiB / 32480MiB |      0%      Default |\n",
      "+-------------------------------+----------------------+----------------------+\n",
      "|   1  Tesla V100-SXM2...  On   | 00000000:07:00.0 Off |                    0 |\n",
      "| N/A   46C    P0   103W / 300W |  16646MiB / 32480MiB |     54%      Default |\n",
      "+-------------------------------+----------------------+----------------------+\n",
      "|   2  Tesla V100-SXM2...  On   | 00000000:0A:00.0 Off |                    0 |\n",
      "| N/A   58C    P0   164W / 300W |  14346MiB / 32480MiB |     90%      Default |\n",
      "+-------------------------------+----------------------+----------------------+\n",
      "|   3  Tesla V100-SXM2...  On   | 00000000:0B:00.0 Off |                    0 |\n",
      "| N/A   65C    P0   258W / 300W |  14739MiB / 32480MiB |     99%      Default |\n",
      "+-------------------------------+----------------------+----------------------+\n",
      "|   4  Tesla V100-SXM2...  On   | 00000000:85:00.0 Off |                    0 |\n",
      "| N/A   39C    P0    58W / 300W |  15746MiB / 32480MiB |      0%      Default |\n",
      "+-------------------------------+----------------------+----------------------+\n",
      "|   5  Tesla V100-SXM2...  On   | 00000000:86:00.0 Off |                    0 |\n",
      "| N/A   41C    P0    59W / 300W |  13463MiB / 32480MiB |      0%      Default |\n",
      "+-------------------------------+----------------------+----------------------+\n",
      "|   6  Tesla V100-SXM2...  On   | 00000000:89:00.0 Off |                    0 |\n",
      "| N/A   63C    P0   252W / 300W |  31896MiB / 32480MiB |     98%      Default |\n",
      "+-------------------------------+----------------------+----------------------+\n",
      "|   7  Tesla V100-SXM2...  On   | 00000000:8A:00.0 Off |                    0 |\n",
      "| N/A   35C    P0    55W / 300W |  30117MiB / 32480MiB |      0%      Default |\n",
      "+-------------------------------+----------------------+----------------------+\n",
      "                                                                               \n",
      "+-----------------------------------------------------------------------------+\n",
      "| Processes:                                                       GPU Memory |\n",
      "|  GPU       PID   Type   Process name                             Usage      |\n",
      "|=============================================================================|\n",
      "+-----------------------------------------------------------------------------+\n"
     ]
    }
   ],
   "source": [
    "!nvidia-smi"
   ]
  },
  {
   "cell_type": "code",
   "execution_count": 9,
   "id": "aed002e1",
   "metadata": {
    "ExecuteTime": {
     "end_time": "2022-03-22T06:45:45.557693Z",
     "start_time": "2022-03-22T06:45:45.190906Z"
    }
   },
   "outputs": [
    {
     "data": {
      "text/plain": [
       "3"
      ]
     },
     "execution_count": 9,
     "metadata": {},
     "output_type": "execute_result"
    }
   ],
   "source": [
    "torch.cuda.set_device(3)\n",
    "device = torch.device('cuda:3' if torch.cuda.is_available() else 'cpu')\n",
    "device_idx = \"cuda:3\"\n",
    "torch.cuda.current_device()"
   ]
  },
  {
   "cell_type": "code",
   "execution_count": 10,
   "id": "63848cd5",
   "metadata": {
    "ExecuteTime": {
     "end_time": "2022-03-22T06:45:45.581765Z",
     "start_time": "2022-03-22T06:45:45.559857Z"
    },
    "code_folding": [
     3,
     9,
     15,
     19,
     25,
     60,
     136,
     149
    ]
   },
   "outputs": [],
   "source": [
    "import random \n",
    "import numpy as np\n",
    "\n",
    "def set_seed(seed):\n",
    "    random.seed(seed)\n",
    "    np.random.seed(seed)\n",
    "    torch.manual_seed(seed)\n",
    "    torch.cuda.manual_seed(seed)\n",
    "    \n",
    "def count_param(module, trainable=False):\n",
    "    if trainable:\n",
    "        return sum(p.numel() for p in module.parameters() if p.requires_grad)\n",
    "    else:\n",
    "        return sum(p.numel() for p in module.parameters())\n",
    "    \n",
    "def get_lr(optimizer):\n",
    "    for param_group in optimizer.param_groups:\n",
    "        return param_group['lr']\n",
    "\n",
    "def metrics_to_string(metric_dict):\n",
    "    string_list = []\n",
    "    for key, value in metric_dict.items():\n",
    "        string_list.append('{}:{:.2f}'.format(key, value))\n",
    "    return ' '.join(string_list)\n",
    "\n",
    "def location_prediction_metrics(list_hyp, list_label):\n",
    "    metrics = {}\n",
    "    metrics[\"ACC\"] = accuracy_score(list_label, list_hyp)\n",
    "    metrics[\"F1\"] = f1_score(list_label, list_hyp, average='macro')\n",
    "    metrics[\"REC\"] = recall_score(list_label, list_hyp, average='macro')\n",
    "    metrics[\"PRE\"] = precision_score(list_label, list_hyp, average='macro')\n",
    "    return metrics\n",
    "\n",
    "\n",
    "class LocationPredictionDataset(Dataset):\n",
    "    # Static constant variable\n",
    "    LABEL2INDEX = label_dict\n",
    "    INDEX2LABEL = inv_label_dict\n",
    "    NUM_LABELS = 9\n",
    "    \n",
    "    def load_dataset(self, path): \n",
    "        df = pd.read_csv(path, sep=',')\n",
    "        # df.columns = ['screenName','tweets','userLocation', 'mentionedLocation','label', 'final_feat']\n",
    "        df['userLocation'] = df['userLocation'].apply(lambda lab: self.LABEL2INDEX[lab])\n",
    "        return df\n",
    "    \n",
    "    def __init__(self, dataset_path, tokenizer, no_special_token=False, *args, **kwargs):\n",
    "        self.data = self.load_dataset(dataset_path)\n",
    "        self.tokenizer = tokenizer\n",
    "        self.no_special_token = no_special_token\n",
    "    \n",
    "    def __getitem__(self, index):\n",
    "        data = self.data.loc[index,:]\n",
    "        tweets, labels = data['text'], data['userLocation']\n",
    "        subwords = self.tokenizer.encode(tweets, add_special_tokens=not self.no_special_token)\n",
    "        return np.array(subwords), np.array(labels), data['text']\n",
    "    \n",
    "    def __len__(self):\n",
    "        return len(self.data)    \n",
    "        \n",
    "class LocationPredictionDataLoader(DataLoader):\n",
    "    def __init__(self, max_seq_len=512, *args, **kwargs):\n",
    "        super(LocationPredictionDataLoader, self).__init__(*args, **kwargs)\n",
    "        self.collate_fn = self._collate_fn\n",
    "        self.max_seq_len = max_seq_len\n",
    "        \n",
    "    def _collate_fn(self, batch):\n",
    "        batch_size = len(batch)\n",
    "        max_seq_len = max(map(lambda x: len(x[0]), batch))\n",
    "        max_seq_len = min(self.max_seq_len, max_seq_len)\n",
    "        \n",
    "        subword_batch = np.zeros((batch_size, max_seq_len), dtype=np.int64)\n",
    "        mask_batch = np.zeros((batch_size, max_seq_len), dtype=np.float32)\n",
    "        class_batch = np.zeros((batch_size, 1), dtype=np.int64)\n",
    "        \n",
    "        seq_list = []\n",
    "        for i, (subwords, tagging, raw_seq) in enumerate(batch):\n",
    "            subwords = subwords[:max_seq_len]\n",
    "            subword_batch[i,:len(subwords)] = subwords\n",
    "            mask_batch[i,:len(subwords)] = 1\n",
    "            class_batch[i,0] = tagging\n",
    "            \n",
    "            seq_list.append(raw_seq)\n",
    "            \n",
    "        return subword_batch, mask_batch, class_batch, seq_list\n",
    "\n",
    "# Forward function for sequence classification\n",
    "def forward_sequence_classification(model, batch_data, i2w, is_test=False, device='cpu', **kwargs):\n",
    "    # Unpack batch data\n",
    "    if len(batch_data) == 3:\n",
    "        (subword_batch, mask_batch, label_batch) = batch_data\n",
    "        token_type_batch = None\n",
    "    elif len(batch_data) == 4:\n",
    "        (subword_batch, mask_batch, token_type_batch, label_batch) = batch_data\n",
    "    \n",
    "    # Prepare input & label\n",
    "    subword_batch = torch.LongTensor(subword_batch)\n",
    "    mask_batch = torch.FloatTensor(mask_batch)\n",
    "    token_type_batch = torch.LongTensor(token_type_batch) if token_type_batch is not None else None\n",
    "    label_batch = torch.LongTensor(label_batch)\n",
    "            \n",
    "    if device == device_idx:\n",
    "        subword_batch = subword_batch.cuda()\n",
    "        mask_batch = mask_batch.cuda()\n",
    "        token_type_batch = token_type_batch.cuda() if token_type_batch is not None else None\n",
    "        label_batch = label_batch.cuda()\n",
    "\n",
    "    # Forward model\n",
    "    outputs = model(subword_batch, attention_mask=mask_batch, token_type_ids=token_type_batch, labels=label_batch)\n",
    "    loss, logits = outputs[:2]\n",
    "    \n",
    "    # generate prediction & label list\n",
    "    list_hyp = []\n",
    "    list_label = []\n",
    "    hyp = torch.topk(logits, 1)[1]\n",
    "    for j in range(len(hyp)):\n",
    "        list_hyp.append(i2w[hyp[j].item()])\n",
    "        list_label.append(i2w[label_batch[j][0].item()])\n",
    "        \n",
    "    return loss, list_hyp, list_label\n",
    "\n",
    "# Save and Load Functions\n",
    "\n",
    "# pada fungsi ini dilakukan penyimpanan model, optimizer, dan validation loss\n",
    "def save_checkpoint(save_path, model, optimizer, valid_loss):\n",
    "\n",
    "    if save_path == None:\n",
    "        return\n",
    "    \n",
    "    state_dict = {'model_state_dict': model.state_dict(),\n",
    "                  'optimizer_state_dict': optimizer.state_dict(),\n",
    "                  'valid_loss': valid_loss}\n",
    "    \n",
    "    torch.save(state_dict, save_path)\n",
    "\n",
    "# untuk meload loss yang telah disimpan\n",
    "def load_checkpoint(load_path, model, optimizer):\n",
    "\n",
    "    if load_path==None:\n",
    "        return\n",
    "    \n",
    "    state_dict = torch.load(load_path, map_location=device)\n",
    "    \n",
    "    model.load_state_dict(state_dict['model_state_dict'])\n",
    "    optimizer.load_state_dict(state_dict['optimizer_state_dict'])\n",
    "    \n",
    "    return state_dict['valid_loss']\n",
    "\n",
    "# pada fungsi ini accuracy dan loss disimpan \n",
    "def save_metrics(save_path, train_acc_list, train_loss_list, valid_acc_list, valid_loss_list, epochs):\n",
    "\n",
    "    if save_path == None:\n",
    "        return\n",
    "    \n",
    "    state_dict = {'train_acc_list': train_acc_list,\n",
    "                  'train_loss_list': train_loss_list,\n",
    "                  'valid_acc_list': valid_acc_list,\n",
    "                  'valid_loss_list': valid_loss_list,\n",
    "                  'epochs_list': epochs}\n",
    "    \n",
    "    torch.save(state_dict, save_path)\n",
    "    # print(f'Model saved to ==> {save_path}')\n",
    "\n",
    "# fungsi untuk melakukan load accuracy dan loss \n",
    "def load_metrics(load_path): \n",
    "\n",
    "    if load_path==None:\n",
    "        return\n",
    "    state_dict = torch.load(load_path)    \n",
    "    \n",
    "    return state_dict['train_acc_list'],state_dict['train_loss_list'], state_dict['valid_acc_list'], state_dict['valid_loss_list'], state_dict['epochs_list']"
   ]
  },
  {
   "cell_type": "markdown",
   "id": "c221564c",
   "metadata": {},
   "source": [
    "## Prepare Dataset"
   ]
  },
  {
   "cell_type": "code",
   "execution_count": 11,
   "id": "a1a9df68",
   "metadata": {
    "ExecuteTime": {
     "end_time": "2022-03-22T06:45:54.603673Z",
     "start_time": "2022-03-22T06:45:45.583527Z"
    },
    "scrolled": true
   },
   "outputs": [
    {
     "name": "stderr",
     "output_type": "stream",
     "text": [
      "Some weights of BertForSequenceClassification were not initialized from the model checkpoint at indobenchmark/indobert-base-p1 and are newly initialized: ['classifier.weight', 'classifier.bias']\n",
      "You should probably TRAIN this model on a down-stream task to be able to use it for predictions and inference.\n"
     ]
    }
   ],
   "source": [
    "set_seed(42)\n",
    "\n",
    "#Load Tokenizer and Config\n",
    "tokenizer = BertTokenizer.from_pretrained('indobenchmark/indobert-base-p1')\n",
    "config = BertConfig.from_pretrained('indobenchmark/indobert-base-p1',\n",
    "                                    attention_probs_dropout_prob=0.3,\n",
    "                                    hidden_dropout_prob=0.3)\n",
    "config.num_labels = LocationPredictionDataset.NUM_LABELS\n",
    "\n",
    "# Instantiate model\n",
    "model = BertForSequenceClassification.from_pretrained('indobenchmark/indobert-base-p1', \n",
    "                                                      config=config)\n",
    "\n",
    "train_dataset = LocationPredictionDataset(\"persondata/train.csv\", tokenizer, lowercase=True)\n",
    "valid_dataset = LocationPredictionDataset(\"persondata/dev.csv\", tokenizer, lowercase=True)\n",
    "test_dataset = LocationPredictionDataset(\"persondata/test.csv\", tokenizer, lowercase=True)\n",
    "\n",
    "\n",
    "learning_rate = 2e-5\n",
    "batch_size = 16\n",
    "epochs = 7\n",
    "\n",
    "train_loader = LocationPredictionDataLoader(dataset=train_dataset, max_seq_len=512, batch_size=batch_size, num_workers=16, shuffle=True)  \n",
    "valid_loader = LocationPredictionDataLoader(dataset=valid_dataset, max_seq_len=512, batch_size=batch_size, num_workers=16, shuffle=False)  \n",
    "test_loader = LocationPredictionDataLoader(dataset=test_dataset, max_seq_len=512, batch_size=batch_size, num_workers=16, shuffle=False)"
   ]
  },
  {
   "cell_type": "code",
   "execution_count": 12,
   "id": "93deaa87",
   "metadata": {
    "ExecuteTime": {
     "end_time": "2022-03-22T06:45:54.608729Z",
     "start_time": "2022-03-22T06:45:54.605493Z"
    },
    "scrolled": true
   },
   "outputs": [
    {
     "name": "stdout",
     "output_type": "stream",
     "text": [
      "{'bali dan nusa tenggara': 0, 'jabodetabek': 1, 'jawa barat dan banten': 2, 'jawa tengah dan yogyakarta': 3, 'jawa timur': 4, 'kalimantan': 5, 'maluku dan papua': 6, 'sulawesi': 7, 'sumatera': 8} \n",
      " {0: 'bali dan nusa tenggara', 1: 'jabodetabek', 2: 'jawa barat dan banten', 3: 'jawa tengah dan yogyakarta', 4: 'jawa timur', 5: 'kalimantan', 6: 'maluku dan papua', 7: 'sulawesi', 8: 'sumatera'}\n"
     ]
    }
   ],
   "source": [
    "w2i, i2w = LocationPredictionDataset.LABEL2INDEX, LocationPredictionDataset.INDEX2LABEL\n",
    "print(w2i, '\\n', i2w)"
   ]
  },
  {
   "cell_type": "markdown",
   "id": "592ffe50",
   "metadata": {},
   "source": [
    "## Fine Tuning and Evaluation"
   ]
  },
  {
   "cell_type": "code",
   "execution_count": 13,
   "id": "b4b53fc5",
   "metadata": {
    "ExecuteTime": {
     "end_time": "2022-03-22T06:46:00.040380Z",
     "start_time": "2022-03-22T06:45:54.610379Z"
    }
   },
   "outputs": [],
   "source": [
    "torch.cuda.empty_cache()\n",
    "optimizer = optim.AdamW(model.parameters(), lr=learning_rate)\n",
    "model = model.to(device)"
   ]
  },
  {
   "cell_type": "code",
   "execution_count": 14,
   "id": "c085b2f3",
   "metadata": {
    "ExecuteTime": {
     "end_time": "2022-03-22T06:46:00.045624Z",
     "start_time": "2022-03-22T06:46:00.042462Z"
    }
   },
   "outputs": [],
   "source": [
    "file_path = 'person_saved_model'"
   ]
  },
  {
   "cell_type": "markdown",
   "id": "dd349790",
   "metadata": {},
   "source": [
    "### training"
   ]
  },
  {
   "cell_type": "code",
   "execution_count": 15,
   "id": "a2972f4e",
   "metadata": {
    "ExecuteTime": {
     "end_time": "2022-03-22T06:50:18.102711Z",
     "start_time": "2022-03-22T06:46:00.047626Z"
    }
   },
   "outputs": [
    {
     "name": "stderr",
     "output_type": "stream",
     "text": [
      "(Epoch 1) TRAIN LOSS:2.2321 LR:0.00002000: 100%|██████████| 27/27 [00:32<00:00,  1.22s/it]\n"
     ]
    },
    {
     "name": "stdout",
     "output_type": "stream",
     "text": [
      "(Epoch 1) TRAIN LOSS:2.2321 ACC:0.11 F1:0.09 REC:0.10 PRE:0.10 LR:0.00002000\n"
     ]
    },
    {
     "name": "stderr",
     "output_type": "stream",
     "text": [
      "  0%|          | 0/4 [00:00<?, ?it/s]/opt/conda/lib/python3.8/site-packages/sklearn/metrics/_classification.py:1248: UndefinedMetricWarning: Precision is ill-defined and being set to 0.0 in labels with no predicted samples. Use `zero_division` parameter to control this behavior.\n",
      "  _warn_prf(average, modifier, msg_start, len(result))\n",
      "VALID LOSS:2.0890 ACC:0.25 F1:0.10 REC:0.23 PRE:0.07:  25%|██▌       | 1/4 [00:01<00:05,  1.74s/it]/opt/conda/lib/python3.8/site-packages/sklearn/metrics/_classification.py:1248: UndefinedMetricWarning: Precision is ill-defined and being set to 0.0 in labels with no predicted samples. Use `zero_division` parameter to control this behavior.\n",
      "  _warn_prf(average, modifier, msg_start, len(result))\n",
      "VALID LOSS:2.2068 ACC:0.16 F1:0.06 REC:0.21 PRE:0.04:  50%|█████     | 2/4 [00:02<00:01,  1.05it/s]/opt/conda/lib/python3.8/site-packages/sklearn/metrics/_classification.py:1248: UndefinedMetricWarning: Precision is ill-defined and being set to 0.0 in labels with no predicted samples. Use `zero_division` parameter to control this behavior.\n",
      "  _warn_prf(average, modifier, msg_start, len(result))\n",
      "VALID LOSS:2.1823 ACC:0.19 F1:0.07 REC:0.17 PRE:0.04:  75%|███████▌  | 3/4 [00:02<00:00,  1.43it/s]/opt/conda/lib/python3.8/site-packages/sklearn/metrics/_classification.py:1248: UndefinedMetricWarning: Precision is ill-defined and being set to 0.0 in labels with no predicted samples. Use `zero_division` parameter to control this behavior.\n",
      "  _warn_prf(average, modifier, msg_start, len(result))\n",
      "VALID LOSS:2.1416 ACC:0.19 F1:0.07 REC:0.17 PRE:0.04: 100%|██████████| 4/4 [00:02<00:00,  1.46it/s]\n",
      "/opt/conda/lib/python3.8/site-packages/sklearn/metrics/_classification.py:1248: UndefinedMetricWarning: Precision is ill-defined and being set to 0.0 in labels with no predicted samples. Use `zero_division` parameter to control this behavior.\n",
      "  _warn_prf(average, modifier, msg_start, len(result))\n"
     ]
    },
    {
     "name": "stdout",
     "output_type": "stream",
     "text": [
      "(Epoch 1) VALID LOSS:2.1416 ACC:0.19 F1:0.07 REC:0.17 PRE:0.04\n"
     ]
    },
    {
     "name": "stderr",
     "output_type": "stream",
     "text": [
      "(Epoch 2) TRAIN LOSS:2.1769 LR:0.00002000: 100%|██████████| 27/27 [00:31<00:00,  1.16s/it]\n",
      "/opt/conda/lib/python3.8/site-packages/sklearn/metrics/_classification.py:1248: UndefinedMetricWarning: Precision is ill-defined and being set to 0.0 in labels with no predicted samples. Use `zero_division` parameter to control this behavior.\n",
      "  _warn_prf(average, modifier, msg_start, len(result))\n"
     ]
    },
    {
     "name": "stdout",
     "output_type": "stream",
     "text": [
      "(Epoch 2) TRAIN LOSS:2.1769 ACC:0.13 F1:0.10 REC:0.12 PRE:0.10 LR:0.00002000\n"
     ]
    },
    {
     "name": "stderr",
     "output_type": "stream",
     "text": [
      "  0%|          | 0/4 [00:00<?, ?it/s]/opt/conda/lib/python3.8/site-packages/sklearn/metrics/_classification.py:1248: UndefinedMetricWarning: Recall is ill-defined and being set to 0.0 in labels with no true samples. Use `zero_division` parameter to control this behavior.\n",
      "  _warn_prf(average, modifier, msg_start, len(result))\n",
      "/opt/conda/lib/python3.8/site-packages/sklearn/metrics/_classification.py:1248: UndefinedMetricWarning: Precision is ill-defined and being set to 0.0 in labels with no predicted samples. Use `zero_division` parameter to control this behavior.\n",
      "  _warn_prf(average, modifier, msg_start, len(result))\n",
      "VALID LOSS:2.1695 ACC:0.00 F1:0.00 REC:0.00 PRE:0.00:  25%|██▌       | 1/4 [00:01<00:05,  1.67s/it]/opt/conda/lib/python3.8/site-packages/sklearn/metrics/_classification.py:1248: UndefinedMetricWarning: Precision is ill-defined and being set to 0.0 in labels with no predicted samples. Use `zero_division` parameter to control this behavior.\n",
      "  _warn_prf(average, modifier, msg_start, len(result))\n",
      "VALID LOSS:2.2630 ACC:0.03 F1:0.03 REC:0.03 PRE:0.03:  50%|█████     | 2/4 [00:02<00:01,  1.10it/s]/opt/conda/lib/python3.8/site-packages/sklearn/metrics/_classification.py:1248: UndefinedMetricWarning: Precision is ill-defined and being set to 0.0 in labels with no predicted samples. Use `zero_division` parameter to control this behavior.\n",
      "  _warn_prf(average, modifier, msg_start, len(result))\n",
      "VALID LOSS:2.1825 ACC:0.10 F1:0.05 REC:0.10 PRE:0.04:  75%|███████▌  | 3/4 [00:02<00:00,  1.49it/s]/opt/conda/lib/python3.8/site-packages/sklearn/metrics/_classification.py:1248: UndefinedMetricWarning: Precision is ill-defined and being set to 0.0 in labels with no predicted samples. Use `zero_division` parameter to control this behavior.\n",
      "  _warn_prf(average, modifier, msg_start, len(result))\n",
      "VALID LOSS:2.1596 ACC:0.12 F1:0.06 REC:0.11 PRE:0.05: 100%|██████████| 4/4 [00:02<00:00,  1.52it/s]\n",
      "/opt/conda/lib/python3.8/site-packages/sklearn/metrics/_classification.py:1248: UndefinedMetricWarning: Precision is ill-defined and being set to 0.0 in labels with no predicted samples. Use `zero_division` parameter to control this behavior.\n",
      "  _warn_prf(average, modifier, msg_start, len(result))\n"
     ]
    },
    {
     "name": "stdout",
     "output_type": "stream",
     "text": [
      "(Epoch 2) VALID LOSS:2.1596 ACC:0.12 F1:0.06 REC:0.11 PRE:0.05\n"
     ]
    },
    {
     "name": "stderr",
     "output_type": "stream",
     "text": [
      "(Epoch 3) TRAIN LOSS:2.1195 LR:0.00002000: 100%|██████████| 27/27 [00:31<00:00,  1.18s/it]\n"
     ]
    },
    {
     "name": "stdout",
     "output_type": "stream",
     "text": [
      "(Epoch 3) TRAIN LOSS:2.1195 ACC:0.17 F1:0.16 REC:0.16 PRE:0.18 LR:0.00002000\n"
     ]
    },
    {
     "name": "stderr",
     "output_type": "stream",
     "text": [
      "  0%|          | 0/4 [00:00<?, ?it/s]/opt/conda/lib/python3.8/site-packages/sklearn/metrics/_classification.py:1248: UndefinedMetricWarning: Recall is ill-defined and being set to 0.0 in labels with no true samples. Use `zero_division` parameter to control this behavior.\n",
      "  _warn_prf(average, modifier, msg_start, len(result))\n",
      "/opt/conda/lib/python3.8/site-packages/sklearn/metrics/_classification.py:1248: UndefinedMetricWarning: Precision is ill-defined and being set to 0.0 in labels with no predicted samples. Use `zero_division` parameter to control this behavior.\n",
      "  _warn_prf(average, modifier, msg_start, len(result))\n",
      "VALID LOSS:2.1930 ACC:0.12 F1:0.12 REC:0.09 PRE:0.17:  25%|██▌       | 1/4 [00:01<00:05,  1.69s/it]/opt/conda/lib/python3.8/site-packages/sklearn/metrics/_classification.py:1248: UndefinedMetricWarning: Recall is ill-defined and being set to 0.0 in labels with no true samples. Use `zero_division` parameter to control this behavior.\n",
      "  _warn_prf(average, modifier, msg_start, len(result))\n",
      "/opt/conda/lib/python3.8/site-packages/sklearn/metrics/_classification.py:1248: UndefinedMetricWarning: Precision is ill-defined and being set to 0.0 in labels with no predicted samples. Use `zero_division` parameter to control this behavior.\n",
      "  _warn_prf(average, modifier, msg_start, len(result))\n",
      "VALID LOSS:2.2388 ACC:0.09 F1:0.08 REC:0.08 PRE:0.17:  50%|█████     | 2/4 [00:02<00:01,  1.08it/s]/opt/conda/lib/python3.8/site-packages/sklearn/metrics/_classification.py:1248: UndefinedMetricWarning: Precision is ill-defined and being set to 0.0 in labels with no predicted samples. Use `zero_division` parameter to control this behavior.\n",
      "  _warn_prf(average, modifier, msg_start, len(result))\n",
      "VALID LOSS:2.2000 ACC:0.19 F1:0.16 REC:0.23 PRE:0.23:  75%|███████▌  | 3/4 [00:02<00:00,  1.47it/s]/opt/conda/lib/python3.8/site-packages/sklearn/metrics/_classification.py:1248: UndefinedMetricWarning: Precision is ill-defined and being set to 0.0 in labels with no predicted samples. Use `zero_division` parameter to control this behavior.\n",
      "  _warn_prf(average, modifier, msg_start, len(result))\n",
      "VALID LOSS:2.1813 ACC:0.17 F1:0.14 REC:0.19 PRE:0.22: 100%|██████████| 4/4 [00:02<00:00,  1.51it/s]\n",
      "/opt/conda/lib/python3.8/site-packages/sklearn/metrics/_classification.py:1248: UndefinedMetricWarning: Precision is ill-defined and being set to 0.0 in labels with no predicted samples. Use `zero_division` parameter to control this behavior.\n",
      "  _warn_prf(average, modifier, msg_start, len(result))\n"
     ]
    },
    {
     "name": "stdout",
     "output_type": "stream",
     "text": [
      "(Epoch 3) VALID LOSS:2.1813 ACC:0.17 F1:0.14 REC:0.19 PRE:0.22\n"
     ]
    },
    {
     "name": "stderr",
     "output_type": "stream",
     "text": [
      "(Epoch 4) TRAIN LOSS:2.0438 LR:0.00002000: 100%|██████████| 27/27 [00:31<00:00,  1.18s/it]\n"
     ]
    },
    {
     "name": "stdout",
     "output_type": "stream",
     "text": [
      "(Epoch 4) TRAIN LOSS:2.0438 ACC:0.20 F1:0.17 REC:0.19 PRE:0.18 LR:0.00002000\n"
     ]
    },
    {
     "name": "stderr",
     "output_type": "stream",
     "text": [
      "  0%|          | 0/4 [00:00<?, ?it/s]/opt/conda/lib/python3.8/site-packages/sklearn/metrics/_classification.py:1248: UndefinedMetricWarning: Recall is ill-defined and being set to 0.0 in labels with no true samples. Use `zero_division` parameter to control this behavior.\n",
      "  _warn_prf(average, modifier, msg_start, len(result))\n",
      "/opt/conda/lib/python3.8/site-packages/sklearn/metrics/_classification.py:1248: UndefinedMetricWarning: Precision is ill-defined and being set to 0.0 in labels with no predicted samples. Use `zero_division` parameter to control this behavior.\n",
      "  _warn_prf(average, modifier, msg_start, len(result))\n",
      "VALID LOSS:2.1043 ACC:0.19 F1:0.09 REC:0.17 PRE:0.09:  25%|██▌       | 1/4 [00:01<00:04,  1.65s/it]/opt/conda/lib/python3.8/site-packages/sklearn/metrics/_classification.py:1248: UndefinedMetricWarning: Recall is ill-defined and being set to 0.0 in labels with no true samples. Use `zero_division` parameter to control this behavior.\n",
      "  _warn_prf(average, modifier, msg_start, len(result))\n",
      "/opt/conda/lib/python3.8/site-packages/sklearn/metrics/_classification.py:1248: UndefinedMetricWarning: Precision is ill-defined and being set to 0.0 in labels with no predicted samples. Use `zero_division` parameter to control this behavior.\n",
      "  _warn_prf(average, modifier, msg_start, len(result))\n",
      "VALID LOSS:2.0717 ACC:0.28 F1:0.14 REC:0.20 PRE:0.13:  50%|█████     | 2/4 [00:02<00:01,  1.11it/s]/opt/conda/lib/python3.8/site-packages/sklearn/metrics/_classification.py:1248: UndefinedMetricWarning: Precision is ill-defined and being set to 0.0 in labels with no predicted samples. Use `zero_division` parameter to control this behavior.\n",
      "  _warn_prf(average, modifier, msg_start, len(result))\n",
      "VALID LOSS:1.9944 ACC:0.27 F1:0.17 REC:0.23 PRE:0.14:  75%|███████▌  | 3/4 [00:02<00:00,  1.50it/s]/opt/conda/lib/python3.8/site-packages/sklearn/metrics/_classification.py:1248: UndefinedMetricWarning: Precision is ill-defined and being set to 0.0 in labels with no predicted samples. Use `zero_division` parameter to control this behavior.\n",
      "  _warn_prf(average, modifier, msg_start, len(result))\n",
      "VALID LOSS:2.0252 ACC:0.27 F1:0.16 REC:0.22 PRE:0.14: 100%|██████████| 4/4 [00:02<00:00,  1.53it/s]\n",
      "/opt/conda/lib/python3.8/site-packages/sklearn/metrics/_classification.py:1248: UndefinedMetricWarning: Precision is ill-defined and being set to 0.0 in labels with no predicted samples. Use `zero_division` parameter to control this behavior.\n",
      "  _warn_prf(average, modifier, msg_start, len(result))\n"
     ]
    },
    {
     "name": "stdout",
     "output_type": "stream",
     "text": [
      "(Epoch 4) VALID LOSS:2.0252 ACC:0.27 F1:0.16 REC:0.22 PRE:0.14\n"
     ]
    },
    {
     "name": "stderr",
     "output_type": "stream",
     "text": [
      "(Epoch 5) TRAIN LOSS:1.8726 LR:0.00002000: 100%|██████████| 27/27 [00:31<00:00,  1.17s/it]\n"
     ]
    },
    {
     "name": "stdout",
     "output_type": "stream",
     "text": [
      "(Epoch 5) TRAIN LOSS:1.8726 ACC:0.34 F1:0.32 REC:0.33 PRE:0.33 LR:0.00002000\n"
     ]
    },
    {
     "name": "stderr",
     "output_type": "stream",
     "text": [
      "  0%|          | 0/4 [00:00<?, ?it/s]/opt/conda/lib/python3.8/site-packages/sklearn/metrics/_classification.py:1248: UndefinedMetricWarning: Recall is ill-defined and being set to 0.0 in labels with no true samples. Use `zero_division` parameter to control this behavior.\n",
      "  _warn_prf(average, modifier, msg_start, len(result))\n",
      "/opt/conda/lib/python3.8/site-packages/sklearn/metrics/_classification.py:1248: UndefinedMetricWarning: Precision is ill-defined and being set to 0.0 in labels with no predicted samples. Use `zero_division` parameter to control this behavior.\n",
      "  _warn_prf(average, modifier, msg_start, len(result))\n",
      "VALID LOSS:1.8888 ACC:0.31 F1:0.16 REC:0.24 PRE:0.15:  25%|██▌       | 1/4 [00:01<00:04,  1.61s/it]/opt/conda/lib/python3.8/site-packages/sklearn/metrics/_classification.py:1248: UndefinedMetricWarning: Recall is ill-defined and being set to 0.0 in labels with no true samples. Use `zero_division` parameter to control this behavior.\n",
      "  _warn_prf(average, modifier, msg_start, len(result))\n",
      "/opt/conda/lib/python3.8/site-packages/sklearn/metrics/_classification.py:1248: UndefinedMetricWarning: Precision is ill-defined and being set to 0.0 in labels with no predicted samples. Use `zero_division` parameter to control this behavior.\n",
      "  _warn_prf(average, modifier, msg_start, len(result))\n",
      "VALID LOSS:1.9019 ACC:0.28 F1:0.20 REC:0.29 PRE:0.20:  50%|█████     | 2/4 [00:01<00:01,  1.15it/s]/opt/conda/lib/python3.8/site-packages/sklearn/metrics/_classification.py:1248: UndefinedMetricWarning: Precision is ill-defined and being set to 0.0 in labels with no predicted samples. Use `zero_division` parameter to control this behavior.\n",
      "  _warn_prf(average, modifier, msg_start, len(result))\n",
      "VALID LOSS:1.8888 ACC:0.27 F1:0.22 REC:0.27 PRE:0.19:  75%|███████▌  | 3/4 [00:02<00:00,  1.52it/s]/opt/conda/lib/python3.8/site-packages/sklearn/metrics/_classification.py:1248: UndefinedMetricWarning: Precision is ill-defined and being set to 0.0 in labels with no predicted samples. Use `zero_division` parameter to control this behavior.\n",
      "  _warn_prf(average, modifier, msg_start, len(result))\n",
      "VALID LOSS:1.9817 ACC:0.25 F1:0.20 REC:0.25 PRE:0.17: 100%|██████████| 4/4 [00:02<00:00,  1.57it/s]\n",
      "/opt/conda/lib/python3.8/site-packages/sklearn/metrics/_classification.py:1248: UndefinedMetricWarning: Precision is ill-defined and being set to 0.0 in labels with no predicted samples. Use `zero_division` parameter to control this behavior.\n",
      "  _warn_prf(average, modifier, msg_start, len(result))\n"
     ]
    },
    {
     "name": "stdout",
     "output_type": "stream",
     "text": [
      "(Epoch 5) VALID LOSS:1.9817 ACC:0.25 F1:0.20 REC:0.25 PRE:0.17\n"
     ]
    },
    {
     "name": "stderr",
     "output_type": "stream",
     "text": [
      "(Epoch 6) TRAIN LOSS:1.6351 LR:0.00002000: 100%|██████████| 27/27 [00:31<00:00,  1.18s/it]\n"
     ]
    },
    {
     "name": "stdout",
     "output_type": "stream",
     "text": [
      "(Epoch 6) TRAIN LOSS:1.6351 ACC:0.38 F1:0.36 REC:0.37 PRE:0.39 LR:0.00002000\n"
     ]
    },
    {
     "name": "stderr",
     "output_type": "stream",
     "text": [
      "  0%|          | 0/4 [00:00<?, ?it/s]/opt/conda/lib/python3.8/site-packages/sklearn/metrics/_classification.py:1248: UndefinedMetricWarning: Recall is ill-defined and being set to 0.0 in labels with no true samples. Use `zero_division` parameter to control this behavior.\n",
      "  _warn_prf(average, modifier, msg_start, len(result))\n",
      "/opt/conda/lib/python3.8/site-packages/sklearn/metrics/_classification.py:1248: UndefinedMetricWarning: Precision is ill-defined and being set to 0.0 in labels with no predicted samples. Use `zero_division` parameter to control this behavior.\n",
      "  _warn_prf(average, modifier, msg_start, len(result))\n",
      "VALID LOSS:1.6670 ACC:0.25 F1:0.19 REC:0.24 PRE:0.24:  25%|██▌       | 1/4 [00:01<00:04,  1.65s/it]/opt/conda/lib/python3.8/site-packages/sklearn/metrics/_classification.py:1248: UndefinedMetricWarning: Recall is ill-defined and being set to 0.0 in labels with no true samples. Use `zero_division` parameter to control this behavior.\n",
      "  _warn_prf(average, modifier, msg_start, len(result))\n",
      "VALID LOSS:1.9882 ACC:0.33 F1:0.35 REC:0.36 PRE:0.54: 100%|██████████| 4/4 [00:02<00:00,  1.54it/s]\n"
     ]
    },
    {
     "name": "stdout",
     "output_type": "stream",
     "text": [
      "(Epoch 6) VALID LOSS:1.9882 ACC:0.33 F1:0.35 REC:0.36 PRE:0.54\n"
     ]
    },
    {
     "name": "stderr",
     "output_type": "stream",
     "text": [
      "(Epoch 7) TRAIN LOSS:1.3517 LR:0.00002000: 100%|██████████| 27/27 [00:31<00:00,  1.18s/it]\n"
     ]
    },
    {
     "name": "stdout",
     "output_type": "stream",
     "text": [
      "(Epoch 7) TRAIN LOSS:1.3517 ACC:0.52 F1:0.51 REC:0.52 PRE:0.53 LR:0.00002000\n"
     ]
    },
    {
     "name": "stderr",
     "output_type": "stream",
     "text": [
      "  0%|          | 0/4 [00:00<?, ?it/s]/opt/conda/lib/python3.8/site-packages/sklearn/metrics/_classification.py:1248: UndefinedMetricWarning: Precision is ill-defined and being set to 0.0 in labels with no predicted samples. Use `zero_division` parameter to control this behavior.\n",
      "  _warn_prf(average, modifier, msg_start, len(result))\n",
      "VALID LOSS:1.5439 ACC:0.38 F1:0.23 REC:0.37 PRE:0.20:  25%|██▌       | 1/4 [00:01<00:04,  1.66s/it]/opt/conda/lib/python3.8/site-packages/sklearn/metrics/_classification.py:1248: UndefinedMetricWarning: Recall is ill-defined and being set to 0.0 in labels with no true samples. Use `zero_division` parameter to control this behavior.\n",
      "  _warn_prf(average, modifier, msg_start, len(result))\n",
      "VALID LOSS:1.6994 ACC:0.44 F1:0.43 REC:0.43 PRE:0.52: 100%|██████████| 4/4 [00:02<00:00,  1.52it/s]\n"
     ]
    },
    {
     "name": "stdout",
     "output_type": "stream",
     "text": [
      "(Epoch 7) VALID LOSS:1.6994 ACC:0.44 F1:0.43 REC:0.43 PRE:0.52\n",
      "Done Training!\n"
     ]
    }
   ],
   "source": [
    "from sklearn.metrics import accuracy_score, f1_score, recall_score, precision_score\n",
    "\n",
    "# list untuk menyimpan data metrics setiap training, untuk memudahkan \n",
    "# menampilkan dalam grafik\n",
    "train_acc_list = [] \n",
    "train_loss_list = []\n",
    "valid_acc_list = [] \n",
    "valid_loss_list = []\n",
    "epochs_list = []\n",
    "\n",
    "best_valid_loss = float(\"Inf\")\n",
    "\n",
    "# Train\n",
    "n_epochs = epochs\n",
    "for epoch in range(n_epochs):\n",
    "    torch.cuda.empty_cache()\n",
    "    model.train()\n",
    "    torch.set_grad_enabled(True)\n",
    " \n",
    "    total_train_loss = 0\n",
    "    list_hyp, list_label = [], []\n",
    "\n",
    "    train_pbar = tqdm(train_loader, leave=True, total=len(train_loader))\n",
    "\n",
    "    for i, batch_data in enumerate(train_pbar):\n",
    "        # Forward model\n",
    "        loss, batch_hyp, batch_label = forward_sequence_classification(model, batch_data[:-1], i2w=i2w, \n",
    "                                                                       device=device_idx)\n",
    "\n",
    "        # Update model\n",
    "        optimizer.zero_grad()\n",
    "        loss.backward()\n",
    "        optimizer.step()\n",
    "\n",
    "        tr_loss = loss.item()\n",
    "        total_train_loss = total_train_loss + tr_loss\n",
    "\n",
    "        # Calculate metrics\n",
    "        list_hyp += batch_hyp\n",
    "        list_label += batch_label\n",
    "\n",
    "        train_pbar.set_description(\"(Epoch {}) TRAIN LOSS:{:.4f} LR:{:.8f}\".format((epoch+1),\n",
    "            total_train_loss/(i+1), get_lr(optimizer)))\n",
    "\n",
    "    # Calculate train metric\n",
    "    metrics = location_prediction_metrics(list_hyp, list_label)\n",
    "    print(\"(Epoch {}) TRAIN LOSS:{:.4f} {} LR:{:.8f}\".format((epoch+1),\n",
    "        total_train_loss/(i+1), metrics_to_string(metrics), get_lr(optimizer)))\n",
    "    \n",
    "    train_loss_list.append(total_train_loss/(i+1))\n",
    "    train_acc_list.append(metrics['ACC'])\n",
    "    epochs_list.append(epoch)\n",
    "\n",
    "\n",
    "    # Evaluate on validation\n",
    "    model.eval()\n",
    "    torch.set_grad_enabled(False)\n",
    "    \n",
    "    total_loss, total_correct, total_labels = 0, 0, 0\n",
    "    list_hyp, list_label = [], []\n",
    "\n",
    "    pbar = tqdm(valid_loader, leave=True, total=len(valid_loader))\n",
    "\n",
    "    for i, batch_data in enumerate(pbar):\n",
    "        batch_seq = batch_data[-1]        \n",
    "        loss, batch_hyp, batch_label = forward_sequence_classification(model, batch_data[:-1], i2w=i2w, \n",
    "                                                                       device=device_idx)\n",
    "        \n",
    "        # Calculate total loss\n",
    "        valid_loss = loss.item()\n",
    "        total_loss = total_loss + valid_loss\n",
    "\n",
    "        # Calculate evaluation metrics\n",
    "        list_hyp += batch_hyp\n",
    "        list_label += batch_label\n",
    "        metrics = location_prediction_metrics(list_hyp, list_label)\n",
    "\n",
    "        pbar.set_description(\"VALID LOSS:{:.4f} {}\".format(total_loss/(i+1), metrics_to_string(metrics)))\n",
    "        \n",
    "    metrics = location_prediction_metrics(list_hyp, list_label)\n",
    "    print(\"(Epoch {}) VALID LOSS:{:.4f} {}\".format((epoch+1),\n",
    "        total_loss/(i+1), metrics_to_string(metrics)))\n",
    "    \n",
    "    valid_loss_list.append(total_loss/(i+1))\n",
    "    valid_acc_list.append(metrics['ACC'])\n",
    "\n",
    "    # checkpoint, untuk menyimpan validation loss dan metrics yang paling baik untuk seluruh epochs \n",
    "    if best_valid_loss > total_loss/(i+1):\n",
    "      best_valid_loss = total_loss/(i+1)\n",
    "      save_checkpoint(file_path + '/indoNLU_model_2e_5_batch16.pt', model, optimizer, best_valid_loss)\n",
    "\n",
    "save_metrics(file_path + '/indoNLU_metrics_2e_5_batch16.pt', train_acc_list, train_loss_list, valid_acc_list, valid_loss_list, epochs_list)\n",
    "print('Done Training!')"
   ]
  },
  {
   "cell_type": "code",
   "execution_count": 16,
   "id": "1f81c125",
   "metadata": {
    "ExecuteTime": {
     "end_time": "2022-03-22T06:50:18.648623Z",
     "start_time": "2022-03-22T06:50:18.106408Z"
    }
   },
   "outputs": [
    {
     "data": {
      "image/png": "[encoded data removed]",
      "text/plain": [
       "<Figure size 720x360 with 2 Axes>"
      ]
     },
     "metadata": {
      "needs_background": "light"
     },
     "output_type": "display_data"
    }
   ],
   "source": [
    "#  ## menampilkan history metrics akurasi dan loss \n",
    "import matplotlib.pyplot as plt\n",
    "\n",
    "train_acc_list, train_loss_list, valid_acc_list, valid_loss_list, epochs_list = load_metrics(file_path + '/indoNLU_metrics_2e_5_batch16.pt')\n",
    "fig, (ax1, ax2) = plt.subplots(1,2, figsize=(10,5))\n",
    "\n",
    "ax1.plot(epochs_list, train_acc_list, label='Train')\n",
    "ax1.plot(epochs_list, valid_acc_list, label='Valid')\n",
    "ax1.set_xlabel('Epochs')\n",
    "ax1.set_ylabel('Accuracy')\n",
    "ax1.legend()\n",
    "\n",
    "ax2.plot(epochs_list, train_loss_list, label='Train')\n",
    "ax2.plot(epochs_list, valid_loss_list, label='Valid')\n",
    "ax2.set_xlabel('Epochs')\n",
    "ax2.set_ylabel('Loss')\n",
    "ax2.legend()\n",
    "plt.show() "
   ]
  },
  {
   "cell_type": "code",
   "execution_count": 17,
   "id": "1c674d4c",
   "metadata": {
    "ExecuteTime": {
     "end_time": "2022-03-22T06:50:31.237666Z",
     "start_time": "2022-03-22T06:50:18.650532Z"
    }
   },
   "outputs": [
    {
     "name": "stderr",
     "output_type": "stream",
     "text": [
      "Some weights of BertForSequenceClassification were not initialized from the model checkpoint at indobenchmark/indobert-base-p1 and are newly initialized: ['classifier.weight', 'classifier.bias']\n",
      "You should probably TRAIN this model on a down-stream task to be able to use it for predictions and inference.\n"
     ]
    }
   ],
   "source": [
    "set_seed(42)\n",
    "\n",
    "#Load model\n",
    "mytokenizer = BertTokenizer.from_pretrained('indobenchmark/indobert-base-p1')\n",
    "\n",
    "myconfig = BertConfig.from_pretrained('indobenchmark/indobert-base-p1',\n",
    "                                    attention_probs_dropout_prob=0.3,\n",
    "                                    hidden_dropout_prob=0.3)\n",
    "myconfig.num_labels = LocationPredictionDataset.NUM_LABELS\n",
    "\n",
    "# Instantiate model\n",
    "mymodel = BertForSequenceClassification.from_pretrained('indobenchmark/indobert-base-p1', \n",
    "                                                      config=myconfig)\n"
   ]
  },
  {
   "cell_type": "code",
   "execution_count": 18,
   "id": "b84f33d8",
   "metadata": {
    "ExecuteTime": {
     "end_time": "2022-03-22T06:50:38.115981Z",
     "start_time": "2022-03-22T06:50:31.240625Z"
    }
   },
   "outputs": [
    {
     "name": "stderr",
     "output_type": "stream",
     "text": [
      "100%|██████████| 9/9 [00:04<00:00,  1.82it/s]\n"
     ]
    }
   ],
   "source": [
    "# menggunakan gpu\n",
    "best_model = mymodel.to(device)\n",
    "\n",
    "optimizer = optim.AdamW(best_model.parameters(), lr=2e-5)\n",
    "\n",
    "load_checkpoint(file_path + '/indoNLU_model_2e_5_batch16.pt', best_model, optimizer)\n",
    "\n",
    "best_model.eval()\n",
    "torch.set_grad_enabled(False)\n",
    "\n",
    "total_loss, total_correct, total_labels = 0, 0, 0\n",
    "list_hyp, list_label = [], []\n",
    "\n",
    "pbar = tqdm(test_loader, leave=True, total=len(test_loader))\n",
    "for i, batch_data in enumerate(pbar):\n",
    "    _, batch_hyp, _ = forward_sequence_classification(best_model, batch_data[:-1], i2w=i2w, device=device_idx)\n",
    "    list_hyp += batch_hyp\n",
    "\n",
    "# Save prediction\n",
    "df = pd.DataFrame({'label':list_hyp}).reset_index()"
   ]
  },
  {
   "cell_type": "code",
   "execution_count": 19,
   "id": "6a4c8468",
   "metadata": {
    "ExecuteTime": {
     "end_time": "2022-03-22T06:50:38.124146Z",
     "start_time": "2022-03-22T06:50:38.118418Z"
    }
   },
   "outputs": [
    {
     "data": {
      "text/plain": [
       "array([8, 6, 3, 0, 4, 1, 5, 1, 5, 4, 4, 2, 2, 4, 2, 4, 2, 1, 6, 1, 2, 4,\n",
       "       2, 3, 6, 3, 4, 1, 5, 0, 2, 0, 0, 3, 7, 5, 7, 3, 3, 3, 8, 6, 5, 0,\n",
       "       1, 7, 0, 4, 8, 0, 2, 7, 8, 6, 4, 5, 0, 1, 8, 3, 8, 4, 3, 6, 3, 3,\n",
       "       0, 0, 8, 3, 7, 6, 5, 1, 3, 6, 7, 8, 5, 2, 2, 7, 1, 0, 8, 8, 0, 6,\n",
       "       2, 4, 4, 2, 4, 3, 1, 1, 8, 8, 6, 0, 8, 8, 3, 2, 2, 1, 2, 0, 2, 5,\n",
       "       6, 5, 4, 5, 4, 3, 5, 3, 2, 6, 8, 8, 5, 4, 3, 7, 5, 2, 0, 4, 2, 5,\n",
       "       4, 3])"
      ]
     },
     "execution_count": 19,
     "metadata": {},
     "output_type": "execute_result"
    }
   ],
   "source": [
    "## get y_test for user level\n",
    "y_test_user_lvl = persontest.Lvalue\n",
    "y_test_user_lvl.values"
   ]
  },
  {
   "cell_type": "code",
   "execution_count": 20,
   "id": "2e02f2d0",
   "metadata": {
    "ExecuteTime": {
     "end_time": "2022-03-22T06:50:38.132095Z",
     "start_time": "2022-03-22T06:50:38.125726Z"
    }
   },
   "outputs": [
    {
     "data": {
      "text/plain": [
       "array([2, 3, 3, 0, 4, 8, 5, 2, 5, 3, 4, 3, 2, 4, 2, 3, 0, 1, 6, 1, 2, 0,\n",
       "       1, 3, 6, 3, 3, 2, 5, 1, 2, 0, 0, 0, 4, 5, 7, 3, 3, 3, 5, 6, 5, 0,\n",
       "       5, 5, 6, 0, 8, 5, 2, 7, 1, 6, 3, 0, 3, 4, 5, 3, 8, 3, 3, 6, 3, 3,\n",
       "       0, 3, 8, 3, 7, 5, 5, 1, 6, 6, 0, 8, 5, 2, 0, 3, 5, 0, 0, 3, 3, 7,\n",
       "       3, 4, 0, 2, 3, 3, 3, 1, 8, 3, 6, 0, 2, 8, 3, 8, 0, 1, 4, 0, 1, 4,\n",
       "       6, 5, 4, 5, 4, 4, 3, 1, 2, 7, 3, 5, 5, 3, 3, 2, 5, 2, 0, 3, 2, 5,\n",
       "       4, 3], dtype=int8)"
      ]
     },
     "execution_count": 20,
     "metadata": {},
     "output_type": "execute_result"
    }
   ],
   "source": [
    "## get y_pred for tweets level\n",
    "y_pred_tweets_lvl = df.iloc[:,1].astype('category')\n",
    "y_pred_tweets_lvl = y_pred_tweets_lvl.cat.codes\n",
    "y_pred_tweets_lvl.values"
   ]
  },
  {
   "cell_type": "code",
   "execution_count": 21,
   "id": "a8a85390",
   "metadata": {
    "ExecuteTime": {
     "end_time": "2022-03-22T06:50:38.143144Z",
     "start_time": "2022-03-22T06:50:38.133693Z"
    }
   },
   "outputs": [
    {
     "name": "stdout",
     "output_type": "stream",
     "text": [
      "accuracy 0.56\n",
      "                            precision    recall  f1-score   support\n",
      "\n",
      "    bali dan nusa tenggara       0.47      0.60      0.53        15\n",
      "               jabodetabek       0.50      0.42      0.45        12\n",
      "     jawa barat dan banten       0.67      0.53      0.59        19\n",
      "jawa tengah dan yogyakarta       0.43      0.79      0.56        19\n",
      "                jawa timur       0.58      0.39      0.47        18\n",
      "                kalimantan       0.60      0.80      0.69        15\n",
      "          maluku dan papua       0.80      0.67      0.73        12\n",
      "                  sulawesi       0.60      0.38      0.46         8\n",
      "                  sumatera       0.75      0.38      0.50        16\n",
      "\n",
      "                  accuracy                           0.56       134\n",
      "                 macro avg       0.60      0.55      0.55       134\n",
      "              weighted avg       0.60      0.56      0.55       134\n",
      "\n"
     ]
    }
   ],
   "source": [
    "from sklearn.metrics import classification_report, accuracy_score\n",
    "\n",
    "## print classification report for user level prediction\n",
    "print('accuracy %s' % round(accuracy_score(y_test_user_lvl, y_pred_tweets_lvl),2 ))\n",
    "print(classification_report(y_test_user_lvl, y_pred_tweets_lvl,target_names=label_dict.keys()))"
   ]
  },
  {
   "cell_type": "markdown",
   "id": "74204583",
   "metadata": {},
   "source": [
    "## Test nonperson to person"
   ]
  },
  {
   "cell_type": "code",
   "execution_count": 22,
   "id": "e01cdcc2",
   "metadata": {
    "ExecuteTime": {
     "end_time": "2022-03-22T07:00:03.909100Z",
     "start_time": "2022-03-22T06:59:52.139038Z"
    }
   },
   "outputs": [
    {
     "name": "stderr",
     "output_type": "stream",
     "text": [
      "Some weights of BertForSequenceClassification were not initialized from the model checkpoint at indobenchmark/indobert-base-p1 and are newly initialized: ['classifier.weight', 'classifier.bias']\n",
      "You should probably TRAIN this model on a down-stream task to be able to use it for predictions and inference.\n"
     ]
    }
   ],
   "source": [
    "set_seed(42)\n",
    "\n",
    "#Load model\n",
    "mytokenizer = BertTokenizer.from_pretrained('indobenchmark/indobert-base-p1')\n",
    "\n",
    "myconfig = BertConfig.from_pretrained('indobenchmark/indobert-base-p1',\n",
    "                                    attention_probs_dropout_prob=0.3,\n",
    "                                    hidden_dropout_prob=0.3)\n",
    "myconfig.num_labels = LocationPredictionDataset.NUM_LABELS\n",
    "\n",
    "# Instantiate model\n",
    "mymodel = BertForSequenceClassification.from_pretrained('indobenchmark/indobert-base-p1', \n",
    "                                                      config=myconfig)\n"
   ]
  },
  {
   "cell_type": "code",
   "execution_count": 23,
   "id": "5f311ab5",
   "metadata": {
    "ExecuteTime": {
     "end_time": "2022-03-22T07:00:21.087102Z",
     "start_time": "2022-03-22T07:00:13.738588Z"
    }
   },
   "outputs": [
    {
     "name": "stderr",
     "output_type": "stream",
     "text": [
      "100%|██████████| 9/9 [00:05<00:00,  1.74it/s]\n"
     ]
    }
   ],
   "source": [
    "# menggunakan gpu\n",
    "best_model = mymodel.to(device)\n",
    "\n",
    "optimizer = optim.AdamW(best_model.parameters(), lr=2e-5)\n",
    "\n",
    "file_path = 'nonperson_saved_model'\n",
    "\n",
    "load_checkpoint(file_path + '/indoNLU_model_2e_5_batch16.pt', best_model, optimizer)\n",
    "\n",
    "best_model.eval()\n",
    "torch.set_grad_enabled(False)\n",
    "\n",
    "total_loss, total_correct, total_labels = 0, 0, 0\n",
    "list_hyp, list_label = [], []\n",
    "\n",
    "pbar = tqdm(test_loader, leave=True, total=len(test_loader))\n",
    "for i, batch_data in enumerate(pbar):\n",
    "    _, batch_hyp, _ = forward_sequence_classification(best_model, batch_data[:-1], i2w=i2w, device=device_idx)\n",
    "    list_hyp += batch_hyp\n",
    "\n",
    "# Save prediction\n",
    "df = pd.DataFrame({'label':list_hyp}).reset_index()"
   ]
  },
  {
   "cell_type": "code",
   "execution_count": 24,
   "id": "624ada39",
   "metadata": {
    "ExecuteTime": {
     "end_time": "2022-03-22T07:00:23.136311Z",
     "start_time": "2022-03-22T07:00:23.115381Z"
    }
   },
   "outputs": [
    {
     "name": "stdout",
     "output_type": "stream",
     "text": [
      "accuracy 0.54\n",
      "                            precision    recall  f1-score   support\n",
      "\n",
      "    bali dan nusa tenggara       0.82      0.60      0.69        15\n",
      "               jabodetabek       0.20      0.75      0.32        12\n",
      "     jawa barat dan banten       0.69      0.58      0.63        19\n",
      "jawa tengah dan yogyakarta       0.58      0.58      0.58        19\n",
      "                jawa timur       0.67      0.33      0.44        18\n",
      "                kalimantan       0.67      0.53      0.59        15\n",
      "          maluku dan papua       0.83      0.83      0.83        12\n",
      "                  sulawesi       0.80      0.50      0.62         8\n",
      "                  sumatera       0.83      0.31      0.45        16\n",
      "\n",
      "                  accuracy                           0.54       134\n",
      "                 macro avg       0.68      0.56      0.57       134\n",
      "              weighted avg       0.68      0.54      0.57       134\n",
      "\n"
     ]
    }
   ],
   "source": [
    "from sklearn.metrics import accuracy_score, f1_score, recall_score, precision_score, classification_report\n",
    "\n",
    "\n",
    "## get y_pred for tweets level\n",
    "y_pred_tweets_lvl_person = df.iloc[:,1].astype('category')\n",
    "y_pred_tweets_lvl_person = y_pred_tweets_lvl_person.cat.codes\n",
    "\n",
    "\n",
    "## print classification report for user level prediction\n",
    "print('accuracy %s' % round(accuracy_score(persontest.Lvalue, y_pred_tweets_lvl_person),2 ))\n",
    "print(classification_report(persontest.Lvalue, y_pred_tweets_lvl_person,target_names=label_dict.keys()))"
   ]
  },
  {
   "cell_type": "code",
   "execution_count": null,
   "id": "072d2129",
   "metadata": {},
   "outputs": [],
   "source": []
  }
 ],
 "metadata": {
  "kernelspec": {
   "display_name": "Python 3",
   "language": "python",
   "name": "python3"
  },
  "language_info": {
   "codemirror_mode": {
    "name": "ipython",
    "version": 3
   },
   "file_extension": ".py",
   "mimetype": "text/x-python",
   "name": "python",
   "nbconvert_exporter": "python",
   "pygments_lexer": "ipython3",
   "version": "3.8.10"
  },
  "toc": {
   "base_numbering": 1,
   "nav_menu": {
    "height": "79px",
    "width": "212px"
   },
   "number_sections": true,
   "sideBar": true,
   "skip_h1_title": false,
   "title_cell": "Table of Contents",
   "title_sidebar": "Contents",
   "toc_cell": false,
   "toc_position": {
    "height": "calc(100% - 180px)",
    "left": "10px",
    "top": "150px",
    "width": "384px"
   },
   "toc_section_display": true,
   "toc_window_display": true
  },
  "varInspector": {
   "cols": {
    "lenName": 16,
    "lenType": 16,
    "lenVar": 40
   },
   "kernels_config": {
    "python": {
     "delete_cmd_postfix": "",
     "delete_cmd_prefix": "del ",
     "library": "var_list.py",
     "varRefreshCmd": "print(var_dic_list())"
    },
    "r": {
     "delete_cmd_postfix": ") ",
     "delete_cmd_prefix": "rm(",
     "library": "var_list.r",
     "varRefreshCmd": "cat(var_dic_list()) "
    }
   },
   "types_to_exclude": [
    "module",
    "function",
    "builtin_function_or_method",
    "instance",
    "_Feature"
   ],
   "window_display": false
  }
 },
 "nbformat": 4,
 "nbformat_minor": 5
}
