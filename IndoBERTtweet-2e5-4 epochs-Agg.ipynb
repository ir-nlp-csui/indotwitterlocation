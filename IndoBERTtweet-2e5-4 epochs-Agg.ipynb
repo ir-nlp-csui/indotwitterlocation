{
 "cells": [
  {
   "cell_type": "markdown",
   "id": "bf39260a",
   "metadata": {},
   "source": [
    "# Library import"
   ]
  },
  {
   "cell_type": "code",
   "execution_count": 1,
   "id": "880e9a12",
   "metadata": {
    "ExecuteTime": {
     "end_time": "2022-03-13T11:43:48.104594Z",
     "start_time": "2022-03-13T11:43:48.102076Z"
    }
   },
   "outputs": [],
   "source": [
    "# !pip install transformers -q"
   ]
  },
  {
   "cell_type": "code",
   "execution_count": 2,
   "id": "76fcfbfc",
   "metadata": {
    "ExecuteTime": {
     "end_time": "2022-03-13T11:43:49.641698Z",
     "start_time": "2022-03-13T11:43:48.106468Z"
    }
   },
   "outputs": [],
   "source": [
    "import pandas as pd\n",
    "import os\n",
    "import torch\n",
    "from torch.utils.data import Dataset, DataLoader, RandomSampler, SequentialSampler\n",
    "from torch import optim\n",
    "import torch.nn.functional as F\n",
    "from tqdm import tqdm\n",
    "from transformers import BertForSequenceClassification, BertConfig, BertTokenizer"
   ]
  },
  {
   "cell_type": "code",
   "execution_count": 3,
   "id": "3a02556d",
   "metadata": {
    "ExecuteTime": {
     "end_time": "2022-03-13T11:43:49.646347Z",
     "start_time": "2022-03-13T11:43:49.643940Z"
    },
    "scrolled": true
   },
   "outputs": [],
   "source": [
    "userPATH ='revision_dataset/'\n",
    "tweetPATH = 'revision_dataset/tweetAgg/'"
   ]
  },
  {
   "cell_type": "code",
   "execution_count": 4,
   "id": "425ef103",
   "metadata": {
    "ExecuteTime": {
     "end_time": "2022-03-13T11:43:49.658308Z",
     "start_time": "2022-03-13T11:43:49.647965Z"
    }
   },
   "outputs": [],
   "source": [
    "userlvltrain = pd.read_csv(userPATH+'/userlvltrain.csv')\n",
    "userlvltest = pd.read_csv(userPATH+'/userlvltest.csv')\n",
    "userlvlval = pd.read_csv(userPATH+'/userlvlval.csv')"
   ]
  },
  {
   "cell_type": "code",
   "execution_count": 5,
   "id": "ed2ad9a0",
   "metadata": {
    "ExecuteTime": {
     "end_time": "2022-03-13T11:43:49.756378Z",
     "start_time": "2022-03-13T11:43:49.659977Z"
    }
   },
   "outputs": [],
   "source": [
    "train_df = pd.read_csv(tweetPATH+'aggtrain_df.csv')\n",
    "train_df['userLocation'] = userlvltrain.userLocation\n",
    "test_df = pd.read_csv(tweetPATH+'aggtest_df.csv')\n",
    "test_df['userLocation'] = userlvltest.userLocation\n",
    "val_df = pd.read_csv(tweetPATH+'aggval_df.csv')\n",
    "val_df['userLocation'] = userlvlval.userLocation"
   ]
  },
  {
   "cell_type": "code",
   "execution_count": 6,
   "id": "dda8191a",
   "metadata": {
    "ExecuteTime": {
     "end_time": "2022-03-13T11:43:49.764189Z",
     "start_time": "2022-03-13T11:43:49.758801Z"
    },
    "code_folding": []
   },
   "outputs": [
    {
     "name": "stdout",
     "output_type": "stream",
     "text": [
      "{'bali dan nusa tenggara': 0, 'jabodetabek': 1, 'jawa barat dan banten': 2, 'jawa tengah dan yogyakarta': 3, 'jawa timur': 4, 'kalimantan': 5, 'maluku dan papua': 6, 'sulawesi': 7, 'sumatera': 8}\n",
      "{0: 'bali dan nusa tenggara', 1: 'jabodetabek', 2: 'jawa barat dan banten', 3: 'jawa tengah dan yogyakarta', 4: 'jawa timur', 5: 'kalimantan', 6: 'maluku dan papua', 7: 'sulawesi', 8: 'sumatera'}\n"
     ]
    }
   ],
   "source": [
    "# prepare data for BERT training and save in newdata/\n",
    "if not os.path.exists('newdata/'): \n",
    "    os.mkdir('newdata/')\n",
    "    train_df.to_csv('newdata/train.csv', index=False)\n",
    "    test_df.to_csv('newdata/test.csv', index=False)\n",
    "    val_df.to_csv('newdata/dev.csv', index=False)\n",
    "\n",
    "possible_labels = train_df.userLocation.unique()\n",
    "possible_labels.sort()\n",
    "label_dict = {}\n",
    "for index, possible_label in enumerate(possible_labels):\n",
    "    label_dict[possible_label] = index\n",
    "print(label_dict)\n",
    "inv_label_dict = {v: k for k, v in label_dict.items()}\n",
    "print(inv_label_dict)"
   ]
  },
  {
   "cell_type": "markdown",
   "id": "34717bba",
   "metadata": {},
   "source": [
    "## Setting Cuda"
   ]
  },
  {
   "cell_type": "code",
   "execution_count": 7,
   "id": "52f0d26b",
   "metadata": {
    "ExecuteTime": {
     "end_time": "2022-03-13T11:43:51.056976Z",
     "start_time": "2022-03-13T11:43:49.766327Z"
    }
   },
   "outputs": [
    {
     "name": "stdout",
     "output_type": "stream",
     "text": [
      "Sun Mar 13 11:43:50 2022       \n",
      "+-----------------------------------------------------------------------------+\n",
      "| NVIDIA-SMI 418.126.02   Driver Version: 418.126.02   CUDA Version: 11.4     |\n",
      "|-------------------------------+----------------------+----------------------+\n",
      "| GPU  Name        Persistence-M| Bus-Id        Disp.A | Volatile Uncorr. ECC |\n",
      "| Fan  Temp  Perf  Pwr:Usage/Cap|         Memory-Usage | GPU-Util  Compute M. |\n",
      "|===============================+======================+======================|\n",
      "|   0  Tesla V100-SXM2...  On   | 00000000:06:00.0 Off |                    0 |\n",
      "| N/A   34C    P0    56W / 300W |  32476MiB / 32480MiB |      0%      Default |\n",
      "+-------------------------------+----------------------+----------------------+\n",
      "|   1  Tesla V100-SXM2...  On   | 00000000:07:00.0 Off |                    0 |\n",
      "| N/A   45C    P0   158W / 300W |  17936MiB / 32480MiB |     91%      Default |\n",
      "+-------------------------------+----------------------+----------------------+\n",
      "|   2  Tesla V100-SXM2...  On   | 00000000:0A:00.0 Off |                    0 |\n",
      "| N/A   48C    P0   154W / 300W |  17262MiB / 32480MiB |     91%      Default |\n",
      "+-------------------------------+----------------------+----------------------+\n",
      "|   3  Tesla V100-SXM2...  On   | 00000000:0B:00.0 Off |                    0 |\n",
      "| N/A   36C    P0    56W / 300W |  15455MiB / 32480MiB |      0%      Default |\n",
      "+-------------------------------+----------------------+----------------------+\n",
      "|   4  Tesla V100-SXM2...  On   | 00000000:85:00.0 Off |                    0 |\n",
      "| N/A   38C    P0    58W / 300W |  19049MiB / 32480MiB |      0%      Default |\n",
      "+-------------------------------+----------------------+----------------------+\n",
      "|   5  Tesla V100-SXM2...  On   | 00000000:86:00.0 Off |                    0 |\n",
      "| N/A   58C    P0   140W / 300W |  23981MiB / 32480MiB |     84%      Default |\n",
      "+-------------------------------+----------------------+----------------------+\n",
      "|   6  Tesla V100-SXM2...  On   | 00000000:89:00.0 Off |                    0 |\n",
      "| N/A   61C    P0   185W / 300W |  31598MiB / 32480MiB |    100%      Default |\n",
      "+-------------------------------+----------------------+----------------------+\n",
      "|   7  Tesla V100-SXM2...  On   | 00000000:8A:00.0 Off |                    0 |\n",
      "| N/A   34C    P0    55W / 300W |  31433MiB / 32480MiB |      0%      Default |\n",
      "+-------------------------------+----------------------+----------------------+\n",
      "                                                                               \n",
      "+-----------------------------------------------------------------------------+\n",
      "| Processes:                                                       GPU Memory |\n",
      "|  GPU       PID   Type   Process name                             Usage      |\n",
      "|=============================================================================|\n",
      "+-----------------------------------------------------------------------------+\n"
     ]
    }
   ],
   "source": [
    "!nvidia-smi"
   ]
  },
  {
   "cell_type": "code",
   "execution_count": 8,
   "id": "4f6d3b12",
   "metadata": {
    "ExecuteTime": {
     "end_time": "2022-03-13T11:43:51.246860Z",
     "start_time": "2022-03-13T11:43:51.059207Z"
    }
   },
   "outputs": [
    {
     "data": {
      "text/plain": [
       "3"
      ]
     },
     "execution_count": 8,
     "metadata": {},
     "output_type": "execute_result"
    }
   ],
   "source": [
    "torch.cuda.set_device(3)\n",
    "device = torch.device('cuda:3' if torch.cuda.is_available() else 'cpu')\n",
    "device_idx = \"cuda:3\"\n",
    "torch.cuda.current_device()"
   ]
  },
  {
   "cell_type": "code",
   "execution_count": 9,
   "id": "63848cd5",
   "metadata": {
    "ExecuteTime": {
     "end_time": "2022-03-13T11:43:51.271194Z",
     "start_time": "2022-03-13T11:43:51.248848Z"
    },
    "code_folding": [
     3,
     9,
     15,
     19,
     25,
     92,
     124,
     136,
     149,
     164
    ]
   },
   "outputs": [],
   "source": [
    "import random \n",
    "import numpy as np\n",
    "\n",
    "def set_seed(seed):\n",
    "    random.seed(seed)\n",
    "    np.random.seed(seed)\n",
    "    torch.manual_seed(seed)\n",
    "    torch.cuda.manual_seed(seed)\n",
    "    \n",
    "def count_param(module, trainable=False):\n",
    "    if trainable:\n",
    "        return sum(p.numel() for p in module.parameters() if p.requires_grad)\n",
    "    else:\n",
    "        return sum(p.numel() for p in module.parameters())\n",
    "    \n",
    "def get_lr(optimizer):\n",
    "    for param_group in optimizer.param_groups:\n",
    "        return param_group['lr']\n",
    "\n",
    "def metrics_to_string(metric_dict):\n",
    "    string_list = []\n",
    "    for key, value in metric_dict.items():\n",
    "        string_list.append('{}:{:.2f}'.format(key, value))\n",
    "    return ' '.join(string_list)\n",
    "\n",
    "def location_prediction_metrics(list_hyp, list_label):\n",
    "    metrics = {}\n",
    "    metrics[\"ACC\"] = accuracy_score(list_label, list_hyp)\n",
    "    metrics[\"F1\"] = f1_score(list_label, list_hyp, average='macro')\n",
    "    metrics[\"REC\"] = recall_score(list_label, list_hyp, average='macro')\n",
    "    metrics[\"PRE\"] = precision_score(list_label, list_hyp, average='macro')\n",
    "    return metrics\n",
    "\n",
    "\n",
    "class LocationPredictionDataset(Dataset):\n",
    "    # Static constant variable\n",
    "    LABEL2INDEX = label_dict\n",
    "    INDEX2LABEL = inv_label_dict\n",
    "    NUM_LABELS = 9\n",
    "    \n",
    "    def load_dataset(self, path): \n",
    "        df = pd.read_csv(path, sep=',')\n",
    "        # df.columns = ['screenName','tweets','userLocation', 'mentionedLocation','label', 'final_feat']\n",
    "        df['userLocation'] = df['userLocation'].apply(lambda lab: self.LABEL2INDEX[lab])\n",
    "        return df\n",
    "    \n",
    "    def __init__(self, dataset_path, tokenizer, no_special_token=False, *args, **kwargs):\n",
    "        self.data = self.load_dataset(dataset_path)\n",
    "        self.tokenizer = tokenizer\n",
    "        self.no_special_token = no_special_token\n",
    "    \n",
    "    def __getitem__(self, index):\n",
    "        data = self.data.loc[index,:]\n",
    "        tweets, labels = data['text'], data['userLocation']\n",
    "        subwords = self.tokenizer.encode(tweets, add_special_tokens=not self.no_special_token)\n",
    "        return np.array(subwords), np.array(labels), data['text']\n",
    "    \n",
    "    def __len__(self):\n",
    "        return len(self.data)    \n",
    "        \n",
    "class LocationPredictionDataLoader(DataLoader):\n",
    "    def __init__(self, max_seq_len=512, *args, **kwargs):\n",
    "        super(LocationPredictionDataLoader, self).__init__(*args, **kwargs)\n",
    "        self.collate_fn = self._collate_fn\n",
    "        self.max_seq_len = max_seq_len\n",
    "        \n",
    "    def _collate_fn(self, batch):\n",
    "        batch_size = len(batch)\n",
    "        max_seq_len = max(map(lambda x: len(x[0]), batch))\n",
    "        max_seq_len = min(self.max_seq_len, max_seq_len)\n",
    "        \n",
    "        subword_batch = np.zeros((batch_size, max_seq_len), dtype=np.int64)\n",
    "        mask_batch = np.zeros((batch_size, max_seq_len), dtype=np.float32)\n",
    "        class_batch = np.zeros((batch_size, 1), dtype=np.int64)\n",
    "        \n",
    "        seq_list = []\n",
    "        for i, (subwords, tagging, raw_seq) in enumerate(batch):\n",
    "            subwords = subwords[:max_seq_len]\n",
    "            subword_batch[i,:len(subwords)] = subwords\n",
    "            mask_batch[i,:len(subwords)] = 1\n",
    "            class_batch[i,0] = tagging\n",
    "            \n",
    "            seq_list.append(raw_seq)\n",
    "            \n",
    "        return subword_batch, mask_batch, class_batch, seq_list\n",
    "\n",
    "# Forward function for sequence classification\n",
    "def forward_sequence_classification(model, batch_data, i2w, is_test=False, device='cpu', **kwargs):\n",
    "    # Unpack batch data\n",
    "    if len(batch_data) == 3:\n",
    "        (subword_batch, mask_batch, label_batch) = batch_data\n",
    "        token_type_batch = None\n",
    "    elif len(batch_data) == 4:\n",
    "        (subword_batch, mask_batch, token_type_batch, label_batch) = batch_data\n",
    "    \n",
    "    # Prepare input & label\n",
    "    subword_batch = torch.LongTensor(subword_batch)\n",
    "    mask_batch = torch.FloatTensor(mask_batch)\n",
    "    token_type_batch = torch.LongTensor(token_type_batch) if token_type_batch is not None else None\n",
    "    label_batch = torch.LongTensor(label_batch)\n",
    "            \n",
    "    if device == device_idx:\n",
    "        subword_batch = subword_batch.cuda()\n",
    "        mask_batch = mask_batch.cuda()\n",
    "        token_type_batch = token_type_batch.cuda() if token_type_batch is not None else None\n",
    "        label_batch = label_batch.cuda()\n",
    "\n",
    "    # Forward model\n",
    "    outputs = model(subword_batch, attention_mask=mask_batch, token_type_ids=token_type_batch, labels=label_batch)\n",
    "    loss, logits = outputs[:2]\n",
    "    \n",
    "    # generate prediction & label list\n",
    "    list_hyp = []\n",
    "    list_label = []\n",
    "    hyp = torch.topk(logits, 1)[1]\n",
    "    for j in range(len(hyp)):\n",
    "        list_hyp.append(i2w[hyp[j].item()])\n",
    "        list_label.append(i2w[label_batch[j][0].item()])\n",
    "        \n",
    "    return loss, list_hyp, list_label\n",
    "\n",
    "# Save and Load Functions\n",
    "\n",
    "# pada fungsi ini dilakukan penyimpanan model, optimizer, dan validation loss\n",
    "def save_checkpoint(save_path, model, optimizer, valid_loss):\n",
    "\n",
    "    if save_path == None:\n",
    "        return\n",
    "    \n",
    "    state_dict = {'model_state_dict': model.state_dict(),\n",
    "                  'optimizer_state_dict': optimizer.state_dict(),\n",
    "                  'valid_loss': valid_loss}\n",
    "    \n",
    "    torch.save(state_dict, save_path)\n",
    "\n",
    "# untuk meload loss yang telah disimpan\n",
    "def load_checkpoint(load_path, model, optimizer):\n",
    "\n",
    "    if load_path==None:\n",
    "        return\n",
    "    \n",
    "    state_dict = torch.load(load_path, map_location=device)\n",
    "    \n",
    "    model.load_state_dict(state_dict['model_state_dict'])\n",
    "    optimizer.load_state_dict(state_dict['optimizer_state_dict'])\n",
    "    \n",
    "    return state_dict['valid_loss']\n",
    "\n",
    "# pada fungsi ini accuracy dan loss disimpan \n",
    "def save_metrics(save_path, train_acc_list, train_loss_list, valid_acc_list, valid_loss_list, epochs):\n",
    "\n",
    "    if save_path == None:\n",
    "        return\n",
    "    \n",
    "    state_dict = {'train_acc_list': train_acc_list,\n",
    "                  'train_loss_list': train_loss_list,\n",
    "                  'valid_acc_list': valid_acc_list,\n",
    "                  'valid_loss_list': valid_loss_list,\n",
    "                  'epochs_list': epochs}\n",
    "    \n",
    "    torch.save(state_dict, save_path)\n",
    "    # print(f'Model saved to ==> {save_path}')\n",
    "\n",
    "# fungsi untuk melakukan load accuracy dan loss \n",
    "def load_metrics(load_path): \n",
    "\n",
    "    if load_path==None:\n",
    "        return\n",
    "    state_dict = torch.load(load_path)    \n",
    "    \n",
    "    return state_dict['train_acc_list'],state_dict['train_loss_list'], state_dict['valid_acc_list'], state_dict['valid_loss_list'], state_dict['epochs_list']"
   ]
  },
  {
   "cell_type": "markdown",
   "id": "c221564c",
   "metadata": {},
   "source": [
    "## Prepare Dataset"
   ]
  },
  {
   "cell_type": "code",
   "execution_count": 10,
   "id": "a1a9df68",
   "metadata": {
    "ExecuteTime": {
     "end_time": "2022-03-13T11:44:02.013623Z",
     "start_time": "2022-03-13T11:43:51.273303Z"
    },
    "scrolled": true
   },
   "outputs": [
    {
     "name": "stderr",
     "output_type": "stream",
     "text": [
      "Some weights of the model checkpoint at indolem/indobertweet-base-uncased were not used when initializing BertForSequenceClassification: ['cls.predictions.transform.dense.weight', 'cls.predictions.bias', 'cls.predictions.decoder.weight', 'cls.predictions.decoder.bias', 'cls.predictions.transform.dense.bias', 'cls.predictions.transform.LayerNorm.bias', 'cls.predictions.transform.LayerNorm.weight']\n",
      "- This IS expected if you are initializing BertForSequenceClassification from the checkpoint of a model trained on another task or with another architecture (e.g. initializing a BertForSequenceClassification model from a BertForPreTraining model).\n",
      "- This IS NOT expected if you are initializing BertForSequenceClassification from the checkpoint of a model that you expect to be exactly identical (initializing a BertForSequenceClassification model from a BertForSequenceClassification model).\n",
      "Some weights of BertForSequenceClassification were not initialized from the model checkpoint at indolem/indobertweet-base-uncased and are newly initialized: ['classifier.bias', 'classifier.weight']\n",
      "You should probably TRAIN this model on a down-stream task to be able to use it for predictions and inference.\n"
     ]
    }
   ],
   "source": [
    "set_seed(42)\n",
    "\n",
    "#Load Tokenizer and Config\n",
    "tokenizer = BertTokenizer.from_pretrained('indolem/indobertweet-base-uncased')\n",
    "config = BertConfig.from_pretrained('indolem/indobertweet-base-uncased',\n",
    "                                    attention_probs_dropout_prob=0.3,\n",
    "                                    hidden_dropout_prob=0.3)\n",
    "config.num_labels = LocationPredictionDataset.NUM_LABELS\n",
    "\n",
    "# Instantiate model\n",
    "model = BertForSequenceClassification.from_pretrained('indolem/indobertweet-base-uncased', \n",
    "                                                      config=config)\n",
    "\n",
    "train_dataset = LocationPredictionDataset(\"newdata/train.csv\", tokenizer, lowercase=True)\n",
    "valid_dataset = LocationPredictionDataset(\"newdata/dev.csv\", tokenizer, lowercase=True)\n",
    "test_dataset = LocationPredictionDataset(\"newdata/test.csv\", tokenizer, lowercase=True)\n",
    "\n",
    "\n",
    "learning_rate = 2e-5\n",
    "batch_size = 16\n",
    "epochs = 7\n",
    "\n",
    "train_loader = LocationPredictionDataLoader(dataset=train_dataset, max_seq_len=512, batch_size=batch_size, num_workers=16, shuffle=True)  \n",
    "valid_loader = LocationPredictionDataLoader(dataset=valid_dataset, max_seq_len=512, batch_size=batch_size, num_workers=16, shuffle=False)  \n",
    "test_loader = LocationPredictionDataLoader(dataset=test_dataset, max_seq_len=512, batch_size=batch_size, num_workers=16, shuffle=False)"
   ]
  },
  {
   "cell_type": "code",
   "execution_count": 11,
   "id": "93deaa87",
   "metadata": {
    "ExecuteTime": {
     "end_time": "2022-03-13T11:44:02.018452Z",
     "start_time": "2022-03-13T11:44:02.015423Z"
    },
    "scrolled": true
   },
   "outputs": [
    {
     "name": "stdout",
     "output_type": "stream",
     "text": [
      "{'bali dan nusa tenggara': 0, 'jabodetabek': 1, 'jawa barat dan banten': 2, 'jawa tengah dan yogyakarta': 3, 'jawa timur': 4, 'kalimantan': 5, 'maluku dan papua': 6, 'sulawesi': 7, 'sumatera': 8} \n",
      " {0: 'bali dan nusa tenggara', 1: 'jabodetabek', 2: 'jawa barat dan banten', 3: 'jawa tengah dan yogyakarta', 4: 'jawa timur', 5: 'kalimantan', 6: 'maluku dan papua', 7: 'sulawesi', 8: 'sumatera'}\n"
     ]
    }
   ],
   "source": [
    "w2i, i2w = LocationPredictionDataset.LABEL2INDEX, LocationPredictionDataset.INDEX2LABEL\n",
    "print(w2i, '\\n', i2w)"
   ]
  },
  {
   "cell_type": "markdown",
   "id": "07e5d47b",
   "metadata": {},
   "source": [
    "## Fine Tuning and Evaluation"
   ]
  },
  {
   "cell_type": "code",
   "execution_count": 12,
   "id": "530c9ef8",
   "metadata": {
    "ExecuteTime": {
     "end_time": "2022-03-13T11:44:04.836200Z",
     "start_time": "2022-03-13T11:44:02.019951Z"
    }
   },
   "outputs": [],
   "source": [
    "torch.cuda.empty_cache()\n",
    "optimizer = optim.AdamW(model.parameters(), lr=learning_rate)\n",
    "model = model.cuda()"
   ]
  },
  {
   "cell_type": "markdown",
   "id": "ac74786c",
   "metadata": {},
   "source": [
    "### training"
   ]
  },
  {
   "cell_type": "code",
   "execution_count": 13,
   "id": "fe944233",
   "metadata": {
    "ExecuteTime": {
     "end_time": "2022-03-13T11:44:04.841534Z",
     "start_time": "2022-03-13T11:44:04.838016Z"
    }
   },
   "outputs": [],
   "source": [
    "file_path = 'saved_model_agg/'\n",
    "if not os.path.exists(file_path): \n",
    "    os.mkdir(file_path)\n",
    "\n",
    "model_name = 'indobertweet_model'\n",
    "metrics_name = 'indobertweet_metrics'\n",
    "\n",
    "model_path = file_path+model_name+'_'+str(batch_size)+'_'+str(epochs)+'_'+str(learning_rate)+'.pt'\n",
    "metrics_path = file_path+metrics_name+'_'+str(batch_size)+'_'+str(epochs)+'_'+str(learning_rate)+'.pt'"
   ]
  },
  {
   "cell_type": "code",
   "execution_count": 14,
   "id": "86480e6b",
   "metadata": {
    "ExecuteTime": {
     "end_time": "2022-03-13T11:48:07.762304Z",
     "start_time": "2022-03-13T11:44:04.843177Z"
    }
   },
   "outputs": [
    {
     "name": "stderr",
     "output_type": "stream",
     "text": [
      "(Epoch 1) TRAIN LOSS:2.2139 LR:0.00002000: 100%|██████████| 57/57 [00:29<00:00,  1.91it/s]\n"
     ]
    },
    {
     "name": "stdout",
     "output_type": "stream",
     "text": [
      "(Epoch 1) TRAIN LOSS:2.2139 ACC:0.13 F1:0.12 REC:0.12 PRE:0.12 LR:0.00002000\n"
     ]
    },
    {
     "name": "stderr",
     "output_type": "stream",
     "text": [
      "  0%|          | 0/7 [00:00<?, ?it/s]/opt/conda/lib/python3.8/site-packages/sklearn/metrics/_classification.py:1248: UndefinedMetricWarning: Recall is ill-defined and being set to 0.0 in labels with no true samples. Use `zero_division` parameter to control this behavior.\n",
      "  _warn_prf(average, modifier, msg_start, len(result))\n",
      "/opt/conda/lib/python3.8/site-packages/sklearn/metrics/_classification.py:1248: UndefinedMetricWarning: Precision is ill-defined and being set to 0.0 in labels with no predicted samples. Use `zero_division` parameter to control this behavior.\n",
      "  _warn_prf(average, modifier, msg_start, len(result))\n",
      "VALID LOSS:2.1066 ACC:0.25 F1:0.05 REC:0.09 PRE:0.03:  14%|█▍        | 1/7 [00:01<00:08,  1.38s/it]/opt/conda/lib/python3.8/site-packages/sklearn/metrics/_classification.py:1248: UndefinedMetricWarning: Precision is ill-defined and being set to 0.0 in labels with no predicted samples. Use `zero_division` parameter to control this behavior.\n",
      "  _warn_prf(average, modifier, msg_start, len(result))\n",
      "VALID LOSS:2.1680 ACC:0.12 F1:0.03 REC:0.06 PRE:0.02:  29%|██▊       | 2/7 [00:01<00:03,  1.50it/s]/opt/conda/lib/python3.8/site-packages/sklearn/metrics/_classification.py:1248: UndefinedMetricWarning: Precision is ill-defined and being set to 0.0 in labels with no predicted samples. Use `zero_division` parameter to control this behavior.\n",
      "  _warn_prf(average, modifier, msg_start, len(result))\n",
      "VALID LOSS:2.1803 ACC:0.10 F1:0.04 REC:0.08 PRE:0.05:  43%|████▎     | 3/7 [00:01<00:01,  2.28it/s]/opt/conda/lib/python3.8/site-packages/sklearn/metrics/_classification.py:1248: UndefinedMetricWarning: Precision is ill-defined and being set to 0.0 in labels with no predicted samples. Use `zero_division` parameter to control this behavior.\n",
      "  _warn_prf(average, modifier, msg_start, len(result))\n",
      "VALID LOSS:2.1870 ACC:0.11 F1:0.06 REC:0.09 PRE:0.07:  57%|█████▋    | 4/7 [00:01<00:00,  3.02it/s]/opt/conda/lib/python3.8/site-packages/sklearn/metrics/_classification.py:1248: UndefinedMetricWarning: Precision is ill-defined and being set to 0.0 in labels with no predicted samples. Use `zero_division` parameter to control this behavior.\n",
      "  _warn_prf(average, modifier, msg_start, len(result))\n",
      "VALID LOSS:2.1735 ACC:0.12 F1:0.06 REC:0.10 PRE:0.07:  71%|███████▏  | 5/7 [00:02<00:00,  3.67it/s]/opt/conda/lib/python3.8/site-packages/sklearn/metrics/_classification.py:1248: UndefinedMetricWarning: Precision is ill-defined and being set to 0.0 in labels with no predicted samples. Use `zero_division` parameter to control this behavior.\n",
      "  _warn_prf(average, modifier, msg_start, len(result))\n",
      "VALID LOSS:2.1755 ACC:0.11 F1:0.06 REC:0.10 PRE:0.07:  86%|████████▌ | 6/7 [00:02<00:00,  4.22it/s]/opt/conda/lib/python3.8/site-packages/sklearn/metrics/_classification.py:1248: UndefinedMetricWarning: Precision is ill-defined and being set to 0.0 in labels with no predicted samples. Use `zero_division` parameter to control this behavior.\n",
      "  _warn_prf(average, modifier, msg_start, len(result))\n",
      "VALID LOSS:2.2004 ACC:0.11 F1:0.06 REC:0.10 PRE:0.07: 100%|██████████| 7/7 [00:02<00:00,  2.99it/s]\n",
      "/opt/conda/lib/python3.8/site-packages/sklearn/metrics/_classification.py:1248: UndefinedMetricWarning: Precision is ill-defined and being set to 0.0 in labels with no predicted samples. Use `zero_division` parameter to control this behavior.\n",
      "  _warn_prf(average, modifier, msg_start, len(result))\n"
     ]
    },
    {
     "name": "stdout",
     "output_type": "stream",
     "text": [
      "(Epoch 1) VALID LOSS:2.2004 ACC:0.11 F1:0.06 REC:0.10 PRE:0.07\n"
     ]
    },
    {
     "name": "stderr",
     "output_type": "stream",
     "text": [
      "(Epoch 2) TRAIN LOSS:2.2109 LR:0.00002000: 100%|██████████| 57/57 [00:29<00:00,  1.96it/s]\n"
     ]
    },
    {
     "name": "stdout",
     "output_type": "stream",
     "text": [
      "(Epoch 2) TRAIN LOSS:2.2109 ACC:0.14 F1:0.11 REC:0.12 PRE:0.12 LR:0.00002000\n"
     ]
    },
    {
     "name": "stderr",
     "output_type": "stream",
     "text": [
      "  0%|          | 0/7 [00:00<?, ?it/s]/opt/conda/lib/python3.8/site-packages/sklearn/metrics/_classification.py:1248: UndefinedMetricWarning: Precision is ill-defined and being set to 0.0 in labels with no predicted samples. Use `zero_division` parameter to control this behavior.\n",
      "  _warn_prf(average, modifier, msg_start, len(result))\n",
      "VALID LOSS:2.0511 ACC:0.31 F1:0.15 REC:0.24 PRE:0.19:  14%|█▍        | 1/7 [00:01<00:07,  1.33s/it]/opt/conda/lib/python3.8/site-packages/sklearn/metrics/_classification.py:1248: UndefinedMetricWarning: Precision is ill-defined and being set to 0.0 in labels with no predicted samples. Use `zero_division` parameter to control this behavior.\n",
      "  _warn_prf(average, modifier, msg_start, len(result))\n",
      "VALID LOSS:2.2223 ACC:0.19 F1:0.10 REC:0.14 PRE:0.15:  29%|██▊       | 2/7 [00:01<00:03,  1.55it/s]/opt/conda/lib/python3.8/site-packages/sklearn/metrics/_classification.py:1248: UndefinedMetricWarning: Precision is ill-defined and being set to 0.0 in labels with no predicted samples. Use `zero_division` parameter to control this behavior.\n",
      "  _warn_prf(average, modifier, msg_start, len(result))\n",
      "VALID LOSS:2.2542 ACC:0.15 F1:0.07 REC:0.12 PRE:0.14:  43%|████▎     | 3/7 [00:01<00:01,  2.33it/s]/opt/conda/lib/python3.8/site-packages/sklearn/metrics/_classification.py:1248: UndefinedMetricWarning: Precision is ill-defined and being set to 0.0 in labels with no predicted samples. Use `zero_division` parameter to control this behavior.\n",
      "  _warn_prf(average, modifier, msg_start, len(result))\n",
      "VALID LOSS:2.2295 ACC:0.17 F1:0.08 REC:0.13 PRE:0.15:  57%|█████▋    | 4/7 [00:01<00:00,  3.07it/s]/opt/conda/lib/python3.8/site-packages/sklearn/metrics/_classification.py:1248: UndefinedMetricWarning: Precision is ill-defined and being set to 0.0 in labels with no predicted samples. Use `zero_division` parameter to control this behavior.\n",
      "  _warn_prf(average, modifier, msg_start, len(result))\n",
      "VALID LOSS:2.1988 ACC:0.16 F1:0.07 REC:0.12 PRE:0.15:  71%|███████▏  | 5/7 [00:02<00:00,  3.71it/s]/opt/conda/lib/python3.8/site-packages/sklearn/metrics/_classification.py:1248: UndefinedMetricWarning: Precision is ill-defined and being set to 0.0 in labels with no predicted samples. Use `zero_division` parameter to control this behavior.\n",
      "  _warn_prf(average, modifier, msg_start, len(result))\n",
      "VALID LOSS:2.1869 ACC:0.15 F1:0.07 REC:0.12 PRE:0.14:  86%|████████▌ | 6/7 [00:02<00:00,  4.25it/s]/opt/conda/lib/python3.8/site-packages/sklearn/metrics/_classification.py:1248: UndefinedMetricWarning: Precision is ill-defined and being set to 0.0 in labels with no predicted samples. Use `zero_division` parameter to control this behavior.\n",
      "  _warn_prf(average, modifier, msg_start, len(result))\n",
      "VALID LOSS:2.1653 ACC:0.14 F1:0.06 REC:0.12 PRE:0.14: 100%|██████████| 7/7 [00:02<00:00,  3.05it/s]\n",
      "/opt/conda/lib/python3.8/site-packages/sklearn/metrics/_classification.py:1248: UndefinedMetricWarning: Precision is ill-defined and being set to 0.0 in labels with no predicted samples. Use `zero_division` parameter to control this behavior.\n",
      "  _warn_prf(average, modifier, msg_start, len(result))\n"
     ]
    },
    {
     "name": "stdout",
     "output_type": "stream",
     "text": [
      "(Epoch 2) VALID LOSS:2.1653 ACC:0.14 F1:0.06 REC:0.12 PRE:0.14\n"
     ]
    },
    {
     "name": "stderr",
     "output_type": "stream",
     "text": [
      "(Epoch 3) TRAIN LOSS:2.1236 LR:0.00002000: 100%|██████████| 57/57 [00:28<00:00,  1.97it/s]\n"
     ]
    },
    {
     "name": "stdout",
     "output_type": "stream",
     "text": [
      "(Epoch 3) TRAIN LOSS:2.1236 ACC:0.18 F1:0.15 REC:0.18 PRE:0.26 LR:0.00002000\n"
     ]
    },
    {
     "name": "stderr",
     "output_type": "stream",
     "text": [
      "  0%|          | 0/7 [00:00<?, ?it/s]/opt/conda/lib/python3.8/site-packages/sklearn/metrics/_classification.py:1248: UndefinedMetricWarning: Precision is ill-defined and being set to 0.0 in labels with no predicted samples. Use `zero_division` parameter to control this behavior.\n",
      "  _warn_prf(average, modifier, msg_start, len(result))\n",
      "VALID LOSS:2.0613 ACC:0.25 F1:0.09 REC:0.19 PRE:0.06:  14%|█▍        | 1/7 [00:01<00:08,  1.37s/it]/opt/conda/lib/python3.8/site-packages/sklearn/metrics/_classification.py:1248: UndefinedMetricWarning: Precision is ill-defined and being set to 0.0 in labels with no predicted samples. Use `zero_division` parameter to control this behavior.\n",
      "  _warn_prf(average, modifier, msg_start, len(result))\n",
      "VALID LOSS:2.2284 ACC:0.12 F1:0.05 REC:0.12 PRE:0.03:  29%|██▊       | 2/7 [00:01<00:03,  1.51it/s]/opt/conda/lib/python3.8/site-packages/sklearn/metrics/_classification.py:1248: UndefinedMetricWarning: Precision is ill-defined and being set to 0.0 in labels with no predicted samples. Use `zero_division` parameter to control this behavior.\n",
      "  _warn_prf(average, modifier, msg_start, len(result))\n",
      "VALID LOSS:2.2032 ACC:0.17 F1:0.08 REC:0.15 PRE:0.14:  43%|████▎     | 3/7 [00:01<00:01,  2.29it/s]/opt/conda/lib/python3.8/site-packages/sklearn/metrics/_classification.py:1248: UndefinedMetricWarning: Precision is ill-defined and being set to 0.0 in labels with no predicted samples. Use `zero_division` parameter to control this behavior.\n",
      "  _warn_prf(average, modifier, msg_start, len(result))\n",
      "VALID LOSS:2.1637 ACC:0.19 F1:0.10 REC:0.15 PRE:0.15:  57%|█████▋    | 4/7 [00:01<00:00,  3.02it/s]/opt/conda/lib/python3.8/site-packages/sklearn/metrics/_classification.py:1248: UndefinedMetricWarning: Precision is ill-defined and being set to 0.0 in labels with no predicted samples. Use `zero_division` parameter to control this behavior.\n",
      "  _warn_prf(average, modifier, msg_start, len(result))\n",
      "VALID LOSS:2.1541 ACC:0.17 F1:0.10 REC:0.17 PRE:0.15:  71%|███████▏  | 5/7 [00:02<00:00,  3.67it/s]/opt/conda/lib/python3.8/site-packages/sklearn/metrics/_classification.py:1248: UndefinedMetricWarning: Precision is ill-defined and being set to 0.0 in labels with no predicted samples. Use `zero_division` parameter to control this behavior.\n",
      "  _warn_prf(average, modifier, msg_start, len(result))\n",
      "VALID LOSS:2.1182 ACC:0.19 F1:0.12 REC:0.18 PRE:0.15:  86%|████████▌ | 6/7 [00:02<00:00,  4.18it/s]/opt/conda/lib/python3.8/site-packages/sklearn/metrics/_classification.py:1248: UndefinedMetricWarning: Precision is ill-defined and being set to 0.0 in labels with no predicted samples. Use `zero_division` parameter to control this behavior.\n",
      "  _warn_prf(average, modifier, msg_start, len(result))\n",
      "VALID LOSS:2.0874 ACC:0.20 F1:0.13 REC:0.19 PRE:0.16: 100%|██████████| 7/7 [00:02<00:00,  3.00it/s]\n",
      "/opt/conda/lib/python3.8/site-packages/sklearn/metrics/_classification.py:1248: UndefinedMetricWarning: Precision is ill-defined and being set to 0.0 in labels with no predicted samples. Use `zero_division` parameter to control this behavior.\n",
      "  _warn_prf(average, modifier, msg_start, len(result))\n"
     ]
    },
    {
     "name": "stdout",
     "output_type": "stream",
     "text": [
      "(Epoch 3) VALID LOSS:2.0874 ACC:0.20 F1:0.13 REC:0.19 PRE:0.16\n"
     ]
    },
    {
     "name": "stderr",
     "output_type": "stream",
     "text": [
      "(Epoch 4) TRAIN LOSS:2.0379 LR:0.00002000: 100%|██████████| 57/57 [00:29<00:00,  1.94it/s]\n"
     ]
    },
    {
     "name": "stdout",
     "output_type": "stream",
     "text": [
      "(Epoch 4) TRAIN LOSS:2.0379 ACC:0.22 F1:0.19 REC:0.21 PRE:0.19 LR:0.00002000\n"
     ]
    },
    {
     "name": "stderr",
     "output_type": "stream",
     "text": [
      "  0%|          | 0/7 [00:00<?, ?it/s]/opt/conda/lib/python3.8/site-packages/sklearn/metrics/_classification.py:1248: UndefinedMetricWarning: Recall is ill-defined and being set to 0.0 in labels with no true samples. Use `zero_division` parameter to control this behavior.\n",
      "  _warn_prf(average, modifier, msg_start, len(result))\n",
      "/opt/conda/lib/python3.8/site-packages/sklearn/metrics/_classification.py:1248: UndefinedMetricWarning: Precision is ill-defined and being set to 0.0 in labels with no predicted samples. Use `zero_division` parameter to control this behavior.\n",
      "  _warn_prf(average, modifier, msg_start, len(result))\n",
      "VALID LOSS:2.0835 ACC:0.00 F1:0.00 REC:0.00 PRE:0.00:  14%|█▍        | 1/7 [00:01<00:08,  1.40s/it]/opt/conda/lib/python3.8/site-packages/sklearn/metrics/_classification.py:1248: UndefinedMetricWarning: Precision is ill-defined and being set to 0.0 in labels with no predicted samples. Use `zero_division` parameter to control this behavior.\n",
      "  _warn_prf(average, modifier, msg_start, len(result))\n",
      "VALID LOSS:2.0333 ACC:0.12 F1:0.09 REC:0.15 PRE:0.06:  29%|██▊       | 2/7 [00:01<00:03,  1.48it/s]/opt/conda/lib/python3.8/site-packages/sklearn/metrics/_classification.py:1248: UndefinedMetricWarning: Precision is ill-defined and being set to 0.0 in labels with no predicted samples. Use `zero_division` parameter to control this behavior.\n",
      "  _warn_prf(average, modifier, msg_start, len(result))\n",
      "VALID LOSS:1.9596 ACC:0.23 F1:0.13 REC:0.21 PRE:0.10:  43%|████▎     | 3/7 [00:01<00:01,  2.25it/s]/opt/conda/lib/python3.8/site-packages/sklearn/metrics/_classification.py:1248: UndefinedMetricWarning: Precision is ill-defined and being set to 0.0 in labels with no predicted samples. Use `zero_division` parameter to control this behavior.\n",
      "  _warn_prf(average, modifier, msg_start, len(result))\n",
      "VALID LOSS:1.9585 ACC:0.25 F1:0.15 REC:0.22 PRE:0.21:  57%|█████▋    | 4/7 [00:01<00:01,  2.97it/s]/opt/conda/lib/python3.8/site-packages/sklearn/metrics/_classification.py:1248: UndefinedMetricWarning: Precision is ill-defined and being set to 0.0 in labels with no predicted samples. Use `zero_division` parameter to control this behavior.\n",
      "  _warn_prf(average, modifier, msg_start, len(result))\n",
      "VALID LOSS:1.9420 ACC:0.26 F1:0.17 REC:0.24 PRE:0.22:  71%|███████▏  | 5/7 [00:02<00:00,  3.62it/s]/opt/conda/lib/python3.8/site-packages/sklearn/metrics/_classification.py:1248: UndefinedMetricWarning: Precision is ill-defined and being set to 0.0 in labels with no predicted samples. Use `zero_division` parameter to control this behavior.\n",
      "  _warn_prf(average, modifier, msg_start, len(result))\n",
      "VALID LOSS:1.9590 ACC:0.25 F1:0.18 REC:0.25 PRE:0.33:  86%|████████▌ | 6/7 [00:02<00:00,  4.16it/s]/opt/conda/lib/python3.8/site-packages/sklearn/metrics/_classification.py:1248: UndefinedMetricWarning: Precision is ill-defined and being set to 0.0 in labels with no predicted samples. Use `zero_division` parameter to control this behavior.\n",
      "  _warn_prf(average, modifier, msg_start, len(result))\n",
      "VALID LOSS:1.9819 ACC:0.24 F1:0.18 REC:0.24 PRE:0.33: 100%|██████████| 7/7 [00:02<00:00,  2.95it/s]\n",
      "/opt/conda/lib/python3.8/site-packages/sklearn/metrics/_classification.py:1248: UndefinedMetricWarning: Precision is ill-defined and being set to 0.0 in labels with no predicted samples. Use `zero_division` parameter to control this behavior.\n",
      "  _warn_prf(average, modifier, msg_start, len(result))\n"
     ]
    },
    {
     "name": "stdout",
     "output_type": "stream",
     "text": [
      "(Epoch 4) VALID LOSS:1.9819 ACC:0.24 F1:0.18 REC:0.24 PRE:0.33\n"
     ]
    },
    {
     "name": "stderr",
     "output_type": "stream",
     "text": [
      "(Epoch 5) TRAIN LOSS:1.8419 LR:0.00002000: 100%|██████████| 57/57 [00:29<00:00,  1.95it/s]\n"
     ]
    },
    {
     "name": "stdout",
     "output_type": "stream",
     "text": [
      "(Epoch 5) TRAIN LOSS:1.8419 ACC:0.31 F1:0.29 REC:0.31 PRE:0.30 LR:0.00002000\n"
     ]
    },
    {
     "name": "stderr",
     "output_type": "stream",
     "text": [
      "  0%|          | 0/7 [00:00<?, ?it/s]/opt/conda/lib/python3.8/site-packages/sklearn/metrics/_classification.py:1248: UndefinedMetricWarning: Recall is ill-defined and being set to 0.0 in labels with no true samples. Use `zero_division` parameter to control this behavior.\n",
      "  _warn_prf(average, modifier, msg_start, len(result))\n",
      "/opt/conda/lib/python3.8/site-packages/sklearn/metrics/_classification.py:1248: UndefinedMetricWarning: Precision is ill-defined and being set to 0.0 in labels with no predicted samples. Use `zero_division` parameter to control this behavior.\n",
      "  _warn_prf(average, modifier, msg_start, len(result))\n",
      "VALID LOSS:1.8189 ACC:0.31 F1:0.12 REC:0.20 PRE:0.09:  14%|█▍        | 1/7 [00:01<00:09,  1.51s/it]/opt/conda/lib/python3.8/site-packages/sklearn/metrics/_classification.py:1248: UndefinedMetricWarning: Precision is ill-defined and being set to 0.0 in labels with no predicted samples. Use `zero_division` parameter to control this behavior.\n",
      "  _warn_prf(average, modifier, msg_start, len(result))\n",
      "VALID LOSS:1.8290 ACC:0.28 F1:0.15 REC:0.25 PRE:0.11:  29%|██▊       | 2/7 [00:01<00:03,  1.39it/s]/opt/conda/lib/python3.8/site-packages/sklearn/metrics/_classification.py:1248: UndefinedMetricWarning: Precision is ill-defined and being set to 0.0 in labels with no predicted samples. Use `zero_division` parameter to control this behavior.\n",
      "  _warn_prf(average, modifier, msg_start, len(result))\n",
      "VALID LOSS:1.7585 ACC:0.31 F1:0.22 REC:0.28 PRE:0.30:  43%|████▎     | 3/7 [00:01<00:01,  2.13it/s]/opt/conda/lib/python3.8/site-packages/sklearn/metrics/_classification.py:1248: UndefinedMetricWarning: Precision is ill-defined and being set to 0.0 in labels with no predicted samples. Use `zero_division` parameter to control this behavior.\n",
      "  _warn_prf(average, modifier, msg_start, len(result))\n",
      "VALID LOSS:1.7537 ACC:0.33 F1:0.26 REC:0.30 PRE:0.38:  57%|█████▋    | 4/7 [00:02<00:01,  2.85it/s]/opt/conda/lib/python3.8/site-packages/sklearn/metrics/_classification.py:1248: UndefinedMetricWarning: Precision is ill-defined and being set to 0.0 in labels with no predicted samples. Use `zero_division` parameter to control this behavior.\n",
      "  _warn_prf(average, modifier, msg_start, len(result))\n",
      "VALID LOSS:1.7476 ACC:0.34 F1:0.27 REC:0.31 PRE:0.38:  71%|███████▏  | 5/7 [00:02<00:00,  3.50it/s]/opt/conda/lib/python3.8/site-packages/sklearn/metrics/_classification.py:1248: UndefinedMetricWarning: Precision is ill-defined and being set to 0.0 in labels with no predicted samples. Use `zero_division` parameter to control this behavior.\n",
      "  _warn_prf(average, modifier, msg_start, len(result))\n",
      "VALID LOSS:1.7833 ACC:0.32 F1:0.26 REC:0.31 PRE:0.39:  86%|████████▌ | 6/7 [00:02<00:00,  4.07it/s]/opt/conda/lib/python3.8/site-packages/sklearn/metrics/_classification.py:1248: UndefinedMetricWarning: Precision is ill-defined and being set to 0.0 in labels with no predicted samples. Use `zero_division` parameter to control this behavior.\n",
      "  _warn_prf(average, modifier, msg_start, len(result))\n",
      "VALID LOSS:1.8058 ACC:0.31 F1:0.26 REC:0.30 PRE:0.39: 100%|██████████| 7/7 [00:02<00:00,  2.82it/s]\n",
      "/opt/conda/lib/python3.8/site-packages/sklearn/metrics/_classification.py:1248: UndefinedMetricWarning: Precision is ill-defined and being set to 0.0 in labels with no predicted samples. Use `zero_division` parameter to control this behavior.\n",
      "  _warn_prf(average, modifier, msg_start, len(result))\n"
     ]
    },
    {
     "name": "stdout",
     "output_type": "stream",
     "text": [
      "(Epoch 5) VALID LOSS:1.8058 ACC:0.31 F1:0.26 REC:0.30 PRE:0.39\n"
     ]
    },
    {
     "name": "stderr",
     "output_type": "stream",
     "text": [
      "(Epoch 6) TRAIN LOSS:1.6916 LR:0.00002000: 100%|██████████| 57/57 [00:29<00:00,  1.95it/s]\n"
     ]
    },
    {
     "name": "stdout",
     "output_type": "stream",
     "text": [
      "(Epoch 6) TRAIN LOSS:1.6916 ACC:0.37 F1:0.35 REC:0.36 PRE:0.36 LR:0.00002000\n"
     ]
    },
    {
     "name": "stderr",
     "output_type": "stream",
     "text": [
      "  0%|          | 0/7 [00:00<?, ?it/s]/opt/conda/lib/python3.8/site-packages/sklearn/metrics/_classification.py:1248: UndefinedMetricWarning: Recall is ill-defined and being set to 0.0 in labels with no true samples. Use `zero_division` parameter to control this behavior.\n",
      "  _warn_prf(average, modifier, msg_start, len(result))\n",
      "/opt/conda/lib/python3.8/site-packages/sklearn/metrics/_classification.py:1248: UndefinedMetricWarning: Precision is ill-defined and being set to 0.0 in labels with no predicted samples. Use `zero_division` parameter to control this behavior.\n",
      "  _warn_prf(average, modifier, msg_start, len(result))\n",
      "VALID LOSS:1.8782 ACC:0.38 F1:0.13 REC:0.22 PRE:0.09:  14%|█▍        | 1/7 [00:01<00:08,  1.37s/it]/opt/conda/lib/python3.8/site-packages/sklearn/metrics/_classification.py:1248: UndefinedMetricWarning: Precision is ill-defined and being set to 0.0 in labels with no predicted samples. Use `zero_division` parameter to control this behavior.\n",
      "  _warn_prf(average, modifier, msg_start, len(result))\n",
      "VALID LOSS:1.6893 ACC:0.38 F1:0.23 REC:0.33 PRE:0.19:  29%|██▊       | 2/7 [00:01<00:03,  1.51it/s]/opt/conda/lib/python3.8/site-packages/sklearn/metrics/_classification.py:1248: UndefinedMetricWarning: Precision is ill-defined and being set to 0.0 in labels with no predicted samples. Use `zero_division` parameter to control this behavior.\n",
      "  _warn_prf(average, modifier, msg_start, len(result))\n",
      "VALID LOSS:1.5709 ACC:0.48 F1:0.37 REC:0.43 PRE:0.48:  43%|████▎     | 3/7 [00:01<00:01,  2.29it/s]/opt/conda/lib/python3.8/site-packages/sklearn/metrics/_classification.py:1248: UndefinedMetricWarning: Precision is ill-defined and being set to 0.0 in labels with no predicted samples. Use `zero_division` parameter to control this behavior.\n",
      "  _warn_prf(average, modifier, msg_start, len(result))\n",
      "VALID LOSS:1.5936 ACC:0.42 F1:0.32 REC:0.39 PRE:0.40:  57%|█████▋    | 4/7 [00:01<00:00,  3.02it/s]/opt/conda/lib/python3.8/site-packages/sklearn/metrics/_classification.py:1248: UndefinedMetricWarning: Precision is ill-defined and being set to 0.0 in labels with no predicted samples. Use `zero_division` parameter to control this behavior.\n",
      "  _warn_prf(average, modifier, msg_start, len(result))\n",
      "VALID LOSS:1.5472 ACC:0.45 F1:0.35 REC:0.42 PRE:0.40:  71%|███████▏  | 5/7 [00:02<00:00,  3.65it/s]/opt/conda/lib/python3.8/site-packages/sklearn/metrics/_classification.py:1248: UndefinedMetricWarning: Precision is ill-defined and being set to 0.0 in labels with no predicted samples. Use `zero_division` parameter to control this behavior.\n",
      "  _warn_prf(average, modifier, msg_start, len(result))\n",
      "VALID LOSS:1.6161 ACC:0.40 F1:0.31 REC:0.38 PRE:0.37:  86%|████████▌ | 6/7 [00:02<00:00,  4.19it/s]/opt/conda/lib/python3.8/site-packages/sklearn/metrics/_classification.py:1248: UndefinedMetricWarning: Precision is ill-defined and being set to 0.0 in labels with no predicted samples. Use `zero_division` parameter to control this behavior.\n",
      "  _warn_prf(average, modifier, msg_start, len(result))\n",
      "VALID LOSS:1.7474 ACC:0.38 F1:0.31 REC:0.38 PRE:0.37: 100%|██████████| 7/7 [00:02<00:00,  2.98it/s]\n",
      "/opt/conda/lib/python3.8/site-packages/sklearn/metrics/_classification.py:1248: UndefinedMetricWarning: Precision is ill-defined and being set to 0.0 in labels with no predicted samples. Use `zero_division` parameter to control this behavior.\n",
      "  _warn_prf(average, modifier, msg_start, len(result))\n"
     ]
    },
    {
     "name": "stdout",
     "output_type": "stream",
     "text": [
      "(Epoch 6) VALID LOSS:1.7474 ACC:0.38 F1:0.31 REC:0.38 PRE:0.37\n"
     ]
    },
    {
     "name": "stderr",
     "output_type": "stream",
     "text": [
      "(Epoch 7) TRAIN LOSS:1.5037 LR:0.00002000: 100%|██████████| 57/57 [00:29<00:00,  1.95it/s]\n"
     ]
    },
    {
     "name": "stdout",
     "output_type": "stream",
     "text": [
      "(Epoch 7) TRAIN LOSS:1.5037 ACC:0.44 F1:0.42 REC:0.43 PRE:0.43 LR:0.00002000\n"
     ]
    },
    {
     "name": "stderr",
     "output_type": "stream",
     "text": [
      "  0%|          | 0/7 [00:00<?, ?it/s]/opt/conda/lib/python3.8/site-packages/sklearn/metrics/_classification.py:1248: UndefinedMetricWarning: Precision is ill-defined and being set to 0.0 in labels with no predicted samples. Use `zero_division` parameter to control this behavior.\n",
      "  _warn_prf(average, modifier, msg_start, len(result))\n",
      "VALID LOSS:1.5581 ACC:0.38 F1:0.22 REC:0.27 PRE:0.25:  14%|█▍        | 1/7 [00:01<00:08,  1.38s/it]/opt/conda/lib/python3.8/site-packages/sklearn/metrics/_classification.py:1248: UndefinedMetricWarning: Precision is ill-defined and being set to 0.0 in labels with no predicted samples. Use `zero_division` parameter to control this behavior.\n",
      "  _warn_prf(average, modifier, msg_start, len(result))\n",
      "VALID LOSS:1.5200 ACC:0.44 F1:0.32 REC:0.39 PRE:0.35:  29%|██▊       | 2/7 [00:01<00:03,  1.49it/s]/opt/conda/lib/python3.8/site-packages/sklearn/metrics/_classification.py:1248: UndefinedMetricWarning: Precision is ill-defined and being set to 0.0 in labels with no predicted samples. Use `zero_division` parameter to control this behavior.\n",
      "  _warn_prf(average, modifier, msg_start, len(result))\n",
      "VALID LOSS:1.4798 ACC:0.50 F1:0.38 REC:0.43 PRE:0.41:  43%|████▎     | 3/7 [00:01<00:01,  2.27it/s]/opt/conda/lib/python3.8/site-packages/sklearn/metrics/_classification.py:1248: UndefinedMetricWarning: Precision is ill-defined and being set to 0.0 in labels with no predicted samples. Use `zero_division` parameter to control this behavior.\n",
      "  _warn_prf(average, modifier, msg_start, len(result))\n",
      "VALID LOSS:1.5073 ACC:0.47 F1:0.36 REC:0.42 PRE:0.39:  57%|█████▋    | 4/7 [00:01<00:01,  3.00it/s]/opt/conda/lib/python3.8/site-packages/sklearn/metrics/_classification.py:1248: UndefinedMetricWarning: Precision is ill-defined and being set to 0.0 in labels with no predicted samples. Use `zero_division` parameter to control this behavior.\n",
      "  _warn_prf(average, modifier, msg_start, len(result))\n",
      "VALID LOSS:1.4422 ACC:0.47 F1:0.37 REC:0.43 PRE:0.38:  71%|███████▏  | 5/7 [00:02<00:00,  3.64it/s]/opt/conda/lib/python3.8/site-packages/sklearn/metrics/_classification.py:1248: UndefinedMetricWarning: Precision is ill-defined and being set to 0.0 in labels with no predicted samples. Use `zero_division` parameter to control this behavior.\n",
      "  _warn_prf(average, modifier, msg_start, len(result))\n",
      "VALID LOSS:1.5409 ACC:0.43 F1:0.36 REC:0.41 PRE:0.40:  86%|████████▌ | 6/7 [00:02<00:00,  4.19it/s]/opt/conda/lib/python3.8/site-packages/sklearn/metrics/_classification.py:1248: UndefinedMetricWarning: Precision is ill-defined and being set to 0.0 in labels with no predicted samples. Use `zero_division` parameter to control this behavior.\n",
      "  _warn_prf(average, modifier, msg_start, len(result))\n",
      "VALID LOSS:1.6818 ACC:0.41 F1:0.35 REC:0.40 PRE:0.39: 100%|██████████| 7/7 [00:02<00:00,  2.97it/s]\n",
      "/opt/conda/lib/python3.8/site-packages/sklearn/metrics/_classification.py:1248: UndefinedMetricWarning: Precision is ill-defined and being set to 0.0 in labels with no predicted samples. Use `zero_division` parameter to control this behavior.\n",
      "  _warn_prf(average, modifier, msg_start, len(result))\n"
     ]
    },
    {
     "name": "stdout",
     "output_type": "stream",
     "text": [
      "(Epoch 7) VALID LOSS:1.6818 ACC:0.41 F1:0.35 REC:0.40 PRE:0.39\n",
      "Done Training!\n"
     ]
    }
   ],
   "source": [
    "from sklearn.metrics import accuracy_score, f1_score, recall_score, precision_score\n",
    "\n",
    "# list untuk menyimpan data metrics setiap training, untuk memudahkan \n",
    "# menampilkan dalam grafik\n",
    "train_acc_list = [] \n",
    "train_loss_list = []\n",
    "valid_acc_list = [] \n",
    "valid_loss_list = []\n",
    "epochs_list = []\n",
    "\n",
    "best_valid_loss = float(\"Inf\")\n",
    "\n",
    "\n",
    "# Train\n",
    "n_epochs = epochs\n",
    "for epoch in range(n_epochs):\n",
    "    torch.cuda.empty_cache()\n",
    "    model.train()\n",
    "    torch.set_grad_enabled(True)\n",
    " \n",
    "    total_train_loss = 0\n",
    "    list_hyp, list_label = [], []\n",
    "\n",
    "    train_pbar = tqdm(train_loader, leave=True, total=len(train_loader))\n",
    "\n",
    "    for i, batch_data in enumerate(train_pbar):\n",
    "        # Forward model\n",
    "        loss, batch_hyp, batch_label = forward_sequence_classification(model, batch_data[:-1], i2w=i2w, \n",
    "                                                                       device=device_idx)\n",
    "\n",
    "        # Update model\n",
    "        optimizer.zero_grad()\n",
    "        loss.backward()\n",
    "        #### gradient clipping, mitigasi vanishing gradient\n",
    "#         torch.nn.utils.clip_grad_norm_(model.parameters(), 1.0)\n",
    "        ####\n",
    "        optimizer.step()\n",
    "\n",
    "        tr_loss = loss.item()\n",
    "        total_train_loss = total_train_loss + tr_loss\n",
    "\n",
    "        # Calculate metrics\n",
    "        list_hyp += batch_hyp\n",
    "        list_label += batch_label\n",
    "\n",
    "        train_pbar.set_description(\"(Epoch {}) TRAIN LOSS:{:.4f} LR:{:.8f}\".format((epoch+1),\n",
    "            total_train_loss/(i+1), get_lr(optimizer)))\n",
    "\n",
    "    # Calculate train metric\n",
    "    metrics = location_prediction_metrics(list_hyp, list_label)\n",
    "    print(\"(Epoch {}) TRAIN LOSS:{:.4f} {} LR:{:.8f}\".format((epoch+1),\n",
    "        total_train_loss/(i+1), metrics_to_string(metrics), get_lr(optimizer)))\n",
    "    \n",
    "    train_loss_list.append(total_train_loss/(i+1))\n",
    "    train_acc_list.append(metrics['ACC'])\n",
    "    epochs_list.append(epoch)\n",
    "\n",
    "\n",
    "    # Evaluate on validation\n",
    "    model.eval()\n",
    "    torch.set_grad_enabled(False)\n",
    "    \n",
    "    total_loss, total_correct, total_labels = 0, 0, 0\n",
    "    list_hyp, list_label = [], []\n",
    "\n",
    "    pbar = tqdm(valid_loader, leave=True, total=len(valid_loader))\n",
    "\n",
    "    for i, batch_data in enumerate(pbar):\n",
    "        batch_seq = batch_data[-1]        \n",
    "        loss, batch_hyp, batch_label = forward_sequence_classification(model, batch_data[:-1], i2w=i2w, \n",
    "                                                                       device=device_idx)\n",
    "        \n",
    "        # Calculate total loss\n",
    "        valid_loss = loss.item()\n",
    "        total_loss = total_loss + valid_loss\n",
    "\n",
    "        # Calculate evaluation metrics\n",
    "        list_hyp += batch_hyp\n",
    "        list_label += batch_label\n",
    "        metrics = location_prediction_metrics(list_hyp, list_label)\n",
    "\n",
    "        pbar.set_description(\"VALID LOSS:{:.4f} {}\".format(total_loss/(i+1), metrics_to_string(metrics)))\n",
    "        \n",
    "    metrics = location_prediction_metrics(list_hyp, list_label)\n",
    "    print(\"(Epoch {}) VALID LOSS:{:.4f} {}\".format((epoch+1),\n",
    "        total_loss/(i+1), metrics_to_string(metrics)))\n",
    "    \n",
    "    valid_loss_list.append(total_loss/(i+1))\n",
    "    valid_acc_list.append(metrics['ACC'])\n",
    "\n",
    "    # checkpoint, untuk menyimpan validation loss dan metrics yang paling baik untuk seluruh epochs \n",
    "    if best_valid_loss > total_loss/(i+1):\n",
    "      best_valid_loss = total_loss/(i+1)\n",
    "      save_checkpoint(model_path, model, optimizer, best_valid_loss)\n",
    "\n",
    "save_metrics(metrics_path, train_acc_list, train_loss_list, valid_acc_list, valid_loss_list, epochs_list)\n",
    "print('Done Training!')"
   ]
  },
  {
   "cell_type": "code",
   "execution_count": 15,
   "id": "18d205a8",
   "metadata": {
    "ExecuteTime": {
     "end_time": "2022-03-13T11:48:08.304622Z",
     "start_time": "2022-03-13T11:48:07.765373Z"
    }
   },
   "outputs": [
    {
     "data": {
      "image/png": "[encoded data removed]",
      "text/plain": [
       "<Figure size 720x360 with 2 Axes>"
      ]
     },
     "metadata": {
      "needs_background": "light"
     },
     "output_type": "display_data"
    }
   ],
   "source": [
    "#  ## menampilkan history metrics akurasi dan loss \n",
    "import matplotlib.pyplot as plt\n",
    "\n",
    "train_acc_list, train_loss_list, valid_acc_list, valid_loss_list, epochs_list = load_metrics(metrics_path)\n",
    "fig, (ax1, ax2) = plt.subplots(1,2, figsize=(10,5))\n",
    "\n",
    "ax1.plot(epochs_list, train_acc_list, label='Train')\n",
    "ax1.plot(epochs_list, valid_acc_list, label='Valid')\n",
    "ax1.set_xlabel('Epochs')\n",
    "ax1.set_ylabel('Accuracy')\n",
    "ax1.legend()\n",
    "ax2.plot(epochs_list, train_loss_list, label='Train')\n",
    "ax2.plot(epochs_list, valid_loss_list, label='Valid')\n",
    "ax2.set_xlabel('Epochs')\n",
    "ax2.set_ylabel('Loss')\n",
    "ax2.legend()\n",
    "plt.show() "
   ]
  },
  {
   "cell_type": "code",
   "execution_count": 16,
   "id": "31404e96",
   "metadata": {
    "ExecuteTime": {
     "end_time": "2022-03-13T11:48:18.884115Z",
     "start_time": "2022-03-13T11:48:08.306362Z"
    }
   },
   "outputs": [
    {
     "name": "stderr",
     "output_type": "stream",
     "text": [
      "Some weights of the model checkpoint at indolem/indobertweet-base-uncased were not used when initializing BertForSequenceClassification: ['cls.predictions.transform.dense.weight', 'cls.predictions.bias', 'cls.predictions.decoder.weight', 'cls.predictions.decoder.bias', 'cls.predictions.transform.dense.bias', 'cls.predictions.transform.LayerNorm.bias', 'cls.predictions.transform.LayerNorm.weight']\n",
      "- This IS expected if you are initializing BertForSequenceClassification from the checkpoint of a model trained on another task or with another architecture (e.g. initializing a BertForSequenceClassification model from a BertForPreTraining model).\n",
      "- This IS NOT expected if you are initializing BertForSequenceClassification from the checkpoint of a model that you expect to be exactly identical (initializing a BertForSequenceClassification model from a BertForSequenceClassification model).\n",
      "Some weights of BertForSequenceClassification were not initialized from the model checkpoint at indolem/indobertweet-base-uncased and are newly initialized: ['classifier.bias', 'classifier.weight']\n",
      "You should probably TRAIN this model on a down-stream task to be able to use it for predictions and inference.\n"
     ]
    }
   ],
   "source": [
    "set_seed(42)\n",
    "\n",
    "#Load model\n",
    "mytokenizer = BertTokenizer.from_pretrained('indolem/indobertweet-base-uncased')\n",
    "\n",
    "myconfig = BertConfig.from_pretrained('indolem/indobertweet-base-uncased',\n",
    "                                    attention_probs_dropout_prob=0.3,\n",
    "                                    hidden_dropout_prob=0.3)\n",
    "myconfig.num_labels = LocationPredictionDataset.NUM_LABELS\n",
    "\n",
    "# Instantiate model\n",
    "mymodel = BertForSequenceClassification.from_pretrained('indolem/indobertweet-base-uncased', \n",
    "                                                      config=myconfig)\n"
   ]
  },
  {
   "cell_type": "code",
   "execution_count": 17,
   "id": "86054ac2",
   "metadata": {
    "ExecuteTime": {
     "end_time": "2022-03-13T11:48:23.673577Z",
     "start_time": "2022-03-13T11:48:18.889146Z"
    }
   },
   "outputs": [
    {
     "name": "stderr",
     "output_type": "stream",
     "text": [
      "100%|██████████| 16/16 [00:03<00:00,  4.04it/s]\n"
     ]
    }
   ],
   "source": [
    "# menggunakan gpu  \n",
    "best_model = mymodel.to(device)\n",
    "\n",
    "optimizer = optim.AdamW(best_model.parameters(), lr=learning_rate)\n",
    "\n",
    "load_checkpoint(model_path, best_model, optimizer)\n",
    "\n",
    "best_model.eval()\n",
    "torch.set_grad_enabled(False)\n",
    "\n",
    "total_loss, total_correct, total_labels = 0, 0, 0\n",
    "list_hyp, list_label = [], []\n",
    "\n",
    "pbar = tqdm(test_loader, leave=True, total=len(test_loader))\n",
    "for i, batch_data in enumerate(pbar):\n",
    "    _, batch_hyp, _ = forward_sequence_classification(best_model, batch_data[:-1], i2w=i2w, device=device_idx)\n",
    "    list_hyp += batch_hyp\n",
    "\n",
    "# Save prediction\n",
    "df = pd.DataFrame({'label':list_hyp}).reset_index()"
   ]
  },
  {
   "cell_type": "code",
   "execution_count": 18,
   "id": "37f70c7e",
   "metadata": {
    "ExecuteTime": {
     "end_time": "2022-03-13T11:48:23.683103Z",
     "start_time": "2022-03-13T11:48:23.677315Z"
    }
   },
   "outputs": [
    {
     "data": {
      "text/plain": [
       "array([8, 6, 3, 0, 4, 1, 7, 4, 5, 1, 1, 7, 3, 5, 7, 0, 2, 4, 4, 2, 6, 2,\n",
       "       7, 4, 2, 2, 1, 3, 2, 3, 1, 4, 1, 8, 2, 0, 1, 8, 6, 1, 8, 2, 2, 1,\n",
       "       7, 4, 2, 3, 6, 0, 3, 4, 4, 3, 1, 5, 4, 0, 0, 2, 0, 4, 0, 3, 3, 3,\n",
       "       7, 5, 7, 3, 3, 7, 3, 3, 3, 8, 3, 1, 6, 6, 5, 8, 5, 0, 1, 3, 7, 0,\n",
       "       4, 8, 6, 0, 4, 2, 1, 5, 2, 5, 7, 8, 8, 6, 2, 4, 5, 4, 0, 7, 1, 2,\n",
       "       0, 1, 8, 3, 8, 2, 0, 8, 4, 0, 4, 8, 2, 7, 3, 7, 2, 5, 6, 3, 3, 3,\n",
       "       0, 4, 4, 0, 4, 8, 3, 2, 1, 1, 7, 6, 5, 5, 3, 1, 3, 6, 7, 8, 6, 5,\n",
       "       2, 0, 2, 6, 1, 6, 8, 0, 7, 7, 1, 0, 4, 8, 8, 0, 6, 2, 4, 6, 4, 2,\n",
       "       4, 8, 3, 1, 3, 6, 1, 6, 3, 8, 8, 1, 6, 0, 5, 8, 8, 3, 1, 2, 8, 2,\n",
       "       0, 1, 2, 0, 4, 6, 2, 2, 6, 4, 0, 5, 6, 5, 4, 8, 5, 4, 7, 4, 3, 5,\n",
       "       3, 8, 5, 2, 6, 8, 8, 5, 4, 4, 3, 7, 5, 2, 3, 0, 8, 1, 2, 1, 3, 4,\n",
       "       1, 7, 4, 2, 5, 4, 3, 3])"
      ]
     },
     "execution_count": 18,
     "metadata": {},
     "output_type": "execute_result"
    }
   ],
   "source": [
    "## get y_test for user level\n",
    "y_test_user_lvl = userlvltest.Lvalue\n",
    "y_test_user_lvl.values"
   ]
  },
  {
   "cell_type": "code",
   "execution_count": 19,
   "id": "c42868d7",
   "metadata": {
    "ExecuteTime": {
     "end_time": "2022-03-13T11:48:23.691279Z",
     "start_time": "2022-03-13T11:48:23.685028Z"
    }
   },
   "outputs": [
    {
     "data": {
      "text/plain": [
       "array([2, 2, 3, 2, 4, 2, 6, 8, 7, 2, 2, 8, 3, 8, 8, 8, 2, 3, 8, 2, 6, 2,\n",
       "       8, 4, 2, 2, 2, 3, 2, 2, 7, 3, 8, 8, 2, 8, 2, 8, 6, 2, 8, 2, 2, 6,\n",
       "       8, 2, 2, 3, 6, 2, 4, 2, 4, 2, 2, 8, 3, 7, 1, 2, 8, 2, 8, 2, 4, 2,\n",
       "       8, 7, 8, 4, 3, 7, 3, 4, 2, 8, 3, 8, 6, 8, 8, 8, 8, 2, 1, 8, 8, 6,\n",
       "       8, 8, 6, 7, 3, 2, 2, 8, 2, 6, 8, 1, 2, 6, 8, 2, 8, 4, 2, 2, 8, 2,\n",
       "       8, 1, 7, 4, 7, 2, 0, 8, 3, 8, 4, 8, 2, 8, 4, 2, 2, 8, 6, 4, 3, 3,\n",
       "       8, 3, 4, 4, 3, 8, 2, 8, 2, 1, 8, 6, 8, 8, 3, 1, 6, 6, 8, 8, 6, 8,\n",
       "       2, 6, 2, 6, 8, 6, 8, 8, 6, 2, 8, 8, 2, 7, 2, 2, 7, 4, 3, 6, 8, 2,\n",
       "       4, 8, 4, 2, 2, 6, 8, 8, 2, 8, 8, 8, 6, 2, 8, 2, 8, 8, 2, 8, 8, 2,\n",
       "       8, 8, 2, 5, 3, 6, 2, 2, 6, 4, 7, 2, 6, 8, 3, 8, 8, 3, 2, 2, 8, 8,\n",
       "       2, 8, 8, 2, 7, 2, 7, 8, 3, 2, 4, 2, 8, 2, 3, 8, 8, 2, 2, 2, 2, 3,\n",
       "       2, 8, 4, 8, 8, 4, 3, 2], dtype=int8)"
      ]
     },
     "execution_count": 19,
     "metadata": {},
     "output_type": "execute_result"
    }
   ],
   "source": [
    "## get y_pred for tweets level\n",
    "y_pred_tweets_lvl = df.iloc[:,1].astype('category')\n",
    "y_pred_tweets_lvl = y_pred_tweets_lvl.cat.codes\n",
    "y_pred_tweets_lvl.values"
   ]
  },
  {
   "cell_type": "code",
   "execution_count": 20,
   "id": "2eba8b98",
   "metadata": {
    "ExecuteTime": {
     "end_time": "2022-03-13T11:48:23.702385Z",
     "start_time": "2022-03-13T11:48:23.693018Z"
    }
   },
   "outputs": [
    {
     "name": "stdout",
     "output_type": "stream",
     "text": [
      "accuracy 0.37\n",
      "                            precision    recall  f1-score   support\n",
      "\n",
      "    bali dan nusa tenggara       1.00      0.04      0.07        26\n",
      "               jabodetabek       0.67      0.14      0.24        28\n",
      "     jawa barat dan banten       0.35      0.84      0.50        32\n",
      "jawa tengah dan yogyakarta       0.48      0.33      0.39        36\n",
      "                jawa timur       0.48      0.29      0.36        34\n",
      "                kalimantan       0.00      0.00      0.00        22\n",
      "          maluku dan papua       0.72      0.78      0.75        23\n",
      "                  sulawesi       0.08      0.05      0.06        20\n",
      "                  sumatera       0.23      0.66      0.35        29\n",
      "\n",
      "                  accuracy                           0.37       250\n",
      "                 macro avg       0.44      0.35      0.30       250\n",
      "              weighted avg       0.46      0.37      0.32       250\n",
      "\n"
     ]
    }
   ],
   "source": [
    "from sklearn.metrics import classification_report, accuracy_score\n",
    "\n",
    "## print classification report for user level prediction\n",
    "print('accuracy %s' % round(accuracy_score(y_test_user_lvl, y_pred_tweets_lvl),2 ))\n",
    "print(classification_report(y_test_user_lvl, y_pred_tweets_lvl,target_names=label_dict.keys()))"
   ]
  },
  {
   "cell_type": "code",
   "execution_count": 21,
   "id": "04956c62",
   "metadata": {
    "ExecuteTime": {
     "end_time": "2022-03-13T11:48:23.710540Z",
     "start_time": "2022-03-13T11:48:23.703897Z"
    }
   },
   "outputs": [],
   "source": [
    "y_pred_tweets_lvl.to_csv('bert_result/indoBERTweet2e_5Results.csv')"
   ]
  }
 ],
 "metadata": {
  "kernelspec": {
   "display_name": "Python 3",
   "language": "python",
   "name": "python3"
  },
  "language_info": {
   "codemirror_mode": {
    "name": "ipython",
    "version": 3
   },
   "file_extension": ".py",
   "mimetype": "text/x-python",
   "name": "python",
   "nbconvert_exporter": "python",
   "pygments_lexer": "ipython3",
   "version": "3.8.10"
  },
  "toc": {
   "base_numbering": 1,
   "nav_menu": {
    "height": "79px",
    "width": "212px"
   },
   "number_sections": true,
   "sideBar": true,
   "skip_h1_title": false,
   "title_cell": "Table of Contents",
   "title_sidebar": "Contents",
   "toc_cell": false,
   "toc_position": {},
   "toc_section_display": true,
   "toc_window_display": true
  },
  "varInspector": {
   "cols": {
    "lenName": 16,
    "lenType": 16,
    "lenVar": 40
   },
   "kernels_config": {
    "python": {
     "delete_cmd_postfix": "",
     "delete_cmd_prefix": "del ",
     "library": "var_list.py",
     "varRefreshCmd": "print(var_dic_list())"
    },
    "r": {
     "delete_cmd_postfix": ") ",
     "delete_cmd_prefix": "rm(",
     "library": "var_list.r",
     "varRefreshCmd": "cat(var_dic_list()) "
    }
   },
   "types_to_exclude": [
    "module",
    "function",
    "builtin_function_or_method",
    "instance",
    "_Feature"
   ],
   "window_display": false
  }
 },
 "nbformat": 4,
 "nbformat_minor": 5
}
